{
 "cells": [
  {
   "cell_type": "markdown",
   "metadata": {},
   "source": [
    "## NOTE THIS WON'T WORK THE WAY THINGS ARE SET UP HERE SINCE I HAVE TAKEN OUT THE ZEROPADDING FROM THE INVCOV ROUTINE"
   ]
  },
  {
   "cell_type": "markdown",
   "metadata": {},
   "source": [
    "TODO: Clean up this file to better walk the user through the steps...\n",
    "\n",
    "For now, just want completed file that utilizes the inverse covariance module from the corrcal_gpu_pipeline"
   ]
  },
  {
   "cell_type": "code",
   "execution_count": 1,
   "metadata": {},
   "outputs": [
    {
     "name": "stdout",
     "output_type": "stream",
     "text": [
      "Added /home/mike/corrcal_gpu_pipeline to sys.path\n"
     ]
    }
   ],
   "source": [
    "import sys\n",
    "import os\n",
    "\n",
    "current_dir = os.getcwd()\n",
    "parent_dir = os.path.abspath(os.path.join(current_dir, '..'))\n",
    "\n",
    "if parent_dir not in sys.path:\n",
    "    sys.path.append(parent_dir)\n",
    "    print(f\"Added {parent_dir} to sys.path\")\n",
    "else:\n",
    "    print(f\"{parent_dir} is already in sys.path\")"
   ]
  },
  {
   "cell_type": "code",
   "execution_count": 2,
   "metadata": {},
   "outputs": [
    {
     "name": "stdout",
     "output_type": "stream",
     "text": [
      "hera_cal is not installed. Some gridding features unavailable.\n",
      "pyfof is not installed. Some gridding features unavailable.\n",
      "hello world\n"
     ]
    }
   ],
   "source": [
    "from pipeline.invcov import *"
   ]
  },
  {
   "cell_type": "markdown",
   "metadata": {},
   "source": [
    "# Inverse Covariance Validation Tests "
   ]
  },
  {
   "cell_type": "markdown",
   "metadata": {},
   "source": [
    "The main purpose of this notebook is to simply show that things work. We are not concerned here about speed, but rather that the routines work the way they're intended to and provide the 'correct' answer."
   ]
  },
  {
   "cell_type": "markdown",
   "metadata": {},
   "source": [
    "Let's perform some tests to ensure that the components we are calculating really do make up the inverse noise and the primed versions of the delta and sigma matrices. "
   ]
  },
  {
   "cell_type": "code",
   "execution_count": 3,
   "metadata": {},
   "outputs": [
    {
     "name": "stdout",
     "output_type": "stream",
     "text": [
      "The edges of the redundant blocks have indices[ 0  1  2  5  6 16 34 40 43 45 47 50]\n"
     ]
    },
    {
     "ename": "ValueError",
     "evalue": "axes don't match array",
     "output_type": "error",
     "traceback": [
      "\u001b[0;31m---------------------------------------------------------------------------\u001b[0m",
      "\u001b[0;31mValueError\u001b[0m                                Traceback (most recent call last)",
      "Cell \u001b[0;32mIn[3], line 18\u001b[0m\n\u001b[1;32m     15\u001b[0m sim_src_mat \u001b[38;5;241m=\u001b[39m xp\u001b[38;5;241m.\u001b[39mrandom\u001b[38;5;241m.\u001b[39mrand(n_bl, n_src, dtype \u001b[38;5;241m=\u001b[39m \u001b[38;5;124m'\u001b[39m\u001b[38;5;124mfloat64\u001b[39m\u001b[38;5;124m'\u001b[39m)\n\u001b[1;32m     17\u001b[0m \u001b[38;5;66;03m#actually go and find inverse components\u001b[39;00m\n\u001b[0;32m---> 18\u001b[0m logdet, N_inv, Del_p, Sig_p \u001b[38;5;241m=\u001b[39m \u001b[43minverse_covariance\u001b[49m\u001b[43m(\u001b[49m\u001b[43msim_noise_mat\u001b[49m\u001b[43m,\u001b[49m\u001b[43m \u001b[49m\u001b[43msim_diff_mat\u001b[49m\u001b[43m,\u001b[49m\u001b[43m \u001b[49m\u001b[43msim_src_mat\u001b[49m\u001b[43m,\u001b[49m\u001b[43m \u001b[49m\u001b[43medges\u001b[49m\u001b[38;5;241;43m=\u001b[39;49m\u001b[43medges\u001b[49m\u001b[43m,\u001b[49m\u001b[43m \u001b[49m\u001b[43mret_det\u001b[49m\u001b[43m \u001b[49m\u001b[38;5;241;43m=\u001b[39;49m\u001b[43m \u001b[49m\u001b[38;5;28;43;01mTrue\u001b[39;49;00m\u001b[43m,\u001b[49m\u001b[43m \u001b[49m\u001b[43mxp\u001b[49m\u001b[43m \u001b[49m\u001b[38;5;241;43m=\u001b[39;49m\u001b[43m \u001b[49m\u001b[43mxp\u001b[49m\u001b[43m)\u001b[49m\n\u001b[1;32m     20\u001b[0m \u001b[38;5;66;03m#convert sparse things to dense things to visualize what we're really working with\u001b[39;00m\n\u001b[1;32m     21\u001b[0m sim_diff_mat_dense \u001b[38;5;241m=\u001b[39m sparden_convert(sim_diff_mat, n_bl\u001b[38;5;241m=\u001b[39mn_bl, n_eig\u001b[38;5;241m=\u001b[39mn_eig, edges\u001b[38;5;241m=\u001b[39medges, xp \u001b[38;5;241m=\u001b[39m cp)\n",
      "File \u001b[0;32m~/corrcal_gpu_pipeline/pipeline/invcov.py:118\u001b[0m, in \u001b[0;36minverse_covariance\u001b[0;34m(N, Del, Sig, edges, xp, ret_det, N_is_inv)\u001b[0m\n\u001b[1;32m    115\u001b[0m     N_inv \u001b[38;5;241m=\u001b[39m \u001b[38;5;241m1\u001b[39m\u001b[38;5;241m/\u001b[39mN\n\u001b[1;32m    117\u001b[0m temp \u001b[38;5;241m=\u001b[39m N_inv[\u001b[38;5;241m.\u001b[39m\u001b[38;5;241m.\u001b[39m\u001b[38;5;241m.\u001b[39m, \u001b[38;5;28;01mNone\u001b[39;00m] \u001b[38;5;241m*\u001b[39m Del    \n\u001b[0;32m--> 118\u001b[0m temp2 \u001b[38;5;241m=\u001b[39m \u001b[43mxp\u001b[49m\u001b[38;5;241;43m.\u001b[39;49m\u001b[43mtranspose\u001b[49m\u001b[43m(\u001b[49m\u001b[43mDel\u001b[49m\u001b[43m,\u001b[49m\u001b[43m \u001b[49m\u001b[43m[\u001b[49m\u001b[38;5;241;43m0\u001b[39;49m\u001b[43m,\u001b[49m\u001b[43m \u001b[49m\u001b[38;5;241;43m2\u001b[39;49m\u001b[43m,\u001b[49m\u001b[43m \u001b[49m\u001b[38;5;241;43m1\u001b[39;49m\u001b[43m]\u001b[49m\u001b[43m)\u001b[49m \u001b[38;5;241m@\u001b[39m temp\n\u001b[1;32m    119\u001b[0m L_del \u001b[38;5;241m=\u001b[39m xp\u001b[38;5;241m.\u001b[39mlinalg\u001b[38;5;241m.\u001b[39mcholesky(xp\u001b[38;5;241m.\u001b[39meye(Del\u001b[38;5;241m.\u001b[39mshape[\u001b[38;5;241m2\u001b[39m])[\u001b[38;5;28;01mNone\u001b[39;00m, \u001b[38;5;241m.\u001b[39m\u001b[38;5;241m.\u001b[39m\u001b[38;5;241m.\u001b[39m] \u001b[38;5;241m+\u001b[39m temp2)   \n\u001b[1;32m    120\u001b[0m Del_prime \u001b[38;5;241m=\u001b[39m temp \u001b[38;5;241m@\u001b[39m xp\u001b[38;5;241m.\u001b[39mtranspose(xp\u001b[38;5;241m.\u001b[39mlinalg\u001b[38;5;241m.\u001b[39minv(L_del)\u001b[38;5;241m.\u001b[39mconj(), [\u001b[38;5;241m0\u001b[39m, \u001b[38;5;241m2\u001b[39m, \u001b[38;5;241m1\u001b[39m]) \n",
      "File \u001b[0;32m~/.local/lib/python3.10/site-packages/cupy/_manipulation/transpose.py:82\u001b[0m, in \u001b[0;36mtranspose\u001b[0;34m(a, axes)\u001b[0m\n\u001b[1;32m     68\u001b[0m \u001b[38;5;250m\u001b[39m\u001b[38;5;124;03m\"\"\"Permutes the dimensions of an array.\u001b[39;00m\n\u001b[1;32m     69\u001b[0m \n\u001b[1;32m     70\u001b[0m \u001b[38;5;124;03mArgs:\u001b[39;00m\n\u001b[0;32m   (...)\u001b[0m\n\u001b[1;32m     79\u001b[0m \n\u001b[1;32m     80\u001b[0m \u001b[38;5;124;03m\"\"\"\u001b[39;00m\n\u001b[1;32m     81\u001b[0m \u001b[38;5;66;03m# TODO(okuta): check type\u001b[39;00m\n\u001b[0;32m---> 82\u001b[0m \u001b[38;5;28;01mreturn\u001b[39;00m \u001b[43ma\u001b[49m\u001b[38;5;241;43m.\u001b[39;49m\u001b[43mtranspose\u001b[49m\u001b[43m(\u001b[49m\u001b[43maxes\u001b[49m\u001b[43m)\u001b[49m\n",
      "File \u001b[0;32mcupy/_core/core.pyx:764\u001b[0m, in \u001b[0;36mcupy._core.core._ndarray_base.transpose\u001b[0;34m()\u001b[0m\n",
      "File \u001b[0;32mcupy/_core/_routines_manipulation.pyx:101\u001b[0m, in \u001b[0;36mcupy._core._routines_manipulation._ndarray_transpose\u001b[0;34m()\u001b[0m\n",
      "File \u001b[0;32mcupy/_core/_routines_manipulation.pyx:387\u001b[0m, in \u001b[0;36mcupy._core._routines_manipulation._transpose\u001b[0;34m()\u001b[0m\n",
      "\u001b[0;31mValueError\u001b[0m: axes don't match array"
     ]
    }
   ],
   "source": [
    "#the main parametes describing our problem.\n",
    "n_bl = 50\n",
    "n_eig = 3\n",
    "n_src = 6\n",
    "xp = cp  #run things on the gpu using cupy\n",
    "\n",
    "#random array of edges for the diffuse matrix\n",
    "edges = xp.unique(xp.random.randint(1, n_bl-1, size = 10))\n",
    "edges = xp.concatenate((xp.array([0]), edges, xp.array([n_bl])))\n",
    "print(f\"The edges of the redundant blocks have indices{edges}\")\n",
    "\n",
    "#some random noise, diffuse, and source covariance matrices\n",
    "sim_noise_mat = xp.random.rand(n_bl, dtype = 'float64')**2   #in principle this is squared since is a variance\n",
    "sim_diff_mat = xp.random.rand(n_bl, n_eig, dtype = 'float64')\n",
    "sim_src_mat = xp.random.rand(n_bl, n_src, dtype = 'float64')\n",
    "\n",
    "#actually go and find inverse components\n",
    "logdet, N_inv, Del_p, Sig_p = inverse_covariance(sim_noise_mat, sim_diff_mat, sim_src_mat, edges=edges, ret_det = True, xp = xp)\n",
    "\n",
    "#convert sparse things to dense things to visualize what we're really working with\n",
    "sim_diff_mat_dense = sparden_convert(sim_diff_mat, n_bl=n_bl, n_eig=n_eig, edges=edges, xp = cp)\n",
    "Del_p_dense = sparden_convert(Del_p, n_bl=n_bl, n_eig=n_eig, edges=edges, xp = cp)"
   ]
  },
  {
   "cell_type": "code",
   "execution_count": 4,
   "metadata": {},
   "outputs": [
    {
     "name": "stdout",
     "output_type": "stream",
     "text": [
      "377.0047126376178\n"
     ]
    }
   ],
   "source": [
    "print(logdet)"
   ]
  },
  {
   "cell_type": "code",
   "execution_count": 14,
   "metadata": {},
   "outputs": [
    {
     "name": "stdout",
     "output_type": "stream",
     "text": [
      "63.65776062011719\n",
      "function            :    CPU:     0.866 us   +/-  2.180 (min:     0.239 / max:   156.738) us     GPU-0:    12.385 us   +/- 115.180 (min:     3.072 / max:  6748.160) us\n"
     ]
    }
   ],
   "source": [
    "from cupyx.profiler import benchmark\n",
    "import time\n",
    "\n",
    "def function(x, y):\n",
    "    return x + y\n",
    "\n",
    "x = 3000000\n",
    "y = 4000000\n",
    "\n",
    "start = time.time()\n",
    "function(x, y)\n",
    "print((time.time() - start)/1e-6)\n",
    "\n",
    "print(benchmark(function, (x, y)))"
   ]
  },
  {
   "cell_type": "markdown",
   "metadata": {},
   "source": [
    "Let's visualize the desnse version of the diffuse matrix. Of course, in reality all entries within each redundant block will be equal. Though since we're beginning with random numbers, we expect the dense diffuse matrix to have a general block diagonal shape with random numbers within each block. Let's see what this looks like below. "
   ]
  },
  {
   "cell_type": "code",
   "execution_count": 5,
   "metadata": {},
   "outputs": [
    {
     "data": {
      "image/png": "[encoded data removed]",
      "text/plain": [
       "<Figure size 400x400 with 2 Axes>"
      ]
     },
     "metadata": {},
     "output_type": "display_data"
    }
   ],
   "source": [
    "fig, ax = plt.subplots(figsize=(4, 4))\n",
    "im = ax.imshow(cp.asnumpy(cp.log(Del_p_dense + 1e-20)*-1), vmax = 10, cmap='twilight', aspect='auto')\n",
    "ax.set_title(\"Dense Diffuse Matrix Visualized\")\n",
    "ax.set_xlabel(\"$n_{eig}$*$n_{grps}$\", fontsize = 15)\n",
    "ax.set_ylabel(\"$n_{bls}$\", fontsize = 15)\n",
    "fig.colorbar(im)\n",
    "plt.show()\n",
    "\n",
    "#would like the center to be at 0, vmin and vmax only differ by a sign"
   ]
  },
  {
   "cell_type": "markdown",
   "metadata": {},
   "source": [
    "For validating the correctness of our actual $C^{-1}$ routine, let's run the following cell block."
   ]
  },
  {
   "cell_type": "code",
   "execution_count": 6,
   "metadata": {},
   "outputs": [
    {
     "name": "stdout",
     "output_type": "stream",
     "text": [
      "C*C^{-1} returns the identity\n",
      "Brute force computation with numpy returns the same answer as our sparse 2-level inverse routine\n"
     ]
    }
   ],
   "source": [
    "#First we assemble te dense covariance object using the input matrices above\n",
    "C = xp.diag(sim_noise_mat) + sim_diff_mat_dense@sim_diff_mat_dense.T + sim_src_mat@sim_src_mat.T\n",
    "\n",
    "#Now we do the same with the inverse covariance components\n",
    "C_inv = xp.diag(N_inv) - Del_p_dense@Del_p_dense.T - Sig_p@Sig_p.T\n",
    "\n",
    "#now check their matrix product returns the identity\n",
    "if np.allclose(C@C_inv, np.eye(C.shape[0])) == True:\n",
    "    print(\"C*C^{-1} returns the identity\")\n",
    "\n",
    "#brute force computation of C^{-1} using numpy\n",
    "C_numpy_inv = cp.linalg.inv(C)\n",
    "\n",
    "#check the answer is the same as C = N + Del * Del^dag + Sig * Sig^dag \n",
    "if np.allclose(C_inv, C_numpy_inv) == True:\n",
    "    print(\"Brute force computation with numpy returns the same answer as our sparse 2-level inverse routine\")\n"
   ]
  },
  {
   "cell_type": "markdown",
   "metadata": {},
   "source": [
    "So it looks like both checks verify our solution found by manually computing $N$, $\\Delta'$, and $\\Sigma'$ and assembling $C^{-1}$ ourselves is the correct one. However, just for fun we can visualize the result of $CC^{-1}$ to be sure that what we're getting really is the identity."
   ]
  },
  {
   "cell_type": "code",
   "execution_count": 7,
   "metadata": {},
   "outputs": [
    {
     "data": {
      "image/png": "[encoded data removed]",
      "text/plain": [
       "<Figure size 500x500 with 2 Axes>"
      ]
     },
     "metadata": {},
     "output_type": "display_data"
    }
   ],
   "source": [
    "fig, ax = plt.subplots(figsize = (5,5))\n",
    "im = ax.imshow(cp.asnumpy(C@C_inv), cmap = 'coolwarm', aspect='auto')\n",
    "ax.set_title(\"Result of $CC^{-1}$\")\n",
    "ax.set_xlabel(\"$n_{bls}$\", fontsize = 15)\n",
    "ax.set_ylabel(\"$n_{bls}$\", fontsize = 15)\n",
    "fig.colorbar(im)\n",
    "plt.show()"
   ]
  },
  {
   "cell_type": "code",
   "execution_count": null,
   "metadata": {},
   "outputs": [],
   "source": []
  }
 ],
 "metadata": {
  "kernelspec": {
   "display_name": "Python 3",
   "language": "python",
   "name": "python3"
  },
  "language_info": {
   "codemirror_mode": {
    "name": "ipython",
    "version": 3
   },
   "file_extension": ".py",
   "mimetype": "text/x-python",
   "name": "python",
   "nbconvert_exporter": "python",
   "pygments_lexer": "ipython3",
   "version": "3.10.12"
  }
 },
 "nbformat": 4,
 "nbformat_minor": 2
}
