{
 "cells": [
  {
   "cell_type": "code",
   "execution_count": 2,
   "metadata": {},
   "outputs": [],
   "source": [
    "import cupy as cp\n",
    "import numpy as np"
   ]
  },
  {
   "cell_type": "code",
   "execution_count": 13,
   "metadata": {},
   "outputs": [
    {
     "name": "stdout",
     "output_type": "stream",
     "text": [
      "(2, 1)\n",
      "(3, 2)\n",
      "(4, 3)\n",
      "(5, 4)\n",
      "(6, 5)\n",
      "(7, 6)\n",
      "(8, 7)\n",
      "(9, 8)\n"
     ]
    }
   ],
   "source": [
    "arr = np.arange(10)\n",
    "\n",
    "for (start, stop) in (zip(arr[2:], arr[1:])):\n",
    "    print((start, stop))"
   ]
  },
  {
   "cell_type": "code",
   "execution_count": 2,
   "metadata": {},
   "outputs": [
    {
     "name": "stdout",
     "output_type": "stream",
     "text": [
      "(3, 2, 2)\n"
     ]
    }
   ],
   "source": [
    "arr = cp.random.rand(3, 2, 2)\n",
    "print(arr.shape)"
   ]
  },
  {
   "cell_type": "code",
   "execution_count": 16,
   "metadata": {},
   "outputs": [
    {
     "name": "stdout",
     "output_type": "stream",
     "text": [
      "[[0.02379579 0.15108471 0.77317719 0.68826071]\n",
      " [0.64246177 0.26207391 0.13598067 0.88615679]\n",
      " [0.21977118 0.77220318 0.72369275 0.78412778]]\n",
      "[0.02379579 0.26207391 0.72369275]\n"
     ]
    }
   ],
   "source": [
    "arr2 = cp.random.rand(3, 4)\n",
    "print(arr2)\n",
    "print(cp.diagonal(arr2, axis1=-2))"
   ]
  },
  {
   "cell_type": "code",
   "execution_count": 25,
   "metadata": {},
   "outputs": [
    {
     "name": "stdout",
     "output_type": "stream",
     "text": [
      "[[[0.6658514  0.30448025]\n",
      "  [0.23440571 0.57411087]]\n",
      "\n",
      " [[0.01336878 0.67031363]\n",
      "  [0.86601476 0.33006527]]\n",
      "\n",
      " [[0.55458585 0.49397364]\n",
      "  [0.50090923 0.75417174]]]\n",
      "[[0.6658514  0.57411087]\n",
      " [0.01336878 0.33006527]\n",
      " [0.55458585 0.75417174]]\n",
      "2.8921539096151307\n"
     ]
    }
   ],
   "source": [
    "print(arr)\n",
    "diags = cp.diagonal(arr, axis1=-2, axis2=-1)\n",
    "print(diags)\n",
    "print(cp.sum(diags))"
   ]
  },
  {
   "cell_type": "code",
   "execution_count": 31,
   "metadata": {},
   "outputs": [
    {
     "name": "stdout",
     "output_type": "stream",
     "text": [
      "[[[ 0  1]\n",
      "  [ 2  3]]\n",
      "\n",
      " [[ 4  5]\n",
      "  [ 6  7]]\n",
      "\n",
      " [[ 8  9]\n",
      "  [10 11]]]\n"
     ]
    }
   ],
   "source": [
    "import numpy as np\n",
    "\n",
    "tarr = np.arange(12)\n",
    "tarr = tarr.reshape(3, 2, 2)\n",
    "print(tarr)"
   ]
  },
  {
   "cell_type": "code",
   "execution_count": 40,
   "metadata": {},
   "outputs": [
    {
     "name": "stdout",
     "output_type": "stream",
     "text": [
      "33\n",
      "[[ 0  3]\n",
      " [ 4  7]\n",
      " [ 8 11]]\n"
     ]
    }
   ],
   "source": [
    "diags = np.diagonal(tarr, axis2 = 1, axis1 = 2)\n",
    "print(np.sum(diags))\n",
    "print(diags)"
   ]
  }
 ],
 "metadata": {
  "kernelspec": {
   "display_name": "Python 3",
   "language": "python",
   "name": "python3"
  },
  "language_info": {
   "codemirror_mode": {
    "name": "ipython",
    "version": 3
   },
   "file_extension": ".py",
   "mimetype": "text/x-python",
   "name": "python",
   "nbconvert_exporter": "python",
   "pygments_lexer": "ipython3",
   "version": "3.10.12"
  }
 },
 "nbformat": 4,
 "nbformat_minor": 2
}
