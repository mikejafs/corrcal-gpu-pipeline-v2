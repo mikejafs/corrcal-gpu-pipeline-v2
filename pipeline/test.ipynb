{
 "cells": [
  {
   "cell_type": "code",
   "execution_count": 1,
   "metadata": {},
   "outputs": [],
   "source": [
    "import cupy as cp\n",
    "import numpy as np\n",
    "from cupyx.profiler import benchmark"
   ]
  },
  {
   "cell_type": "code",
   "execution_count": 13,
   "metadata": {},
   "outputs": [
    {
     "name": "stdout",
     "output_type": "stream",
     "text": [
      "(2, 1)\n",
      "(3, 2)\n",
      "(4, 3)\n",
      "(5, 4)\n",
      "(6, 5)\n",
      "(7, 6)\n",
      "(8, 7)\n",
      "(9, 8)\n"
     ]
    }
   ],
   "source": [
    "arr = np.arange(10)\n",
    "\n",
    "for (start, stop) in (zip(arr[2:], arr[1:])):\n",
    "    print((start, stop))"
   ]
  },
  {
   "cell_type": "code",
   "execution_count": 2,
   "metadata": {},
   "outputs": [
    {
     "name": "stdout",
     "output_type": "stream",
     "text": [
      "(3, 2, 2)\n"
     ]
    }
   ],
   "source": [
    "arr = cp.random.rand(3, 2, 2)\n",
    "print(arr.shape)"
   ]
  },
  {
   "cell_type": "code",
   "execution_count": 16,
   "metadata": {},
   "outputs": [
    {
     "name": "stdout",
     "output_type": "stream",
     "text": [
      "[[0.02379579 0.15108471 0.77317719 0.68826071]\n",
      " [0.64246177 0.26207391 0.13598067 0.88615679]\n",
      " [0.21977118 0.77220318 0.72369275 0.78412778]]\n",
      "[0.02379579 0.26207391 0.72369275]\n"
     ]
    }
   ],
   "source": [
    "arr2 = cp.random.rand(3, 4)\n",
    "print(arr2)\n",
    "print(cp.diagonal(arr2, axis1=-2))"
   ]
  },
  {
   "cell_type": "code",
   "execution_count": 25,
   "metadata": {},
   "outputs": [
    {
     "name": "stdout",
     "output_type": "stream",
     "text": [
      "[[[0.6658514  0.30448025]\n",
      "  [0.23440571 0.57411087]]\n",
      "\n",
      " [[0.01336878 0.67031363]\n",
      "  [0.86601476 0.33006527]]\n",
      "\n",
      " [[0.55458585 0.49397364]\n",
      "  [0.50090923 0.75417174]]]\n",
      "[[0.6658514  0.57411087]\n",
      " [0.01336878 0.33006527]\n",
      " [0.55458585 0.75417174]]\n",
      "2.8921539096151307\n"
     ]
    }
   ],
   "source": [
    "print(arr)\n",
    "diags = cp.diagonal(arr, axis1=-2, axis2=-1)\n",
    "print(diags)\n",
    "print(cp.sum(diags))"
   ]
  },
  {
   "cell_type": "code",
   "execution_count": 31,
   "metadata": {},
   "outputs": [
    {
     "name": "stdout",
     "output_type": "stream",
     "text": [
      "[[[ 0  1]\n",
      "  [ 2  3]]\n",
      "\n",
      " [[ 4  5]\n",
      "  [ 6  7]]\n",
      "\n",
      " [[ 8  9]\n",
      "  [10 11]]]\n"
     ]
    }
   ],
   "source": [
    "import numpy as np\n",
    "\n",
    "tarr = np.arange(12)\n",
    "tarr = tarr.reshape(3, 2, 2)\n",
    "print(tarr)"
   ]
  },
  {
   "cell_type": "code",
   "execution_count": 40,
   "metadata": {},
   "outputs": [
    {
     "name": "stdout",
     "output_type": "stream",
     "text": [
      "33\n",
      "[[ 0  3]\n",
      " [ 4  7]\n",
      " [ 8 11]]\n"
     ]
    }
   ],
   "source": [
    "diags = np.diagonal(tarr, axis2 = 1, axis1 = 2)\n",
    "print(np.sum(diags))\n",
    "print(diags)"
   ]
  },
  {
   "cell_type": "code",
   "execution_count": 48,
   "metadata": {},
   "outputs": [
    {
     "name": "stdout",
     "output_type": "stream",
     "text": [
      "arr_fft             :    CPU:  1740.414 us   +/- 108.981 (min:  1528.282 / max:  2206.120) us     GPU-0:  1798.195 us   +/- 142.286 (min:  1550.336 / max:  2225.152) us\n"
     ]
    }
   ],
   "source": [
    "arr1 = cp.arange(1000000)\n",
    "arr2 = cp.arange(10000000)\n",
    "\n",
    "def arr_mult(a, b):\n",
    "    return cp.matmul(arr1, arr2)\n",
    "    cp.cuda.Stream.null.synchronize()\n",
    "    # return arr1 + arr2\n",
    "\n",
    "def arr_fft(a):\n",
    "    ans = cp.fft.fft(a)\n",
    "    cp.cuda.Stream.null.synchronize()\n",
    "    \n",
    "\n",
    "# result = benchmark(arr_mult, (arr1, arr2), n_repeat=1000)\n",
    "# print(result)\n",
    "\n",
    "result = benchmark(arr_fft, (arr1,), n_repeat=100)\n",
    "print(result)"
   ]
  },
  {
   "cell_type": "code",
   "execution_count": 39,
   "metadata": {},
   "outputs": [
    {
     "name": "stdout",
     "output_type": "stream",
     "text": [
      "Time for arr_mult: 0.033081769943237305 seconds\n",
      "Time for arr_fft: 0.08926677703857422 seconds\n"
     ]
    }
   ],
   "source": [
    "import cupy as cp\n",
    "import time\n",
    "\n",
    "arr1 = cp.arange(1000000)\n",
    "arr2 = cp.arange(1000000)\n",
    "\n",
    "def arr_mult(a, b):\n",
    "    return cp.matmul(a, b)\n",
    "\n",
    "def arr_fft(a):\n",
    "    return cp.fft.fft(a)\n",
    "\n",
    "# Warm-up runs\n",
    "arr_mult(arr1, arr2)\n",
    "arr_fft(arr1)\n",
    "cp.cuda.Stream.null.synchronize()\n",
    "\n",
    "# Benchmark arr_mult\n",
    "start = time.time()\n",
    "for _ in range(100):\n",
    "    arr_mult(arr1, arr2)\n",
    "cp.cuda.Stream.null.synchronize()\n",
    "end = time.time()\n",
    "print(f\"Time for arr_mult: {end - start} seconds\")\n",
    "\n",
    "# Benchmark arr_fft\n",
    "start = time.time()\n",
    "for _ in range(100):\n",
    "    arr_fft(arr1)\n",
    "cp.cuda.Stream.null.synchronize()\n",
    "end = time.time()\n",
    "print(f\"Time for arr_fft: {end - start} seconds\")\n"
   ]
  },
  {
   "cell_type": "code",
   "execution_count": null,
   "metadata": {},
   "outputs": [],
   "source": []
  }
 ],
 "metadata": {
  "kernelspec": {
   "display_name": "Python 3",
   "language": "python",
   "name": "python3"
  },
  "language_info": {
   "codemirror_mode": {
    "name": "ipython",
    "version": 3
   },
   "file_extension": ".py",
   "mimetype": "text/x-python",
   "name": "python",
   "nbconvert_exporter": "python",
   "pygments_lexer": "ipython3",
   "version": "3.10.12"
  }
 },
 "nbformat": 4,
 "nbformat_minor": 2
}
