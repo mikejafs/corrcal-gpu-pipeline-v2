{
 "cells": [
  {
   "cell_type": "markdown",
   "metadata": {},
   "source": [
    "### Tests for Applying Gains Matrix"
   ]
  },
  {
   "cell_type": "code",
   "execution_count": 2,
   "metadata": {},
   "outputs": [
    {
     "name": "stdout",
     "output_type": "stream",
     "text": [
      "hera_cal is not installed. Some gridding features unavailable.\n",
      "pyfof is not installed. Some gridding features unavailable.\n"
     ]
    }
   ],
   "source": [
    "import cupy as cp\n",
    "import numpy as np\n",
    "from utils import *\n",
    "from zp_puregpu_funcs_py import *\n",
    "from invcov import *"
   ]
  },
  {
   "cell_type": "code",
   "execution_count": 3,
   "metadata": {},
   "outputs": [
    {
     "name": "stdout",
     "output_type": "stream",
     "text": [
      "\u001b[0;31mSignature:\u001b[0m\n",
      "\u001b[0mapply_gains_to_mat\u001b[0m\u001b[0;34m(\u001b[0m\u001b[0;34m\u001b[0m\n",
      "\u001b[0;34m\u001b[0m    \u001b[0mgains\u001b[0m\u001b[0;34m:\u001b[0m \u001b[0mcupy\u001b[0m\u001b[0;34m.\u001b[0m\u001b[0mndarray\u001b[0m\u001b[0;34m,\u001b[0m\u001b[0;34m\u001b[0m\n",
      "\u001b[0;34m\u001b[0m    \u001b[0mmat\u001b[0m\u001b[0;34m:\u001b[0m \u001b[0mcupy\u001b[0m\u001b[0;34m.\u001b[0m\u001b[0mndarray\u001b[0m\u001b[0;34m,\u001b[0m\u001b[0;34m\u001b[0m\n",
      "\u001b[0;34m\u001b[0m    \u001b[0medges\u001b[0m\u001b[0;34m:\u001b[0m \u001b[0mcupy\u001b[0m\u001b[0;34m.\u001b[0m\u001b[0mndarray\u001b[0m\u001b[0;34m,\u001b[0m\u001b[0;34m\u001b[0m\n",
      "\u001b[0;34m\u001b[0m    \u001b[0mant_1_array\u001b[0m\u001b[0;34m:\u001b[0m \u001b[0mcupy\u001b[0m\u001b[0;34m.\u001b[0m\u001b[0mndarray\u001b[0m\u001b[0;34m,\u001b[0m\u001b[0;34m\u001b[0m\n",
      "\u001b[0;34m\u001b[0m    \u001b[0mant_2_array\u001b[0m\u001b[0;34m:\u001b[0m \u001b[0mcupy\u001b[0m\u001b[0;34m.\u001b[0m\u001b[0mndarray\u001b[0m\u001b[0;34m,\u001b[0m\u001b[0;34m\u001b[0m\n",
      "\u001b[0;34m\u001b[0m    \u001b[0mxp\u001b[0m\u001b[0;34m:\u001b[0m \u001b[0mAny\u001b[0m\u001b[0;34m,\u001b[0m\u001b[0;34m\u001b[0m\n",
      "\u001b[0;34m\u001b[0m    \u001b[0mis_zeropadded\u001b[0m\u001b[0;34m:\u001b[0m \u001b[0mbool\u001b[0m \u001b[0;34m=\u001b[0m \u001b[0;32mTrue\u001b[0m\u001b[0;34m,\u001b[0m\u001b[0;34m\u001b[0m\n",
      "\u001b[0;34m\u001b[0m\u001b[0;34m)\u001b[0m\u001b[0;34m\u001b[0m\u001b[0;34m\u001b[0m\u001b[0m\n",
      "\u001b[0;31mDocstring:\u001b[0m\n",
      "Apply a pair of complex gains to a matrix. Utilizes the Re/Im split.\n",
      "Only accounts for \"one half\" of the gain application, meaning the \n",
      "function is really performing eg. (g_1g_2*\\Delta_{1,2}), where it is \n",
      "understood that antenna's 1 and 2 belong to the baseline sitting at\n",
      "the same row as that baseline row in the \\Delta (\\Sigma) matrix. Note that \n",
      "although the matrix provided may be zeropadded, the gain matrix is zeropadded \n",
      "here and as such, should always be provided in an un-zeropadded (original) format.\n",
      "\n",
      "NOTE: Could be smart in the future to wrap the zeropadding of the gain \n",
      "    matrix in a separate function.\n",
      "\n",
      "Params\n",
      "------\n",
      "gains\n",
      "    1D array of Re/Im alternating gains to be applied to the source or\n",
      "    diffuse matrices. Contains one set of Re/Im gains for all antennas \n",
      "    in the array. \n",
      "mat\n",
      "    Gains are applied to this. Can be 2d as in original C-corrcal.\n",
      "    If 3d, is_zeropadded must be set to True\n",
      "edges\n",
      "    Indices of edges of redundant blocks in the diffuse matrix.\n",
      "ant_1_array\n",
      "    Indices of the first antenna in each baseline\n",
      "ant_2_array\n",
      "    Indices of the second antenna in each baseline\n",
      "xp\n",
      "    np for cpu (Numpy), cp for gpu (CuPy)\n",
      "is_zeropadded\n",
      "    Boolean. Indicate whether the provided matrix has been zeropadded \n",
      "    previously\n",
      "\n",
      "Returns\n",
      "-------\n",
      "out\n",
      "    Matrix with applied gains (explain this a bit better)\n",
      "\u001b[0;31mFile:\u001b[0m      ~/corrcal_gpu_pipeline/pipeline/utils.py\n",
      "\u001b[0;31mType:\u001b[0m      function"
     ]
    }
   ],
   "source": [
    "apply_gains_to_mat?\n",
    "# undo_zeropad?"
   ]
  },
  {
   "cell_type": "code",
   "execution_count": 4,
   "metadata": {},
   "outputs": [
    {
     "name": "stdout",
     "output_type": "stream",
     "text": [
      "\u001b[0;31mSignature:\u001b[0m \u001b[0msummarize_benchmark_results\u001b[0m\u001b[0;34m(\u001b[0m\u001b[0mfunction\u001b[0m\u001b[0;34m,\u001b[0m \u001b[0;34m*\u001b[0m\u001b[0margs\u001b[0m\u001b[0;34m)\u001b[0m\u001b[0;34m\u001b[0m\u001b[0;34m\u001b[0m\u001b[0m\n",
      "\u001b[0;31mDocstring:\u001b[0m\n",
      "Use the CuPy benchmark function and nicely print out just the\n",
      "total time spent on both the gpu and the cpu.\n",
      "\u001b[0;31mFile:\u001b[0m      ~/corrcal_gpu_pipeline/pipeline/utils.py\n",
      "\u001b[0;31mType:\u001b[0m      function"
     ]
    }
   ],
   "source": [
    "summarize_benchmark_results?"
   ]
  },
  {
   "cell_type": "code",
   "execution_count": 46,
   "metadata": {},
   "outputs": [
    {
     "name": "stdout",
     "output_type": "stream",
     "text": [
      "The edges of the redundant blocks have indices[ 0  2  6 12 30]\n"
     ]
    }
   ],
   "source": [
    "#simulation params relevant for testing application of gains to a matrix\n",
    "n_ant = 4\n",
    "n_bl = 30\n",
    "n_gains = 2*n_bl\n",
    "n_eig = 3\n",
    "xp = cp  #run things on the gpu using cupy\n",
    "\n",
    "#this might be the easiest (and most general) way to devise an edges\n",
    "# array, though we hard code an ex. edges array to be sure it fits\n",
    "# the desired format of having no odd entries.\n",
    "edges = (xp.unique(xp.random.randint(1, n_bl/2-1, size = n_ant)*2))\n",
    "edges = xp.concatenate((xp.array([0]), edges, xp.array([n_bl])))\n",
    "print(f\"The edges of the redundant blocks have indices{edges}\")\n",
    "\n",
    "#some random noise, diffuse, and source covariance matrices\n",
    "xp = cp\n",
    "sim_diff_mat = xp.random.rand(n_bl, n_eig, dtype = 'float64')\n",
    "sim_gains = cp.random.rand(n_gains, dtype = 'float64') #Re/Im split + ant1 & ant 2 = 4*n_ant\n",
    "ant_1_array = cp.arange(n_bl//2)\n",
    "ant_2_array = cp.arange(n_bl//2)\n",
    "\n",
    "#zeropad the noise, diff, source mats\n",
    "zp_sim_diff_mat, largest_block, n_blocks = zeroPad(sim_diff_mat, edges, return_inv=False)\n",
    "\n",
    "#Need to reshape to give an extra dimension of n_blocks to be compatible with inv cov routine\n",
    "sim_diff_mat_3d = zp_sim_diff_mat.reshape(n_blocks, largest_block, n_eig)"
   ]
  },
  {
   "cell_type": "code",
   "execution_count": 47,
   "metadata": {},
   "outputs": [],
   "source": [
    "applied_gains = apply_gains_to_mat(sim_gains, sim_diff_mat_3d, edges, ant_1_array, ant_1_array, cp, True)"
   ]
  },
  {
   "cell_type": "code",
   "execution_count": 48,
   "metadata": {},
   "outputs": [
    {
     "name": "stdout",
     "output_type": "stream",
     "text": [
      "Input mat has shape (4, 18, 3)\n",
      "\n",
      "Gains applied mat has shape (4, 18, 3)\n",
      "\n",
      "The mat with gains applied looks like:\n",
      "\n",
      "[[[0.17559102 0.0913616  0.00364314]\n",
      "  [0.12997649 0.1974795  0.13590692]\n",
      "  [0.         0.         0.        ]\n",
      "  [0.         0.         0.        ]\n",
      "  [0.         0.         0.        ]\n",
      "  [0.         0.         0.        ]\n",
      "  [0.         0.         0.        ]\n",
      "  [0.         0.         0.        ]\n",
      "  [0.         0.         0.        ]\n",
      "  [0.         0.         0.        ]\n",
      "  [0.         0.         0.        ]\n",
      "  [0.         0.         0.        ]\n",
      "  [0.         0.         0.        ]\n",
      "  [0.         0.         0.        ]\n",
      "  [0.         0.         0.        ]\n",
      "  [0.         0.         0.        ]\n",
      "  [0.         0.         0.        ]\n",
      "  [0.         0.         0.        ]]\n",
      "\n",
      " [[0.53270293 0.47820383 0.19558848]\n",
      "  [0.41928636 0.4148223  0.50739083]\n",
      "  [0.71030479 0.58174487 1.04845778]\n",
      "  [1.01862861 1.10776441 0.46124678]\n",
      "  [0.         0.         0.        ]\n",
      "  [0.         0.         0.        ]\n",
      "  [0.         0.         0.        ]\n",
      "  [0.         0.         0.        ]\n",
      "  [0.         0.         0.        ]\n",
      "  [0.         0.         0.        ]\n",
      "  [0.         0.         0.        ]\n",
      "  [0.         0.         0.        ]\n",
      "  [0.         0.         0.        ]\n",
      "  [0.         0.         0.        ]\n",
      "  [0.         0.         0.        ]\n",
      "  [0.         0.         0.        ]\n",
      "  [0.         0.         0.        ]\n",
      "  [0.         0.         0.        ]]\n",
      "\n",
      " [[0.45150296 0.41285384 0.4778356 ]\n",
      "  [0.29764511 0.42933135 0.4618503 ]\n",
      "  [0.15045487 0.43155594 0.02066935]\n",
      "  [0.14593165 0.2164483  0.26286683]\n",
      "  [0.08310342 0.2331487  0.12337016]\n",
      "  [0.16313816 0.21381261 0.22977107]\n",
      "  [0.         0.         0.        ]\n",
      "  [0.         0.         0.        ]\n",
      "  [0.         0.         0.        ]\n",
      "  [0.         0.         0.        ]\n",
      "  [0.         0.         0.        ]\n",
      "  [0.         0.         0.        ]\n",
      "  [0.         0.         0.        ]\n",
      "  [0.         0.         0.        ]\n",
      "  [0.         0.         0.        ]\n",
      "  [0.         0.         0.        ]\n",
      "  [0.         0.         0.        ]\n",
      "  [0.         0.         0.        ]]\n",
      "\n",
      " [[0.03127903 0.05057861 0.08441042]\n",
      "  [0.07656298 0.03457994 0.07797957]\n",
      "  [0.14637103 0.16636711 0.44216045]\n",
      "  [0.20241301 0.47886748 0.26899784]\n",
      "  [0.61641558 0.84400113 0.91567181]\n",
      "  [0.73446757 0.1372865  0.85327202]\n",
      "  [0.42956798 0.04965214 0.13754   ]\n",
      "  [0.20470305 0.20577118 0.34491869]\n",
      "  [0.01747902 0.46773451 0.60809375]\n",
      "  [0.81851983 0.10180347 0.31423314]\n",
      "  [0.14870734 0.69240052 0.05504837]\n",
      "  [0.40202932 0.13850671 0.58495203]\n",
      "  [0.08568459 0.269901   0.34233551]\n",
      "  [0.31883627 0.27198511 0.06825851]\n",
      "  [0.93703496 1.30024825 0.86639571]\n",
      "  [0.69470778 1.5366723  1.46214124]\n",
      "  [0.62098038 0.44537944 0.91977627]\n",
      "  [0.85951557 0.33185494 0.78292564]]]\n"
     ]
    }
   ],
   "source": [
    "print(f\"Input mat has shape {sim_diff_mat_3d.shape}\")\n",
    "print()\n",
    "print(f\"Gains applied mat has shape {applied_gains.shape}\")\n",
    "print()\n",
    "print(f\"The mat with gains applied looks like:\\n\\n{applied_gains}\")"
   ]
  },
  {
   "cell_type": "markdown",
   "metadata": {},
   "source": [
    "#### Random Debugging tests"
   ]
  },
  {
   "cell_type": "code",
   "execution_count": 49,
   "metadata": {},
   "outputs": [
    {
     "name": "stdout",
     "output_type": "stream",
     "text": [
      "(2, 5, 1)\n",
      "(2, 5, 3)\n",
      "(10,)\n",
      "[[[0.16167031 0.34526009 0.69396311]\n",
      "  [0.57070825 0.88329105 0.69632166]\n",
      "  [0.88639889 0.80214    0.35460003]\n",
      "  [0.72238019 0.93171779 0.32625203]\n",
      "  [0.02055513 0.4832205  0.42432656]]\n",
      "\n",
      " [[0.66092006 0.6281286  0.34457089]\n",
      "  [0.09029565 0.25141056 0.35615979]\n",
      "  [0.18335952 0.55637183 0.68558055]\n",
      "  [0.73721374 0.53216768 0.50785471]\n",
      "  [0.84552749 0.06368828 0.76446976]]]\n",
      "[[[0.16167031 0.34526009 0.69396311]\n",
      "  [0.88639889 0.80214    0.35460003]\n",
      "  [0.02055513 0.4832205  0.42432656]]\n",
      "\n",
      " [[0.66092006 0.6281286  0.34457089]\n",
      "  [0.18335952 0.55637183 0.68558055]\n",
      "  [0.84552749 0.06368828 0.76446976]]]\n"
     ]
    }
   ],
   "source": [
    "m = np.random.rand(2, 5, 3)\n",
    "g = np.random.rand(10)\n",
    "\n",
    "gs = g[:, None] * g[:, None]\n",
    "gs = gs.reshape(m.shape[0], m.shape[1], 1)\n",
    "\n",
    "print(gs.shape)\n",
    "print(m.shape)\n",
    "print(g.shape)\n",
    "print(m)\n",
    "print(m[:, ::2])\n",
    "out = gs[:, ::2] * m[:, ::2]"
   ]
  },
  {
   "cell_type": "code",
   "execution_count": 50,
   "metadata": {},
   "outputs": [
    {
     "name": "stdout",
     "output_type": "stream",
     "text": [
      "[0.45303294 0.61432632 0.95228438 0.67605443 0.86879742 0.1074288\n",
      " 0.43278445 0.71144623 0.02337054 0.22414874]\n",
      "[0.45303294 0.61432632 0.95228438 0.67605443 0.86879742]\n",
      "\n",
      "[0.1074288  0.43278445 0.71144623 0.02337054 0.22414874]\n",
      "\n",
      "[0.45303294 0.61432632 0.95228438 0.67605443 0.86879742 0.1074288\n",
      " 0.43278445 0.71144623 0.02337054 0.22414874]\n",
      "\n",
      "[0.45303294 0.61432632 0.95228438 0.67605443 0.86879742]\n",
      "[0.1074288  0.43278445 0.71144623 0.02337054 0.22414874]\n"
     ]
    }
   ],
   "source": [
    "a = np.arange(5)\n",
    "b = np.arange(5,10)\n",
    "c = np.random.rand((a.shape[0] + b.shape[0]))\n",
    "print(c)\n",
    "d = c[a]\n",
    "e = c[b]\n",
    "\n",
    "print(d)\n",
    "print()\n",
    "print(e)\n",
    "print()\n",
    "print(np.concatenate((d, e)))\n",
    "print()\n",
    "aa = np.concatenate((d, e))\n",
    "\n",
    "print(aa[:int(len(aa)/2)])\n",
    "\n",
    "print(aa[int(len(aa)/2):])"
   ]
  },
  {
   "cell_type": "markdown",
   "metadata": {},
   "source": [
    "#### Check ZP computes the same thing as corrcal"
   ]
  },
  {
   "cell_type": "code",
   "execution_count": 51,
   "metadata": {},
   "outputs": [],
   "source": [
    "#Current corrcal gain application function\n",
    "def apply_gains_to_mat_corrcal(gains, mat, ant_1_array, ant_2_array):\n",
    "    \"\"\"Apply a gain-like matrix to a provided matrix.\"\"\"\n",
    "    complex_gains = gains[::2] + 1j*gains[1::2]\n",
    "    gain_mat = (\n",
    "        complex_gains[ant_1_array,None] * complex_gains[ant_2_array,None].conj()\n",
    "    )\n",
    "    out = np.zeros_like(mat)\n",
    "    out[::2] = gain_mat.real * mat[::2] - gain_mat.imag * mat[1::2]\n",
    "    out[1::2] = gain_mat.imag * mat[::2] + gain_mat.real * mat[1::2]\n",
    "    return out"
   ]
  },
  {
   "cell_type": "code",
   "execution_count": 52,
   "metadata": {},
   "outputs": [
    {
     "name": "stdout",
     "output_type": "stream",
     "text": [
      "The edges of the redundant blocks have indices[ 0  2  8 18 30]\n"
     ]
    }
   ],
   "source": [
    "#simulation params relevant for testing application of gains to a matrix\n",
    "n_ant = 15\n",
    "n_bl = 2*n_ant\n",
    "n_gains = 4*n_ant\n",
    "n_eig = 3\n",
    "xp = cp  #run things on the gpu using cupy\n",
    "\n",
    "#this might be the easiest (and most general) way to devise an edges\n",
    "# array, though we hard code an ex. edges array to be sure it fits\n",
    "# the desired format of having no odd entries.\n",
    "edges = (xp.unique(xp.random.randint(1, n_bl/2-1, size = 3)*2))\n",
    "edges = xp.concatenate((xp.array([0]), edges, xp.array([n_bl])))\n",
    "print(f\"The edges of the redundant blocks have indices{edges}\")\n",
    "\n",
    "#some random noise, diffuse, and source covariance matrices\n",
    "xp = cp\n",
    "sim_diff_mat = xp.random.rand(n_bl, n_eig, dtype = 'float64')\n",
    "sim_gains = cp.random.rand(n_gains, dtype = 'float64') #Re/Im split + ant1 & ant 2 = 4*n_ant\n",
    "ant_1_array = cp.arange(n_ant)\n",
    "ant_2_array = cp.arange(n_ant, 2*n_ant)\n",
    "\n",
    "#zeropad the noise, diff, source mats\n",
    "zp_sim_diff_mat, largest_block, n_blocks = zeroPad(sim_diff_mat, edges, return_inv=False)\n",
    "\n",
    "#Need to reshape to give an extra dimension of n_blocks to be compatible with inv cov routine\n",
    "sim_diff_mat_3d = zp_sim_diff_mat.reshape(n_blocks, largest_block, n_eig)\n"
   ]
  },
  {
   "cell_type": "code",
   "execution_count": 53,
   "metadata": {},
   "outputs": [],
   "source": [
    "# out_corrcal = apply_gains_to_mat_corrcal(sim_gains, sim_diff_mat, ant_1_array, ant_2_array)\n",
    "out_gpu = apply_gains_to_mat(sim_gains, sim_diff_mat_3d, edges, ant_1_array, ant_2_array, cp)\n",
    "out_gpu_corrcal = apply_gains_to_mat(sim_gains, sim_diff_mat, edges, ant_1_array, ant_2_array, cp, False)\n",
    "out_gpu_resh = undo_zeropad(out_gpu, edges, cp)"
   ]
  },
  {
   "cell_type": "code",
   "execution_count": 54,
   "metadata": {},
   "outputs": [
    {
     "name": "stdout",
     "output_type": "stream",
     "text": [
      "True\n"
     ]
    }
   ],
   "source": [
    "#should return True if my routine computes the same thing as the current corrcal routine\n",
    "print(cp.allclose(out_gpu_resh, out_gpu_corrcal))"
   ]
  },
  {
   "cell_type": "markdown",
   "metadata": {},
   "source": [
    "#### Timing test for np vs cp versions"
   ]
  },
  {
   "cell_type": "code",
   "execution_count": 43,
   "metadata": {},
   "outputs": [
    {
     "name": "stdout",
     "output_type": "stream",
     "text": [
      "The edges of the redundant blocks have indices[     0    450    582    840   1894   2002   2378   2414   2992   5950\n",
      "   6110   6524   7130   7172   7564   7956   8364   9218  10098  10322\n",
      "  10746  10788  10864  11148  11538  12016  12066  12562  12930  14366\n",
      "  14976  15266  15440  15868  17198  18384  18606  18962  19182  20220\n",
      "  20422  20484  20568  20970  21710  22080  22152  22806  22998  24198\n",
      "  24748  25418  25642  27326  27514  27612  28662  28688  28836  28930\n",
      "  28992  29304  29446  29536  29698  30366  30586  30624  31568  32222\n",
      "  32284  32496  33708  33980  34880  35488  35502  35796  36916  37332\n",
      "  37662  37814  38192  38694  39190  39684  39690  40364  41266  41456\n",
      "  42080  42552  44400  44518  45404  46074  46088  46390  46824  48336\n",
      "  48904  50238  50552  50920  51522  52146  53342  53394  53566  53988\n",
      "  54504  55294  55690  55974  56744  56798  57696  58672  58742  59156\n",
      "  59424  59554  59882  60070  60260  61202  61286  63004  64116  64264\n",
      "  64626  65050  65674  66336  66490  67220  67400  67486  67558  67940\n",
      "  68058  68124  69618  69838  70326  70998  72672  72688  72844  73198\n",
      "  73478  73752  73892  73946  74058  74070  74218  74774  76726  77072\n",
      "  77258  77718  77752  79120  80656  80672  81492  81562  81820  82854\n",
      "  83068  83234  83638  83850  84348  86390  86464  86544  88674  89010\n",
      "  89568  90578  91130  91446  91876  91878  92698  93206  94572  94872\n",
      "  95610  95826  96658  96948  97546  97710  98258  99142  99904 100006\n",
      " 100122 100844 101716 101828 101912 102064 102750 103416 103520 104044\n",
      " 104366 104492 104496 104856 104896 105106 105124 105564 105738 105810\n",
      " 106282 106988 107202 107356 108136 108166 108584 108686 108714 108726\n",
      " 108728 110716 111388 111810 111878 112026 112164 112234 112622 112654\n",
      " 112690 113342 114036 114630 115188 116644 116870 117506 118690 119464\n",
      " 121996 122396 122582 122606 122878 123050 123116 123308 124198 124236\n",
      " 126446 126840 127194 127402 127804 127992 128424 128498 128588 129474\n",
      " 130156 130888 131296 131342 131418 131584 132412 133484 133584 134554\n",
      " 134664 135022 135560 136598 136920 137012 137028 137446 138010 138128\n",
      " 138678 138838 139370 139392 139526 140078 140854 140890 141446 142080\n",
      " 142178 143414 143652 143764 144718 144742 145180 145246 145462 145610\n",
      " 145676 147034 147168 147802 148078 148310 148488 148734 149690 149852\n",
      " 149870 149990 150102 150936 150944 151708 151872 152092 152142 152152\n",
      " 152734 154556 154568 154948 155388 156008 156590 157282 157776 157932\n",
      " 159316 159348 159762 160768 161238 162282 162558 162738 162892 163452\n",
      " 163692 163834 164004 164276 164372 164802 165270 166312 166456 166546\n",
      " 166896 167056 167470 167570 167878 168060 169330 170694 170868 170924\n",
      " 170992 171396 173066 173194 173306 173934 174642 174674 176136 176252\n",
      " 176318 176462 178286 179050 179058 179124 179288 179356 180210 180240\n",
      " 180256 180610 180632 180698 180752 180944 181574 181694 181732 181844\n",
      " 181918 182964 184952 184966 185214 185444 185850 186458 186482 187314\n",
      " 188182 188230 188444 191036 191226 191844 192018 192122 192352 193658\n",
      " 193858 194566 194798 195400 196900 197390 197816 197906 198742 201098\n",
      " 201146 201502 201620 201712 201750 202170 202210 202358 202736 202892\n",
      " 203520 203538 203644 204182 204300 204522 205046 207490 208258 208974\n",
      " 209474 209716 211206 211812 211824 212192 212782 212834 213826 214660\n",
      " 215176 215576 216052 216760 216812 217056 217318 217806 218284 218856\n",
      " 220216 220474 220748 220764 220812 221682 222214 222836 222954 223658\n",
      " 224848 225856 226404 226674 226842 228170 228514 229008 229306 229630\n",
      " 229880 231362 231632 232516 232586 232696 233068 233102 233270 233528\n",
      " 233778 233884 234638 234724 235578 235616 235642 236192 236810 237262\n",
      " 237274 239442 239460 240000]\n",
      "514\n"
     ]
    }
   ],
   "source": [
    "#simulation params relevant for testing application of gains to a matrix\n",
    "n_bl = 240000  # something like 2*N_ant^2 for Re/Im split\n",
    "n_ant = 512\n",
    "n_gains = 2*n_bl  #one for each antenna and one for each Re and Im part\n",
    "n_eig = 3\n",
    "xp = cp  #run things on the gpu using cupy\n",
    "\n",
    "#this might be the easiest (and most general) way to devise an edges\n",
    "# array, though we hard code an ex. edges array to be sure it fits\n",
    "# the desired format of having no odd entries.\n",
    "if xp == cp:\n",
    "\n",
    "    edges = (xp.unique(xp.random.randint(1, n_bl/2-1, size = n_ant)*2))\n",
    "    edges = xp.concatenate((xp.array([0]), edges, xp.array([n_bl])))\n",
    "    print(f\"The edges of the redundant blocks have indices{edges}\")\n",
    "\n",
    "    #some random noise, diffuse, and source covariance matrices\n",
    "    sim_diff_mat = xp.random.rand(n_bl, n_eig, dtype = 'float64')\n",
    "    sim_gains = cp.random.rand(n_gains, dtype = 'float64') #Re/Im split + ant1 & ant 2 = 4*n_ant\n",
    "    \n",
    "    #leave as n_bl/2 since indexex into cplex gains which are not Re/Im split\n",
    "    ant_1_array = cp.arange(n_bl//2) \n",
    "    ant_2_array = cp.arange(n_bl//2)\n",
    "\n",
    "    #zeropad the noise, diff, source mats\n",
    "    zp_sim_diff_mat, largest_block, n_blocks = zeroPad(sim_diff_mat, edges, return_inv=False)\n",
    "\n",
    "    #Need to reshape to give an extra dimension of n_blocks to be compatible with inv cov routine\n",
    "    sim_diff_mat_3d = zp_sim_diff_mat.reshape(n_blocks, largest_block, n_eig)\n",
    "\n",
    "elif xp == np:\n",
    "    edges = (xp.unique(xp.random.randint(1, n_bl/2-1, size = n_ant)*2))\n",
    "    edges = xp.concatenate((xp.array([0]), edges, xp.array([n_bl])))\n",
    "    print(f\"The edges of the redundant blocks have indices{edges}\")\n",
    "\n",
    "    #some random noise, diffuse, and source covariance matrices\n",
    "    sim_diff_mat = xp.random.rand(n_bl, n_eig).astype('float64')\n",
    "    sim_gains = xp.random.rand(n_gains).astype('float64') #Re/Im split + ant1 & ant 2 = 4*n_ant\n",
    "    ant_1_array = xp.arange(n_bl//2)\n",
    "    ant_2_array = xp.arange(n_bl//2)\n",
    "\n",
    "    #zeropad the noise, diff, source mats\n",
    "    # zp_sim_diff_mat, largest_block, n_blocks = zeroPad(sim_diff_mat, edges, return_inv=False)\n",
    "\n",
    "    #Need to reshape to give an extra dimension of n_blocks to be compatible with inv cov routine\n",
    "    # sim_diff_mat_3d = zp_sim_diff_mat.reshape(n_blocks, largest_block, n_eig)\n",
    "\n",
    "print(len(edges))"
   ]
  },
  {
   "cell_type": "code",
   "execution_count": 42,
   "metadata": {},
   "outputs": [
    {
     "name": "stdout",
     "output_type": "stream",
     "text": [
      "<class 'numpy.ndarray'>\n",
      "<class 'numpy.ndarray'>\n",
      "Time on cpu: 0.014120s\n",
      "Time on gpu: 0.014666s\n"
     ]
    }
   ],
   "source": [
    "print(type(sim_diff_mat))\n",
    "print(type(sim_gains))\n",
    "summarize_benchmark_results(apply_gains_to_mat, sim_gains, sim_diff_mat, edges, ant_1_array, ant_2_array, xp, False)"
   ]
  },
  {
   "cell_type": "code",
   "execution_count": 45,
   "metadata": {},
   "outputs": [
    {
     "name": "stdout",
     "output_type": "stream",
     "text": [
      "<class 'cupy.ndarray'>\n",
      "<class 'cupy.ndarray'>\n",
      "Time on cpu: 0.002538s\n",
      "Time on gpu: 0.004685s\n"
     ]
    }
   ],
   "source": [
    "print(type(sim_diff_mat))\n",
    "print(type(sim_gains))\n",
    "summarize_benchmark_results(apply_gains_to_mat, sim_gains, sim_diff_mat_3d, edges, ant_1_array, ant_2_array, xp, True)"
   ]
  }
 ],
 "metadata": {
  "kernelspec": {
   "display_name": "Python 3",
   "language": "python",
   "name": "python3"
  },
  "language_info": {
   "codemirror_mode": {
    "name": "ipython",
    "version": 3
   },
   "file_extension": ".py",
   "mimetype": "text/x-python",
   "name": "python",
   "nbconvert_exporter": "python",
   "pygments_lexer": "ipython3",
   "version": "3.10.12"
  }
 },
 "nbformat": 4,
 "nbformat_minor": 2
}
