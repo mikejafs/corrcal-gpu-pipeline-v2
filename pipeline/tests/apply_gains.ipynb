{
 "cells": [
  {
   "cell_type": "markdown",
   "metadata": {},
   "source": [
    "### Tests for Applying Gains Matrix"
   ]
  },
  {
   "cell_type": "code",
   "execution_count": 8,
   "metadata": {},
   "outputs": [],
   "source": [
    "import cupy as cp\n",
    "import numpy as np\n",
    "from utils import *\n",
    "from zp_puregpu_funcs_py import *"
   ]
  },
  {
   "cell_type": "code",
   "execution_count": 9,
   "metadata": {},
   "outputs": [
    {
     "name": "stdout",
     "output_type": "stream",
     "text": [
      "\u001b[0;31mSignature:\u001b[0m\n",
      "\u001b[0mapply_gains_to_mat\u001b[0m\u001b[0;34m(\u001b[0m\u001b[0;34m\u001b[0m\n",
      "\u001b[0;34m\u001b[0m    \u001b[0mgains\u001b[0m\u001b[0;34m,\u001b[0m\u001b[0;34m\u001b[0m\n",
      "\u001b[0;34m\u001b[0m    \u001b[0mmat\u001b[0m\u001b[0;34m,\u001b[0m\u001b[0;34m\u001b[0m\n",
      "\u001b[0;34m\u001b[0m    \u001b[0medges\u001b[0m\u001b[0;34m,\u001b[0m\u001b[0;34m\u001b[0m\n",
      "\u001b[0;34m\u001b[0m    \u001b[0mant_1_array\u001b[0m\u001b[0;34m,\u001b[0m\u001b[0;34m\u001b[0m\n",
      "\u001b[0;34m\u001b[0m    \u001b[0mant_2_array\u001b[0m\u001b[0;34m,\u001b[0m\u001b[0;34m\u001b[0m\n",
      "\u001b[0;34m\u001b[0m    \u001b[0mxp\u001b[0m\u001b[0;34m,\u001b[0m\u001b[0;34m\u001b[0m\n",
      "\u001b[0;34m\u001b[0m    \u001b[0mis_zeropadded\u001b[0m\u001b[0;34m=\u001b[0m\u001b[0;32mTrue\u001b[0m\u001b[0;34m,\u001b[0m\u001b[0;34m\u001b[0m\n",
      "\u001b[0;34m\u001b[0m\u001b[0;34m)\u001b[0m\u001b[0;34m\u001b[0m\u001b[0;34m\u001b[0m\u001b[0m\n",
      "\u001b[0;31mDocstring:\u001b[0m\n",
      "Apply a pair of complex gains to a matrix. Utilizes the Re/Im split.\n",
      "Only accounts for \"one half\" of the gain application, meaning the \n",
      "function is really performing (g_1g_2*\\Delta_{1,2}), where it is \n",
      "understood that antenna's 1 and 2 below to the baseline sitting at\n",
      "the same row as that baseline row in the \\Delta matrix.\n",
      "\n",
      "NOTE: Could be smart in the future to wrap the zeropadding of the gain \n",
      "    matrix in a separate function.\n",
      "\n",
      "Params\n",
      "------\n",
      "mat: Gains are applied to this. Can be 2d as in original C-corrcal.\n",
      "    If 3d, is_zeropadded must be set to True\n",
      "\n",
      "Returns\n",
      "-------\n",
      "out: Matrix with applied gains (explain this a bit better)\n",
      "\u001b[0;31mFile:\u001b[0m      ~/corrcal_gpu_pipeline/pipeline/utils.py\n",
      "\u001b[0;31mType:\u001b[0m      function"
     ]
    }
   ],
   "source": [
    "apply_gains_to_mat?"
   ]
  },
  {
   "cell_type": "code",
   "execution_count": 54,
   "metadata": {},
   "outputs": [
    {
     "name": "stdout",
     "output_type": "stream",
     "text": [
      "The edges of the redundant blocks have indices[ 0  6 16 20]\n"
     ]
    }
   ],
   "source": [
    "#simulation params relevant for testing application of gains to a matrix\n",
    "n_ant = 10\n",
    "n_bl = 2*n_ant\n",
    "n_gains = 4*n_ant\n",
    "n_eig = 3\n",
    "xp = cp  #run things on the gpu using cupy\n",
    "\n",
    "#this might be the easiest (and most general) way to devise an edges\n",
    "# array, though we hard code an ex. edges array to be sure it fits\n",
    "# the desired format of having no odd entries.\n",
    "edges = (xp.unique(xp.random.randint(1, n_bl/2-1, size = 2)*2))\n",
    "edges = xp.concatenate((xp.array([0]), edges, xp.array([n_bl])))\n",
    "print(f\"The edges of the redundant blocks have indices{edges}\")\n",
    "\n",
    "#some random noise, diffuse, and source covariance matrices\n",
    "xp = cp\n",
    "sim_diff_mat = xp.random.rand(n_bl, n_eig, dtype = 'float64')\n",
    "sim_gains = cp.random.rand(n_gains, dtype = 'float64') #Re/Im split + ant1 & ant 2 = 4*n_ant\n",
    "ant_1_array = cp.arange(n_ant)\n",
    "ant_2_array = cp.arange(n_ant, 2*n_ant)\n",
    "\n",
    "#zeropad the noise, diff, source mats\n",
    "zp_sim_diff_mat, largest_block, n_blocks = zeroPad(sim_diff_mat, edges, return_inv=False)\n",
    "\n",
    "#Need to reshape to give an extra dimension of n_blocks to be compatible with inv cov routine\n",
    "sim_diff_mat_3d = zp_sim_diff_mat.reshape(n_blocks, largest_block, n_eig)"
   ]
  },
  {
   "cell_type": "code",
   "execution_count": 57,
   "metadata": {},
   "outputs": [],
   "source": [
    "applied_gains = apply_gains_to_mat(sim_gains, sim_diff_mat_3d, edges, ant_1_array, ant_1_array, cp, True)"
   ]
  },
  {
   "cell_type": "code",
   "execution_count": 58,
   "metadata": {},
   "outputs": [
    {
     "name": "stdout",
     "output_type": "stream",
     "text": [
      "Input mat has shape (3, 10, 3)\n",
      "\n",
      "Gains applied mat has shape (3, 10, 3)\n",
      "\n",
      "The mat with gains applied looks like:\n",
      "\n",
      "[[[3.47591769e-01 4.80654363e-01 3.88563391e-01]\n",
      "  [2.58249775e-01 1.75625572e-01 3.03918038e-01]\n",
      "  [1.95836328e-03 1.25368739e-03 1.38064132e-03]\n",
      "  [1.07107959e-03 4.37554910e-03 9.79744614e-04]\n",
      "  [4.01285451e-03 1.11756963e-02 1.14032073e-02]\n",
      "  [2.25805388e-01 4.88176633e-02 1.39965524e-01]\n",
      "  [0.00000000e+00 0.00000000e+00 0.00000000e+00]\n",
      "  [0.00000000e+00 0.00000000e+00 0.00000000e+00]\n",
      "  [0.00000000e+00 0.00000000e+00 0.00000000e+00]\n",
      "  [0.00000000e+00 0.00000000e+00 0.00000000e+00]]\n",
      "\n",
      " [[2.44146951e-02 4.36355669e-02 2.03987858e-02]\n",
      "  [4.73174599e-02 4.38763468e-02 1.60734251e-03]\n",
      "  [8.16648918e-01 2.59986637e-01 3.82632711e-01]\n",
      "  [8.75108143e-01 9.98599759e-01 1.04949981e+00]\n",
      "  [2.18890259e-01 1.41107322e-01 3.38017245e-01]\n",
      "  [4.44954806e-01 4.68779237e-01 1.08312055e-01]\n",
      "  [8.01467967e-01 4.01624667e-01 2.53512877e-01]\n",
      "  [7.95029736e-01 7.44491879e-01 7.55623402e-01]\n",
      "  [4.36099734e-01 9.29384439e-02 2.64181180e-01]\n",
      "  [1.72887110e-01 2.32759185e-01 3.73765267e-01]]\n",
      "\n",
      " [[4.05372795e-01 1.15659203e+00 1.48314269e+00]\n",
      "  [5.01454957e-01 4.29475528e-01 1.26731386e+00]\n",
      "  [6.37173721e-01 2.09202050e-01 4.41977968e-01]\n",
      "  [1.32381857e-01 1.67934072e-01 3.69812799e-01]\n",
      "  [0.00000000e+00 0.00000000e+00 0.00000000e+00]\n",
      "  [0.00000000e+00 0.00000000e+00 0.00000000e+00]\n",
      "  [0.00000000e+00 0.00000000e+00 0.00000000e+00]\n",
      "  [0.00000000e+00 0.00000000e+00 0.00000000e+00]\n",
      "  [0.00000000e+00 0.00000000e+00 0.00000000e+00]\n",
      "  [0.00000000e+00 0.00000000e+00 0.00000000e+00]]]\n"
     ]
    }
   ],
   "source": [
    "print(f\"Input mat has shape {sim_diff_mat_3d.shape}\")\n",
    "print()\n",
    "print(f\"Gains applied mat has shape {applied_gains.shape}\")\n",
    "print()\n",
    "print(f\"The mat with gains applied looks like:\\n\\n{applied_gains}\")"
   ]
  },
  {
   "cell_type": "markdown",
   "metadata": {},
   "source": [
    "#### Random Debugging tests"
   ]
  },
  {
   "cell_type": "code",
   "execution_count": null,
   "metadata": {},
   "outputs": [],
   "source": [
    "m = np.random.rand(2, 5, 3)\n",
    "g = np.random.rand(10)\n",
    "\n",
    "gs = g[:, None] * g[:, None]\n",
    "gs = gs.reshape(m.shape[0], m.shape[1], 1)\n",
    "\n",
    "print(gs.shape)\n",
    "print(m.shape)\n",
    "print(g.shape)\n",
    "print(m)\n",
    "print(m[:, ::2])\n",
    "out = gs[:, ::2] * m[:, ::2]"
   ]
  },
  {
   "cell_type": "code",
   "execution_count": null,
   "metadata": {},
   "outputs": [],
   "source": [
    "a = np.arange(5)\n",
    "b = np.arange(5,10)\n",
    "c = np.random.rand((a.shape[0] + b.shape[0]))\n",
    "print(c)\n",
    "d = c[a]\n",
    "e = c[b]\n",
    "\n",
    "print(d)\n",
    "print()\n",
    "print(e)\n",
    "print()\n",
    "print(np.concatenate((d, e)))\n",
    "print()\n",
    "aa = np.concatenate((d, e))\n",
    "\n",
    "print(aa[:int(len(aa)/2)])\n",
    "\n",
    "print(aa[int(len(aa)/2):])"
   ]
  }
 ],
 "metadata": {
  "kernelspec": {
   "display_name": "Python 3",
   "language": "python",
   "name": "python3"
  },
  "language_info": {
   "codemirror_mode": {
    "name": "ipython",
    "version": 3
   },
   "file_extension": ".py",
   "mimetype": "text/x-python",
   "name": "python",
   "nbconvert_exporter": "python",
   "pygments_lexer": "ipython3",
   "version": "3.10.12"
  }
 },
 "nbformat": 4,
 "nbformat_minor": 2
}
