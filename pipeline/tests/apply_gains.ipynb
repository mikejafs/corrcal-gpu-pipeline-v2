{
 "cells": [
  {
   "cell_type": "markdown",
   "metadata": {},
   "source": [
    "### Tests for Applying Gains Matrix"
   ]
  },
  {
   "cell_type": "code",
   "execution_count": 1,
   "metadata": {},
   "outputs": [
    {
     "name": "stdout",
     "output_type": "stream",
     "text": [
      "hera_cal is not installed. Some gridding features unavailable.\n",
      "pyfof is not installed. Some gridding features unavailable.\n"
     ]
    }
   ],
   "source": [
    "import cupy as cp\n",
    "import numpy as np\n",
    "from utils import *\n",
    "from zp_puregpu_funcs_py import *\n",
    "from invcov import *"
   ]
  },
  {
   "cell_type": "code",
   "execution_count": 3,
   "metadata": {},
   "outputs": [
    {
     "name": "stdout",
     "output_type": "stream",
     "text": [
      "\u001b[0;31mSignature:\u001b[0m\n",
      "\u001b[0mapply_gains_to_mat\u001b[0m\u001b[0;34m(\u001b[0m\u001b[0;34m\u001b[0m\n",
      "\u001b[0;34m\u001b[0m    \u001b[0mgains\u001b[0m\u001b[0;34m:\u001b[0m \u001b[0mcupy\u001b[0m\u001b[0;34m.\u001b[0m\u001b[0mndarray\u001b[0m\u001b[0;34m,\u001b[0m\u001b[0;34m\u001b[0m\n",
      "\u001b[0;34m\u001b[0m    \u001b[0mmat\u001b[0m\u001b[0;34m,\u001b[0m\u001b[0;34m\u001b[0m\n",
      "\u001b[0;34m\u001b[0m    \u001b[0medges\u001b[0m\u001b[0;34m,\u001b[0m\u001b[0;34m\u001b[0m\n",
      "\u001b[0;34m\u001b[0m    \u001b[0mant_1_array\u001b[0m\u001b[0;34m,\u001b[0m\u001b[0;34m\u001b[0m\n",
      "\u001b[0;34m\u001b[0m    \u001b[0mant_2_array\u001b[0m\u001b[0;34m,\u001b[0m\u001b[0;34m\u001b[0m\n",
      "\u001b[0;34m\u001b[0m    \u001b[0mxp\u001b[0m\u001b[0;34m,\u001b[0m\u001b[0;34m\u001b[0m\n",
      "\u001b[0;34m\u001b[0m    \u001b[0mis_zeropadded\u001b[0m\u001b[0;34m=\u001b[0m\u001b[0;32mTrue\u001b[0m\u001b[0;34m,\u001b[0m\u001b[0;34m\u001b[0m\n",
      "\u001b[0;34m\u001b[0m\u001b[0;34m)\u001b[0m\u001b[0;34m\u001b[0m\u001b[0;34m\u001b[0m\u001b[0m\n",
      "\u001b[0;31mDocstring:\u001b[0m\n",
      "Apply a pair of complex gains to a matrix. Utilizes the Re/Im split.\n",
      "Only accounts for \"one half\" of the gain application, meaning the \n",
      "function is really performing (g_1g_2*\\Delta_{1,2}), where it is \n",
      "understood that antenna's 1 and 2 below to the baseline sitting at\n",
      "the same row as that baseline row in the \\Delta matrix. Note that although\n",
      "the matrix provided may be zeropadded, the gain matrix is zeropadded here \n",
      "and as such, should always be provided in an un-zeropadded (original) format.\n",
      "\n",
      "NOTE: Could be smart in the future to wrap the zeropadding of the gain \n",
      "    matrix in a separate function.\n",
      "\n",
      "Params\n",
      "------\n",
      "gains\n",
      "    1D array of Re/Im alternating gains to be applied to the source or\n",
      "    diffuse matrices. Contains one set of Re/Im gains for all antennas \n",
      "    in the array. \n",
      "mat\n",
      "    Gains are applied to this. Can be 2d as in original C-corrcal.\n",
      "    If 3d, is_zeropadded must be set to True\n",
      "edges\n",
      "    Indices of edges of redundant blocks in the diffuse matrix.\n",
      "ant_1_array\n",
      "    Indices of the first antenna in each baseline\n",
      "ant_2_array\n",
      "    Indices of the second antenna in each baseline\n",
      "xp\n",
      "    np for cpu (Numpy), cp for gpu (CuPy)\n",
      "is_zeropadded\n",
      "    Boolean. Indicate whether the provided matrix has been zeropadded \n",
      "    previously\n",
      "\n",
      "Returns\n",
      "-------\n",
      "out: Matrix with applied gains (explain this a bit better)\n",
      "\u001b[0;31mFile:\u001b[0m      ~/corrcal_gpu_pipeline/pipeline/utils.py\n",
      "\u001b[0;31mType:\u001b[0m      function"
     ]
    }
   ],
   "source": [
    "apply_gains_to_mat?\n",
    "# undo_zeropad?"
   ]
  },
  {
   "cell_type": "code",
   "execution_count": 3,
   "metadata": {},
   "outputs": [
    {
     "name": "stdout",
     "output_type": "stream",
     "text": [
      "The edges of the redundant blocks have indices[ 0  2 14 26 30]\n"
     ]
    }
   ],
   "source": [
    "#simulation params relevant for testing application of gains to a matrix\n",
    "n_ant = 15\n",
    "n_bl = 2*n_ant\n",
    "n_gains = 4*n_ant\n",
    "n_eig = 3\n",
    "xp = cp  #run things on the gpu using cupy\n",
    "\n",
    "#this might be the easiest (and most general) way to devise an edges\n",
    "# array, though we hard code an ex. edges array to be sure it fits\n",
    "# the desired format of having no odd entries.\n",
    "edges = (xp.unique(xp.random.randint(1, n_bl/2-1, size = 3)*2))\n",
    "edges = xp.concatenate((xp.array([0]), edges, xp.array([n_bl])))\n",
    "print(f\"The edges of the redundant blocks have indices{edges}\")\n",
    "\n",
    "#some random noise, diffuse, and source covariance matrices\n",
    "xp = cp\n",
    "sim_diff_mat = xp.random.rand(n_bl, n_eig, dtype = 'float64')\n",
    "sim_gains = cp.random.rand(n_gains, dtype = 'float64') #Re/Im split + ant1 & ant 2 = 4*n_ant\n",
    "ant_1_array = cp.arange(n_ant)\n",
    "ant_2_array = cp.arange(n_ant, 2*n_ant)\n",
    "\n",
    "#zeropad the noise, diff, source mats\n",
    "zp_sim_diff_mat, largest_block, n_blocks = zeroPad(sim_diff_mat, edges, return_inv=False)\n",
    "\n",
    "#Need to reshape to give an extra dimension of n_blocks to be compatible with inv cov routine\n",
    "sim_diff_mat_3d = zp_sim_diff_mat.reshape(n_blocks, largest_block, n_eig)"
   ]
  },
  {
   "cell_type": "code",
   "execution_count": 4,
   "metadata": {},
   "outputs": [],
   "source": [
    "applied_gains = apply_gains_to_mat(sim_gains, sim_diff_mat_3d, edges, ant_1_array, ant_1_array, cp, True)"
   ]
  },
  {
   "cell_type": "code",
   "execution_count": 5,
   "metadata": {},
   "outputs": [
    {
     "name": "stdout",
     "output_type": "stream",
     "text": [
      "Input mat has shape (4, 12, 3)\n",
      "\n",
      "Gains applied mat has shape (4, 12, 3)\n",
      "\n",
      "The mat with gains applied looks like:\n",
      "\n",
      "[[[0.02423694 0.42415436 0.32459622]\n",
      "  [0.33545082 0.03678549 0.11291223]\n",
      "  [0.         0.         0.        ]\n",
      "  [0.         0.         0.        ]\n",
      "  [0.         0.         0.        ]\n",
      "  [0.         0.         0.        ]\n",
      "  [0.         0.         0.        ]\n",
      "  [0.         0.         0.        ]\n",
      "  [0.         0.         0.        ]\n",
      "  [0.         0.         0.        ]\n",
      "  [0.         0.         0.        ]\n",
      "  [0.         0.         0.        ]]\n",
      "\n",
      " [[0.04085917 0.15672052 0.15294488]\n",
      "  [0.06256685 0.16819805 0.10166261]\n",
      "  [0.25873256 0.01474001 0.19405144]\n",
      "  [0.33558665 0.51040841 0.09003162]\n",
      "  [0.06645621 0.07060109 0.13992122]\n",
      "  [0.04191534 0.26768344 0.13434448]\n",
      "  [1.01372305 0.01275595 0.1118732 ]\n",
      "  [0.35211718 0.88303851 0.58433114]\n",
      "  [0.16348054 0.19547368 0.0517718 ]\n",
      "  [0.15095884 0.12655385 0.07814263]\n",
      "  [0.16351007 0.12131949 0.08036767]\n",
      "  [0.36546468 0.40520275 0.04730554]]\n",
      "\n",
      " [[0.20601924 0.00206073 0.0116099 ]\n",
      "  [0.20402765 0.07392955 0.19133488]\n",
      "  [0.37523716 0.9279366  0.83321666]\n",
      "  [0.53227022 0.09145852 0.11406104]\n",
      "  [1.05931998 0.56397806 0.17449375]\n",
      "  [0.01977461 0.8763495  0.66219107]\n",
      "  [0.73314113 0.15044119 0.05982998]\n",
      "  [0.45411696 0.08318283 0.03020399]\n",
      "  [0.15022049 0.07214718 0.14186012]\n",
      "  [0.00444269 0.00593216 0.05625945]\n",
      "  [0.95322934 0.72208352 1.00375081]\n",
      "  [0.76216516 0.61938071 0.14976502]]\n",
      "\n",
      " [[0.19232566 0.03184843 0.1168446 ]\n",
      "  [0.18788355 0.32216307 0.3265441 ]\n",
      "  [0.14516742 0.46535472 0.24598219]\n",
      "  [0.25937789 0.50821235 0.08087518]\n",
      "  [0.         0.         0.        ]\n",
      "  [0.         0.         0.        ]\n",
      "  [0.         0.         0.        ]\n",
      "  [0.         0.         0.        ]\n",
      "  [0.         0.         0.        ]\n",
      "  [0.         0.         0.        ]\n",
      "  [0.         0.         0.        ]\n",
      "  [0.         0.         0.        ]]]\n"
     ]
    }
   ],
   "source": [
    "print(f\"Input mat has shape {sim_diff_mat_3d.shape}\")\n",
    "print()\n",
    "print(f\"Gains applied mat has shape {applied_gains.shape}\")\n",
    "print()\n",
    "print(f\"The mat with gains applied looks like:\\n\\n{applied_gains}\")"
   ]
  },
  {
   "cell_type": "markdown",
   "metadata": {},
   "source": [
    "#### Random Debugging tests"
   ]
  },
  {
   "cell_type": "code",
   "execution_count": 6,
   "metadata": {},
   "outputs": [
    {
     "name": "stdout",
     "output_type": "stream",
     "text": [
      "(2, 5, 1)\n",
      "(2, 5, 3)\n",
      "(10,)\n",
      "[[[0.61728211 0.976156   0.53499541]\n",
      "  [0.78061534 0.12156277 0.7960254 ]\n",
      "  [0.35342611 0.34604145 0.75539282]\n",
      "  [0.22075206 0.46568474 0.95242102]\n",
      "  [0.28729021 0.81178895 0.40647511]]\n",
      "\n",
      " [[0.16663594 0.2657454  0.89508378]\n",
      "  [0.44143151 0.09672926 0.22475365]\n",
      "  [0.17857041 0.33149725 0.51393874]\n",
      "  [0.90902841 0.91434832 0.36485327]\n",
      "  [0.40655417 0.11975906 0.87401215]]]\n",
      "[[[0.61728211 0.976156   0.53499541]\n",
      "  [0.35342611 0.34604145 0.75539282]\n",
      "  [0.28729021 0.81178895 0.40647511]]\n",
      "\n",
      " [[0.16663594 0.2657454  0.89508378]\n",
      "  [0.17857041 0.33149725 0.51393874]\n",
      "  [0.40655417 0.11975906 0.87401215]]]\n"
     ]
    }
   ],
   "source": [
    "m = np.random.rand(2, 5, 3)\n",
    "g = np.random.rand(10)\n",
    "\n",
    "gs = g[:, None] * g[:, None]\n",
    "gs = gs.reshape(m.shape[0], m.shape[1], 1)\n",
    "\n",
    "print(gs.shape)\n",
    "print(m.shape)\n",
    "print(g.shape)\n",
    "print(m)\n",
    "print(m[:, ::2])\n",
    "out = gs[:, ::2] * m[:, ::2]"
   ]
  },
  {
   "cell_type": "code",
   "execution_count": 7,
   "metadata": {},
   "outputs": [
    {
     "name": "stdout",
     "output_type": "stream",
     "text": [
      "[0.19007742 0.13692249 0.07096474 0.58888727 0.31496531 0.89477695\n",
      " 0.83697355 0.90792351 0.87578734 0.03793271]\n",
      "[0.19007742 0.13692249 0.07096474 0.58888727 0.31496531]\n",
      "\n",
      "[0.89477695 0.83697355 0.90792351 0.87578734 0.03793271]\n",
      "\n",
      "[0.19007742 0.13692249 0.07096474 0.58888727 0.31496531 0.89477695\n",
      " 0.83697355 0.90792351 0.87578734 0.03793271]\n",
      "\n",
      "[0.19007742 0.13692249 0.07096474 0.58888727 0.31496531]\n",
      "[0.89477695 0.83697355 0.90792351 0.87578734 0.03793271]\n"
     ]
    }
   ],
   "source": [
    "a = np.arange(5)\n",
    "b = np.arange(5,10)\n",
    "c = np.random.rand((a.shape[0] + b.shape[0]))\n",
    "print(c)\n",
    "d = c[a]\n",
    "e = c[b]\n",
    "\n",
    "print(d)\n",
    "print()\n",
    "print(e)\n",
    "print()\n",
    "print(np.concatenate((d, e)))\n",
    "print()\n",
    "aa = np.concatenate((d, e))\n",
    "\n",
    "print(aa[:int(len(aa)/2)])\n",
    "\n",
    "print(aa[int(len(aa)/2):])"
   ]
  },
  {
   "cell_type": "markdown",
   "metadata": {},
   "source": [
    "#### Check ZP computes the same thing as corrcal"
   ]
  },
  {
   "cell_type": "code",
   "execution_count": 8,
   "metadata": {},
   "outputs": [],
   "source": [
    "#Current corrcal gain application function\n",
    "def apply_gains_to_mat_corrcal(gains, mat, ant_1_array, ant_2_array):\n",
    "    \"\"\"Apply a gain-like matrix to a provided matrix.\"\"\"\n",
    "    complex_gains = gains[::2] + 1j*gains[1::2]\n",
    "    gain_mat = (\n",
    "        complex_gains[ant_1_array,None] * complex_gains[ant_2_array,None].conj()\n",
    "    )\n",
    "    out = np.zeros_like(mat)\n",
    "    out[::2] = gain_mat.real * mat[::2] - gain_mat.imag * mat[1::2]\n",
    "    out[1::2] = gain_mat.imag * mat[::2] + gain_mat.real * mat[1::2]\n",
    "    return out"
   ]
  },
  {
   "cell_type": "code",
   "execution_count": 9,
   "metadata": {},
   "outputs": [
    {
     "name": "stdout",
     "output_type": "stream",
     "text": [
      "The edges of the redundant blocks have indices[ 0  2 16 24 30]\n"
     ]
    }
   ],
   "source": [
    "#simulation params relevant for testing application of gains to a matrix\n",
    "n_ant = 15\n",
    "n_bl = 2*n_ant\n",
    "n_gains = 4*n_ant\n",
    "n_eig = 3\n",
    "xp = cp  #run things on the gpu using cupy\n",
    "\n",
    "#this might be the easiest (and most general) way to devise an edges\n",
    "# array, though we hard code an ex. edges array to be sure it fits\n",
    "# the desired format of having no odd entries.\n",
    "edges = (xp.unique(xp.random.randint(1, n_bl/2-1, size = 3)*2))\n",
    "edges = xp.concatenate((xp.array([0]), edges, xp.array([n_bl])))\n",
    "print(f\"The edges of the redundant blocks have indices{edges}\")\n",
    "\n",
    "#some random noise, diffuse, and source covariance matrices\n",
    "xp = cp\n",
    "sim_diff_mat = xp.random.rand(n_bl, n_eig, dtype = 'float64')\n",
    "sim_gains = cp.random.rand(n_gains, dtype = 'float64') #Re/Im split + ant1 & ant 2 = 4*n_ant\n",
    "ant_1_array = cp.arange(n_ant)\n",
    "ant_2_array = cp.arange(n_ant, 2*n_ant)\n",
    "\n",
    "#zeropad the noise, diff, source mats\n",
    "zp_sim_diff_mat, largest_block, n_blocks = zeroPad(sim_diff_mat, edges, return_inv=False)\n",
    "\n",
    "#Need to reshape to give an extra dimension of n_blocks to be compatible with inv cov routine\n",
    "sim_diff_mat_3d = zp_sim_diff_mat.reshape(n_blocks, largest_block, n_eig)\n"
   ]
  },
  {
   "cell_type": "code",
   "execution_count": 13,
   "metadata": {},
   "outputs": [],
   "source": [
    "# out_corrcal = apply_gains_to_mat_corrcal(sim_gains, sim_diff_mat, ant_1_array, ant_2_array)\n",
    "out_gpu = apply_gains_to_mat(sim_gains, sim_diff_mat_3d, edges, ant_1_array, ant_2_array, cp)\n",
    "out_gpu_corrcal = apply_gains_to_mat(sim_gains, sim_diff_mat, edges, ant_1_array, ant_2_array, cp, False)\n",
    "out_gpu_resh = undo_zeropad(out_gpu, edges, cp)"
   ]
  },
  {
   "cell_type": "code",
   "execution_count": 14,
   "metadata": {},
   "outputs": [
    {
     "name": "stdout",
     "output_type": "stream",
     "text": [
      "True\n"
     ]
    }
   ],
   "source": [
    "#should return True if my routine computes the same thing as the current corrcal routine\n",
    "print(cp.allclose(out_gpu_resh, out_gpu_corrcal))"
   ]
  }
 ],
 "metadata": {
  "kernelspec": {
   "display_name": "Python 3",
   "language": "python",
   "name": "python3"
  },
  "language_info": {
   "codemirror_mode": {
    "name": "ipython",
    "version": 3
   },
   "file_extension": ".py",
   "mimetype": "text/x-python",
   "name": "python",
   "nbconvert_exporter": "python",
   "pygments_lexer": "ipython3",
   "version": "3.10.12"
  }
 },
 "nbformat": 4,
 "nbformat_minor": 2
}
