{
 "cells": [
  {
   "cell_type": "markdown",
   "metadata": {},
   "source": [
    "### Tests for Applying Gains Matrix"
   ]
  },
  {
   "cell_type": "code",
   "metadata": {
    "ExecuteTime": {
     "end_time": "2024-12-28T04:02:07.262431Z",
     "start_time": "2024-12-28T04:02:04.039499Z"
    }
   },
   "source": [
    "import cupy as cp\n",
    "import numpy as np\n",
    "from utils import *\n",
    "from zp_puregpu_funcs_py import *\n",
    "from invcov import *"
   ],
   "outputs": [
    {
     "name": "stdout",
     "output_type": "stream",
     "text": [
      "hera_cal is not installed. Some gridding features unavailable.\n",
      "pyfof is not installed. Some gridding features unavailable.\n"
     ]
    }
   ],
   "execution_count": 1
  },
  {
   "cell_type": "code",
   "metadata": {
    "ExecuteTime": {
     "end_time": "2024-12-28T04:03:33.048544Z",
     "start_time": "2024-12-28T04:03:33.040934Z"
    }
   },
   "source": [
    "apply_gains_to_mat?\n",
    "# undo_zeropad?"
   ],
   "outputs": [],
   "execution_count": 16
  },
  {
   "cell_type": "code",
   "metadata": {
    "ExecuteTime": {
     "end_time": "2024-12-28T04:02:07.857299Z",
     "start_time": "2024-12-28T04:02:07.850100Z"
    }
   },
   "source": "summarize_benchmark_results?",
   "outputs": [],
   "execution_count": 3
  },
  {
   "cell_type": "code",
   "metadata": {
    "ExecuteTime": {
     "end_time": "2024-12-28T04:02:09.328606Z",
     "start_time": "2024-12-28T04:02:07.934426Z"
    }
   },
   "source": [
    "#simulation params relevant for testing application of gains to a matrix\n",
    "n_ant = 4\n",
    "n_bl = 30\n",
    "n_gains = 2*n_bl\n",
    "n_eig = 3\n",
    "xp = cp  #run things on the gpu using cupy\n",
    "\n",
    "#this might be the easiest (and most general) way to devise an edges\n",
    "# array, though we hard code an ex. edges array to be sure it fits\n",
    "# the desired format of having no odd entries.\n",
    "edges = (xp.unique(xp.random.randint(1, n_bl/2-1, size = n_ant)*2))\n",
    "edges = xp.concatenate((xp.array([0]), edges, xp.array([n_bl])))\n",
    "print(f\"The edges of the redundant blocks have indices{edges}\")\n",
    "\n",
    "#some random noise, diffuse, and source covariance matrices\n",
    "xp = cp\n",
    "sim_diff_mat = xp.random.rand(n_bl, n_eig, dtype = 'float64')\n",
    "sim_gains = cp.random.rand(n_gains, dtype = 'float64') #Re/Im split + ant1 & ant 2 = 4*n_ant\n",
    "ant_1_array = cp.arange(n_bl//2)\n",
    "ant_2_array = cp.arange(n_bl//2)\n",
    "\n",
    "#zeropad the noise, diff, source mats\n",
    "zp_sim_diff_mat, largest_block, n_blocks = zeroPad(sim_diff_mat, edges, return_inv=False)\n",
    "\n",
    "#Need to reshape to give an extra dimension of n_blocks to be compatible with inv cov routine\n",
    "sim_diff_mat_3d = zp_sim_diff_mat.reshape(n_blocks, largest_block, n_eig)"
   ],
   "outputs": [
    {
     "name": "stdout",
     "output_type": "stream",
     "text": [
      "The edges of the redundant blocks have indices[ 0  2  4 12 14 30]\n"
     ]
    }
   ],
   "execution_count": 4
  },
  {
   "cell_type": "code",
   "metadata": {
    "ExecuteTime": {
     "end_time": "2024-12-28T04:02:09.383099Z",
     "start_time": "2024-12-28T04:02:09.356092Z"
    }
   },
   "source": [
    "applied_gains = apply_gains_to_mat(sim_gains, sim_diff_mat_3d, edges, ant_1_array, ant_1_array, cp, True)"
   ],
   "outputs": [],
   "execution_count": 5
  },
  {
   "cell_type": "code",
   "metadata": {
    "ExecuteTime": {
     "end_time": "2024-12-28T04:02:09.415681Z",
     "start_time": "2024-12-28T04:02:09.408031Z"
    }
   },
   "source": [
    "print(f\"Input mat has shape {sim_diff_mat_3d.shape}\")\n",
    "print()\n",
    "print(f\"Gains applied mat has shape {applied_gains.shape}\")\n",
    "print()\n",
    "print(f\"The mat with gains applied looks like:\\n\\n{applied_gains}\")"
   ],
   "outputs": [
    {
     "name": "stdout",
     "output_type": "stream",
     "text": [
      "Input mat has shape (5, 16, 3)\n",
      "\n",
      "Gains applied mat has shape (5, 16, 3)\n",
      "\n",
      "The mat with gains applied looks like:\n",
      "\n",
      "[[[6.14775437e-01 6.04644313e-01 1.01457219e+00]\n",
      "  [8.77434152e-01 4.37661657e-01 1.46935036e-01]\n",
      "  [0.00000000e+00 0.00000000e+00 0.00000000e+00]\n",
      "  [0.00000000e+00 0.00000000e+00 0.00000000e+00]\n",
      "  [0.00000000e+00 0.00000000e+00 0.00000000e+00]\n",
      "  [0.00000000e+00 0.00000000e+00 0.00000000e+00]\n",
      "  [0.00000000e+00 0.00000000e+00 0.00000000e+00]\n",
      "  [0.00000000e+00 0.00000000e+00 0.00000000e+00]\n",
      "  [0.00000000e+00 0.00000000e+00 0.00000000e+00]\n",
      "  [0.00000000e+00 0.00000000e+00 0.00000000e+00]\n",
      "  [0.00000000e+00 0.00000000e+00 0.00000000e+00]\n",
      "  [0.00000000e+00 0.00000000e+00 0.00000000e+00]\n",
      "  [0.00000000e+00 0.00000000e+00 0.00000000e+00]\n",
      "  [0.00000000e+00 0.00000000e+00 0.00000000e+00]\n",
      "  [0.00000000e+00 0.00000000e+00 0.00000000e+00]\n",
      "  [0.00000000e+00 0.00000000e+00 0.00000000e+00]]\n",
      "\n",
      " [[6.57629330e-02 3.83288803e-03 2.31902753e-02]\n",
      "  [5.26389294e-02 3.88585817e-02 5.23537072e-02]\n",
      "  [0.00000000e+00 0.00000000e+00 0.00000000e+00]\n",
      "  [0.00000000e+00 0.00000000e+00 0.00000000e+00]\n",
      "  [0.00000000e+00 0.00000000e+00 0.00000000e+00]\n",
      "  [0.00000000e+00 0.00000000e+00 0.00000000e+00]\n",
      "  [0.00000000e+00 0.00000000e+00 0.00000000e+00]\n",
      "  [0.00000000e+00 0.00000000e+00 0.00000000e+00]\n",
      "  [0.00000000e+00 0.00000000e+00 0.00000000e+00]\n",
      "  [0.00000000e+00 0.00000000e+00 0.00000000e+00]\n",
      "  [0.00000000e+00 0.00000000e+00 0.00000000e+00]\n",
      "  [0.00000000e+00 0.00000000e+00 0.00000000e+00]\n",
      "  [0.00000000e+00 0.00000000e+00 0.00000000e+00]\n",
      "  [0.00000000e+00 0.00000000e+00 0.00000000e+00]\n",
      "  [0.00000000e+00 0.00000000e+00 0.00000000e+00]\n",
      "  [0.00000000e+00 0.00000000e+00 0.00000000e+00]]\n",
      "\n",
      " [[4.69134341e-01 1.01532504e+00 3.40125112e-01]\n",
      "  [4.02145638e-02 9.47580694e-02 6.61359626e-01]\n",
      "  [5.61062595e-01 4.93827119e-01 3.26704147e-01]\n",
      "  [4.42573524e-01 5.11096302e-01 9.29955363e-03]\n",
      "  [1.03117414e+00 1.00125995e+00 9.31870104e-01]\n",
      "  [3.38550863e-01 8.58110919e-01 1.00989810e+00]\n",
      "  [1.07743179e+00 1.14919814e+00 8.40738502e-01]\n",
      "  [3.61064710e-01 2.86925069e-01 1.05739125e+00]\n",
      "  [0.00000000e+00 0.00000000e+00 0.00000000e+00]\n",
      "  [0.00000000e+00 0.00000000e+00 0.00000000e+00]\n",
      "  [0.00000000e+00 0.00000000e+00 0.00000000e+00]\n",
      "  [0.00000000e+00 0.00000000e+00 0.00000000e+00]\n",
      "  [0.00000000e+00 0.00000000e+00 0.00000000e+00]\n",
      "  [0.00000000e+00 0.00000000e+00 0.00000000e+00]\n",
      "  [0.00000000e+00 0.00000000e+00 0.00000000e+00]\n",
      "  [0.00000000e+00 0.00000000e+00 0.00000000e+00]]\n",
      "\n",
      " [[3.64911303e-01 3.38507033e-01 4.41098994e-02]\n",
      "  [5.14112037e-01 2.65074292e-01 5.26160065e-01]\n",
      "  [0.00000000e+00 0.00000000e+00 0.00000000e+00]\n",
      "  [0.00000000e+00 0.00000000e+00 0.00000000e+00]\n",
      "  [0.00000000e+00 0.00000000e+00 0.00000000e+00]\n",
      "  [0.00000000e+00 0.00000000e+00 0.00000000e+00]\n",
      "  [0.00000000e+00 0.00000000e+00 0.00000000e+00]\n",
      "  [0.00000000e+00 0.00000000e+00 0.00000000e+00]\n",
      "  [0.00000000e+00 0.00000000e+00 0.00000000e+00]\n",
      "  [0.00000000e+00 0.00000000e+00 0.00000000e+00]\n",
      "  [0.00000000e+00 0.00000000e+00 0.00000000e+00]\n",
      "  [0.00000000e+00 0.00000000e+00 0.00000000e+00]\n",
      "  [0.00000000e+00 0.00000000e+00 0.00000000e+00]\n",
      "  [0.00000000e+00 0.00000000e+00 0.00000000e+00]\n",
      "  [0.00000000e+00 0.00000000e+00 0.00000000e+00]\n",
      "  [0.00000000e+00 0.00000000e+00 0.00000000e+00]]\n",
      "\n",
      " [[1.88035136e-04 9.24496652e-04 4.74317738e-04]\n",
      "  [3.64247846e-03 1.74942602e-03 5.79511389e-03]\n",
      "  [1.16310251e-01 5.95508202e-01 3.29403198e-01]\n",
      "  [5.70333467e-01 3.02684836e-01 2.16061630e-01]\n",
      "  [1.45389288e-01 5.95446984e-02 1.39123767e-01]\n",
      "  [2.38150115e-02 1.61019707e-01 5.73083745e-02]\n",
      "  [8.92005451e-01 9.60924491e-01 1.01510687e+00]\n",
      "  [8.59937673e-01 6.00467982e-01 6.93920070e-01]\n",
      "  [3.86294340e-02 9.42939574e-03 2.79176417e-02]\n",
      "  [7.45723481e-03 1.03509807e-01 1.16249589e-01]\n",
      "  [1.07343962e-02 8.29606555e-03 1.25279274e-02]\n",
      "  [7.65619749e-03 4.84312491e-03 9.09510464e-03]\n",
      "  [9.66789696e-01 2.14837210e-01 8.71953454e-01]\n",
      "  [1.36381621e+00 5.86982376e-02 3.99975653e-01]\n",
      "  [2.39717986e-02 3.43020308e-01 6.61429784e-01]\n",
      "  [8.76025087e-01 6.03846909e-02 6.76897536e-02]]]\n"
     ]
    }
   ],
   "execution_count": 6
  },
  {
   "cell_type": "markdown",
   "metadata": {},
   "source": [
    "#### Random Debugging tests"
   ]
  },
  {
   "cell_type": "code",
   "metadata": {
    "ExecuteTime": {
     "end_time": "2024-12-28T04:02:09.479132Z",
     "start_time": "2024-12-28T04:02:09.471385Z"
    }
   },
   "source": [
    "m = np.random.rand(2, 5, 3)\n",
    "g = np.random.rand(10)\n",
    "\n",
    "gs = g[:, None] * g[:, None]\n",
    "gs = gs.reshape(m.shape[0], m.shape[1], 1)\n",
    "\n",
    "print(gs.shape)\n",
    "print(m.shape)\n",
    "print(g.shape)\n",
    "print(m)\n",
    "print(m[:, ::2])\n",
    "out = gs[:, ::2] * m[:, ::2]"
   ],
   "outputs": [
    {
     "name": "stdout",
     "output_type": "stream",
     "text": [
      "(2, 5, 1)\n",
      "(2, 5, 3)\n",
      "(10,)\n",
      "[[[0.53068928 0.99600573 0.08743734]\n",
      "  [0.65132888 0.94854942 0.2491223 ]\n",
      "  [0.35891228 0.26268738 0.88193327]\n",
      "  [0.76316287 0.15499556 0.10642114]\n",
      "  [0.75839618 0.01682198 0.78419829]]\n",
      "\n",
      " [[0.34649647 0.48638336 0.44356207]\n",
      "  [0.44438274 0.41192295 0.68454618]\n",
      "  [0.93237129 0.60344295 0.25770383]\n",
      "  [0.38509288 0.80383794 0.19093417]\n",
      "  [0.5434582  0.27532584 0.78401389]]]\n",
      "[[[0.53068928 0.99600573 0.08743734]\n",
      "  [0.35891228 0.26268738 0.88193327]\n",
      "  [0.75839618 0.01682198 0.78419829]]\n",
      "\n",
      " [[0.34649647 0.48638336 0.44356207]\n",
      "  [0.93237129 0.60344295 0.25770383]\n",
      "  [0.5434582  0.27532584 0.78401389]]]\n"
     ]
    }
   ],
   "execution_count": 7
  },
  {
   "cell_type": "code",
   "metadata": {
    "ExecuteTime": {
     "end_time": "2024-12-28T04:02:09.538206Z",
     "start_time": "2024-12-28T04:02:09.529560Z"
    }
   },
   "source": [
    "a = np.arange(5)\n",
    "b = np.arange(5,10)\n",
    "c = np.random.rand((a.shape[0] + b.shape[0]))\n",
    "print(c)\n",
    "d = c[a]\n",
    "e = c[b]\n",
    "\n",
    "print(d)\n",
    "print()\n",
    "print(e)\n",
    "print()\n",
    "print(np.concatenate((d, e)))\n",
    "print()\n",
    "aa = np.concatenate((d, e))\n",
    "\n",
    "print(aa[:int(len(aa)/2)])\n",
    "\n",
    "print(aa[int(len(aa)/2):])"
   ],
   "outputs": [
    {
     "name": "stdout",
     "output_type": "stream",
     "text": [
      "[0.52142401 0.51809513 0.28015706 0.97188828 0.07147487 0.06944068\n",
      " 0.98387057 0.52674566 0.2883073  0.18897522]\n",
      "[0.52142401 0.51809513 0.28015706 0.97188828 0.07147487]\n",
      "\n",
      "[0.06944068 0.98387057 0.52674566 0.2883073  0.18897522]\n",
      "\n",
      "[0.52142401 0.51809513 0.28015706 0.97188828 0.07147487 0.06944068\n",
      " 0.98387057 0.52674566 0.2883073  0.18897522]\n",
      "\n",
      "[0.52142401 0.51809513 0.28015706 0.97188828 0.07147487]\n",
      "[0.06944068 0.98387057 0.52674566 0.2883073  0.18897522]\n"
     ]
    }
   ],
   "execution_count": 8
  },
  {
   "cell_type": "markdown",
   "metadata": {},
   "source": [
    "#### Check ZP computes the same thing as corrcal"
   ]
  },
  {
   "cell_type": "code",
   "metadata": {
    "ExecuteTime": {
     "end_time": "2024-12-28T04:02:09.602983Z",
     "start_time": "2024-12-28T04:02:09.595213Z"
    }
   },
   "source": [
    "#Current corrcal gain application function\n",
    "def apply_gains_to_mat_corrcal(gains, mat, ant_1_array, ant_2_array):\n",
    "    \"\"\"Apply a gain-like matrix to a provided matrix.\"\"\"\n",
    "    complex_gains = gains[::2] + 1j*gains[1::2]\n",
    "    gain_mat = (\n",
    "        complex_gains[ant_1_array,None] * complex_gains[ant_2_array,None].conj()\n",
    "    )\n",
    "    out = np.zeros_like(mat)\n",
    "    out[::2] = gain_mat.real * mat[::2] - gain_mat.imag * mat[1::2]\n",
    "    out[1::2] = gain_mat.imag * mat[::2] + gain_mat.real * mat[1::2]\n",
    "    return out"
   ],
   "outputs": [],
   "execution_count": 9
  },
  {
   "cell_type": "code",
   "metadata": {
    "ExecuteTime": {
     "end_time": "2024-12-28T04:02:09.673836Z",
     "start_time": "2024-12-28T04:02:09.658076Z"
    }
   },
   "source": [
    "#simulation params relevant for testing application of gains to a matrix\n",
    "n_ant = 15\n",
    "n_bl = 2*n_ant\n",
    "n_gains = 4*n_ant\n",
    "n_eig = 3\n",
    "xp = cp  #run things on the gpu using cupy\n",
    "\n",
    "#this might be the easiest (and most general) way to devise an edges\n",
    "# array, though we hard code an ex. edges array to be sure it fits\n",
    "# the desired format of having no odd entries.\n",
    "edges = (xp.unique(xp.random.randint(1, n_bl/2-1, size = 3)*2))\n",
    "edges = xp.concatenate((xp.array([0]), edges, xp.array([n_bl])))\n",
    "print(f\"The edges of the redundant blocks have indices{edges}\")\n",
    "\n",
    "#some random noise, diffuse, and source covariance matrices\n",
    "xp = cp\n",
    "sim_diff_mat = xp.random.rand(n_bl, n_eig, dtype = 'float64')\n",
    "sim_gains = cp.random.rand(n_gains, dtype = 'float64') #Re/Im split + ant1 & ant 2 = 4*n_ant\n",
    "ant_1_array = cp.arange(n_ant)\n",
    "ant_2_array = cp.arange(n_ant, 2*n_ant)\n",
    "\n",
    "#zeropad the noise, diff, source mats\n",
    "zp_sim_diff_mat, largest_block, n_blocks = zeroPad(sim_diff_mat, edges, return_inv=False)\n",
    "\n",
    "#Need to reshape to give an extra dimension of n_blocks to be compatible with inv cov routine\n",
    "sim_diff_mat_3d = zp_sim_diff_mat.reshape(n_blocks, largest_block, n_eig)\n"
   ],
   "outputs": [
    {
     "name": "stdout",
     "output_type": "stream",
     "text": [
      "The edges of the redundant blocks have indices[ 0  4 12 16 30]\n"
     ]
    }
   ],
   "execution_count": 10
  },
  {
   "cell_type": "code",
   "metadata": {
    "ExecuteTime": {
     "end_time": "2024-12-28T04:02:09.732086Z",
     "start_time": "2024-12-28T04:02:09.719819Z"
    }
   },
   "source": [
    "# out_corrcal = apply_gains_to_mat_corrcal(sim_gains, sim_diff_mat, ant_1_array, ant_2_array)\n",
    "out_gpu = apply_gains_to_mat(sim_gains, sim_diff_mat_3d, edges, ant_1_array, ant_2_array, cp)\n",
    "out_gpu_corrcal = apply_gains_to_mat(sim_gains, sim_diff_mat, edges, ant_1_array, ant_2_array, cp, False)\n",
    "out_gpu_resh = undo_zeropad(out_gpu, edges, cp)"
   ],
   "outputs": [],
   "execution_count": 11
  },
  {
   "cell_type": "code",
   "metadata": {
    "ExecuteTime": {
     "end_time": "2024-12-28T04:02:09.868106Z",
     "start_time": "2024-12-28T04:02:09.779868Z"
    }
   },
   "source": [
    "#should return True if my routine computes the same thing as the current corrcal routine\n",
    "print(cp.allclose(out_gpu_resh, out_gpu_corrcal))"
   ],
   "outputs": [
    {
     "name": "stdout",
     "output_type": "stream",
     "text": [
      "True\n"
     ]
    }
   ],
   "execution_count": 12
  },
  {
   "cell_type": "markdown",
   "metadata": {},
   "source": [
    "#### Timing test for np vs cp versions"
   ]
  },
  {
   "cell_type": "code",
   "metadata": {
    "ExecuteTime": {
     "end_time": "2024-12-28T04:02:09.945328Z",
     "start_time": "2024-12-28T04:02:09.921619Z"
    }
   },
   "source": [
    "#simulation params relevant for testing application of gains to a matrix\n",
    "n_bl = 240000  # something like 2*N_ant^2 for Re/Im split\n",
    "n_ant = 512\n",
    "n_gains = 2*n_bl  #one for each antenna and one for each Re and Im part\n",
    "n_eig = 3\n",
    "xp = cp  #run things on the gpu using cupy\n",
    "\n",
    "#this might be the easiest (and most general) way to devise an edges\n",
    "# array, though we hard code an ex. edges array to be sure it fits\n",
    "# the desired format of having no odd entries.\n",
    "if xp == cp:\n",
    "\n",
    "    edges = (xp.unique(xp.random.randint(1, n_bl/2-1, size = n_ant)*2))\n",
    "    edges = xp.concatenate((xp.array([0]), edges, xp.array([n_bl])))\n",
    "    print(f\"The edges of the redundant blocks have indices{edges}\")\n",
    "\n",
    "    #some random noise, diffuse, and source covariance matrices\n",
    "    sim_diff_mat = xp.random.rand(n_bl, n_eig, dtype = 'float64')\n",
    "    sim_gains = cp.random.rand(n_gains, dtype = 'float64') #Re/Im split + ant1 & ant 2 = 4*n_ant\n",
    "    \n",
    "    #leave as n_bl/2 since indexex into cplex gains which are not Re/Im split\n",
    "    ant_1_array = cp.arange(n_bl//2) \n",
    "    ant_2_array = cp.arange(n_bl//2)\n",
    "\n",
    "    #zeropad the noise, diff, source mats\n",
    "    zp_sim_diff_mat, largest_block, n_blocks = zeroPad(sim_diff_mat, edges, return_inv=False)\n",
    "\n",
    "    #Need to reshape to give an extra dimension of n_blocks to be compatible with inv cov routine\n",
    "    sim_diff_mat_3d = zp_sim_diff_mat.reshape(n_blocks, largest_block, n_eig)\n",
    "\n",
    "elif xp == np:\n",
    "    edges = (xp.unique(xp.random.randint(1, n_bl/2-1, size = n_ant)*2))\n",
    "    edges = xp.concatenate((xp.array([0]), edges, xp.array([n_bl])))\n",
    "    print(f\"The edges of the redundant blocks have indices{edges}\")\n",
    "\n",
    "    #some random noise, diffuse, and source covariance matrices\n",
    "    sim_diff_mat = xp.random.rand(n_bl, n_eig).astype('float64')\n",
    "    sim_gains = xp.random.rand(n_gains).astype('float64') #Re/Im split + ant1 & ant 2 = 4*n_ant\n",
    "    ant_1_array = xp.arange(n_bl//2)\n",
    "    ant_2_array = xp.arange(n_bl//2)\n",
    "\n",
    "    #zeropad the noise, diff, source mats\n",
    "    # zp_sim_diff_mat, largest_block, n_blocks = zeroPad(sim_diff_mat, edges, return_inv=False)\n",
    "\n",
    "    #Need to reshape to give an extra dimension of n_blocks to be compatible with inv cov routine\n",
    "    # sim_diff_mat_3d = zp_sim_diff_mat.reshape(n_blocks, largest_block, n_eig)\n",
    "\n",
    "print(len(edges))"
   ],
   "outputs": [
    {
     "name": "stdout",
     "output_type": "stream",
     "text": [
      "The edges of the redundant blocks have indices[     0   1322   1580   2908   3142   3770   4134   4884   5172   5322\n",
      "   6326   6746   7422   7426   8096   8104   9260   9364   9618   9950\n",
      "  10416  10778  10842  10962  11308  12200  12508  12586  12912  12956\n",
      "  13950  14254  15490  17514  18108  18252  18950  18974  19248  19948\n",
      "  20028  20124  20410  21932  22400  22864  23022  23228  23410  23644\n",
      "  23668  23922  24764  24832  25564  26090  26152  26600  26908  27416\n",
      "  27898  28360  28846  29246  30094  30726  31040  31340  31352  31566\n",
      "  31660  32228  32248  32788  33078  33198  33976  34062  34192  34606\n",
      "  34870  35004  36172  36296  36580  37108  38032  38136  38278  38592\n",
      "  38688  38822  39402  40512  40954  42016  42472  42898  43398  43866\n",
      "  44188  44202  44678  44696  44778  45938  46200  46332  46910  47048\n",
      "  47814  48220  48724  49350  49756  50412  50444  50540  50724  51698\n",
      "  51918  52426  54340  55424  55452  57526  57674  58546  58708  58842\n",
      "  59164  59370  60596  60726  60888  61764  61802  63310  63838  63978\n",
      "  64662  65468  65556  66454  67094  67382  68428  68500  68712  68726\n",
      "  69162  69386  70604  70692  71652  72000  72166  72350  73986  74144\n",
      "  75790  76328  76588  77428  78374  78748  79004  79814  79916  80312\n",
      "  81406  82790  82880  82952  83834  83910  84682  85094  86448  86752\n",
      "  87168  87424  87554  88042  88218  88228  88424  88634  89060  89132\n",
      "  89718  89952  90104  91100  92084  92864  93214  94252  95340  95620\n",
      "  95736  96750  97014  97208  97358  97876  98052  98072  98362  98562\n",
      " 100202 100946 101106 101678 102294 102364 103084 104216 104240 104518\n",
      " 107288 107348 107936 108240 108708 108966 109326 110980 111254 111408\n",
      " 112206 112414 112416 113368 113482 114508 115050 115504 116192 116800\n",
      " 116954 117782 118040 118584 118796 121530 122154 122288 122450 122646\n",
      " 123710 123712 124150 124424 124458 124484 124918 125750 126244 126428\n",
      " 126700 126796 126962 127304 129084 129648 129818 130094 130492 130576\n",
      " 130842 131206 131232 131260 131352 131444 131768 133018 133368 134818\n",
      " 135016 136548 136730 137408 137512 137854 138120 138746 138772 139572\n",
      " 139646 141210 141348 141388 141500 141754 142154 142342 143896 144710\n",
      " 144804 144958 145090 145624 145922 146084 146528 146994 147128 147638\n",
      " 147952 148864 148974 148996 149706 150958 151674 152574 153174 153410\n",
      " 153428 154312 154724 154892 155070 155380 155418 155750 155936 158144\n",
      " 158396 158412 158862 159246 159520 159578 159878 159900 160910 161354\n",
      " 161690 162102 163174 163708 164616 164874 164966 165048 165092 167440\n",
      " 168856 168986 169048 171074 173512 173858 174122 174414 174476 174548\n",
      " 176662 176842 177886 178500 178678 180820 181036 181268 182072 182444\n",
      " 182844 183268 184142 185274 185852 186006 186142 186194 186248 186654\n",
      " 186888 187144 187916 188030 188724 188802 188938 189488 190182 190276\n",
      " 190602 191124 192314 193220 193950 194112 194488 194502 195698 196420\n",
      " 196980 196984 197098 198428 198652 199228 199680 199710 199816 199992\n",
      " 200088 200208 200294 200318 200778 200918 201120 201276 202574 202718\n",
      " 203524 204556 204686 204802 204828 205376 205482 206374 206634 206754\n",
      " 207268 207502 207578 208150 208186 208604 209118 209228 209774 210418\n",
      " 210990 211438 211564 211644 212138 212318 212778 213108 213142 213180\n",
      " 213808 214626 215120 215286 215612 215820 216220 216506 217088 217138\n",
      " 217406 218096 219900 219982 220562 221694 222100 222656 222742 222854\n",
      " 223568 224840 225380 225632 225790 226148 226642 226876 226888 227510\n",
      " 227552 227868 228536 228544 230112 231428 231618 231844 231866 232502\n",
      " 232658 233638 233640 233870 234042 234076 234470 234512 234558 234560\n",
      " 234876 235106 235170 235564 236122 236714 237982 238220 238814 239198\n",
      " 239368 239472 239606 240000]\n",
      "514\n"
     ]
    }
   ],
   "execution_count": 13
  },
  {
   "cell_type": "code",
   "metadata": {
    "ExecuteTime": {
     "end_time": "2024-12-28T04:02:10.908655Z",
     "start_time": "2024-12-28T04:02:09.979832Z"
    }
   },
   "source": [
    "print(type(sim_diff_mat))\n",
    "print(type(sim_gains))\n",
    "summarize_benchmark_results(apply_gains_to_mat, sim_gains, sim_diff_mat, edges, ant_1_array, ant_2_array, xp, False)"
   ],
   "outputs": [
    {
     "name": "stdout",
     "output_type": "stream",
     "text": [
      "<class 'cupy.ndarray'>\n",
      "<class 'cupy.ndarray'>\n",
      "Time on cpu: 0.000792s\n",
      "Time on gpu: 0.000826s\n"
     ]
    }
   ],
   "execution_count": 14
  },
  {
   "cell_type": "code",
   "metadata": {
    "ExecuteTime": {
     "end_time": "2024-12-28T04:02:15.132228Z",
     "start_time": "2024-12-28T04:02:10.949467Z"
    }
   },
   "source": [
    "print(type(sim_diff_mat))\n",
    "print(type(sim_gains))\n",
    "summarize_benchmark_results(apply_gains_to_mat, sim_gains, sim_diff_mat_3d, edges, ant_1_array, ant_2_array, xp, True)"
   ],
   "outputs": [
    {
     "name": "stdout",
     "output_type": "stream",
     "text": [
      "<class 'cupy.ndarray'>\n",
      "<class 'cupy.ndarray'>\n",
      "Time on cpu: 0.002296s\n",
      "Time on gpu: 0.003999s\n"
     ]
    }
   ],
   "execution_count": 15
  }
 ],
 "metadata": {
  "kernelspec": {
   "display_name": "Python 3",
   "language": "python",
   "name": "python3"
  },
  "language_info": {
   "codemirror_mode": {
    "name": "ipython",
    "version": 3
   },
   "file_extension": ".py",
   "mimetype": "text/x-python",
   "name": "python",
   "nbconvert_exporter": "python",
   "pygments_lexer": "ipython3",
   "version": "3.10.12"
  }
 },
 "nbformat": 4,
 "nbformat_minor": 2
}
