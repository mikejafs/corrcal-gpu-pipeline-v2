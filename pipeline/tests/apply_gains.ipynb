{
 "cells": [
  {
   "cell_type": "markdown",
   "metadata": {},
   "source": [
    "### Tests for Applying Gains Matrix"
   ]
  },
  {
   "cell_type": "code",
   "execution_count": 1,
   "metadata": {
    "ExecuteTime": {
     "end_time": "2025-03-06T23:59:04.958823Z",
     "start_time": "2025-03-06T23:59:04.952223Z"
    }
   },
   "outputs": [
    {
     "name": "stdout",
     "output_type": "stream",
     "text": [
      "/home/mike/corrcal_gpu_pipeline/pipeline\n"
     ]
    }
   ],
   "source": [
    "import sys\n",
    "from pathlib import Path\n",
    "parent_dir = Path.cwd().parent\n",
    "sys.path.insert(0, str(parent_dir))\n",
    "print(parent_dir)"
   ]
  },
  {
   "cell_type": "code",
   "execution_count": 2,
   "metadata": {
    "ExecuteTime": {
     "end_time": "2025-03-06T23:59:07.928142Z",
     "start_time": "2025-03-06T23:59:05.191839Z"
    }
   },
   "outputs": [
    {
     "name": "stdout",
     "output_type": "stream",
     "text": [
      "hera_cal is not installed. Some gridding features unavailable.\n",
      "pyfof is not installed. Some gridding features unavailable.\n"
     ]
    }
   ],
   "source": [
    "import cupy as cp\n",
    "import numpy as np\n",
    "from utils import *\n",
    "from zp_puregpu_funcs_py import *\n",
    "from invcov import *"
   ]
  },
  {
   "cell_type": "code",
   "execution_count": 3,
   "metadata": {
    "ExecuteTime": {
     "end_time": "2025-03-06T23:59:07.999895Z",
     "start_time": "2025-03-06T23:59:07.951826Z"
    }
   },
   "outputs": [
    {
     "name": "stdout",
     "output_type": "stream",
     "text": [
      "\u001b[0;31mSignature:\u001b[0m\n",
      "\u001b[0mapply_gains_to_mat\u001b[0m\u001b[0;34m(\u001b[0m\u001b[0;34m\u001b[0m\n",
      "\u001b[0;34m\u001b[0m    \u001b[0mgains\u001b[0m\u001b[0;34m:\u001b[0m \u001b[0mcupy\u001b[0m\u001b[0;34m.\u001b[0m\u001b[0mndarray\u001b[0m\u001b[0;34m,\u001b[0m\u001b[0;34m\u001b[0m\n",
      "\u001b[0;34m\u001b[0m    \u001b[0mmat\u001b[0m\u001b[0;34m:\u001b[0m \u001b[0mcupy\u001b[0m\u001b[0;34m.\u001b[0m\u001b[0mndarray\u001b[0m\u001b[0;34m,\u001b[0m\u001b[0;34m\u001b[0m\n",
      "\u001b[0;34m\u001b[0m    \u001b[0medges\u001b[0m\u001b[0;34m:\u001b[0m \u001b[0mcupy\u001b[0m\u001b[0;34m.\u001b[0m\u001b[0mndarray\u001b[0m\u001b[0;34m,\u001b[0m\u001b[0;34m\u001b[0m\n",
      "\u001b[0;34m\u001b[0m    \u001b[0mant_1_array\u001b[0m\u001b[0;34m:\u001b[0m \u001b[0mcupy\u001b[0m\u001b[0;34m.\u001b[0m\u001b[0mndarray\u001b[0m\u001b[0;34m,\u001b[0m\u001b[0;34m\u001b[0m\n",
      "\u001b[0;34m\u001b[0m    \u001b[0mant_2_array\u001b[0m\u001b[0;34m:\u001b[0m \u001b[0mcupy\u001b[0m\u001b[0;34m.\u001b[0m\u001b[0mndarray\u001b[0m\u001b[0;34m,\u001b[0m\u001b[0;34m\u001b[0m\n",
      "\u001b[0;34m\u001b[0m    \u001b[0mxp\u001b[0m\u001b[0;34m:\u001b[0m \u001b[0mAny\u001b[0m\u001b[0;34m,\u001b[0m\u001b[0;34m\u001b[0m\n",
      "\u001b[0;34m\u001b[0m    \u001b[0mis_zeropadded\u001b[0m\u001b[0;34m:\u001b[0m \u001b[0mbool\u001b[0m \u001b[0;34m=\u001b[0m \u001b[0;32mTrue\u001b[0m\u001b[0;34m,\u001b[0m\u001b[0;34m\u001b[0m\n",
      "\u001b[0;34m\u001b[0m\u001b[0;34m)\u001b[0m\u001b[0;34m\u001b[0m\u001b[0;34m\u001b[0m\u001b[0m\n",
      "\u001b[0;31mDocstring:\u001b[0m\n",
      "Apply a pair of complex gains to a matrix. Utilizes the Re/Im split.\n",
      "Only accounts for \"one half\" of the gain application, meaning the \n",
      "function is really performing eg. (g_1g_2*\\Delta_{1,2}), where it is \n",
      "understood that antenna's 1 and 2 belong to the baseline sitting at\n",
      "the same row as that baseline row in the \\Delta (\\Sigma) matrix. Note that \n",
      "although the matrix provided may be zeropadded, the gain matrix is zeropadded \n",
      "here and as such, should always be provided in an un-zeropadded (original) format.\n",
      "\n",
      "NOTE: Could be smart in the future to wrap the zeropadding of the gain \n",
      "    matrix in a separate function.\n",
      "\n",
      "Params\n",
      "------\n",
      "gains\n",
      "    1D array of Re/Im alternating gains to be applied to the source or\n",
      "    diffuse matrices. Contains one set of Re/Im gains for all antennas \n",
      "    in the array. \n",
      "mat\n",
      "    Gains are applied to this. Can be 2d as in original C-corrcal.\n",
      "    If 3d, is_zeropadded must be set to True\n",
      "edges\n",
      "    Indices of edges of redundant blocks in the diffuse matrix.\n",
      "ant_1_array\n",
      "    Indices of the first antenna in each baseline\n",
      "ant_2_array\n",
      "    Indices of the second antenna in each baseline\n",
      "xp\n",
      "    np for cpu (Numpy), cp for gpu (CuPy)\n",
      "is_zeropadded\n",
      "    Boolean. Indicate whether the provided matrix has been zeropadded \n",
      "    previously\n",
      "\n",
      "Returns\n",
      "-------\n",
      "out\n",
      "    Matrix with applied gains (explain this a bit better)\n",
      "\u001b[0;31mFile:\u001b[0m      ~/corrcal_gpu_pipeline/pipeline/utils.py\n",
      "\u001b[0;31mType:\u001b[0m      function"
     ]
    }
   ],
   "source": [
    "apply_gains_to_mat?\n",
    "# undo_zeropad?"
   ]
  },
  {
   "cell_type": "code",
   "execution_count": 4,
   "metadata": {
    "ExecuteTime": {
     "end_time": "2025-03-06T23:59:08.050147Z",
     "start_time": "2025-03-06T23:59:08.044160Z"
    }
   },
   "outputs": [
    {
     "name": "stdout",
     "output_type": "stream",
     "text": [
      "\u001b[0;31mSignature:\u001b[0m \u001b[0msummarize_benchmark_results\u001b[0m\u001b[0;34m(\u001b[0m\u001b[0mfunction\u001b[0m\u001b[0;34m,\u001b[0m \u001b[0;34m*\u001b[0m\u001b[0margs\u001b[0m\u001b[0;34m)\u001b[0m\u001b[0;34m\u001b[0m\u001b[0;34m\u001b[0m\u001b[0m\n",
      "\u001b[0;31mDocstring:\u001b[0m\n",
      "Use the CuPy benchmark function and nicely print out just the\n",
      "total time spent on both the gpu and the cpu.\n",
      "\u001b[0;31mFile:\u001b[0m      ~/corrcal_gpu_pipeline/pipeline/utils.py\n",
      "\u001b[0;31mType:\u001b[0m      function"
     ]
    }
   ],
   "source": [
    "summarize_benchmark_results?"
   ]
  },
  {
   "cell_type": "code",
   "execution_count": 11,
   "metadata": {
    "ExecuteTime": {
     "end_time": "2025-03-06T23:59:08.624129Z",
     "start_time": "2025-03-06T23:59:08.110723Z"
    }
   },
   "outputs": [
    {
     "name": "stdout",
     "output_type": "stream",
     "text": [
      "The edges of the redundant blocks have indices[ 0  4  6 16 28 32]\n",
      "[0 0 0 1 1 2 1 2 2 3 3 3]\n",
      "[1 2 3 2 3 3 0 0 1 0 1 2]\n"
     ]
    }
   ],
   "source": [
    "#simulation params relevant for testing application of gains to a matrix\n",
    "n_ant = 4\n",
    "n_bl = 2*n_ant**2\n",
    "n_gains = 2*n_ant\n",
    "n_eig = 3\n",
    "xp = cp  #run things on the gpu using cupy\n",
    "\n",
    "#this might be the easiest (and most general) way to devise an edges\n",
    "# array, though we hard code an ex. edges array to be sure it fits\n",
    "# the desired format of having no odd entries.\n",
    "edges = (xp.unique(xp.random.randint(1, n_bl/2-1, size = n_ant)*2))\n",
    "edges = xp.concatenate((xp.array([0]), edges, xp.array([n_bl])))\n",
    "print(f\"The edges of the redundant blocks have indices{edges}\")\n",
    "\n",
    "#some random noise, diffuse, and source covariance matrices\n",
    "xp = cp\n",
    "sim_diff_mat = xp.random.rand(n_bl, n_eig, dtype = 'float64')\n",
    "sim_gains = cp.random.rand(n_gains, dtype = 'float64') #Re/Im split + ant1 & ant 2 = 4*n_ant\n",
    "# ant_1_array = cp.arange(n_bl//2)\n",
    "# ant_2_array = cp.arange(n_bl//2, 2*n_bl//2)\n",
    "\n",
    "ant_1_upper, ant_2_upper = cp.triu_indices(n_ant, k=1)\n",
    "ant_1_lower, ant_2_lower = cp.tril_indices(n_ant, k=-1)\n",
    "ant_1_array = cp.concatenate((ant_1_upper, ant_1_lower))\n",
    "ant_2_array = cp.concatenate((ant_2_upper, ant_2_lower))\n",
    "print(ant_1_array)\n",
    "print(ant_2_array)\n",
    "\n",
    "#zeropad the noise, diff, source mats\n",
    "zp_sim_diff_mat, largest_block, n_blocks = zeroPad(sim_diff_mat, edges, return_inv=False)\n",
    "\n",
    "#Need to reshape to give an extra dimension of n_blocks to be compatible with inv cov routine\n",
    "sim_diff_mat_3d = zp_sim_diff_mat.reshape(n_blocks, largest_block, n_eig)"
   ]
  },
  {
   "cell_type": "code",
   "execution_count": 12,
   "metadata": {},
   "outputs": [],
   "source": [
    "zp_cplex_gain_mat = zeropad_gains(sim_gains, edges, ant_1_array, ant_2_array, xp = cp, return_inv=False)\n",
    "gain_diff_mat = apply_gains(zp_cplex_gain_mat, sim_diff_mat_3d, xp=cp)\n",
    "# print(gain_diff_mat)"
   ]
  },
  {
   "cell_type": "code",
   "execution_count": 7,
   "metadata": {
    "ExecuteTime": {
     "end_time": "2025-03-06T23:59:08.771439Z",
     "start_time": "2025-03-06T23:59:08.725587Z"
    }
   },
   "outputs": [
    {
     "name": "stderr",
     "output_type": "stream",
     "text": [
      "/home/mike/corrcal_gpu_pipeline/pipeline/utils.py:145: SyntaxWarning: invalid escape sequence '\\D'\n",
      "  \"\"\"\n"
     ]
    },
    {
     "ename": "ValueError",
     "evalue": "operands could not be broadcast together with shapes (12, 1) (2, 1)",
     "output_type": "error",
     "traceback": [
      "\u001b[0;31m---------------------------------------------------------------------------\u001b[0m",
      "\u001b[0;31mValueError\u001b[0m                                Traceback (most recent call last)",
      "Cell \u001b[0;32mIn[7], line 1\u001b[0m\n\u001b[0;32m----> 1\u001b[0m applied_gains \u001b[38;5;241m=\u001b[39m \u001b[43mapply_gains_to_mat\u001b[49m\u001b[43m(\u001b[49m\u001b[43msim_gains\u001b[49m\u001b[43m,\u001b[49m\u001b[43m \u001b[49m\u001b[43msim_diff_mat_3d\u001b[49m\u001b[43m,\u001b[49m\u001b[43m \u001b[49m\u001b[43medges\u001b[49m\u001b[43m,\u001b[49m\u001b[43m \u001b[49m\u001b[43mant_1_array\u001b[49m\u001b[43m,\u001b[49m\u001b[43m \u001b[49m\u001b[43mant_1_array\u001b[49m\u001b[43m,\u001b[49m\u001b[43m \u001b[49m\u001b[43mcp\u001b[49m\u001b[43m,\u001b[49m\u001b[43m \u001b[49m\u001b[38;5;28;43;01mTrue\u001b[39;49;00m\u001b[43m)\u001b[49m\n",
      "File \u001b[0;32m~/corrcal_gpu_pipeline/pipeline/utils.py:200\u001b[0m, in \u001b[0;36mapply_gains_to_mat\u001b[0;34m(gains, mat, edges, ant_1_array, ant_2_array, xp, is_zeropadded)\u001b[0m\n\u001b[1;32m    197\u001b[0m gain_mat \u001b[38;5;241m=\u001b[39m xp\u001b[38;5;241m.\u001b[39mzeros((\u001b[38;5;28mlen\u001b[39m(complex_gains),\u001b[38;5;241m1\u001b[39m))   \n\u001b[1;32m    199\u001b[0m \u001b[38;5;66;03m#Re/Im split the gain mat and zeropad using edges array\u001b[39;00m\n\u001b[0;32m--> 200\u001b[0m \u001b[43mgain_mat\u001b[49m\u001b[43m[\u001b[49m\u001b[43m:\u001b[49m\u001b[43m:\u001b[49m\u001b[38;5;241;43m2\u001b[39;49m\u001b[43m]\u001b[49m \u001b[38;5;241m=\u001b[39m tmp_gain_mat\u001b[38;5;241m.\u001b[39mreal\n\u001b[1;32m    201\u001b[0m gain_mat[\u001b[38;5;241m1\u001b[39m::\u001b[38;5;241m2\u001b[39m] \u001b[38;5;241m=\u001b[39m tmp_gain_mat\u001b[38;5;241m.\u001b[39mimag\n\u001b[1;32m    202\u001b[0m zp_gain_mat, largest_block, n_blocks \u001b[38;5;241m=\u001b[39m zeroPad(gain_mat, edges, return_inv\u001b[38;5;241m=\u001b[39m\u001b[38;5;28;01mFalse\u001b[39;00m)\n",
      "File \u001b[0;32mcupy/_core/core.pyx:1594\u001b[0m, in \u001b[0;36mcupy._core.core._ndarray_base.__setitem__\u001b[0;34m()\u001b[0m\n",
      "File \u001b[0;32mcupy/_core/_routines_indexing.pyx:51\u001b[0m, in \u001b[0;36mcupy._core._routines_indexing._ndarray_setitem\u001b[0;34m()\u001b[0m\n",
      "File \u001b[0;32mcupy/_core/_routines_indexing.pyx:1027\u001b[0m, in \u001b[0;36mcupy._core._routines_indexing._scatter_op\u001b[0;34m()\u001b[0m\n",
      "File \u001b[0;32mcupy/_core/_kernel.pyx:1315\u001b[0m, in \u001b[0;36mcupy._core._kernel.ufunc.__call__\u001b[0;34m()\u001b[0m\n",
      "File \u001b[0;32mcupy/_core/internal.pyx:381\u001b[0m, in \u001b[0;36mcupy._core.internal._broadcast_core\u001b[0;34m()\u001b[0m\n",
      "\u001b[0;31mValueError\u001b[0m: operands could not be broadcast together with shapes (12, 1) (2, 1)"
     ]
    }
   ],
   "source": [
    "applied_gains = apply_gains_to_mat(sim_gains, sim_diff_mat_3d, edges, ant_1_array, ant_1_array, cp, True)"
   ]
  },
  {
   "cell_type": "code",
   "execution_count": null,
   "metadata": {
    "ExecuteTime": {
     "end_time": "2025-03-06T23:59:08.825521Z",
     "start_time": "2025-03-06T23:59:08.817040Z"
    }
   },
   "outputs": [
    {
     "name": "stdout",
     "output_type": "stream",
     "text": [
      "Input mat has shape (4, 8, 3)\n",
      "\n",
      "Gains applied mat has shape (4, 8, 3)\n",
      "\n",
      "The mat with gains applied looks like:\n",
      "\n",
      "[[[0.1579835  0.50598987 0.94385764]\n",
      "  [1.03429943 0.2482692  0.82212146]\n",
      "  [0.         0.         0.        ]\n",
      "  [0.         0.         0.        ]\n",
      "  [0.         0.         0.        ]\n",
      "  [0.         0.         0.        ]\n",
      "  [0.         0.         0.        ]\n",
      "  [0.         0.         0.        ]]\n",
      "\n",
      " [[0.41185653 0.41826525 0.46022986]\n",
      "  [0.00342292 0.23704531 0.09259659]\n",
      "  [0.40371477 0.59672464 0.67435857]\n",
      "  [0.22702284 0.80834479 0.84761636]\n",
      "  [0.         0.         0.        ]\n",
      "  [0.         0.         0.        ]\n",
      "  [0.         0.         0.        ]\n",
      "  [0.         0.         0.        ]]\n",
      "\n",
      " [[0.14617583 0.05804618 0.29960561]\n",
      "  [0.05887869 0.27587957 0.13282545]\n",
      "  [0.         0.         0.        ]\n",
      "  [0.         0.         0.        ]\n",
      "  [0.         0.         0.        ]\n",
      "  [0.         0.         0.        ]\n",
      "  [0.         0.         0.        ]\n",
      "  [0.         0.         0.        ]]\n",
      "\n",
      " [[0.05233136 0.37731007 0.61413038]\n",
      "  [0.06477662 0.90273468 0.86649463]\n",
      "  [0.03606312 0.00830681 0.03071329]\n",
      "  [0.0077991  0.01176588 0.00364866]\n",
      "  [0.33395931 0.70846094 0.09212531]\n",
      "  [0.76662251 0.80353552 0.40750415]\n",
      "  [0.4552736  0.4151896  0.36898415]\n",
      "  [0.49241501 0.11927409 0.43008178]]]\n"
     ]
    }
   ],
   "source": [
    "print(f\"Input mat has shape {sim_diff_mat_3d.shape}\")\n",
    "print()\n",
    "print(f\"Gains applied mat has shape {applied_gains.shape}\")\n",
    "print()\n",
    "print(f\"The mat with gains applied looks like:\\n\\n{applied_gains}\")"
   ]
  },
  {
   "cell_type": "markdown",
   "metadata": {},
   "source": [
    "#### Random Debugging tests"
   ]
  },
  {
   "cell_type": "code",
   "execution_count": null,
   "metadata": {
    "ExecuteTime": {
     "end_time": "2025-03-06T23:59:08.895589Z",
     "start_time": "2025-03-06T23:59:08.888430Z"
    }
   },
   "outputs": [
    {
     "name": "stdout",
     "output_type": "stream",
     "text": [
      "(2, 5, 1)\n",
      "(2, 5, 3)\n",
      "(10,)\n",
      "[[[0.27771907 0.49786286 0.78252181]\n",
      "  [0.84870461 0.05388455 0.30331298]\n",
      "  [0.25126195 0.81340359 0.90224821]\n",
      "  [0.01936672 0.79699927 0.67417065]\n",
      "  [0.28822179 0.09869691 0.65989059]]\n",
      "\n",
      " [[0.08421076 0.26292774 0.04935195]\n",
      "  [0.10100533 0.95292719 0.39047679]\n",
      "  [0.41441608 0.06360632 0.71426598]\n",
      "  [0.58761828 0.57467898 0.32634538]\n",
      "  [0.93276915 0.38334206 0.51171445]]]\n",
      "[[[0.27771907 0.49786286 0.78252181]\n",
      "  [0.25126195 0.81340359 0.90224821]\n",
      "  [0.28822179 0.09869691 0.65989059]]\n",
      "\n",
      " [[0.08421076 0.26292774 0.04935195]\n",
      "  [0.41441608 0.06360632 0.71426598]\n",
      "  [0.93276915 0.38334206 0.51171445]]]\n"
     ]
    }
   ],
   "source": [
    "m = np.random.rand(2, 5, 3)\n",
    "g = np.random.rand(10)\n",
    "\n",
    "gs = g[:, None] * g[:, None]\n",
    "gs = gs.reshape(m.shape[0], m.shape[1], 1)\n",
    "\n",
    "print(gs.shape)\n",
    "print(m.shape)\n",
    "print(g.shape)\n",
    "print(m)\n",
    "print(m[:, ::2])\n",
    "out = gs[:, ::2] * m[:, ::2]"
   ]
  },
  {
   "cell_type": "code",
   "execution_count": null,
   "metadata": {
    "ExecuteTime": {
     "end_time": "2025-03-06T23:59:08.998991Z",
     "start_time": "2025-03-06T23:59:08.991107Z"
    }
   },
   "outputs": [
    {
     "name": "stdout",
     "output_type": "stream",
     "text": [
      "[0.66436983 0.72524934 0.16675385 0.14482441 0.22502036 0.61383921\n",
      " 0.16619552 0.99967343 0.72010916 0.69081126]\n",
      "[0.66436983 0.72524934 0.16675385 0.14482441 0.22502036]\n",
      "\n",
      "[0.61383921 0.16619552 0.99967343 0.72010916 0.69081126]\n",
      "\n",
      "[0.66436983 0.72524934 0.16675385 0.14482441 0.22502036 0.61383921\n",
      " 0.16619552 0.99967343 0.72010916 0.69081126]\n",
      "\n",
      "[0.66436983 0.72524934 0.16675385 0.14482441 0.22502036]\n",
      "[0.61383921 0.16619552 0.99967343 0.72010916 0.69081126]\n"
     ]
    }
   ],
   "source": [
    "a = np.arange(5)\n",
    "b = np.arange(5,10)\n",
    "c = np.random.rand((a.shape[0] + b.shape[0]))\n",
    "print(c)\n",
    "d = c[a]\n",
    "e = c[b]\n",
    "\n",
    "print(d)\n",
    "print()\n",
    "print(e)\n",
    "print()\n",
    "print(np.concatenate((d, e)))\n",
    "print()\n",
    "aa = np.concatenate((d, e))\n",
    "\n",
    "print(aa[:int(len(aa)/2)])\n",
    "\n",
    "print(aa[int(len(aa)/2):])"
   ]
  },
  {
   "cell_type": "markdown",
   "metadata": {},
   "source": [
    "#### Check ZP computes the same thing as corrcal"
   ]
  },
  {
   "cell_type": "code",
   "execution_count": null,
   "metadata": {
    "ExecuteTime": {
     "end_time": "2025-03-06T23:59:09.087604Z",
     "start_time": "2025-03-06T23:59:09.082272Z"
    }
   },
   "outputs": [],
   "source": [
    "#Current corrcal gain application function\n",
    "def apply_gains_to_mat_corrcal(gains, mat, ant_1_array, ant_2_array):\n",
    "    \"\"\"Apply a gain-like matrix to a provided matrix.\"\"\"\n",
    "    complex_gains = gains[::2] + 1j*gains[1::2]\n",
    "    gain_mat = (\n",
    "        complex_gains[ant_1_array,None] * complex_gains[ant_2_array,None].conj()\n",
    "    )\n",
    "    out = np.zeros_like(mat)\n",
    "    out[::2] = gain_mat.real * mat[::2] - gain_mat.imag * mat[1::2]\n",
    "    out[1::2] = gain_mat.imag * mat[::2] + gain_mat.real * mat[1::2]\n",
    "    return out"
   ]
  },
  {
   "cell_type": "code",
   "execution_count": null,
   "metadata": {
    "ExecuteTime": {
     "end_time": "2025-03-06T23:59:09.171686Z",
     "start_time": "2025-03-06T23:59:09.152061Z"
    }
   },
   "outputs": [
    {
     "name": "stdout",
     "output_type": "stream",
     "text": [
      "The edges of the redundant blocks have indices[ 0 18 20 24 30]\n"
     ]
    }
   ],
   "source": [
    "#simulation params relevant for testing application of gains to a matrix\n",
    "n_ant = 15\n",
    "n_bl = 2*n_ant\n",
    "n_gains = 4*n_ant\n",
    "n_eig = 3\n",
    "xp = cp  #run things on the gpu using cupy\n",
    "\n",
    "#this might be the easiest (and most general) way to devise an edges\n",
    "# array, though we hard code an ex. edges array to be sure it fits\n",
    "# the desired format of having no odd entries.\n",
    "edges = (xp.unique(xp.random.randint(1, n_bl/2-1, size = 3)*2))\n",
    "edges = xp.concatenate((xp.array([0]), edges, xp.array([n_bl])))\n",
    "print(f\"The edges of the redundant blocks have indices{edges}\")\n",
    "\n",
    "#some random noise, diffuse, and source covariance matrices\n",
    "xp = cp\n",
    "sim_diff_mat = xp.random.rand(n_bl, n_eig, dtype = 'float64')\n",
    "sim_gains = cp.random.rand(n_gains, dtype = 'float64') #Re/Im split + ant1 & ant 2 = 4*n_ant\n",
    "ant_1_array = cp.arange(n_ant)\n",
    "ant_2_array = cp.arange(n_ant, 2*n_ant)\n",
    "\n",
    "#zeropad the noise, diff, source mats\n",
    "zp_sim_diff_mat, largest_block, n_blocks = zeroPad(sim_diff_mat, edges, return_inv=False)\n",
    "\n",
    "#Need to reshape to give an extra dimension of n_blocks to be compatible with inv cov routine\n",
    "sim_diff_mat_3d = zp_sim_diff_mat.reshape(n_blocks, largest_block, n_eig)\n"
   ]
  },
  {
   "cell_type": "code",
   "execution_count": null,
   "metadata": {
    "ExecuteTime": {
     "end_time": "2025-03-06T23:59:09.222470Z",
     "start_time": "2025-03-06T23:59:09.207099Z"
    }
   },
   "outputs": [],
   "source": [
    "out_corrcal = apply_gains_to_mat_corrcal(sim_gains, sim_diff_mat, ant_1_array, ant_2_array)\n",
    "out_gpu = apply_gains_to_mat(sim_gains, sim_diff_mat_3d, edges, ant_1_array, ant_2_array, cp)\n",
    "out_gpu_corrcal = apply_gains_to_mat(sim_gains, sim_diff_mat, edges, ant_1_array, ant_2_array, cp, False)\n",
    "out_gpu_resh = undo_zeropad(out_gpu, edges, cp)"
   ]
  },
  {
   "cell_type": "code",
   "execution_count": null,
   "metadata": {
    "ExecuteTime": {
     "end_time": "2025-03-06T23:59:09.364338Z",
     "start_time": "2025-03-06T23:59:09.266649Z"
    }
   },
   "outputs": [
    {
     "name": "stdout",
     "output_type": "stream",
     "text": [
      "True\n",
      "True\n"
     ]
    }
   ],
   "source": [
    "#should return True if my routine computes the same thing as the current corrcal routine\n",
    "print(cp.allclose(out_gpu_resh, out_gpu_corrcal))\n",
    "print(cp.allclose(out_gpu_resh, out_corrcal))"
   ]
  },
  {
   "cell_type": "markdown",
   "metadata": {},
   "source": [
    "#### Timing test for np vs cp versions"
   ]
  },
  {
   "cell_type": "code",
   "execution_count": null,
   "metadata": {
    "ExecuteTime": {
     "end_time": "2025-03-06T23:59:09.458698Z",
     "start_time": "2025-03-06T23:59:09.426056Z"
    }
   },
   "outputs": [
    {
     "name": "stdout",
     "output_type": "stream",
     "text": [
      "The edges of the redundant blocks have indices[     0    388   1100   1834   2370   2602   3782   4096   4390   5618\n",
      "   5712   6724   7284   7910   7932   7970   8162   8508   8950   9024\n",
      "   9982  10278  10380  10464  10976  11042  11234  12476  12616  12732\n",
      "  13182  13896  14096  14504  14564  14578  14970  14984  15020  15750\n",
      "  16194  16276  16902  17196  17310  17846  18096  18254  18580  18630\n",
      "  20274  21474  21790  22424  22638  24118  25802  25864  26736  26836\n",
      "  27212  27302  27798  28092  28778  29668  30806  31038  31068  31498\n",
      "  31666  31980  34152  34260  34784  35600  35674  35816  36100  37368\n",
      "  38154  38262  38730  39900  40210  40402  40698  40766  41234  41538\n",
      "  41884  42546  42766  43572  43774  43810  44104  44154  44318  44546\n",
      "  45316  45864  45998  46256  46884  46898  48562  48860  49022  49470\n",
      "  49708  49832  49840  50446  51014  52096  52538  53190  53310  53470\n",
      "  53626  54438  54466  56264  56294  56474  56970  57394  57712  58278\n",
      "  58602  59044  59174  59596  60992  61890  62020  62564  63098  63280\n",
      "  63432  63620  63694  63980  64046  64276  64344  64490  64726  65000\n",
      "  65736  66006  66222  68620  70130  70192  70420  71084  71468  72064\n",
      "  72110  72614  72818  73122  74684  75734  76122  77692  78322  78412\n",
      "  79656  79910  81684  82116  83446  83954  84184  84326  85290  85734\n",
      "  85796  85978  86090  86224  86650  87172  87862  88410  88648  88826\n",
      "  89146  89558  90224  90342  90416  90550  90732  91886  92018  92508\n",
      "  92978  93186  93462  93660  94926  95052  95438  95682  95724  96666\n",
      "  96856  96972  97386  97622  97958  98338  98634 100084 101582 102416\n",
      " 102442 102496 103166 103774 104922 105630 107168 107514 107658 107924\n",
      " 110322 110606 111128 111274 111756 111792 112234 112388 112828 113350\n",
      " 114182 114368 114592 114842 115494 116336 116340 117052 117060 117430\n",
      " 119120 119446 119652 119906 120126 120278 121142 121250 122134 122530\n",
      " 122614 122830 123606 125440 125450 125528 125570 125794 126714 126890\n",
      " 126910 128576 128740 128970 129380 129914 130044 130068 130658 130984\n",
      " 131320 131386 132158 132988 134814 135062 135404 135934 136588 136710\n",
      " 137262 137368 138314 138978 139096 139312 139756 140454 140510 141694\n",
      " 141790 142428 142658 143216 144598 144834 144872 145682 146518 146822\n",
      " 148446 148816 148904 149420 150128 150440 151530 151580 151684 153028\n",
      " 153592 153760 154054 154468 154492 154630 155076 155742 156012 156136\n",
      " 156244 156430 157836 157994 158370 158414 158596 159614 159708 160486\n",
      " 161166 161458 161624 161876 162258 163332 163344 163378 163654 164284\n",
      " 164610 165410 166110 166266 166272 166362 166680 167770 167864 168062\n",
      " 168752 169212 171326 171492 172584 173102 173518 173734 174070 174732\n",
      " 175014 175170 175598 177168 177304 178016 178384 178624 178682 179026\n",
      " 179176 179562 180032 180386 180750 181274 182256 182322 183460 184002\n",
      " 184380 184560 184642 184902 184952 185864 187114 187544 187550 187560\n",
      " 188018 189608 189668 190034 191302 191358 191754 192864 192880 192976\n",
      " 193012 193528 194108 194502 194562 194742 195354 196020 196244 196412\n",
      " 196460 196686 196970 197668 197994 198826 199516 199796 200114 200302\n",
      " 200988 201632 202042 203244 203640 204738 205140 205664 206142 206180\n",
      " 206194 206332 206410 206702 207038 207588 209342 209458 209576 210546\n",
      " 211618 211978 212224 212232 212362 212930 213508 214264 214284 214850\n",
      " 216002 216598 216816 216888 218492 219040 219284 219582 220164 220210\n",
      " 220440 220466 221088 221144 222388 222636 222704 223126 223144 223566\n",
      " 223570 223830 224032 224824 225020 225820 226200 226458 226520 226526\n",
      " 226712 227942 228166 228264 228576 230758 231890 232718 233396 233422\n",
      " 233838 233908 234186 234794 235344 235450 236352 237530 237970 238058\n",
      " 238218 239160 239770 240000]\n",
      "514\n"
     ]
    }
   ],
   "source": [
    "#simulation params relevant for testing application of gains to a matrix\n",
    "n_bl = 240000  # something like 2*N_ant^2 for Re/Im split\n",
    "n_ant = 512\n",
    "n_gains = 2*n_bl  #one for each antenna and one for each Re and Im part\n",
    "n_eig = 3\n",
    "xp = cp  #run things on the gpu using cupy\n",
    "\n",
    "#this might be the easiest (and most general) way to devise an edges\n",
    "# array, though we hard code an ex. edges array to be sure it fits\n",
    "# the desired format of having no odd entries.\n",
    "if xp == cp:\n",
    "\n",
    "    edges = (xp.unique(xp.random.randint(1, n_bl/2-1, size = n_ant)*2))\n",
    "    edges = xp.concatenate((xp.array([0]), edges, xp.array([n_bl])))\n",
    "    print(f\"The edges of the redundant blocks have indices{edges}\")\n",
    "\n",
    "    #some random noise, diffuse, and source covariance matrices\n",
    "    sim_diff_mat = xp.random.rand(n_bl, n_eig, dtype = 'float64')\n",
    "    sim_gains = cp.random.rand(n_gains, dtype = 'float64') #Re/Im split + ant1 & ant 2 = 4*n_ant\n",
    "\n",
    "    #leave as n_bl/2 since indexex into cplex gains which are not Re/Im split\n",
    "    ant_1_array = cp.arange(n_bl//2) \n",
    "    ant_2_array = cp.arange(n_bl//2)\n",
    "\n",
    "    #zeropad the noise, diff, source mats\n",
    "    zp_sim_diff_mat, largest_block, n_blocks = zeroPad(sim_diff_mat, edges, return_inv=False)\n",
    "\n",
    "    #Need to reshape to give an extra dimension of n_blocks to be compatible with inv cov routine\n",
    "    sim_diff_mat_3d = zp_sim_diff_mat.reshape(n_blocks, largest_block, n_eig)\n",
    "\n",
    "elif xp == np:\n",
    "    edges = (xp.unique(xp.random.randint(1, n_bl/2-1, size = n_ant)*2))\n",
    "    edges = xp.concatenate((xp.array([0]), edges, xp.array([n_bl])))\n",
    "    print(f\"The edges of the redundant blocks have indices{edges}\")\n",
    "\n",
    "    #some random noise, diffuse, and source covariance matrices\n",
    "    sim_diff_mat = xp.random.rand(n_bl, n_eig).astype('float64')\n",
    "    sim_gains = xp.random.rand(n_gains).astype('float64') #Re/Im split + ant1 & ant 2 = 4*n_ant\n",
    "    ant_1_array = xp.arange(n_bl//2)\n",
    "    ant_2_array = xp.arange(n_bl//2)\n",
    "\n",
    "    #zeropad the noise, diff, source mats\n",
    "    # zp_sim_diff_mat, largest_block, n_blocks = zeroPad(sim_diff_mat, edges, return_inv=False)\n",
    "\n",
    "    #Need to reshape to give an extra dimension of n_blocks to be compatible with inv cov routine\n",
    "    # sim_diff_mat_3d = zp_sim_diff_mat.reshape(n_blocks, largest_block, n_eig)\n",
    "\n",
    "print(len(edges))"
   ]
  },
  {
   "cell_type": "code",
   "execution_count": null,
   "metadata": {
    "ExecuteTime": {
     "end_time": "2025-03-06T23:59:10.910761Z",
     "start_time": "2025-03-06T23:59:09.508451Z"
    }
   },
   "outputs": [
    {
     "name": "stdout",
     "output_type": "stream",
     "text": [
      "<class 'cupy.ndarray'>\n",
      "<class 'cupy.ndarray'>\n"
     ]
    },
    {
     "name": "stdout",
     "output_type": "stream",
     "text": [
      "Time on cpu: 0.000878s\n",
      "Time on gpu: 0.000908s\n"
     ]
    }
   ],
   "source": [
    "print(type(sim_diff_mat))\n",
    "print(type(sim_gains))\n",
    "summarize_benchmark_results(apply_gains_to_mat, sim_gains, sim_diff_mat, edges, ant_1_array, ant_2_array, xp, False)"
   ]
  },
  {
   "cell_type": "code",
   "execution_count": null,
   "metadata": {
    "ExecuteTime": {
     "end_time": "2025-03-06T23:59:14.907162Z",
     "start_time": "2025-03-06T23:59:10.956941Z"
    }
   },
   "outputs": [
    {
     "name": "stdout",
     "output_type": "stream",
     "text": [
      "<class 'cupy.ndarray'>\n",
      "<class 'cupy.ndarray'>\n",
      "Time on cpu: 0.002599s\n",
      "Time on gpu: 0.003795s\n"
     ]
    }
   ],
   "source": [
    "print(type(sim_diff_mat))\n",
    "print(type(sim_gains))\n",
    "summarize_benchmark_results(apply_gains_to_mat, sim_gains, sim_diff_mat_3d, edges, ant_1_array, ant_2_array, xp, True)"
   ]
  },
  {
   "cell_type": "markdown",
   "metadata": {},
   "source": [
    "### Random debugging...."
   ]
  },
  {
   "cell_type": "code",
   "execution_count": null,
   "metadata": {
    "ExecuteTime": {
     "end_time": "2025-03-06T23:59:14.947513Z",
     "start_time": "2025-03-06T23:59:14.940468Z"
    }
   },
   "outputs": [
    {
     "name": "stdout",
     "output_type": "stream",
     "text": [
      "[[[0.51492247 0.36418569 0.631089  ]\n",
      "  [0.58425926 0.02913226 0.70991368]]\n",
      "\n",
      " [[0.39597714 0.28708475 0.32907441]\n",
      "  [0.71888024 0.97021329 0.72432182]]\n",
      "\n",
      " [[0.47422192 0.91443269 0.99782788]\n",
      "  [0.27146681 0.55374009 0.42369466]]]\n",
      "[[[0]\n",
      "  [1]]\n",
      "\n",
      " [[2]\n",
      "  [3]]\n",
      "\n",
      " [[4]\n",
      "  [5]]]\n",
      "\n",
      "[[[0.         0.         0.        ]\n",
      "  [0.58425926 0.02913226 0.70991368]]\n",
      "\n",
      " [[0.79195429 0.57416949 0.65814883]\n",
      "  [2.15664073 2.91063986 2.17296546]]\n",
      "\n",
      " [[1.89688766 3.65773078 3.99131152]\n",
      "  [1.35733407 2.76870046 2.11847329]]]\n"
     ]
    }
   ],
   "source": [
    "import numpy as np\n",
    "mat = np.random.rand(3, 2, 3)\n",
    "print(mat)\n",
    "gm = np.arange(6)\n",
    "gm = gm.reshape(3, 2, 1)\n",
    "print(gm)\n",
    "print()\n",
    "print(gm * mat)"
   ]
  },
  {
   "cell_type": "code",
   "execution_count": null,
   "metadata": {
    "ExecuteTime": {
     "end_time": "2025-03-06T23:59:15.029006Z",
     "start_time": "2025-03-06T23:59:15.023230Z"
    }
   },
   "outputs": [
    {
     "name": "stdout",
     "output_type": "stream",
     "text": [
      "[[0.38798259 0.33793608 0.51954081 0.93072696]\n",
      " [0.79241774 0.45451251 0.68514549 0.30767765]\n",
      " [0.69755979 0.94056492 0.05684167 0.81831362]\n",
      " [0.23845743 0.09610608 0.9587009  0.30306608]]\n",
      "[[0.38798259 0.33793608 0.51954081 0.93072696]\n",
      " [0.69755979 0.94056492 0.05684167 0.81831362]]\n"
     ]
    }
   ],
   "source": [
    "a = np.random.rand(4,4)\n",
    "print(a)\n",
    "print(a[::2])"
   ]
  },
  {
   "cell_type": "code",
   "execution_count": null,
   "metadata": {
    "ExecuteTime": {
     "end_time": "2025-03-06T23:59:15.172223Z",
     "start_time": "2025-03-06T23:59:15.166812Z"
    }
   },
   "outputs": [
    {
     "name": "stdout",
     "output_type": "stream",
     "text": [
      "[[  0]\n",
      " [  1]\n",
      " [  4]\n",
      " [  9]\n",
      " [ 16]\n",
      " [ 25]\n",
      " [ 36]\n",
      " [ 49]\n",
      " [ 64]\n",
      " [ 81]\n",
      " [100]\n",
      " [121]\n",
      " [144]\n",
      " [169]\n",
      " [196]]\n"
     ]
    }
   ],
   "source": [
    "a = np.arange(15)\n",
    "b = np.arange(15)\n",
    "\n",
    "print(a[:, None]* b[:, None])"
   ]
  }
 ],
 "metadata": {
  "kernelspec": {
   "display_name": "corrcal_dev",
   "language": "python",
   "name": "python3"
  },
  "language_info": {
   "codemirror_mode": {
    "name": "ipython",
    "version": 3
   },
   "file_extension": ".py",
   "mimetype": "text/x-python",
   "name": "python",
   "nbconvert_exporter": "python",
   "pygments_lexer": "ipython3",
   "version": "3.12.9"
  }
 },
 "nbformat": 4,
 "nbformat_minor": 2
}
