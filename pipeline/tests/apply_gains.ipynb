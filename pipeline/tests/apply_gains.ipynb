{
 "cells": [
  {
   "cell_type": "markdown",
   "metadata": {},
   "source": [
    "### Tests for Applying Gains Matrix"
   ]
  },
  {
   "cell_type": "code",
   "execution_count": 2,
   "metadata": {},
   "outputs": [
    {
     "name": "stdout",
     "output_type": "stream",
     "text": [
      "hera_cal is not installed. Some gridding features unavailable.\n",
      "pyfof is not installed. Some gridding features unavailable.\n"
     ]
    }
   ],
   "source": [
    "import cupy as cp\n",
    "import numpy as np\n",
    "from utils import *\n",
    "from zp_puregpu_funcs_py import *\n",
    "from invcov import *"
   ]
  },
  {
   "cell_type": "code",
   "execution_count": 3,
   "metadata": {},
   "outputs": [
    {
     "name": "stdout",
     "output_type": "stream",
     "text": [
      "\u001b[0;31mSignature:\u001b[0m\n",
      "\u001b[0mapply_gains_to_mat\u001b[0m\u001b[0;34m(\u001b[0m\u001b[0;34m\u001b[0m\n",
      "\u001b[0;34m\u001b[0m    \u001b[0mgains\u001b[0m\u001b[0;34m:\u001b[0m \u001b[0mcupy\u001b[0m\u001b[0;34m.\u001b[0m\u001b[0mndarray\u001b[0m\u001b[0;34m,\u001b[0m\u001b[0;34m\u001b[0m\n",
      "\u001b[0;34m\u001b[0m    \u001b[0mmat\u001b[0m\u001b[0;34m:\u001b[0m \u001b[0mcupy\u001b[0m\u001b[0;34m.\u001b[0m\u001b[0mndarray\u001b[0m\u001b[0;34m,\u001b[0m\u001b[0;34m\u001b[0m\n",
      "\u001b[0;34m\u001b[0m    \u001b[0medges\u001b[0m\u001b[0;34m:\u001b[0m \u001b[0mcupy\u001b[0m\u001b[0;34m.\u001b[0m\u001b[0mndarray\u001b[0m\u001b[0;34m,\u001b[0m\u001b[0;34m\u001b[0m\n",
      "\u001b[0;34m\u001b[0m    \u001b[0mant_1_array\u001b[0m\u001b[0;34m:\u001b[0m \u001b[0mcupy\u001b[0m\u001b[0;34m.\u001b[0m\u001b[0mndarray\u001b[0m\u001b[0;34m,\u001b[0m\u001b[0;34m\u001b[0m\n",
      "\u001b[0;34m\u001b[0m    \u001b[0mant_2_array\u001b[0m\u001b[0;34m:\u001b[0m \u001b[0mcupy\u001b[0m\u001b[0;34m.\u001b[0m\u001b[0mndarray\u001b[0m\u001b[0;34m,\u001b[0m\u001b[0;34m\u001b[0m\n",
      "\u001b[0;34m\u001b[0m    \u001b[0mxp\u001b[0m\u001b[0;34m:\u001b[0m \u001b[0mAny\u001b[0m\u001b[0;34m,\u001b[0m\u001b[0;34m\u001b[0m\n",
      "\u001b[0;34m\u001b[0m    \u001b[0mis_zeropadded\u001b[0m\u001b[0;34m:\u001b[0m \u001b[0mbool\u001b[0m \u001b[0;34m=\u001b[0m \u001b[0;32mTrue\u001b[0m\u001b[0;34m,\u001b[0m\u001b[0;34m\u001b[0m\n",
      "\u001b[0;34m\u001b[0m\u001b[0;34m)\u001b[0m\u001b[0;34m\u001b[0m\u001b[0;34m\u001b[0m\u001b[0m\n",
      "\u001b[0;31mDocstring:\u001b[0m\n",
      "Apply a pair of complex gains to a matrix. Utilizes the Re/Im split.\n",
      "Only accounts for \"one half\" of the gain application, meaning the \n",
      "function is really performing eg. (g_1g_2*\\Delta_{1,2}), where it is \n",
      "understood that antenna's 1 and 2 belong to the baseline sitting at\n",
      "the same row as that baseline row in the \\Delta (\\Sigma) matrix. Note that \n",
      "although the matrix provided may be zeropadded, the gain matrix is zeropadded \n",
      "here and as such, should always be provided in an un-zeropadded (original) format.\n",
      "\n",
      "NOTE: Could be smart in the future to wrap the zeropadding of the gain \n",
      "    matrix in a separate function.\n",
      "\n",
      "Params\n",
      "------\n",
      "gains\n",
      "    1D array of Re/Im alternating gains to be applied to the source or\n",
      "    diffuse matrices. Contains one set of Re/Im gains for all antennas \n",
      "    in the array. \n",
      "mat\n",
      "    Gains are applied to this. Can be 2d as in original C-corrcal.\n",
      "    If 3d, is_zeropadded must be set to True\n",
      "edges\n",
      "    Indices of edges of redundant blocks in the diffuse matrix.\n",
      "ant_1_array\n",
      "    Indices of the first antenna in each baseline\n",
      "ant_2_array\n",
      "    Indices of the second antenna in each baseline\n",
      "xp\n",
      "    np for cpu (Numpy), cp for gpu (CuPy)\n",
      "is_zeropadded\n",
      "    Boolean. Indicate whether the provided matrix has been zeropadded \n",
      "    previously\n",
      "\n",
      "Returns\n",
      "-------\n",
      "out\n",
      "    Matrix with applied gains (explain this a bit better)\n",
      "\u001b[0;31mFile:\u001b[0m      ~/corrcal_gpu_pipeline/pipeline/utils.py\n",
      "\u001b[0;31mType:\u001b[0m      function"
     ]
    }
   ],
   "source": [
    "apply_gains_to_mat?\n",
    "# undo_zeropad?"
   ]
  },
  {
   "cell_type": "code",
   "execution_count": 4,
   "metadata": {},
   "outputs": [
    {
     "name": "stdout",
     "output_type": "stream",
     "text": [
      "\u001b[0;31mSignature:\u001b[0m \u001b[0msummarize_benchmark_results\u001b[0m\u001b[0;34m(\u001b[0m\u001b[0mfunction\u001b[0m\u001b[0;34m,\u001b[0m \u001b[0;34m*\u001b[0m\u001b[0margs\u001b[0m\u001b[0;34m)\u001b[0m\u001b[0;34m\u001b[0m\u001b[0;34m\u001b[0m\u001b[0m\n",
      "\u001b[0;31mDocstring:\u001b[0m\n",
      "Use the CuPy benchmark function and nicely print out just the\n",
      "total time spent on both the gpu and the cpu.\n",
      "\u001b[0;31mFile:\u001b[0m      ~/corrcal_gpu_pipeline/pipeline/utils.py\n",
      "\u001b[0;31mType:\u001b[0m      function"
     ]
    }
   ],
   "source": [
    "summarize_benchmark_results?"
   ]
  },
  {
   "cell_type": "code",
   "execution_count": 5,
   "metadata": {},
   "outputs": [
    {
     "name": "stdout",
     "output_type": "stream",
     "text": [
      "The edges of the redundant blocks have indices[ 0  4  8 14 30]\n"
     ]
    }
   ],
   "source": [
    "#simulation params relevant for testing application of gains to a matrix\n",
    "# n_ant = 15\n",
    "n_bl = \n",
    "n_gains = 4*n_ant\n",
    "n_eig = 3\n",
    "xp = cp  #run things on the gpu using cupy\n",
    "\n",
    "#this might be the easiest (and most general) way to devise an edges\n",
    "# array, though we hard code an ex. edges array to be sure it fits\n",
    "# the desired format of having no odd entries.\n",
    "edges = (xp.unique(xp.random.randint(1, n_bl/2-1, size = 3)*2))\n",
    "edges = xp.concatenate((xp.array([0]), edges, xp.array([n_bl])))\n",
    "print(f\"The edges of the redundant blocks have indices{edges}\")\n",
    "\n",
    "#some random noise, diffuse, and source covariance matrices\n",
    "xp = cp\n",
    "sim_diff_mat = xp.random.rand(n_bl, n_eig, dtype = 'float64')\n",
    "sim_gains = cp.random.rand(n_gains, dtype = 'float64') #Re/Im split + ant1 & ant 2 = 4*n_ant\n",
    "ant_1_array = cp.arange(n_ant)\n",
    "ant_2_array = cp.arange(n_ant, 2*n_ant)\n",
    "\n",
    "#zeropad the noise, diff, source mats\n",
    "zp_sim_diff_mat, largest_block, n_blocks = zeroPad(sim_diff_mat, edges, return_inv=False)\n",
    "\n",
    "#Need to reshape to give an extra dimension of n_blocks to be compatible with inv cov routine\n",
    "sim_diff_mat_3d = zp_sim_diff_mat.reshape(n_blocks, largest_block, n_eig)"
   ]
  },
  {
   "cell_type": "code",
   "execution_count": 6,
   "metadata": {},
   "outputs": [],
   "source": [
    "applied_gains = apply_gains_to_mat(sim_gains, sim_diff_mat_3d, edges, ant_1_array, ant_1_array, cp, True)"
   ]
  },
  {
   "cell_type": "code",
   "execution_count": 7,
   "metadata": {},
   "outputs": [
    {
     "name": "stdout",
     "output_type": "stream",
     "text": [
      "Input mat has shape (4, 16, 3)\n",
      "\n",
      "Gains applied mat has shape (4, 16, 3)\n",
      "\n",
      "The mat with gains applied looks like:\n",
      "\n",
      "[[[4.30253351e-02 4.61695153e-02 5.35443851e-02]\n",
      "  [4.95765444e-02 1.69144867e-02 5.72796261e-02]\n",
      "  [5.06890765e-01 1.95219456e-01 4.12420875e-01]\n",
      "  [4.11393123e-03 5.34941703e-01 4.66031133e-01]\n",
      "  [0.00000000e+00 0.00000000e+00 0.00000000e+00]\n",
      "  [0.00000000e+00 0.00000000e+00 0.00000000e+00]\n",
      "  [0.00000000e+00 0.00000000e+00 0.00000000e+00]\n",
      "  [0.00000000e+00 0.00000000e+00 0.00000000e+00]\n",
      "  [0.00000000e+00 0.00000000e+00 0.00000000e+00]\n",
      "  [0.00000000e+00 0.00000000e+00 0.00000000e+00]\n",
      "  [0.00000000e+00 0.00000000e+00 0.00000000e+00]\n",
      "  [0.00000000e+00 0.00000000e+00 0.00000000e+00]\n",
      "  [0.00000000e+00 0.00000000e+00 0.00000000e+00]\n",
      "  [0.00000000e+00 0.00000000e+00 0.00000000e+00]\n",
      "  [0.00000000e+00 0.00000000e+00 0.00000000e+00]\n",
      "  [0.00000000e+00 0.00000000e+00 0.00000000e+00]]\n",
      "\n",
      " [[1.84190039e+00 4.66043203e-01 3.78107459e-02]\n",
      "  [5.97790334e-01 9.33815176e-01 5.38353165e-01]\n",
      "  [9.74662336e-04 2.92416932e-02 1.38999612e-02]\n",
      "  [7.97805048e-03 1.34837551e-02 2.76791037e-02]\n",
      "  [0.00000000e+00 0.00000000e+00 0.00000000e+00]\n",
      "  [0.00000000e+00 0.00000000e+00 0.00000000e+00]\n",
      "  [0.00000000e+00 0.00000000e+00 0.00000000e+00]\n",
      "  [0.00000000e+00 0.00000000e+00 0.00000000e+00]\n",
      "  [0.00000000e+00 0.00000000e+00 0.00000000e+00]\n",
      "  [0.00000000e+00 0.00000000e+00 0.00000000e+00]\n",
      "  [0.00000000e+00 0.00000000e+00 0.00000000e+00]\n",
      "  [0.00000000e+00 0.00000000e+00 0.00000000e+00]\n",
      "  [0.00000000e+00 0.00000000e+00 0.00000000e+00]\n",
      "  [0.00000000e+00 0.00000000e+00 0.00000000e+00]\n",
      "  [0.00000000e+00 0.00000000e+00 0.00000000e+00]\n",
      "  [0.00000000e+00 0.00000000e+00 0.00000000e+00]]\n",
      "\n",
      " [[2.78915058e-01 6.19984671e-01 4.67298912e-01]\n",
      "  [7.84426031e-01 9.82370161e-01 5.04401971e-01]\n",
      "  [1.10872678e-01 1.43103608e-01 4.05459608e-01]\n",
      "  [5.44527028e-01 3.68003977e-01 6.37302388e-01]\n",
      "  [1.51386186e+00 5.66488069e-01 1.03851253e+00]\n",
      "  [9.85008267e-01 1.18960431e+00 2.70985920e-01]\n",
      "  [0.00000000e+00 0.00000000e+00 0.00000000e+00]\n",
      "  [0.00000000e+00 0.00000000e+00 0.00000000e+00]\n",
      "  [0.00000000e+00 0.00000000e+00 0.00000000e+00]\n",
      "  [0.00000000e+00 0.00000000e+00 0.00000000e+00]\n",
      "  [0.00000000e+00 0.00000000e+00 0.00000000e+00]\n",
      "  [0.00000000e+00 0.00000000e+00 0.00000000e+00]\n",
      "  [0.00000000e+00 0.00000000e+00 0.00000000e+00]\n",
      "  [0.00000000e+00 0.00000000e+00 0.00000000e+00]\n",
      "  [0.00000000e+00 0.00000000e+00 0.00000000e+00]\n",
      "  [0.00000000e+00 0.00000000e+00 0.00000000e+00]]\n",
      "\n",
      " [[8.42330994e-02 1.64623138e-01 3.93909084e-01]\n",
      "  [1.51313868e-01 1.46251740e-02 2.00459668e-01]\n",
      "  [9.02498493e-01 9.07006555e-01 5.02307399e-01]\n",
      "  [3.69679042e-01 1.05866575e-01 4.67900993e-01]\n",
      "  [3.85328154e-01 8.14627231e-01 4.97456053e-01]\n",
      "  [1.17143523e-01 7.62508043e-01 5.60368619e-02]\n",
      "  [3.33862645e-02 1.39199635e-01 4.92444010e-01]\n",
      "  [1.34968206e-01 2.78474329e-01 1.42855045e-01]\n",
      "  [4.68970325e-02 7.35682378e-02 4.68044839e-02]\n",
      "  [6.47191967e-02 9.82057759e-02 5.27727604e-02]\n",
      "  [1.56744406e-01 3.02969061e-01 3.78530834e-02]\n",
      "  [2.56602894e-01 2.87857793e-01 2.59967277e-01]\n",
      "  [1.69082721e-01 5.74824969e-01 5.50119441e-01]\n",
      "  [1.71780472e-01 5.81346079e-02 1.16764550e-01]\n",
      "  [1.58767851e-01 6.97814711e-02 1.60960261e-01]\n",
      "  [1.43587259e-01 2.25754790e-01 2.49410200e-02]]]\n"
     ]
    }
   ],
   "source": [
    "print(f\"Input mat has shape {sim_diff_mat_3d.shape}\")\n",
    "print()\n",
    "print(f\"Gains applied mat has shape {applied_gains.shape}\")\n",
    "print()\n",
    "print(f\"The mat with gains applied looks like:\\n\\n{applied_gains}\")"
   ]
  },
  {
   "cell_type": "markdown",
   "metadata": {},
   "source": [
    "#### Random Debugging tests"
   ]
  },
  {
   "cell_type": "code",
   "execution_count": 8,
   "metadata": {},
   "outputs": [
    {
     "name": "stdout",
     "output_type": "stream",
     "text": [
      "(2, 5, 1)\n",
      "(2, 5, 3)\n",
      "(10,)\n",
      "[[[0.21939056 0.64113813 0.46214428]\n",
      "  [0.62058711 0.4690525  0.58296433]\n",
      "  [0.12203577 0.90374314 0.14956712]\n",
      "  [0.03301137 0.5971557  0.09848793]\n",
      "  [0.99692167 0.2562628  0.27176516]]\n",
      "\n",
      " [[0.97666838 0.91647957 0.57702342]\n",
      "  [0.33962314 0.16453449 0.3320102 ]\n",
      "  [0.3976622  0.69911254 0.73140774]\n",
      "  [0.20320159 0.98686286 0.48927323]\n",
      "  [0.64270555 0.57394148 0.32598416]]]\n",
      "[[[0.21939056 0.64113813 0.46214428]\n",
      "  [0.12203577 0.90374314 0.14956712]\n",
      "  [0.99692167 0.2562628  0.27176516]]\n",
      "\n",
      " [[0.97666838 0.91647957 0.57702342]\n",
      "  [0.3976622  0.69911254 0.73140774]\n",
      "  [0.64270555 0.57394148 0.32598416]]]\n"
     ]
    }
   ],
   "source": [
    "m = np.random.rand(2, 5, 3)\n",
    "g = np.random.rand(10)\n",
    "\n",
    "gs = g[:, None] * g[:, None]\n",
    "gs = gs.reshape(m.shape[0], m.shape[1], 1)\n",
    "\n",
    "print(gs.shape)\n",
    "print(m.shape)\n",
    "print(g.shape)\n",
    "print(m)\n",
    "print(m[:, ::2])\n",
    "out = gs[:, ::2] * m[:, ::2]"
   ]
  },
  {
   "cell_type": "code",
   "execution_count": 9,
   "metadata": {},
   "outputs": [
    {
     "name": "stdout",
     "output_type": "stream",
     "text": [
      "[0.23682222 0.86665771 0.02597364 0.81493913 0.94997188 0.54719539\n",
      " 0.7356526  0.66542159 0.00969051 0.8292626 ]\n",
      "[0.23682222 0.86665771 0.02597364 0.81493913 0.94997188]\n",
      "\n",
      "[0.54719539 0.7356526  0.66542159 0.00969051 0.8292626 ]\n",
      "\n",
      "[0.23682222 0.86665771 0.02597364 0.81493913 0.94997188 0.54719539\n",
      " 0.7356526  0.66542159 0.00969051 0.8292626 ]\n",
      "\n",
      "[0.23682222 0.86665771 0.02597364 0.81493913 0.94997188]\n",
      "[0.54719539 0.7356526  0.66542159 0.00969051 0.8292626 ]\n"
     ]
    }
   ],
   "source": [
    "a = np.arange(5)\n",
    "b = np.arange(5,10)\n",
    "c = np.random.rand((a.shape[0] + b.shape[0]))\n",
    "print(c)\n",
    "d = c[a]\n",
    "e = c[b]\n",
    "\n",
    "print(d)\n",
    "print()\n",
    "print(e)\n",
    "print()\n",
    "print(np.concatenate((d, e)))\n",
    "print()\n",
    "aa = np.concatenate((d, e))\n",
    "\n",
    "print(aa[:int(len(aa)/2)])\n",
    "\n",
    "print(aa[int(len(aa)/2):])"
   ]
  },
  {
   "cell_type": "markdown",
   "metadata": {},
   "source": [
    "#### Check ZP computes the same thing as corrcal"
   ]
  },
  {
   "cell_type": "code",
   "execution_count": 10,
   "metadata": {},
   "outputs": [],
   "source": [
    "#Current corrcal gain application function\n",
    "def apply_gains_to_mat_corrcal(gains, mat, ant_1_array, ant_2_array):\n",
    "    \"\"\"Apply a gain-like matrix to a provided matrix.\"\"\"\n",
    "    complex_gains = gains[::2] + 1j*gains[1::2]\n",
    "    gain_mat = (\n",
    "        complex_gains[ant_1_array,None] * complex_gains[ant_2_array,None].conj()\n",
    "    )\n",
    "    out = np.zeros_like(mat)\n",
    "    out[::2] = gain_mat.real * mat[::2] - gain_mat.imag * mat[1::2]\n",
    "    out[1::2] = gain_mat.imag * mat[::2] + gain_mat.real * mat[1::2]\n",
    "    return out"
   ]
  },
  {
   "cell_type": "code",
   "execution_count": 11,
   "metadata": {},
   "outputs": [
    {
     "name": "stdout",
     "output_type": "stream",
     "text": [
      "The edges of the redundant blocks have indices[ 0  2  8 10 30]\n"
     ]
    }
   ],
   "source": [
    "#simulation params relevant for testing application of gains to a matrix\n",
    "n_ant = 15\n",
    "n_bl = 2*n_ant\n",
    "n_gains = 4*n_ant\n",
    "n_eig = 3\n",
    "xp = cp  #run things on the gpu using cupy\n",
    "\n",
    "#this might be the easiest (and most general) way to devise an edges\n",
    "# array, though we hard code an ex. edges array to be sure it fits\n",
    "# the desired format of having no odd entries.\n",
    "edges = (xp.unique(xp.random.randint(1, n_bl/2-1, size = 3)*2))\n",
    "edges = xp.concatenate((xp.array([0]), edges, xp.array([n_bl])))\n",
    "print(f\"The edges of the redundant blocks have indices{edges}\")\n",
    "\n",
    "#some random noise, diffuse, and source covariance matrices\n",
    "xp = cp\n",
    "sim_diff_mat = xp.random.rand(n_bl, n_eig, dtype = 'float64')\n",
    "sim_gains = cp.random.rand(n_gains, dtype = 'float64') #Re/Im split + ant1 & ant 2 = 4*n_ant\n",
    "ant_1_array = cp.arange(n_ant)\n",
    "ant_2_array = cp.arange(n_ant, 2*n_ant)\n",
    "\n",
    "#zeropad the noise, diff, source mats\n",
    "zp_sim_diff_mat, largest_block, n_blocks = zeroPad(sim_diff_mat, edges, return_inv=False)\n",
    "\n",
    "#Need to reshape to give an extra dimension of n_blocks to be compatible with inv cov routine\n",
    "sim_diff_mat_3d = zp_sim_diff_mat.reshape(n_blocks, largest_block, n_eig)\n"
   ]
  },
  {
   "cell_type": "code",
   "execution_count": 12,
   "metadata": {},
   "outputs": [],
   "source": [
    "# out_corrcal = apply_gains_to_mat_corrcal(sim_gains, sim_diff_mat, ant_1_array, ant_2_array)\n",
    "out_gpu = apply_gains_to_mat(sim_gains, sim_diff_mat_3d, edges, ant_1_array, ant_2_array, cp)\n",
    "out_gpu_corrcal = apply_gains_to_mat(sim_gains, sim_diff_mat, edges, ant_1_array, ant_2_array, cp, False)\n",
    "out_gpu_resh = undo_zeropad(out_gpu, edges, cp)"
   ]
  },
  {
   "cell_type": "code",
   "execution_count": 13,
   "metadata": {},
   "outputs": [
    {
     "name": "stdout",
     "output_type": "stream",
     "text": [
      "True\n"
     ]
    }
   ],
   "source": [
    "#should return True if my routine computes the same thing as the current corrcal routine\n",
    "print(cp.allclose(out_gpu_resh, out_gpu_corrcal))"
   ]
  },
  {
   "cell_type": "markdown",
   "metadata": {},
   "source": [
    "#### Timing test for np vs cp versions"
   ]
  },
  {
   "cell_type": "code",
   "execution_count": 43,
   "metadata": {},
   "outputs": [
    {
     "name": "stdout",
     "output_type": "stream",
     "text": [
      "The edges of the redundant blocks have indices[     0    450    582    840   1894   2002   2378   2414   2992   5950\n",
      "   6110   6524   7130   7172   7564   7956   8364   9218  10098  10322\n",
      "  10746  10788  10864  11148  11538  12016  12066  12562  12930  14366\n",
      "  14976  15266  15440  15868  17198  18384  18606  18962  19182  20220\n",
      "  20422  20484  20568  20970  21710  22080  22152  22806  22998  24198\n",
      "  24748  25418  25642  27326  27514  27612  28662  28688  28836  28930\n",
      "  28992  29304  29446  29536  29698  30366  30586  30624  31568  32222\n",
      "  32284  32496  33708  33980  34880  35488  35502  35796  36916  37332\n",
      "  37662  37814  38192  38694  39190  39684  39690  40364  41266  41456\n",
      "  42080  42552  44400  44518  45404  46074  46088  46390  46824  48336\n",
      "  48904  50238  50552  50920  51522  52146  53342  53394  53566  53988\n",
      "  54504  55294  55690  55974  56744  56798  57696  58672  58742  59156\n",
      "  59424  59554  59882  60070  60260  61202  61286  63004  64116  64264\n",
      "  64626  65050  65674  66336  66490  67220  67400  67486  67558  67940\n",
      "  68058  68124  69618  69838  70326  70998  72672  72688  72844  73198\n",
      "  73478  73752  73892  73946  74058  74070  74218  74774  76726  77072\n",
      "  77258  77718  77752  79120  80656  80672  81492  81562  81820  82854\n",
      "  83068  83234  83638  83850  84348  86390  86464  86544  88674  89010\n",
      "  89568  90578  91130  91446  91876  91878  92698  93206  94572  94872\n",
      "  95610  95826  96658  96948  97546  97710  98258  99142  99904 100006\n",
      " 100122 100844 101716 101828 101912 102064 102750 103416 103520 104044\n",
      " 104366 104492 104496 104856 104896 105106 105124 105564 105738 105810\n",
      " 106282 106988 107202 107356 108136 108166 108584 108686 108714 108726\n",
      " 108728 110716 111388 111810 111878 112026 112164 112234 112622 112654\n",
      " 112690 113342 114036 114630 115188 116644 116870 117506 118690 119464\n",
      " 121996 122396 122582 122606 122878 123050 123116 123308 124198 124236\n",
      " 126446 126840 127194 127402 127804 127992 128424 128498 128588 129474\n",
      " 130156 130888 131296 131342 131418 131584 132412 133484 133584 134554\n",
      " 134664 135022 135560 136598 136920 137012 137028 137446 138010 138128\n",
      " 138678 138838 139370 139392 139526 140078 140854 140890 141446 142080\n",
      " 142178 143414 143652 143764 144718 144742 145180 145246 145462 145610\n",
      " 145676 147034 147168 147802 148078 148310 148488 148734 149690 149852\n",
      " 149870 149990 150102 150936 150944 151708 151872 152092 152142 152152\n",
      " 152734 154556 154568 154948 155388 156008 156590 157282 157776 157932\n",
      " 159316 159348 159762 160768 161238 162282 162558 162738 162892 163452\n",
      " 163692 163834 164004 164276 164372 164802 165270 166312 166456 166546\n",
      " 166896 167056 167470 167570 167878 168060 169330 170694 170868 170924\n",
      " 170992 171396 173066 173194 173306 173934 174642 174674 176136 176252\n",
      " 176318 176462 178286 179050 179058 179124 179288 179356 180210 180240\n",
      " 180256 180610 180632 180698 180752 180944 181574 181694 181732 181844\n",
      " 181918 182964 184952 184966 185214 185444 185850 186458 186482 187314\n",
      " 188182 188230 188444 191036 191226 191844 192018 192122 192352 193658\n",
      " 193858 194566 194798 195400 196900 197390 197816 197906 198742 201098\n",
      " 201146 201502 201620 201712 201750 202170 202210 202358 202736 202892\n",
      " 203520 203538 203644 204182 204300 204522 205046 207490 208258 208974\n",
      " 209474 209716 211206 211812 211824 212192 212782 212834 213826 214660\n",
      " 215176 215576 216052 216760 216812 217056 217318 217806 218284 218856\n",
      " 220216 220474 220748 220764 220812 221682 222214 222836 222954 223658\n",
      " 224848 225856 226404 226674 226842 228170 228514 229008 229306 229630\n",
      " 229880 231362 231632 232516 232586 232696 233068 233102 233270 233528\n",
      " 233778 233884 234638 234724 235578 235616 235642 236192 236810 237262\n",
      " 237274 239442 239460 240000]\n",
      "514\n"
     ]
    }
   ],
   "source": [
    "#simulation params relevant for testing application of gains to a matrix\n",
    "n_bl = 240000  # something like 2*N_ant^2 for Re/Im split\n",
    "n_ant = 512\n",
    "n_gains = 2*n_bl  #one for each antenna and one for each Re and Im part\n",
    "n_eig = 3\n",
    "xp = cp  #run things on the gpu using cupy\n",
    "\n",
    "#this might be the easiest (and most general) way to devise an edges\n",
    "# array, though we hard code an ex. edges array to be sure it fits\n",
    "# the desired format of having no odd entries.\n",
    "if xp == cp:\n",
    "\n",
    "    edges = (xp.unique(xp.random.randint(1, n_bl/2-1, size = n_ant)*2))\n",
    "    edges = xp.concatenate((xp.array([0]), edges, xp.array([n_bl])))\n",
    "    print(f\"The edges of the redundant blocks have indices{edges}\")\n",
    "\n",
    "    #some random noise, diffuse, and source covariance matrices\n",
    "    sim_diff_mat = xp.random.rand(n_bl, n_eig, dtype = 'float64')\n",
    "    sim_gains = cp.random.rand(n_gains, dtype = 'float64') #Re/Im split + ant1 & ant 2 = 4*n_ant\n",
    "    \n",
    "    #leave as n_bl/2 since indexex into cplex gains which are not Re/Im split\n",
    "    ant_1_array = cp.arange(n_bl//2) \n",
    "    ant_2_array = cp.arange(n_bl//2)\n",
    "\n",
    "    #zeropad the noise, diff, source mats\n",
    "    zp_sim_diff_mat, largest_block, n_blocks = zeroPad(sim_diff_mat, edges, return_inv=False)\n",
    "\n",
    "    #Need to reshape to give an extra dimension of n_blocks to be compatible with inv cov routine\n",
    "    sim_diff_mat_3d = zp_sim_diff_mat.reshape(n_blocks, largest_block, n_eig)\n",
    "\n",
    "elif xp == np:\n",
    "    edges = (xp.unique(xp.random.randint(1, n_bl/2-1, size = n_ant)*2))\n",
    "    edges = xp.concatenate((xp.array([0]), edges, xp.array([n_bl])))\n",
    "    print(f\"The edges of the redundant blocks have indices{edges}\")\n",
    "\n",
    "    #some random noise, diffuse, and source covariance matrices\n",
    "    sim_diff_mat = xp.random.rand(n_bl, n_eig).astype('float64')\n",
    "    sim_gains = xp.random.rand(n_gains).astype('float64') #Re/Im split + ant1 & ant 2 = 4*n_ant\n",
    "    ant_1_array = xp.arange(n_bl//2)\n",
    "    ant_2_array = xp.arange(n_bl//2)\n",
    "\n",
    "    #zeropad the noise, diff, source mats\n",
    "    # zp_sim_diff_mat, largest_block, n_blocks = zeroPad(sim_diff_mat, edges, return_inv=False)\n",
    "\n",
    "    #Need to reshape to give an extra dimension of n_blocks to be compatible with inv cov routine\n",
    "    # sim_diff_mat_3d = zp_sim_diff_mat.reshape(n_blocks, largest_block, n_eig)\n",
    "\n",
    "print(len(edges))"
   ]
  },
  {
   "cell_type": "code",
   "execution_count": 42,
   "metadata": {},
   "outputs": [
    {
     "name": "stdout",
     "output_type": "stream",
     "text": [
      "<class 'numpy.ndarray'>\n",
      "<class 'numpy.ndarray'>\n",
      "Time on cpu: 0.014120s\n",
      "Time on gpu: 0.014666s\n"
     ]
    }
   ],
   "source": [
    "print(type(sim_diff_mat))\n",
    "print(type(sim_gains))\n",
    "summarize_benchmark_results(apply_gains_to_mat, sim_gains, sim_diff_mat, edges, ant_1_array, ant_2_array, xp, False)"
   ]
  },
  {
   "cell_type": "code",
   "execution_count": 45,
   "metadata": {},
   "outputs": [
    {
     "name": "stdout",
     "output_type": "stream",
     "text": [
      "<class 'cupy.ndarray'>\n",
      "<class 'cupy.ndarray'>\n",
      "Time on cpu: 0.002538s\n",
      "Time on gpu: 0.004685s\n"
     ]
    }
   ],
   "source": [
    "print(type(sim_diff_mat))\n",
    "print(type(sim_gains))\n",
    "summarize_benchmark_results(apply_gains_to_mat, sim_gains, sim_diff_mat_3d, edges, ant_1_array, ant_2_array, xp, True)"
   ]
  }
 ],
 "metadata": {
  "kernelspec": {
   "display_name": "Python 3",
   "language": "python",
   "name": "python3"
  },
  "language_info": {
   "codemirror_mode": {
    "name": "ipython",
    "version": 3
   },
   "file_extension": ".py",
   "mimetype": "text/x-python",
   "name": "python",
   "nbconvert_exporter": "python",
   "pygments_lexer": "ipython3",
   "version": "3.10.12"
  }
 },
 "nbformat": 4,
 "nbformat_minor": 2
}
