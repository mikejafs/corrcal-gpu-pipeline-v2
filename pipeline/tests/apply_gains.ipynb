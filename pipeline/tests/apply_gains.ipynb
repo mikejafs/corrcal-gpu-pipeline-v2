{
 "cells": [
  {
   "cell_type": "markdown",
   "metadata": {},
   "source": [
    "### Tests for Applying Gains Matrix"
   ]
  },
  {
   "metadata": {
    "ExecuteTime": {
     "end_time": "2025-02-28T03:24:46.546460Z",
     "start_time": "2025-02-28T03:24:46.540620Z"
    }
   },
   "cell_type": "code",
   "source": [
    "import sys\n",
    "from pathlib import Path\n",
    "parent_dir = Path.cwd().parent\n",
    "sys.path.insert(0, str(parent_dir))"
   ],
   "outputs": [],
   "execution_count": 3
  },
  {
   "cell_type": "code",
   "metadata": {
    "ExecuteTime": {
     "end_time": "2025-02-28T03:24:49.881993Z",
     "start_time": "2025-02-28T03:24:49.876381Z"
    }
   },
   "source": [
    "import cupy as cp\n",
    "import numpy as np\n",
    "from utils import *\n",
    "from zp_puregpu_funcs_py import *\n",
    "from invcov import *"
   ],
   "outputs": [],
   "execution_count": 5
  },
  {
   "cell_type": "code",
   "metadata": {
    "ExecuteTime": {
     "end_time": "2025-02-28T03:24:51.433113Z",
     "start_time": "2025-02-28T03:24:51.424771Z"
    }
   },
   "source": [
    "apply_gains_to_mat?\n",
    "# undo_zeropad?"
   ],
   "outputs": [],
   "execution_count": 6
  },
  {
   "cell_type": "code",
   "metadata": {
    "ExecuteTime": {
     "end_time": "2025-02-28T03:24:52.508693Z",
     "start_time": "2025-02-28T03:24:52.500911Z"
    }
   },
   "source": "summarize_benchmark_results?",
   "outputs": [],
   "execution_count": 7
  },
  {
   "cell_type": "code",
   "metadata": {
    "ExecuteTime": {
     "end_time": "2025-02-28T03:24:57.821943Z",
     "start_time": "2025-02-28T03:24:56.542250Z"
    }
   },
   "source": [
    "#simulation params relevant for testing application of gains to a matrix\n",
    "n_ant = 4\n",
    "n_bl = 30\n",
    "n_gains = 2*n_bl\n",
    "n_eig = 3\n",
    "xp = cp  #run things on the gpu using cupy\n",
    "\n",
    "#this might be the easiest (and most general) way to devise an edges\n",
    "# array, though we hard code an ex. edges array to be sure it fits\n",
    "# the desired format of having no odd entries.\n",
    "edges = (xp.unique(xp.random.randint(1, n_bl/2-1, size = n_ant)*2))\n",
    "edges = xp.concatenate((xp.array([0]), edges, xp.array([n_bl])))\n",
    "print(f\"The edges of the redundant blocks have indices{edges}\")\n",
    "\n",
    "#some random noise, diffuse, and source covariance matrices\n",
    "xp = cp\n",
    "sim_diff_mat = xp.random.rand(n_bl, n_eig, dtype = 'float64')\n",
    "sim_gains = cp.random.rand(n_gains, dtype = 'float64') #Re/Im split + ant1 & ant 2 = 4*n_ant\n",
    "ant_1_array = cp.arange(n_bl//2)\n",
    "ant_2_array = cp.arange(n_bl//2)\n",
    "\n",
    "#zeropad the noise, diff, source mats\n",
    "zp_sim_diff_mat, largest_block, n_blocks = zeroPad(sim_diff_mat, edges, return_inv=False)\n",
    "\n",
    "#Need to reshape to give an extra dimension of n_blocks to be compatible with inv cov routine\n",
    "sim_diff_mat_3d = zp_sim_diff_mat.reshape(n_blocks, largest_block, n_eig)"
   ],
   "outputs": [
    {
     "name": "stdout",
     "output_type": "stream",
     "text": [
      "The edges of the redundant blocks have indices[ 0  8 10 14 24 30]\n"
     ]
    }
   ],
   "execution_count": 8
  },
  {
   "cell_type": "code",
   "metadata": {
    "ExecuteTime": {
     "end_time": "2025-02-28T03:24:59.095686Z",
     "start_time": "2025-02-28T03:24:57.831874Z"
    }
   },
   "source": [
    "applied_gains = apply_gains_to_mat(sim_gains, sim_diff_mat_3d, edges, ant_1_array, ant_1_array, cp, True)"
   ],
   "outputs": [],
   "execution_count": 9
  },
  {
   "cell_type": "code",
   "metadata": {
    "ExecuteTime": {
     "end_time": "2025-02-28T03:25:00.581563Z",
     "start_time": "2025-02-28T03:25:00.571582Z"
    }
   },
   "source": [
    "print(f\"Input mat has shape {sim_diff_mat_3d.shape}\")\n",
    "print()\n",
    "print(f\"Gains applied mat has shape {applied_gains.shape}\")\n",
    "print()\n",
    "print(f\"The mat with gains applied looks like:\\n\\n{applied_gains}\")"
   ],
   "outputs": [
    {
     "name": "stdout",
     "output_type": "stream",
     "text": [
      "Input mat has shape (5, 10, 3)\n",
      "\n",
      "Gains applied mat has shape (5, 10, 3)\n",
      "\n",
      "The mat with gains applied looks like:\n",
      "\n",
      "[[[1.79832601e-01 2.37720325e-01 1.90664589e-02]\n",
      "  [1.02341087e-01 1.22167161e-01 8.87506807e-02]\n",
      "  [1.09012626e+00 1.06705123e+00 1.44143714e+00]\n",
      "  [2.26990831e-01 2.73063914e-01 4.44323651e-01]\n",
      "  [1.91781932e-02 4.82757735e-01 3.59954669e-01]\n",
      "  [1.04729585e-01 1.09782409e-03 2.48338803e-02]\n",
      "  [3.42354179e-03 3.59718579e-05 5.67986568e-04]\n",
      "  [4.51581109e-03 5.09967856e-03 4.97524668e-04]\n",
      "  [0.00000000e+00 0.00000000e+00 0.00000000e+00]\n",
      "  [0.00000000e+00 0.00000000e+00 0.00000000e+00]]\n",
      "\n",
      " [[2.50738809e-01 2.41775457e-02 7.09466708e-02]\n",
      "  [6.28242280e-02 1.31826499e-01 3.28829449e-01]\n",
      "  [0.00000000e+00 0.00000000e+00 0.00000000e+00]\n",
      "  [0.00000000e+00 0.00000000e+00 0.00000000e+00]\n",
      "  [0.00000000e+00 0.00000000e+00 0.00000000e+00]\n",
      "  [0.00000000e+00 0.00000000e+00 0.00000000e+00]\n",
      "  [0.00000000e+00 0.00000000e+00 0.00000000e+00]\n",
      "  [0.00000000e+00 0.00000000e+00 0.00000000e+00]\n",
      "  [0.00000000e+00 0.00000000e+00 0.00000000e+00]\n",
      "  [0.00000000e+00 0.00000000e+00 0.00000000e+00]]\n",
      "\n",
      " [[8.14073034e-01 6.86648695e-01 5.29824206e-01]\n",
      "  [9.18474737e-01 2.38804159e-02 2.10714793e-01]\n",
      "  [3.74547526e-01 3.52810889e-01 3.08530603e-03]\n",
      "  [3.77928842e-01 3.82187784e-01 1.64378320e-02]\n",
      "  [0.00000000e+00 0.00000000e+00 0.00000000e+00]\n",
      "  [0.00000000e+00 0.00000000e+00 0.00000000e+00]\n",
      "  [0.00000000e+00 0.00000000e+00 0.00000000e+00]\n",
      "  [0.00000000e+00 0.00000000e+00 0.00000000e+00]\n",
      "  [0.00000000e+00 0.00000000e+00 0.00000000e+00]\n",
      "  [0.00000000e+00 0.00000000e+00 0.00000000e+00]]\n",
      "\n",
      " [[3.26686438e-01 2.17885315e-01 5.99117214e-02]\n",
      "  [5.70778853e-01 5.41122485e-01 4.81683658e-01]\n",
      "  [3.00495297e-02 2.54622357e-01 2.18575226e-02]\n",
      "  [1.34687999e-01 1.78547599e-02 6.65761104e-02]\n",
      "  [4.32419065e-02 1.73558572e-01 3.35141673e-01]\n",
      "  [2.98210610e-01 1.47539005e-01 7.76542026e-01]\n",
      "  [1.08437583e-01 2.99114022e-03 1.90729938e-02]\n",
      "  [8.19667712e-02 8.72733901e-02 7.67887974e-02]\n",
      "  [2.99031649e-01 3.18933529e-02 1.11856022e+00]\n",
      "  [6.53865066e-01 1.00399278e-02 1.05423019e+00]]\n",
      "\n",
      " [[2.45434144e-01 7.02451861e-01 3.97524731e-01]\n",
      "  [7.16394310e-01 4.65635395e-01 6.42095419e-01]\n",
      "  [2.81271081e-01 4.72019394e-01 2.27929869e-01]\n",
      "  [3.64347147e-01 2.90110557e-01 7.96797845e-02]\n",
      "  [3.73727113e-01 5.81440801e-01 2.84886648e-01]\n",
      "  [5.57998202e-01 8.00809881e-01 4.65749117e-02]\n",
      "  [0.00000000e+00 0.00000000e+00 0.00000000e+00]\n",
      "  [0.00000000e+00 0.00000000e+00 0.00000000e+00]\n",
      "  [0.00000000e+00 0.00000000e+00 0.00000000e+00]\n",
      "  [0.00000000e+00 0.00000000e+00 0.00000000e+00]]]\n"
     ]
    }
   ],
   "execution_count": 10
  },
  {
   "cell_type": "markdown",
   "metadata": {},
   "source": [
    "#### Random Debugging tests"
   ]
  },
  {
   "cell_type": "code",
   "metadata": {
    "ExecuteTime": {
     "end_time": "2025-02-28T03:25:01.702416Z",
     "start_time": "2025-02-28T03:25:01.694535Z"
    }
   },
   "source": [
    "m = np.random.rand(2, 5, 3)\n",
    "g = np.random.rand(10)\n",
    "\n",
    "gs = g[:, None] * g[:, None]\n",
    "gs = gs.reshape(m.shape[0], m.shape[1], 1)\n",
    "\n",
    "print(gs.shape)\n",
    "print(m.shape)\n",
    "print(g.shape)\n",
    "print(m)\n",
    "print(m[:, ::2])\n",
    "out = gs[:, ::2] * m[:, ::2]"
   ],
   "outputs": [
    {
     "name": "stdout",
     "output_type": "stream",
     "text": [
      "(2, 5, 1)\n",
      "(2, 5, 3)\n",
      "(10,)\n",
      "[[[1.86114327e-03 1.56023192e-04 5.59169741e-01]\n",
      "  [4.52870338e-01 3.03159589e-02 2.80962128e-01]\n",
      "  [2.82347109e-02 2.49786608e-01 2.39384022e-01]\n",
      "  [2.83912693e-01 6.00083282e-01 9.29675871e-01]\n",
      "  [9.63820261e-01 2.64099350e-01 6.48553453e-02]]\n",
      "\n",
      " [[1.69096792e-01 6.76890205e-01 1.42107647e-01]\n",
      "  [2.01493494e-01 4.47112160e-01 6.92293322e-01]\n",
      "  [3.09090014e-01 6.84009080e-01 9.99210709e-01]\n",
      "  [2.30845735e-01 3.81976866e-01 2.80194881e-01]\n",
      "  [4.47762883e-01 4.97842489e-01 4.97491916e-01]]]\n",
      "[[[1.86114327e-03 1.56023192e-04 5.59169741e-01]\n",
      "  [2.82347109e-02 2.49786608e-01 2.39384022e-01]\n",
      "  [9.63820261e-01 2.64099350e-01 6.48553453e-02]]\n",
      "\n",
      " [[1.69096792e-01 6.76890205e-01 1.42107647e-01]\n",
      "  [3.09090014e-01 6.84009080e-01 9.99210709e-01]\n",
      "  [4.47762883e-01 4.97842489e-01 4.97491916e-01]]]\n"
     ]
    }
   ],
   "execution_count": 11
  },
  {
   "cell_type": "code",
   "metadata": {
    "ExecuteTime": {
     "end_time": "2025-02-28T03:25:01.955527Z",
     "start_time": "2025-02-28T03:25:01.946351Z"
    }
   },
   "source": [
    "a = np.arange(5)\n",
    "b = np.arange(5,10)\n",
    "c = np.random.rand((a.shape[0] + b.shape[0]))\n",
    "print(c)\n",
    "d = c[a]\n",
    "e = c[b]\n",
    "\n",
    "print(d)\n",
    "print()\n",
    "print(e)\n",
    "print()\n",
    "print(np.concatenate((d, e)))\n",
    "print()\n",
    "aa = np.concatenate((d, e))\n",
    "\n",
    "print(aa[:int(len(aa)/2)])\n",
    "\n",
    "print(aa[int(len(aa)/2):])"
   ],
   "outputs": [
    {
     "name": "stdout",
     "output_type": "stream",
     "text": [
      "[0.27548071 0.20219736 0.02630517 0.02697913 0.68606275 0.36724726\n",
      " 0.36389394 0.47875717 0.72525188 0.2169671 ]\n",
      "[0.27548071 0.20219736 0.02630517 0.02697913 0.68606275]\n",
      "\n",
      "[0.36724726 0.36389394 0.47875717 0.72525188 0.2169671 ]\n",
      "\n",
      "[0.27548071 0.20219736 0.02630517 0.02697913 0.68606275 0.36724726\n",
      " 0.36389394 0.47875717 0.72525188 0.2169671 ]\n",
      "\n",
      "[0.27548071 0.20219736 0.02630517 0.02697913 0.68606275]\n",
      "[0.36724726 0.36389394 0.47875717 0.72525188 0.2169671 ]\n"
     ]
    }
   ],
   "execution_count": 12
  },
  {
   "cell_type": "markdown",
   "metadata": {},
   "source": [
    "#### Check ZP computes the same thing as corrcal"
   ]
  },
  {
   "cell_type": "code",
   "metadata": {
    "ExecuteTime": {
     "end_time": "2025-02-28T03:25:02.214662Z",
     "start_time": "2025-02-28T03:25:02.207864Z"
    }
   },
   "source": [
    "#Current corrcal gain application function\n",
    "def apply_gains_to_mat_corrcal(gains, mat, ant_1_array, ant_2_array):\n",
    "    \"\"\"Apply a gain-like matrix to a provided matrix.\"\"\"\n",
    "    complex_gains = gains[::2] + 1j*gains[1::2]\n",
    "    gain_mat = (\n",
    "        complex_gains[ant_1_array,None] * complex_gains[ant_2_array,None].conj()\n",
    "    )\n",
    "    out = np.zeros_like(mat)\n",
    "    out[::2] = gain_mat.real * mat[::2] - gain_mat.imag * mat[1::2]\n",
    "    out[1::2] = gain_mat.imag * mat[::2] + gain_mat.real * mat[1::2]\n",
    "    return out"
   ],
   "outputs": [],
   "execution_count": 13
  },
  {
   "cell_type": "code",
   "metadata": {
    "ExecuteTime": {
     "end_time": "2025-02-28T03:25:02.500108Z",
     "start_time": "2025-02-28T03:25:02.481586Z"
    }
   },
   "source": [
    "#simulation params relevant for testing application of gains to a matrix\n",
    "n_ant = 15\n",
    "n_bl = 2*n_ant\n",
    "n_gains = 4*n_ant\n",
    "n_eig = 3\n",
    "xp = cp  #run things on the gpu using cupy\n",
    "\n",
    "#this might be the easiest (and most general) way to devise an edges\n",
    "# array, though we hard code an ex. edges array to be sure it fits\n",
    "# the desired format of having no odd entries.\n",
    "edges = (xp.unique(xp.random.randint(1, n_bl/2-1, size = 3)*2))\n",
    "edges = xp.concatenate((xp.array([0]), edges, xp.array([n_bl])))\n",
    "print(f\"The edges of the redundant blocks have indices{edges}\")\n",
    "\n",
    "#some random noise, diffuse, and source covariance matrices\n",
    "xp = cp\n",
    "sim_diff_mat = xp.random.rand(n_bl, n_eig, dtype = 'float64')\n",
    "sim_gains = cp.random.rand(n_gains, dtype = 'float64') #Re/Im split + ant1 & ant 2 = 4*n_ant\n",
    "ant_1_array = cp.arange(n_ant)\n",
    "ant_2_array = cp.arange(n_ant, 2*n_ant)\n",
    "\n",
    "#zeropad the noise, diff, source mats\n",
    "zp_sim_diff_mat, largest_block, n_blocks = zeroPad(sim_diff_mat, edges, return_inv=False)\n",
    "\n",
    "#Need to reshape to give an extra dimension of n_blocks to be compatible with inv cov routine\n",
    "sim_diff_mat_3d = zp_sim_diff_mat.reshape(n_blocks, largest_block, n_eig)\n"
   ],
   "outputs": [
    {
     "name": "stdout",
     "output_type": "stream",
     "text": [
      "The edges of the redundant blocks have indices[ 0 16 18 20 30]\n"
     ]
    }
   ],
   "execution_count": 14
  },
  {
   "cell_type": "code",
   "metadata": {
    "ExecuteTime": {
     "end_time": "2025-02-28T03:25:02.833351Z",
     "start_time": "2025-02-28T03:25:02.812953Z"
    }
   },
   "source": [
    "out_corrcal = apply_gains_to_mat_corrcal(sim_gains, sim_diff_mat, ant_1_array, ant_2_array)\n",
    "out_gpu = apply_gains_to_mat(sim_gains, sim_diff_mat_3d, edges, ant_1_array, ant_2_array, cp)\n",
    "out_gpu_corrcal = apply_gains_to_mat(sim_gains, sim_diff_mat, edges, ant_1_array, ant_2_array, cp, False)\n",
    "out_gpu_resh = undo_zeropad(out_gpu, edges, cp)"
   ],
   "outputs": [],
   "execution_count": 15
  },
  {
   "cell_type": "code",
   "metadata": {
    "ExecuteTime": {
     "end_time": "2025-02-28T03:25:04.164791Z",
     "start_time": "2025-02-28T03:25:03.111536Z"
    }
   },
   "source": [
    "#should return True if my routine computes the same thing as the current corrcal routine\n",
    "print(cp.allclose(out_gpu_resh, out_gpu_corrcal))\n",
    "print(cp.allclose(out_gpu_resh, out_corrcal))"
   ],
   "outputs": [
    {
     "name": "stdout",
     "output_type": "stream",
     "text": [
      "True\n",
      "True\n"
     ]
    }
   ],
   "execution_count": 16
  },
  {
   "cell_type": "markdown",
   "metadata": {},
   "source": [
    "#### Timing test for np vs cp versions"
   ]
  },
  {
   "cell_type": "code",
   "metadata": {
    "ExecuteTime": {
     "end_time": "2025-02-28T03:25:04.214251Z",
     "start_time": "2025-02-28T03:25:04.178829Z"
    }
   },
   "source": [
    "#simulation params relevant for testing application of gains to a matrix\n",
    "n_bl = 240000  # something like 2*N_ant^2 for Re/Im split\n",
    "n_ant = 512\n",
    "n_gains = 2*n_bl  #one for each antenna and one for each Re and Im part\n",
    "n_eig = 3\n",
    "xp = cp  #run things on the gpu using cupy\n",
    "\n",
    "#this might be the easiest (and most general) way to devise an edges\n",
    "# array, though we hard code an ex. edges array to be sure it fits\n",
    "# the desired format of having no odd entries.\n",
    "if xp == cp:\n",
    "\n",
    "    edges = (xp.unique(xp.random.randint(1, n_bl/2-1, size = n_ant)*2))\n",
    "    edges = xp.concatenate((xp.array([0]), edges, xp.array([n_bl])))\n",
    "    print(f\"The edges of the redundant blocks have indices{edges}\")\n",
    "\n",
    "    #some random noise, diffuse, and source covariance matrices\n",
    "    sim_diff_mat = xp.random.rand(n_bl, n_eig, dtype = 'float64')\n",
    "    sim_gains = cp.random.rand(n_gains, dtype = 'float64') #Re/Im split + ant1 & ant 2 = 4*n_ant\n",
    "\n",
    "    #leave as n_bl/2 since indexex into cplex gains which are not Re/Im split\n",
    "    ant_1_array = cp.arange(n_bl//2) \n",
    "    ant_2_array = cp.arange(n_bl//2)\n",
    "\n",
    "    #zeropad the noise, diff, source mats\n",
    "    zp_sim_diff_mat, largest_block, n_blocks = zeroPad(sim_diff_mat, edges, return_inv=False)\n",
    "\n",
    "    #Need to reshape to give an extra dimension of n_blocks to be compatible with inv cov routine\n",
    "    sim_diff_mat_3d = zp_sim_diff_mat.reshape(n_blocks, largest_block, n_eig)\n",
    "\n",
    "elif xp == np:\n",
    "    edges = (xp.unique(xp.random.randint(1, n_bl/2-1, size = n_ant)*2))\n",
    "    edges = xp.concatenate((xp.array([0]), edges, xp.array([n_bl])))\n",
    "    print(f\"The edges of the redundant blocks have indices{edges}\")\n",
    "\n",
    "    #some random noise, diffuse, and source covariance matrices\n",
    "    sim_diff_mat = xp.random.rand(n_bl, n_eig).astype('float64')\n",
    "    sim_gains = xp.random.rand(n_gains).astype('float64') #Re/Im split + ant1 & ant 2 = 4*n_ant\n",
    "    ant_1_array = xp.arange(n_bl//2)\n",
    "    ant_2_array = xp.arange(n_bl//2)\n",
    "\n",
    "    #zeropad the noise, diff, source mats\n",
    "    # zp_sim_diff_mat, largest_block, n_blocks = zeroPad(sim_diff_mat, edges, return_inv=False)\n",
    "\n",
    "    #Need to reshape to give an extra dimension of n_blocks to be compatible with inv cov routine\n",
    "    # sim_diff_mat_3d = zp_sim_diff_mat.reshape(n_blocks, largest_block, n_eig)\n",
    "\n",
    "print(len(edges))"
   ],
   "outputs": [
    {
     "name": "stdout",
     "output_type": "stream",
     "text": [
      "The edges of the redundant blocks have indices[     0    640    770    930   1162   1616   1742   4276   5208   5776\n",
      "   6002   6608   6792   7380   7454   7892   7900   8054   8148   8178\n",
      "   8284   8436   9212  10036  10812  10884  10904  11402  11426  12078\n",
      "  12502  12586  12802  13148  13940  14096  15918  16620  17010  17264\n",
      "  17506  17514  17614  19040  19470  20150  20464  20990  21912  22088\n",
      "  22222  22462  24084  24310  24466  24990  26270  27170  27224  27728\n",
      "  28044  28972  29298  30254  30284  30756  30884  31396  32250  32590\n",
      "  32828  35958  36230  36712  36916  37140  37188  37218  37926  38364\n",
      "  38758  38920  39418  40312  40488  40740  41172  41772  42538  42592\n",
      "  43100  43622  43920  44208  44334  44618  44872  45092  45328  45472\n",
      "  45780  46030  46070  46208  46470  46664  46700  47256  47264  47286\n",
      "  48022  48418  48650  50006  50344  50814  51226  51374  51924  52140\n",
      "  52738  53220  53338  54450  54960  54974  55666  55684  55714  55848\n",
      "  56142  56238  56250  56270  56478  56710  57230  58034  58780  58920\n",
      "  59320  59582  59696  59866  60532  62096  62136  63112  63200  63352\n",
      "  63702  63770  63940  64436  64958  66108  66180  66874  67328  67412\n",
      "  68028  68038  68064  68398  68878  68914  69632  69708  69724  69824\n",
      "  70108  70722  70816  70860  72294  75126  76330  76394  76926  77294\n",
      "  77570  78702  78958  80230  80674  81096  81400  81552  82080  82180\n",
      "  82358  82436  82788  82822  83454  83460  83648  84496  84694  84976\n",
      "  85076  86200  86908  86944  87310  87650  88286  88292  88540  88912\n",
      "  88972  89480  89718  89898  90232  90378  90694  91452  91564  91786\n",
      "  92982  93442  94008  94872  94888  95066  95282  95574  97424 101066\n",
      " 101164 101536 104122 105696 106334 106582 106898 107514 108034 108054\n",
      " 108356 109022 109092 109484 109714 109924 110484 110662 110768 111336\n",
      " 111470 111754 112880 113544 113592 113692 113726 114086 114622 114750\n",
      " 115350 116158 116756 117398 117638 117706 118044 118056 118454 118564\n",
      " 118592 118734 120244 120856 121028 121372 122256 122480 123532 123684\n",
      " 123960 124038 124164 124336 124592 124734 125004 125482 126452 126712\n",
      " 126966 127054 127888 128484 128752 129054 129066 129286 129388 129610\n",
      " 129994 130034 130216 130380 130990 131050 131364 131392 131470 133104\n",
      " 133900 134188 134398 134506 136034 136398 136658 136806 136986 137036\n",
      " 138258 138272 138424 138658 138900 139240 140374 140912 140960 141108\n",
      " 141362 141828 142676 143870 145784 146760 147284 147930 147978 147990\n",
      " 147998 148276 149670 152046 152890 153122 153510 153588 154054 155608\n",
      " 155796 155888 156684 157792 158332 158460 158584 159160 159872 160750\n",
      " 160824 161188 161478 161694 161778 161846 163398 165020 165240 165496\n",
      " 165698 166926 167172 167362 167484 168732 168768 168922 169568 169874\n",
      " 170128 170396 170450 171026 171406 172062 172170 174150 174496 175194\n",
      " 175352 175578 175926 176318 176728 176824 177484 178740 178850 179922\n",
      " 181186 182924 183254 183694 184004 184230 184586 184596 184666 184746\n",
      " 185630 186598 186638 186760 187024 187044 187458 188282 189178 189332\n",
      " 189502 189552 190794 191274 192780 192836 193064 193308 193646 193698\n",
      " 193878 193894 194322 194396 194512 194676 194984 195528 196252 197162\n",
      " 197272 198420 198678 198872 199296 200074 200296 201486 202818 203206\n",
      " 203302 204980 205108 205602 205664 208364 209272 209450 209754 210062\n",
      " 210870 211078 211504 213100 214160 214162 215228 215352 216338 216436\n",
      " 216626 216952 217350 217508 217846 218490 219396 219952 220042 221054\n",
      " 221540 223492 224740 225034 226020 227586 227972 228166 229764 229810\n",
      " 230886 231086 231136 232074 232604 233168 235368 235524 236304 236656\n",
      " 236872 237034 237096 237610 237728 237746 237764 238366 238602 238782\n",
      " 239384 239748 240000]\n",
      "513\n"
     ]
    }
   ],
   "execution_count": 17
  },
  {
   "cell_type": "code",
   "metadata": {
    "ExecuteTime": {
     "end_time": "2025-02-28T03:25:06.234754Z",
     "start_time": "2025-02-28T03:25:04.859116Z"
    }
   },
   "source": [
    "print(type(sim_diff_mat))\n",
    "print(type(sim_gains))\n",
    "summarize_benchmark_results(apply_gains_to_mat, sim_gains, sim_diff_mat, edges, ant_1_array, ant_2_array, xp, False)"
   ],
   "outputs": [
    {
     "name": "stdout",
     "output_type": "stream",
     "text": [
      "<class 'cupy.ndarray'>\n",
      "<class 'cupy.ndarray'>\n",
      "Time on cpu: 0.001015s\n",
      "Time on gpu: 0.001206s\n"
     ]
    }
   ],
   "execution_count": 18
  },
  {
   "cell_type": "code",
   "metadata": {
    "ExecuteTime": {
     "end_time": "2025-02-28T03:25:11.521744Z",
     "start_time": "2025-02-28T03:25:06.288616Z"
    }
   },
   "source": [
    "print(type(sim_diff_mat))\n",
    "print(type(sim_gains))\n",
    "summarize_benchmark_results(apply_gains_to_mat, sim_gains, sim_diff_mat_3d, edges, ant_1_array, ant_2_array, xp, True)"
   ],
   "outputs": [
    {
     "name": "stdout",
     "output_type": "stream",
     "text": [
      "<class 'cupy.ndarray'>\n",
      "<class 'cupy.ndarray'>\n",
      "Time on cpu: 0.002877s\n",
      "Time on gpu: 0.004999s\n"
     ]
    }
   ],
   "execution_count": 19
  },
  {
   "metadata": {},
   "cell_type": "markdown",
   "source": "### Random debugging...."
  },
  {
   "metadata": {
    "ExecuteTime": {
     "end_time": "2025-03-01T14:56:03.519182Z",
     "start_time": "2025-03-01T14:56:03.513219Z"
    }
   },
   "cell_type": "code",
   "source": [
    "import numpy as np\n",
    "mat = np.random.rand(3, 2, 3)\n",
    "print(mat)\n",
    "gm = np.arange(6)\n",
    "gm = gm.reshape(3, 2, 1)\n",
    "print(gm)\n",
    "print()\n",
    "print(gm * mat)"
   ],
   "outputs": [
    {
     "name": "stdout",
     "output_type": "stream",
     "text": [
      "[[[0.25805107 0.10975667 0.0127483 ]\n",
      "  [0.60295261 0.68578718 0.30930862]]\n",
      "\n",
      " [[0.26352463 0.32566188 0.47140867]\n",
      "  [0.96412682 0.77976336 0.89265702]]\n",
      "\n",
      " [[0.90555489 0.9337359  0.94056508]\n",
      "  [0.29599784 0.34932493 0.94214839]]]\n",
      "[[[0]\n",
      "  [1]]\n",
      "\n",
      " [[2]\n",
      "  [3]]\n",
      "\n",
      " [[4]\n",
      "  [5]]]\n",
      "\n",
      "[[[0.         0.         0.        ]\n",
      "  [0.60295261 0.68578718 0.30930862]]\n",
      "\n",
      " [[0.52704926 0.65132376 0.94281734]\n",
      "  [2.89238046 2.33929009 2.67797105]]\n",
      "\n",
      " [[3.62221958 3.73494359 3.7622603 ]\n",
      "  [1.47998921 1.74662463 4.71074195]]]\n"
     ]
    }
   ],
   "execution_count": 5
  },
  {
   "metadata": {
    "ExecuteTime": {
     "end_time": "2025-03-01T15:44:37.330727Z",
     "start_time": "2025-03-01T15:44:37.325860Z"
    }
   },
   "cell_type": "code",
   "source": [
    "a = np.random.rand(4,4)\n",
    "print(a)\n",
    "print(a[::2])"
   ],
   "outputs": [
    {
     "name": "stdout",
     "output_type": "stream",
     "text": [
      "[[0.41763539 0.56619337 0.25594049 0.47654163]\n",
      " [0.75982616 0.21497384 0.31961329 0.37099003]\n",
      " [0.47325748 0.2578755  0.3074834  0.40192564]\n",
      " [0.93266381 0.53751097 0.96622743 0.17613385]]\n",
      "[[0.41763539 0.56619337 0.25594049 0.47654163]\n",
      " [0.47325748 0.2578755  0.3074834  0.40192564]]\n"
     ]
    }
   ],
   "execution_count": 8
  },
  {
   "metadata": {
    "ExecuteTime": {
     "end_time": "2025-03-01T16:26:19.054731Z",
     "start_time": "2025-03-01T16:26:19.050105Z"
    }
   },
   "cell_type": "code",
   "source": [
    "a = np.arange(15)\n",
    "b = np.arange(15)\n",
    "\n",
    "print(a[:, None]* b[:, None])"
   ],
   "outputs": [
    {
     "name": "stdout",
     "output_type": "stream",
     "text": [
      "[[  0]\n",
      " [  1]\n",
      " [  4]\n",
      " [  9]\n",
      " [ 16]\n",
      " [ 25]\n",
      " [ 36]\n",
      " [ 49]\n",
      " [ 64]\n",
      " [ 81]\n",
      " [100]\n",
      " [121]\n",
      " [144]\n",
      " [169]\n",
      " [196]]\n"
     ]
    }
   ],
   "execution_count": 11
  }
 ],
 "metadata": {
  "kernelspec": {
   "display_name": "Python 3",
   "language": "python",
   "name": "python3"
  },
  "language_info": {
   "codemirror_mode": {
    "name": "ipython",
    "version": 3
   },
   "file_extension": ".py",
   "mimetype": "text/x-python",
   "name": "python",
   "nbconvert_exporter": "python",
   "pygments_lexer": "ipython3",
   "version": "3.10.12"
  }
 },
 "nbformat": 4,
 "nbformat_minor": 2
}
