{
 "cells": [
  {
   "cell_type": "markdown",
   "metadata": {},
   "source": [
    "### Matrix Shape Tests for Applying Gains Matrix"
   ]
  },
  {
   "cell_type": "code",
   "execution_count": 1,
   "metadata": {},
   "outputs": [],
   "source": [
    "import cupy as cp\n",
    "from utils import *\n",
    "from zp_puregpu_funcs_py import *"
   ]
  },
  {
   "cell_type": "code",
   "execution_count": 2,
   "metadata": {},
   "outputs": [
    {
     "name": "stdout",
     "output_type": "stream",
     "text": [
      "\u001b[0;31mSignature:\u001b[0m\n",
      "\u001b[0mapply_gains_to_mat\u001b[0m\u001b[0;34m(\u001b[0m\u001b[0;34m\u001b[0m\n",
      "\u001b[0;34m\u001b[0m    \u001b[0mgains\u001b[0m\u001b[0;34m,\u001b[0m\u001b[0;34m\u001b[0m\n",
      "\u001b[0;34m\u001b[0m    \u001b[0mmat\u001b[0m\u001b[0;34m,\u001b[0m\u001b[0;34m\u001b[0m\n",
      "\u001b[0;34m\u001b[0m    \u001b[0medges\u001b[0m\u001b[0;34m,\u001b[0m\u001b[0;34m\u001b[0m\n",
      "\u001b[0;34m\u001b[0m    \u001b[0mant_1_array\u001b[0m\u001b[0;34m,\u001b[0m\u001b[0;34m\u001b[0m\n",
      "\u001b[0;34m\u001b[0m    \u001b[0mant_2_array\u001b[0m\u001b[0;34m,\u001b[0m\u001b[0;34m\u001b[0m\n",
      "\u001b[0;34m\u001b[0m    \u001b[0mxp\u001b[0m\u001b[0;34m,\u001b[0m\u001b[0;34m\u001b[0m\n",
      "\u001b[0;34m\u001b[0m    \u001b[0mis_zeropadded\u001b[0m\u001b[0;34m=\u001b[0m\u001b[0;32mTrue\u001b[0m\u001b[0;34m,\u001b[0m\u001b[0;34m\u001b[0m\n",
      "\u001b[0;34m\u001b[0m\u001b[0;34m)\u001b[0m\u001b[0;34m\u001b[0m\u001b[0;34m\u001b[0m\u001b[0m\n",
      "\u001b[0;31mDocstring:\u001b[0m\n",
      "Apply a pair of complex gains to a matrix. Utilizes the Re/Im split.\n",
      "Only accounts for \"one half\" of the gain application, meaning the \n",
      "function is really performing (g_1g_2*\\Delta_{1,2}), where it is \n",
      "understood that antenna's 1 and 2 below to the baseline sitting at\n",
      "the same row as that baseline row in the \\Delta matrix.\n",
      "\n",
      "Params\n",
      "------\n",
      "mat: Gains are applied to this. Can be 2d as in original C-corrcal.\n",
      "    If 3d, is_zeropadded must be set to True\n",
      "\n",
      "Returns\n",
      "-------\n",
      "out: Matrix with applied gains (explain this a bit better)\n",
      "\u001b[0;31mFile:\u001b[0m      ~/corrcal_gpu_pipeline/pipeline/utils.py\n",
      "\u001b[0;31mType:\u001b[0m      function"
     ]
    }
   ],
   "source": [
    "apply_gains_to_mat?"
   ]
  },
  {
   "cell_type": "code",
   "execution_count": 3,
   "metadata": {},
   "outputs": [
    {
     "name": "stdout",
     "output_type": "stream",
     "text": [
      "The edges of the redundant blocks have indices[ 0  2 14 20]\n",
      "<class 'cupy.ndarray'>\n",
      "<class 'cupy.ndarray'>\n",
      "<class 'cupy.ndarray'>\n",
      "<class 'cupy.ndarray'>\n"
     ]
    }
   ],
   "source": [
    "#simulation params\n",
    "n_ant = 10\n",
    "n_bl = 2*n_ant\n",
    "n_gains = 4*n_ant\n",
    "n_eig = 3\n",
    "n_src = 5\n",
    "xp = cp  #run things on the gpu using cupy\n",
    "\n",
    "#random array of edges for the diffuse matrix\n",
    "edges = xp.unique(xp.random.randint(1, n_bl-1, size = 2))\n",
    "edges = xp.concatenate((xp.array([0]), edges, xp.array([n_bl])))\n",
    "print(f\"The edges of the redundant blocks have indices{edges}\")\n",
    "\n",
    "#some random noise, diffuse, and source covariance matrices\n",
    "xp = cp\n",
    "sim_noise_mat = xp.random.rand(n_bl, dtype = 'float64')**2   #in principle this is squared since is a variance\n",
    "sim_diff_mat = xp.random.rand(n_bl, n_eig, dtype = 'float64')\n",
    "sim_src_mat = xp.random.rand(n_bl, n_src, dtype = 'float64')\n",
    "sim_data_vec = xp.random.rand(n_bl, dtype = 'float64')\n",
    "sim_gains = cp.random.rand(n_gains, dtype = 'float64') #Re/Im split + ant1 & ant 2 = 4*n_ant\n",
    "\n",
    "print(type(sim_noise_mat))\n",
    "print(type(sim_diff_mat))\n",
    "print(type(sim_src_mat))\n",
    "print(type(sim_data_vec))\n",
    "\n",
    "#zeropad the noise, diff, source mats\n",
    "zp_sim_noise_mat_inv, largest_block, n_blocks = zeroPad(sim_noise_mat, edges, return_inv=True)  #return inverse set to True to get around div by 0 issue\n",
    "zp_sim_noise_mat, largest_block, n_blocks = zeroPad(sim_noise_mat, edges, return_inv=False)  #return inverse set to False for sims later on\n",
    "zp_sim_diff_mat, largest_block, n_blocks = zeroPad(sim_diff_mat, edges, return_inv=False)\n",
    "zp_sim_src_mat, largest_block, n_blocks = zeroPad(sim_src_mat, edges, return_inv=False)\n",
    "\n",
    "#Need to reshape to give an extra dimension of n_blocks to be compatible with inv cov routine\n",
    "sim_noise_mat_2d = zp_sim_noise_mat_inv.reshape(n_blocks, largest_block)   #Again, its worth noting the values of the noise mat are really 1/noise_vals here\n",
    "sim_diff_mat_3d = zp_sim_diff_mat.reshape(n_blocks, largest_block, n_eig)\n",
    "sim_src_mat_3d = zp_sim_src_mat.reshape(n_blocks, largest_block, n_src)"
   ]
  },
  {
   "cell_type": "code",
   "execution_count": 4,
   "metadata": {},
   "outputs": [],
   "source": [
    "import numpy as np\n",
    "m = np.random.rand(5,6,3)\n",
    "n = np.random.rand(5,6,3)\n",
    "n = n.reshape(5*6, 3)\n",
    "# b = m[:, ::2] * n[:, ::2]\n",
    "# v = m * n\n",
    "# print(b)\n",
    "# print(v)\n",
    "# print(m[:, ::2])"
   ]
  },
  {
   "cell_type": "code",
   "execution_count": 5,
   "metadata": {},
   "outputs": [],
   "source": [
    "from utils import *\n"
   ]
  },
  {
   "cell_type": "code",
   "execution_count": 6,
   "metadata": {},
   "outputs": [
    {
     "name": "stdout",
     "output_type": "stream",
     "text": [
      "(20, 3)\n",
      "(36, 3)\n"
     ]
    }
   ],
   "source": [
    "print(sim_diff_mat.shape)\n",
    "print(zp_sim_diff_mat.shape)"
   ]
  },
  {
   "cell_type": "code",
   "execution_count": 7,
   "metadata": {},
   "outputs": [
    {
     "name": "stdout",
     "output_type": "stream",
     "text": [
      "(10,)\n",
      "(20, 3)\n",
      "(36, 3)\n",
      "(3, 12, 3)\n",
      "(40,)\n"
     ]
    }
   ],
   "source": [
    "ant_1_array = cp.arange(n_ant)\n",
    "print(ant_1_array.shape)\n",
    "print(sim_diff_mat.shape)\n",
    "print(zp_sim_diff_mat.shape)\n",
    "print(sim_diff_mat_3d.shape)\n",
    "print(sim_gains.shape)"
   ]
  },
  {
   "cell_type": "code",
   "execution_count": 8,
   "metadata": {},
   "outputs": [
    {
     "name": "stdout",
     "output_type": "stream",
     "text": [
      "(3, 12, 3)\n",
      "\n",
      "[0.63772347 0.98611188 0.9693958  0.08645951 0.72853302 0.91334308\n",
      " 0.62860848 0.73099463 0.51909912 0.16445776 0.63789684 0.64339438\n",
      " 0.94515611 0.70859123 0.33437534 0.82088593 0.0935104  0.75720455\n",
      " 0.9136245  0.03193133]\n",
      "[0.63772347 0.98611188 0.9693958  0.08645951 0.72853302 0.91334308\n",
      " 0.62860848 0.73099463 0.51909912 0.16445776 0.63772347 0.98611188\n",
      " 0.9693958  0.08645951 0.72853302 0.91334308 0.62860848 0.73099463\n",
      " 0.51909912 0.16445776]\n",
      "(36,)\n",
      "[0.63772347 0.98611188 0.         0.         0.         0.\n",
      " 0.         0.         0.         0.         0.         0.\n",
      " 0.9693958  0.08645951 0.72853302 0.91334308 0.62860848 0.73099463\n",
      " 0.51909912 0.16445776 0.63772347 0.98611188 0.9693958  0.08645951\n",
      " 0.72853302 0.91334308 0.62860848 0.73099463 0.51909912 0.16445776\n",
      " 0.         0.         0.         0.         0.         0.        ]\n",
      "(10,)\n",
      "(10,)\n",
      "(10,)\n",
      "(18,)\n",
      "(18,)\n",
      "(18,)\n",
      "[[0.66208339+8.89870062e-18j]\n",
      " [0.3243475 +2.48803399e-19j]\n",
      " [0.        +0.00000000e+00j]\n",
      " [0.        +0.00000000e+00j]\n",
      " [0.        +0.00000000e+00j]\n",
      " [0.        +0.00000000e+00j]\n",
      " [0.        +0.00000000e+00j]\n",
      " [0.        +0.00000000e+00j]\n",
      " [0.        +0.00000000e+00j]\n",
      " [0.        +0.00000000e+00j]\n",
      " [0.        +0.00000000e+00j]\n",
      " [0.        +0.00000000e+00j]\n",
      " [0.        +0.00000000e+00j]\n",
      " [0.        +0.00000000e+00j]\n",
      " [0.        +0.00000000e+00j]\n",
      " [0.        +0.00000000e+00j]\n",
      " [0.        +0.00000000e+00j]\n",
      " [0.        +0.00000000e+00j]]\n"
     ]
    },
    {
     "ename": "ValueError",
     "evalue": "cannot reshape array of size 18 into shape (3, 12, 1)",
     "output_type": "error",
     "traceback": [
      "\u001b[0;31m---------------------------------------------------------------------------\u001b[0m",
      "\u001b[0;31mValueError\u001b[0m                                Traceback (most recent call last)",
      "Cell \u001b[0;32mIn[8], line 1\u001b[0m\n\u001b[0;32m----> 1\u001b[0m \u001b[43mapply_gains_to_mat\u001b[49m\u001b[43m(\u001b[49m\u001b[43msim_gains\u001b[49m\u001b[43m,\u001b[49m\u001b[43m \u001b[49m\u001b[43msim_diff_mat_3d\u001b[49m\u001b[43m,\u001b[49m\u001b[43m \u001b[49m\u001b[43medges\u001b[49m\u001b[43m,\u001b[49m\u001b[43m \u001b[49m\u001b[43mant_1_array\u001b[49m\u001b[43m,\u001b[49m\u001b[43m \u001b[49m\u001b[43mant_1_array\u001b[49m\u001b[43m,\u001b[49m\u001b[43m \u001b[49m\u001b[43mcp\u001b[49m\u001b[43m,\u001b[49m\u001b[43m \u001b[49m\u001b[38;5;28;43;01mTrue\u001b[39;49;00m\u001b[43m)\u001b[49m\n",
      "File \u001b[0;32m~/corrcal_gpu_pipeline/pipeline/utils.py:90\u001b[0m, in \u001b[0;36mapply_gains_to_mat\u001b[0;34m(gains, mat, edges, ant_1_array, ant_2_array, xp, is_zeropadded)\u001b[0m\n\u001b[1;32m     87\u001b[0m zp_gain_mat \u001b[38;5;241m=\u001b[39m zp_cgs_a1[:, \u001b[38;5;28;01mNone\u001b[39;00m] \u001b[38;5;241m*\u001b[39m zp_cgs_a2[:, \u001b[38;5;28;01mNone\u001b[39;00m]\u001b[38;5;241m.\u001b[39mconj()\n\u001b[1;32m     88\u001b[0m \u001b[38;5;28mprint\u001b[39m(zp_gain_mat)\n\u001b[0;32m---> 90\u001b[0m zp_gain_mat_resh \u001b[38;5;241m=\u001b[39m \u001b[43mzp_gain_mat\u001b[49m\u001b[38;5;241;43m.\u001b[39;49m\u001b[43mreshape\u001b[49m\u001b[43m(\u001b[49m\u001b[43mmat\u001b[49m\u001b[38;5;241;43m.\u001b[39;49m\u001b[43mshape\u001b[49m\u001b[43m[\u001b[49m\u001b[38;5;241;43m0\u001b[39;49m\u001b[43m]\u001b[49m\u001b[43m,\u001b[49m\u001b[43m \u001b[49m\u001b[43mlb\u001b[49m\u001b[43m,\u001b[49m\u001b[43m \u001b[49m\u001b[38;5;241;43m1\u001b[39;49m\u001b[43m)\u001b[49m\n\u001b[1;32m     92\u001b[0m \u001b[38;5;28mprint\u001b[39m(\u001b[38;5;124mf\u001b[39m\u001b[38;5;124m\"\u001b[39m\u001b[38;5;124mzp gain mat shape \u001b[39m\u001b[38;5;132;01m{\u001b[39;00mzp_gain_mat_resh\u001b[38;5;241m.\u001b[39mshape\u001b[38;5;132;01m}\u001b[39;00m\u001b[38;5;124m\"\u001b[39m)\n\u001b[1;32m     93\u001b[0m \u001b[38;5;28mprint\u001b[39m(zp_gain_mat_resh\u001b[38;5;241m.\u001b[39mreal)\n",
      "File \u001b[0;32mcupy/_core/core.pyx:758\u001b[0m, in \u001b[0;36mcupy._core.core._ndarray_base.reshape\u001b[0;34m()\u001b[0m\n",
      "File \u001b[0;32mcupy/_core/_routines_manipulation.pyx:82\u001b[0m, in \u001b[0;36mcupy._core._routines_manipulation._ndarray_reshape\u001b[0;34m()\u001b[0m\n",
      "File \u001b[0;32mcupy/_core/_routines_manipulation.pyx:351\u001b[0m, in \u001b[0;36mcupy._core._routines_manipulation._reshape\u001b[0;34m()\u001b[0m\n",
      "File \u001b[0;32mcupy/_core/internal.pyx:208\u001b[0m, in \u001b[0;36mcupy._core.internal.infer_unknown_dimension\u001b[0;34m()\u001b[0m\n",
      "\u001b[0;31mValueError\u001b[0m: cannot reshape array of size 18 into shape (3, 12, 1)"
     ]
    }
   ],
   "source": [
    "apply_gains_to_mat(sim_gains, sim_diff_mat_3d, edges, ant_1_array, ant_1_array, cp, True)\n"
   ]
  },
  {
   "cell_type": "code",
   "execution_count": 13,
   "metadata": {},
   "outputs": [
    {
     "name": "stdout",
     "output_type": "stream",
     "text": [
      "(2, 5, 1)\n",
      "(2, 5, 3)\n",
      "(10,)\n",
      "[[[0.28792675 0.23025634 0.6019926 ]\n",
      "  [0.3649799  0.83724445 0.97892857]\n",
      "  [0.8108697  0.30838806 0.86713359]\n",
      "  [0.67252363 0.45473794 0.15374954]\n",
      "  [0.44281979 0.20866379 0.31340939]]\n",
      "\n",
      " [[0.24300186 0.17208641 0.08687405]\n",
      "  [0.38217043 0.44386447 0.22144284]\n",
      "  [0.86703401 0.79247312 0.22997477]\n",
      "  [0.71024074 0.63128673 0.67401253]\n",
      "  [0.09133763 0.85180797 0.44132384]]]\n",
      "[[[0.28792675 0.23025634 0.6019926 ]\n",
      "  [0.8108697  0.30838806 0.86713359]\n",
      "  [0.44281979 0.20866379 0.31340939]]\n",
      "\n",
      " [[0.24300186 0.17208641 0.08687405]\n",
      "  [0.86703401 0.79247312 0.22997477]\n",
      "  [0.09133763 0.85180797 0.44132384]]]\n"
     ]
    }
   ],
   "source": [
    "m = np.random.rand(2, 5, 3)\n",
    "g = np.random.rand(10)\n",
    "\n",
    "gs = g[:, None] * g[:, None]\n",
    "gs = gs.reshape(m.shape[0], m.shape[1], 1)\n",
    "\n",
    "print(gs.shape)\n",
    "print(m.shape)\n",
    "print(g.shape)\n",
    "print(m)\n",
    "print(m[:, ::2])\n",
    "out = gs[:, ::2] * m[:, ::2]"
   ]
  },
  {
   "cell_type": "code",
   "execution_count": 15,
   "metadata": {},
   "outputs": [
    {
     "name": "stdout",
     "output_type": "stream",
     "text": [
      "[0.7168376  0.09178836 0.30719332 0.64421814 0.7537436  0.44306968\n",
      " 0.13087968 0.4341032  0.62679891 0.60623726]\n",
      "[0.7168376  0.09178836 0.30719332 0.64421814 0.7537436 ]\n",
      "\n",
      "[0.44306968 0.13087968 0.4341032  0.62679891 0.60623726]\n",
      "\n",
      "[0.7168376  0.09178836 0.30719332 0.64421814 0.7537436  0.44306968\n",
      " 0.13087968 0.4341032  0.62679891 0.60623726]\n",
      "\n",
      "[0.7168376  0.09178836 0.30719332 0.64421814 0.7537436 ]\n",
      "[0.44306968 0.13087968 0.4341032  0.62679891 0.60623726]\n"
     ]
    }
   ],
   "source": [
    "a = np.arange(5)\n",
    "b = np.arange(5,10)\n",
    "c = np.random.rand((a.shape[0] + b.shape[0]))\n",
    "print(c)\n",
    "d = c[a]\n",
    "e = c[b]\n",
    "\n",
    "print(d)\n",
    "print()\n",
    "print(e)\n",
    "print()\n",
    "print(np.concatenate((d, e)))\n",
    "print()\n",
    "aa = np.concatenate((d, e))\n",
    "\n",
    "print(aa[:int(len(aa)/2)])\n",
    "\n",
    "print(aa[int(len(aa)/2):])"
   ]
  }
 ],
 "metadata": {
  "kernelspec": {
   "display_name": "Python 3",
   "language": "python",
   "name": "python3"
  },
  "language_info": {
   "codemirror_mode": {
    "name": "ipython",
    "version": 3
   },
   "file_extension": ".py",
   "mimetype": "text/x-python",
   "name": "python",
   "nbconvert_exporter": "python",
   "pygments_lexer": "ipython3",
   "version": "3.10.12"
  }
 },
 "nbformat": 4,
 "nbformat_minor": 2
}
