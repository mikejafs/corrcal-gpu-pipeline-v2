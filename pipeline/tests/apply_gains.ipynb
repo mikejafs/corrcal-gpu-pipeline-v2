{
 "cells": [
  {
   "cell_type": "markdown",
   "metadata": {},
   "source": [
    "### Tests for Applying Gains Matrix"
   ]
  },
  {
   "metadata": {
    "ExecuteTime": {
     "end_time": "2025-03-06T23:59:04.958823Z",
     "start_time": "2025-03-06T23:59:04.952223Z"
    }
   },
   "cell_type": "code",
   "source": [
    "import sys\n",
    "from pathlib import Path\n",
    "parent_dir = Path.cwd().parent\n",
    "sys.path.insert(0, str(parent_dir))\n",
    "print(parent_dir)"
   ],
   "outputs": [
    {
     "name": "stdout",
     "output_type": "stream",
     "text": [
      "/home/mike/corrcal_gpu_pipeline/pipeline\n"
     ]
    }
   ],
   "execution_count": 1
  },
  {
   "cell_type": "code",
   "metadata": {
    "ExecuteTime": {
     "end_time": "2025-03-06T23:59:07.928142Z",
     "start_time": "2025-03-06T23:59:05.191839Z"
    }
   },
   "source": [
    "import cupy as cp\n",
    "import numpy as np\n",
    "from utils import *\n",
    "from zp_puregpu_funcs_py import *\n",
    "from invcov import *"
   ],
   "outputs": [
    {
     "name": "stderr",
     "output_type": "stream",
     "text": [
      "/home/mike/corrcal_gpu_pipeline/pipeline/utils.py:119: SyntaxWarning: invalid escape sequence '\\D'\n",
      "  \"\"\"\n"
     ]
    },
    {
     "name": "stdout",
     "output_type": "stream",
     "text": [
      "hera_cal is not installed. Some gridding features unavailable.\n",
      "pyfof is not installed. Some gridding features unavailable.\n"
     ]
    }
   ],
   "execution_count": 2
  },
  {
   "cell_type": "code",
   "metadata": {
    "ExecuteTime": {
     "end_time": "2025-03-06T23:59:07.999895Z",
     "start_time": "2025-03-06T23:59:07.951826Z"
    }
   },
   "source": [
    "apply_gains_to_mat?\n",
    "# undo_zeropad?"
   ],
   "outputs": [],
   "execution_count": 3
  },
  {
   "cell_type": "code",
   "metadata": {
    "ExecuteTime": {
     "end_time": "2025-03-06T23:59:08.050147Z",
     "start_time": "2025-03-06T23:59:08.044160Z"
    }
   },
   "source": "summarize_benchmark_results?",
   "outputs": [],
   "execution_count": 4
  },
  {
   "cell_type": "code",
   "metadata": {
    "ExecuteTime": {
     "end_time": "2025-03-06T23:59:08.624129Z",
     "start_time": "2025-03-06T23:59:08.110723Z"
    }
   },
   "source": [
    "#simulation params relevant for testing application of gains to a matrix\n",
    "n_ant = 4\n",
    "n_bl = 30\n",
    "n_gains = 2*n_bl\n",
    "n_eig = 3\n",
    "xp = cp  #run things on the gpu using cupy\n",
    "\n",
    "#this might be the easiest (and most general) way to devise an edges\n",
    "# array, though we hard code an ex. edges array to be sure it fits\n",
    "# the desired format of having no odd entries.\n",
    "edges = (xp.unique(xp.random.randint(1, n_bl/2-1, size = n_ant)*2))\n",
    "edges = xp.concatenate((xp.array([0]), edges, xp.array([n_bl])))\n",
    "print(f\"The edges of the redundant blocks have indices{edges}\")\n",
    "\n",
    "#some random noise, diffuse, and source covariance matrices\n",
    "xp = cp\n",
    "sim_diff_mat = xp.random.rand(n_bl, n_eig, dtype = 'float64')\n",
    "sim_gains = cp.random.rand(n_gains, dtype = 'float64') #Re/Im split + ant1 & ant 2 = 4*n_ant\n",
    "ant_1_array = cp.arange(n_bl//2)\n",
    "ant_2_array = cp.arange(n_bl//2)\n",
    "\n",
    "#zeropad the noise, diff, source mats\n",
    "zp_sim_diff_mat, largest_block, n_blocks = zeroPad(sim_diff_mat, edges, return_inv=False)\n",
    "\n",
    "#Need to reshape to give an extra dimension of n_blocks to be compatible with inv cov routine\n",
    "sim_diff_mat_3d = zp_sim_diff_mat.reshape(n_blocks, largest_block, n_eig)"
   ],
   "outputs": [
    {
     "name": "stdout",
     "output_type": "stream",
     "text": [
      "The edges of the redundant blocks have indices[ 0  8 10 14 20 30]\n"
     ]
    }
   ],
   "execution_count": 5
  },
  {
   "cell_type": "code",
   "metadata": {
    "ExecuteTime": {
     "end_time": "2025-03-06T23:59:08.771439Z",
     "start_time": "2025-03-06T23:59:08.725587Z"
    }
   },
   "source": [
    "applied_gains = apply_gains_to_mat(sim_gains, sim_diff_mat_3d, edges, ant_1_array, ant_1_array, cp, True)"
   ],
   "outputs": [],
   "execution_count": 6
  },
  {
   "cell_type": "code",
   "metadata": {
    "ExecuteTime": {
     "end_time": "2025-03-06T23:59:08.825521Z",
     "start_time": "2025-03-06T23:59:08.817040Z"
    }
   },
   "source": [
    "print(f\"Input mat has shape {sim_diff_mat_3d.shape}\")\n",
    "print()\n",
    "print(f\"Gains applied mat has shape {applied_gains.shape}\")\n",
    "print()\n",
    "print(f\"The mat with gains applied looks like:\\n\\n{applied_gains}\")"
   ],
   "outputs": [
    {
     "name": "stdout",
     "output_type": "stream",
     "text": [
      "Input mat has shape (5, 10, 3)\n",
      "\n",
      "Gains applied mat has shape (5, 10, 3)\n",
      "\n",
      "The mat with gains applied looks like:\n",
      "\n",
      "[[[0.27814241 0.25826757 0.11502817]\n",
      "  [0.01206056 0.10694945 0.26610058]\n",
      "  [0.07658128 0.034721   0.01068864]\n",
      "  [0.09484834 0.04758766 0.11834722]\n",
      "  [1.15514125 0.40169004 0.49273793]\n",
      "  [0.7461802  1.05070825 0.8775721 ]\n",
      "  [0.19946181 0.04694314 0.22082005]\n",
      "  [0.17122408 0.22419827 0.07955064]\n",
      "  [0.         0.         0.        ]\n",
      "  [0.         0.         0.        ]]\n",
      "\n",
      " [[0.55076088 0.58071516 0.00163646]\n",
      "  [0.37432234 0.15166256 0.05861349]\n",
      "  [0.         0.         0.        ]\n",
      "  [0.         0.         0.        ]\n",
      "  [0.         0.         0.        ]\n",
      "  [0.         0.         0.        ]\n",
      "  [0.         0.         0.        ]\n",
      "  [0.         0.         0.        ]\n",
      "  [0.         0.         0.        ]\n",
      "  [0.         0.         0.        ]]\n",
      "\n",
      " [[0.34896338 0.32980002 0.10796866]\n",
      "  [0.01199912 0.02940281 0.26329288]\n",
      "  [0.73105055 1.10113589 0.0054533 ]\n",
      "  [1.18148322 0.78116352 1.19065762]\n",
      "  [0.         0.         0.        ]\n",
      "  [0.         0.         0.        ]\n",
      "  [0.         0.         0.        ]\n",
      "  [0.         0.         0.        ]\n",
      "  [0.         0.         0.        ]\n",
      "  [0.         0.         0.        ]]\n",
      "\n",
      " [[0.2984436  0.26515536 0.0655361 ]\n",
      "  [0.39102057 0.15419936 0.43015044]\n",
      "  [0.15535214 0.15172025 0.16880109]\n",
      "  [0.18503048 0.02990159 0.0260513 ]\n",
      "  [0.23223942 0.11650269 0.14915631]\n",
      "  [0.11796377 0.26642489 0.17142144]\n",
      "  [0.         0.         0.        ]\n",
      "  [0.         0.         0.        ]\n",
      "  [0.         0.         0.        ]\n",
      "  [0.         0.         0.        ]]\n",
      "\n",
      " [[0.62647561 0.58984284 0.87426803]\n",
      "  [0.20795374 0.3133741  0.40479048]\n",
      "  [0.1660759  0.19547251 0.01594187]\n",
      "  [0.04872259 0.11096648 0.14010931]\n",
      "  [0.36552662 0.67397046 0.05135349]\n",
      "  [0.26295407 0.56604507 0.16052391]\n",
      "  [0.1543754  0.10781692 0.10555213]\n",
      "  [0.10900371 0.02959343 0.05721373]\n",
      "  [0.12877796 0.04294953 0.05960326]\n",
      "  [0.31057517 0.22458285 0.004402  ]]]\n"
     ]
    }
   ],
   "execution_count": 7
  },
  {
   "cell_type": "markdown",
   "metadata": {},
   "source": [
    "#### Random Debugging tests"
   ]
  },
  {
   "cell_type": "code",
   "metadata": {
    "ExecuteTime": {
     "end_time": "2025-03-06T23:59:08.895589Z",
     "start_time": "2025-03-06T23:59:08.888430Z"
    }
   },
   "source": [
    "m = np.random.rand(2, 5, 3)\n",
    "g = np.random.rand(10)\n",
    "\n",
    "gs = g[:, None] * g[:, None]\n",
    "gs = gs.reshape(m.shape[0], m.shape[1], 1)\n",
    "\n",
    "print(gs.shape)\n",
    "print(m.shape)\n",
    "print(g.shape)\n",
    "print(m)\n",
    "print(m[:, ::2])\n",
    "out = gs[:, ::2] * m[:, ::2]"
   ],
   "outputs": [
    {
     "name": "stdout",
     "output_type": "stream",
     "text": [
      "(2, 5, 1)\n",
      "(2, 5, 3)\n",
      "(10,)\n",
      "[[[0.63475242 0.47749868 0.56849862]\n",
      "  [0.8918816  0.26439803 0.22116261]\n",
      "  [0.61738785 0.56877546 0.86717425]\n",
      "  [0.83886075 0.16462868 0.16543123]\n",
      "  [0.36727472 0.99467814 0.08296931]]\n",
      "\n",
      " [[0.8536953  0.16457528 0.38804363]\n",
      "  [0.19823186 0.34731467 0.28966187]\n",
      "  [0.45115672 0.09476534 0.32697205]\n",
      "  [0.04419674 0.26274277 0.25307845]\n",
      "  [0.01064217 0.36801719 0.26066237]]]\n",
      "[[[0.63475242 0.47749868 0.56849862]\n",
      "  [0.61738785 0.56877546 0.86717425]\n",
      "  [0.36727472 0.99467814 0.08296931]]\n",
      "\n",
      " [[0.8536953  0.16457528 0.38804363]\n",
      "  [0.45115672 0.09476534 0.32697205]\n",
      "  [0.01064217 0.36801719 0.26066237]]]\n"
     ]
    }
   ],
   "execution_count": 8
  },
  {
   "cell_type": "code",
   "metadata": {
    "ExecuteTime": {
     "end_time": "2025-03-06T23:59:08.998991Z",
     "start_time": "2025-03-06T23:59:08.991107Z"
    }
   },
   "source": [
    "a = np.arange(5)\n",
    "b = np.arange(5,10)\n",
    "c = np.random.rand((a.shape[0] + b.shape[0]))\n",
    "print(c)\n",
    "d = c[a]\n",
    "e = c[b]\n",
    "\n",
    "print(d)\n",
    "print()\n",
    "print(e)\n",
    "print()\n",
    "print(np.concatenate((d, e)))\n",
    "print()\n",
    "aa = np.concatenate((d, e))\n",
    "\n",
    "print(aa[:int(len(aa)/2)])\n",
    "\n",
    "print(aa[int(len(aa)/2):])"
   ],
   "outputs": [
    {
     "name": "stdout",
     "output_type": "stream",
     "text": [
      "[0.12619605 0.91773981 0.50993003 0.81121522 0.84217708 0.8871101\n",
      " 0.66440163 0.69356656 0.96790111 0.18823812]\n",
      "[0.12619605 0.91773981 0.50993003 0.81121522 0.84217708]\n",
      "\n",
      "[0.8871101  0.66440163 0.69356656 0.96790111 0.18823812]\n",
      "\n",
      "[0.12619605 0.91773981 0.50993003 0.81121522 0.84217708 0.8871101\n",
      " 0.66440163 0.69356656 0.96790111 0.18823812]\n",
      "\n",
      "[0.12619605 0.91773981 0.50993003 0.81121522 0.84217708]\n",
      "[0.8871101  0.66440163 0.69356656 0.96790111 0.18823812]\n"
     ]
    }
   ],
   "execution_count": 9
  },
  {
   "cell_type": "markdown",
   "metadata": {},
   "source": [
    "#### Check ZP computes the same thing as corrcal"
   ]
  },
  {
   "cell_type": "code",
   "metadata": {
    "ExecuteTime": {
     "end_time": "2025-03-06T23:59:09.087604Z",
     "start_time": "2025-03-06T23:59:09.082272Z"
    }
   },
   "source": [
    "#Current corrcal gain application function\n",
    "def apply_gains_to_mat_corrcal(gains, mat, ant_1_array, ant_2_array):\n",
    "    \"\"\"Apply a gain-like matrix to a provided matrix.\"\"\"\n",
    "    complex_gains = gains[::2] + 1j*gains[1::2]\n",
    "    gain_mat = (\n",
    "        complex_gains[ant_1_array,None] * complex_gains[ant_2_array,None].conj()\n",
    "    )\n",
    "    out = np.zeros_like(mat)\n",
    "    out[::2] = gain_mat.real * mat[::2] - gain_mat.imag * mat[1::2]\n",
    "    out[1::2] = gain_mat.imag * mat[::2] + gain_mat.real * mat[1::2]\n",
    "    return out"
   ],
   "outputs": [],
   "execution_count": 10
  },
  {
   "cell_type": "code",
   "metadata": {
    "ExecuteTime": {
     "end_time": "2025-03-06T23:59:09.171686Z",
     "start_time": "2025-03-06T23:59:09.152061Z"
    }
   },
   "source": [
    "#simulation params relevant for testing application of gains to a matrix\n",
    "n_ant = 15\n",
    "n_bl = 2*n_ant\n",
    "n_gains = 4*n_ant\n",
    "n_eig = 3\n",
    "xp = cp  #run things on the gpu using cupy\n",
    "\n",
    "#this might be the easiest (and most general) way to devise an edges\n",
    "# array, though we hard code an ex. edges array to be sure it fits\n",
    "# the desired format of having no odd entries.\n",
    "edges = (xp.unique(xp.random.randint(1, n_bl/2-1, size = 3)*2))\n",
    "edges = xp.concatenate((xp.array([0]), edges, xp.array([n_bl])))\n",
    "print(f\"The edges of the redundant blocks have indices{edges}\")\n",
    "\n",
    "#some random noise, diffuse, and source covariance matrices\n",
    "xp = cp\n",
    "sim_diff_mat = xp.random.rand(n_bl, n_eig, dtype = 'float64')\n",
    "sim_gains = cp.random.rand(n_gains, dtype = 'float64') #Re/Im split + ant1 & ant 2 = 4*n_ant\n",
    "ant_1_array = cp.arange(n_ant)\n",
    "ant_2_array = cp.arange(n_ant, 2*n_ant)\n",
    "\n",
    "#zeropad the noise, diff, source mats\n",
    "zp_sim_diff_mat, largest_block, n_blocks = zeroPad(sim_diff_mat, edges, return_inv=False)\n",
    "\n",
    "#Need to reshape to give an extra dimension of n_blocks to be compatible with inv cov routine\n",
    "sim_diff_mat_3d = zp_sim_diff_mat.reshape(n_blocks, largest_block, n_eig)\n"
   ],
   "outputs": [
    {
     "name": "stdout",
     "output_type": "stream",
     "text": [
      "The edges of the redundant blocks have indices[ 0  6  8 18 30]\n"
     ]
    }
   ],
   "execution_count": 11
  },
  {
   "cell_type": "code",
   "metadata": {
    "ExecuteTime": {
     "end_time": "2025-03-06T23:59:09.222470Z",
     "start_time": "2025-03-06T23:59:09.207099Z"
    }
   },
   "source": [
    "out_corrcal = apply_gains_to_mat_corrcal(sim_gains, sim_diff_mat, ant_1_array, ant_2_array)\n",
    "out_gpu = apply_gains_to_mat(sim_gains, sim_diff_mat_3d, edges, ant_1_array, ant_2_array, cp)\n",
    "out_gpu_corrcal = apply_gains_to_mat(sim_gains, sim_diff_mat, edges, ant_1_array, ant_2_array, cp, False)\n",
    "out_gpu_resh = undo_zeropad(out_gpu, edges, cp)"
   ],
   "outputs": [],
   "execution_count": 12
  },
  {
   "cell_type": "code",
   "metadata": {
    "ExecuteTime": {
     "end_time": "2025-03-06T23:59:09.364338Z",
     "start_time": "2025-03-06T23:59:09.266649Z"
    }
   },
   "source": [
    "#should return True if my routine computes the same thing as the current corrcal routine\n",
    "print(cp.allclose(out_gpu_resh, out_gpu_corrcal))\n",
    "print(cp.allclose(out_gpu_resh, out_corrcal))"
   ],
   "outputs": [
    {
     "name": "stdout",
     "output_type": "stream",
     "text": [
      "True\n",
      "True\n"
     ]
    }
   ],
   "execution_count": 13
  },
  {
   "cell_type": "markdown",
   "metadata": {},
   "source": [
    "#### Timing test for np vs cp versions"
   ]
  },
  {
   "cell_type": "code",
   "metadata": {
    "ExecuteTime": {
     "end_time": "2025-03-06T23:59:09.458698Z",
     "start_time": "2025-03-06T23:59:09.426056Z"
    }
   },
   "source": [
    "#simulation params relevant for testing application of gains to a matrix\n",
    "n_bl = 240000  # something like 2*N_ant^2 for Re/Im split\n",
    "n_ant = 512\n",
    "n_gains = 2*n_bl  #one for each antenna and one for each Re and Im part\n",
    "n_eig = 3\n",
    "xp = cp  #run things on the gpu using cupy\n",
    "\n",
    "#this might be the easiest (and most general) way to devise an edges\n",
    "# array, though we hard code an ex. edges array to be sure it fits\n",
    "# the desired format of having no odd entries.\n",
    "if xp == cp:\n",
    "\n",
    "    edges = (xp.unique(xp.random.randint(1, n_bl/2-1, size = n_ant)*2))\n",
    "    edges = xp.concatenate((xp.array([0]), edges, xp.array([n_bl])))\n",
    "    print(f\"The edges of the redundant blocks have indices{edges}\")\n",
    "\n",
    "    #some random noise, diffuse, and source covariance matrices\n",
    "    sim_diff_mat = xp.random.rand(n_bl, n_eig, dtype = 'float64')\n",
    "    sim_gains = cp.random.rand(n_gains, dtype = 'float64') #Re/Im split + ant1 & ant 2 = 4*n_ant\n",
    "\n",
    "    #leave as n_bl/2 since indexex into cplex gains which are not Re/Im split\n",
    "    ant_1_array = cp.arange(n_bl//2) \n",
    "    ant_2_array = cp.arange(n_bl//2)\n",
    "\n",
    "    #zeropad the noise, diff, source mats\n",
    "    zp_sim_diff_mat, largest_block, n_blocks = zeroPad(sim_diff_mat, edges, return_inv=False)\n",
    "\n",
    "    #Need to reshape to give an extra dimension of n_blocks to be compatible with inv cov routine\n",
    "    sim_diff_mat_3d = zp_sim_diff_mat.reshape(n_blocks, largest_block, n_eig)\n",
    "\n",
    "elif xp == np:\n",
    "    edges = (xp.unique(xp.random.randint(1, n_bl/2-1, size = n_ant)*2))\n",
    "    edges = xp.concatenate((xp.array([0]), edges, xp.array([n_bl])))\n",
    "    print(f\"The edges of the redundant blocks have indices{edges}\")\n",
    "\n",
    "    #some random noise, diffuse, and source covariance matrices\n",
    "    sim_diff_mat = xp.random.rand(n_bl, n_eig).astype('float64')\n",
    "    sim_gains = xp.random.rand(n_gains).astype('float64') #Re/Im split + ant1 & ant 2 = 4*n_ant\n",
    "    ant_1_array = xp.arange(n_bl//2)\n",
    "    ant_2_array = xp.arange(n_bl//2)\n",
    "\n",
    "    #zeropad the noise, diff, source mats\n",
    "    # zp_sim_diff_mat, largest_block, n_blocks = zeroPad(sim_diff_mat, edges, return_inv=False)\n",
    "\n",
    "    #Need to reshape to give an extra dimension of n_blocks to be compatible with inv cov routine\n",
    "    # sim_diff_mat_3d = zp_sim_diff_mat.reshape(n_blocks, largest_block, n_eig)\n",
    "\n",
    "print(len(edges))"
   ],
   "outputs": [
    {
     "name": "stdout",
     "output_type": "stream",
     "text": [
      "The edges of the redundant blocks have indices[     0   1204   1736   2320   2628   4564   4876   5128   5928   6620\n",
      "   7876   8192   8850   9402   9616   9844   9964  10078  10418  12312\n",
      "  12596  13346  13494  13810  14142  14426  15456  15838  15978  16388\n",
      "  16682  16810  17308  17870  17976  18346  18354  19212  19236  20080\n",
      "  20436  20660  21146  21158  22258  22292  24528  25070  27146  27866\n",
      "  28206  28696  28908  30602  31924  32076  33320  33612  34768  34790\n",
      "  35278  35298  35590  36006  36058  36440  36480  36782  36878  36884\n",
      "  36982  37892  37928  38582  39310  39702  42084  42260  42566  44028\n",
      "  44460  44834  44884  46000  47308  47684  47728  47796  47852  47902\n",
      "  48148  49052  49420  49494  49938  50796  51980  52084  52646  52742\n",
      "  52878  52936  55066  55562  55666  55760  56596  57010  57394  58404\n",
      "  58568  60386  60730  60950  62220  62380  62840  63180  64416  65516\n",
      "  66008  66068  66344  66834  67158  67174  67182  67544  67562  68014\n",
      "  68658  68710  70172  71380  72292  72772  73186  73730  74422  75068\n",
      "  75534  76812  76968  78202  78326  78870  78984  79310  79424  79742\n",
      "  79840  80682  80950  81010  81320  81596  81650  81866  82248  83162\n",
      "  83400  84212  85206  85384  85516  86044  86256  86326  87112  87678\n",
      "  87742  88380  88802  89696  89834  89874  90796  91280  91592  91618\n",
      "  92668  92822  92904  95072  96388  96560  96730  96866  97440  97824\n",
      "  98196  98428  98822  99028  99236  99576  99666  99814  99892 100522\n",
      " 100604 100620 101098 101206 101238 102044 103666 103884 104226 104384\n",
      " 104576 105202 105324 105852 106340 106782 106874 106948 107008 107468\n",
      " 107866 108498 108918 108922 109280 109496 109958 110632 110634 110652\n",
      " 111080 111162 111254 111290 111452 111468 112028 112354 112378 113108\n",
      " 113130 113400 113406 113908 113944 114030 114230 114808 114824 115506\n",
      " 115558 115676 115840 115846 116288 117450 117590 118218 118286 119048\n",
      " 119658 120290 120540 120814 121648 122772 122824 124310 125440 125830\n",
      " 125852 125938 125988 126274 126394 126734 126746 127456 127606 127898\n",
      " 129392 129744 130886 131700 131738 133226 133512 134046 135046 135192\n",
      " 135970 137070 137090 139096 139354 139356 139408 140022 141974 143532\n",
      " 143688 143770 144138 144442 144770 144944 146328 146870 147464 147544\n",
      " 149678 150092 150534 151182 151324 151520 151546 151814 151870 153152\n",
      " 153522 154226 156264 156874 157020 157660 158054 158338 158924 159194\n",
      " 159482 159804 160358 160860 161356 161414 161430 162522 162794 164622\n",
      " 165686 166024 167110 168844 169452 169472 169594 169748 169810 169872\n",
      " 170420 170490 170732 170746 170906 170934 170992 171364 172134 172536\n",
      " 172736 173046 173086 173404 173688 173754 173836 173916 174044 175092\n",
      " 175112 175490 176084 176134 176678 176832 177332 178036 178966 178968\n",
      " 179644 182076 183182 183452 183484 184174 184582 186298 186892 187042\n",
      " 187360 187898 187920 188016 189732 189896 189946 190330 191024 191096\n",
      " 191532 191858 191942 192464 193416 193432 193468 193478 193824 195100\n",
      " 195414 197560 197812 198036 198214 198592 200238 200324 200516 200544\n",
      " 200854 200920 200974 201888 202008 202090 202786 202930 203228 203296\n",
      " 203334 203540 204110 204112 204188 204968 205664 206290 206298 206624\n",
      " 207030 207170 207262 207946 208684 208804 209200 209210 209350 209472\n",
      " 209760 210128 210828 211110 211404 211956 212146 212852 213856 214206\n",
      " 214462 214732 215770 215842 215952 216544 218546 218974 219636 220050\n",
      " 220752 221232 222796 223074 223388 224232 225076 225148 225512 225720\n",
      " 226256 226318 226624 226802 227016 227404 227578 227876 228782 229248\n",
      " 229672 229918 231050 231670 232000 233076 233132 233140 233426 234194\n",
      " 234402 234870 235380 235916 236588 236594 236704 238110 238208 238776\n",
      " 238998 239914 240000]\n",
      "513\n"
     ]
    }
   ],
   "execution_count": 14
  },
  {
   "cell_type": "code",
   "metadata": {
    "ExecuteTime": {
     "end_time": "2025-03-06T23:59:10.910761Z",
     "start_time": "2025-03-06T23:59:09.508451Z"
    }
   },
   "source": [
    "print(type(sim_diff_mat))\n",
    "print(type(sim_gains))\n",
    "summarize_benchmark_results(apply_gains_to_mat, sim_gains, sim_diff_mat, edges, ant_1_array, ant_2_array, xp, False)"
   ],
   "outputs": [
    {
     "name": "stdout",
     "output_type": "stream",
     "text": [
      "<class 'cupy.ndarray'>\n",
      "<class 'cupy.ndarray'>\n",
      "Time on cpu: 0.001249s\n",
      "Time on gpu: 0.001285s\n"
     ]
    }
   ],
   "execution_count": 15
  },
  {
   "cell_type": "code",
   "metadata": {
    "ExecuteTime": {
     "end_time": "2025-03-06T23:59:14.907162Z",
     "start_time": "2025-03-06T23:59:10.956941Z"
    }
   },
   "source": [
    "print(type(sim_diff_mat))\n",
    "print(type(sim_gains))\n",
    "summarize_benchmark_results(apply_gains_to_mat, sim_gains, sim_diff_mat_3d, edges, ant_1_array, ant_2_array, xp, True)"
   ],
   "outputs": [
    {
     "name": "stdout",
     "output_type": "stream",
     "text": [
      "<class 'cupy.ndarray'>\n",
      "<class 'cupy.ndarray'>\n",
      "Time on cpu: 0.002612s\n",
      "Time on gpu: 0.003781s\n"
     ]
    }
   ],
   "execution_count": 16
  },
  {
   "metadata": {},
   "cell_type": "markdown",
   "source": "### Random debugging...."
  },
  {
   "metadata": {
    "ExecuteTime": {
     "end_time": "2025-03-06T23:59:14.947513Z",
     "start_time": "2025-03-06T23:59:14.940468Z"
    }
   },
   "cell_type": "code",
   "source": [
    "import numpy as np\n",
    "mat = np.random.rand(3, 2, 3)\n",
    "print(mat)\n",
    "gm = np.arange(6)\n",
    "gm = gm.reshape(3, 2, 1)\n",
    "print(gm)\n",
    "print()\n",
    "print(gm * mat)"
   ],
   "outputs": [
    {
     "name": "stdout",
     "output_type": "stream",
     "text": [
      "[[[0.85721108 0.23689334 0.42003565]\n",
      "  [0.90606059 0.82252577 0.65270619]]\n",
      "\n",
      " [[0.26255225 0.41913522 0.25920534]\n",
      "  [0.18046729 0.32509769 0.24629263]]\n",
      "\n",
      " [[0.60456372 0.30078803 0.76859114]\n",
      "  [0.30221224 0.65796965 0.32786387]]]\n",
      "[[[0]\n",
      "  [1]]\n",
      "\n",
      " [[2]\n",
      "  [3]]\n",
      "\n",
      " [[4]\n",
      "  [5]]]\n",
      "\n",
      "[[[0.         0.         0.        ]\n",
      "  [0.90606059 0.82252577 0.65270619]]\n",
      "\n",
      " [[0.52510451 0.83827045 0.51841068]\n",
      "  [0.54140188 0.97529306 0.7388779 ]]\n",
      "\n",
      " [[2.41825487 1.20315212 3.07436455]\n",
      "  [1.51106122 3.28984825 1.63931933]]]\n"
     ]
    }
   ],
   "execution_count": 17
  },
  {
   "metadata": {
    "ExecuteTime": {
     "end_time": "2025-03-06T23:59:15.029006Z",
     "start_time": "2025-03-06T23:59:15.023230Z"
    }
   },
   "cell_type": "code",
   "source": [
    "a = np.random.rand(4,4)\n",
    "print(a)\n",
    "print(a[::2])"
   ],
   "outputs": [
    {
     "name": "stdout",
     "output_type": "stream",
     "text": [
      "[[0.37221298 0.04985606 0.76610506 0.2591707 ]\n",
      " [0.80122092 0.20924899 0.1499741  0.69911432]\n",
      " [0.01794594 0.51785232 0.8381936  0.45197051]\n",
      " [0.07358859 0.61304657 0.4708645  0.18181427]]\n",
      "[[0.37221298 0.04985606 0.76610506 0.2591707 ]\n",
      " [0.01794594 0.51785232 0.8381936  0.45197051]]\n"
     ]
    }
   ],
   "execution_count": 18
  },
  {
   "metadata": {
    "ExecuteTime": {
     "end_time": "2025-03-06T23:59:15.172223Z",
     "start_time": "2025-03-06T23:59:15.166812Z"
    }
   },
   "cell_type": "code",
   "source": [
    "a = np.arange(15)\n",
    "b = np.arange(15)\n",
    "\n",
    "print(a[:, None]* b[:, None])"
   ],
   "outputs": [
    {
     "name": "stdout",
     "output_type": "stream",
     "text": [
      "[[  0]\n",
      " [  1]\n",
      " [  4]\n",
      " [  9]\n",
      " [ 16]\n",
      " [ 25]\n",
      " [ 36]\n",
      " [ 49]\n",
      " [ 64]\n",
      " [ 81]\n",
      " [100]\n",
      " [121]\n",
      " [144]\n",
      " [169]\n",
      " [196]]\n"
     ]
    }
   ],
   "execution_count": 19
  }
 ],
 "metadata": {
  "kernelspec": {
   "display_name": "Python 3",
   "language": "python",
   "name": "python3"
  },
  "language_info": {
   "codemirror_mode": {
    "name": "ipython",
    "version": 3
   },
   "file_extension": ".py",
   "mimetype": "text/x-python",
   "name": "python",
   "nbconvert_exporter": "python",
   "pygments_lexer": "ipython3",
   "version": "3.10.12"
  }
 },
 "nbformat": 4,
 "nbformat_minor": 2
}
