{
 "cells": [
  {
   "cell_type": "code",
   "execution_count": 2,
   "metadata": {},
   "outputs": [],
   "source": [
    "import sys\n",
    "from pathlib import Path\n",
    "parent_dir = Path.cwd().parent\n",
    "sys.path.insert(0, str(parent_dir))"
   ]
  },
  {
   "cell_type": "code",
   "execution_count": 3,
   "metadata": {},
   "outputs": [
    {
     "name": "stdout",
     "output_type": "stream",
     "text": [
      "hera_cal is not installed. Some gridding features unavailable.\n",
      "pyfof is not installed. Some gridding features unavailable.\n"
     ]
    }
   ],
   "source": [
    "import numpy as np\n",
    "import cupy as cp\n",
    "import gc\n",
    "import matplotlib.pyplot as plt\n",
    "from corrcal import sparse\n",
    "from zp_puregpu_funcs_py import *\n",
    "from invcov import *"
   ]
  },
  {
   "cell_type": "markdown",
   "metadata": {},
   "source": [
    "### Timing tests for single (large) baseline configuration"
   ]
  },
  {
   "cell_type": "code",
   "execution_count": 10,
   "metadata": {},
   "outputs": [],
   "source": [
    "#the main parametes describing our problem.\n",
    "n_bl = 200000\n",
    "n_eig = 5\n",
    "n_src = 10\n",
    "xp = cp  #run things on the gpu using cupy\n",
    "\n",
    "#random array of edges for the diffuse matrix\n",
    "edges = xp.unique(xp.random.randint(1, n_bl-1, size = 500))\n",
    "edges = xp.concatenate((xp.array([0]), edges, xp.array([n_bl])))\n",
    "# print(f\"The edges of the redundant blocks have indices{edges}\")\n",
    "\n",
    "#some random noise, diffuse, and source covariance matrices\n",
    "sim_noise_mat = xp.random.rand(n_bl, dtype = 'float64') + 0.1   #in principle this is squared since is a variance\n",
    "sim_diff_mat = xp.random.rand(n_bl, n_eig, dtype = 'float64')\n",
    "sim_src_mat = xp.random.rand(n_bl, n_src, dtype = 'float64')"
   ]
  },
  {
   "cell_type": "code",
   "execution_count": 11,
   "metadata": {},
   "outputs": [],
   "source": [
    "#zeropad the noise, diff, source mats\n",
    "zp_sim_noise_mat_inv, largest_block, n_blocks = zeroPad(sim_noise_mat, edges, return_inv=True)  #return inverse set to True to get around div by 0 issue\n",
    "zp_sim_noise_mat, largest_block, n_blocks = zeroPad(sim_noise_mat, edges, return_inv=False)  #return inverse set to False for sims later on\n",
    "zp_sim_diff_mat, largest_block, n_blocks = zeroPad(sim_diff_mat, edges, return_inv=False)\n",
    "zp_sim_src_mat, largest_block, n_blocks = zeroPad(sim_src_mat, edges, return_inv=False)\n",
    "\n",
    "#Need to reshape to give an extra dimension of n_blocks to be compatible with inv cov routine\n",
    "sim_noise_mat_2d = zp_sim_noise_mat_inv.reshape(n_blocks, largest_block)   #Again, its worth noting the values of the noise mat are really 1/noise_vals here\n",
    "sim_diff_mat_3d = zp_sim_diff_mat.reshape(n_blocks, largest_block, n_eig)\n",
    "sim_src_mat_3d = zp_sim_src_mat.reshape(n_blocks, largest_block, n_src)"
   ]
  },
  {
   "cell_type": "code",
   "execution_count": 12,
   "metadata": {},
   "outputs": [
    {
     "name": "stdout",
     "output_type": "stream",
     "text": [
      "Time on cpu: 0.002366s\n",
      "Time on gpu: 0.060057s\n"
     ]
    }
   ],
   "source": [
    "test_results = str(benchmark(inverse_covariance, (sim_noise_mat_2d, sim_diff_mat_3d, sim_src_mat_3d, edges, xp, True, True), n_repeat=100))\n",
    "test_results = test_results.split()\n",
    "cpu_t = float(test_results[3])/1e6\n",
    "gpu_t = float(test_results[14])/1e6\n",
    "print(f\"Time on cpu: {cpu_t:.6f}s\")\n",
    "print(f\"Time on gpu: {gpu_t:.6f}s\")"
   ]
  },
  {
   "cell_type": "markdown",
   "metadata": {},
   "source": [
    "### Timing tests for an array of baselines"
   ]
  },
  {
   "cell_type": "code",
   "execution_count": 40,
   "metadata": {},
   "outputs": [
    {
     "name": "stdout",
     "output_type": "stream",
     "text": [
      "[    10     11     13     16     19     22     26     31     36     42\n",
      "     50     59     69     82     96    113    133    156    184    216\n",
      "    254    299    352    414    486    572    673    791    930   1094\n",
      "   1286   1512   1778   2090   2458   2890   3398   3995   4697   5523\n",
      "   6493   7635   8976  10554  12409  14590  17154  20169  23713  27881\n",
      "  32781  38542  45315  53279  62643  73652  86596 101815 119708 140746\n",
      " 165481 194564 228757 268959 316227]\n"
     ]
    }
   ],
   "source": [
    "# bl_array = (cp.linspace(3, 120000, 250)).astype(int)\n",
    "bl_array = (cp.logspace(1, 5.5, 65, base=10)).astype(int)\n",
    "print(bl_array)\n",
    "\n",
    "n_eig = 10\n",
    "n_src = 15\n",
    "xp = cp  #run things on the gpu using cupy\n",
    "\n",
    "noise_mats = []\n",
    "diff_mats = []\n",
    "src_mats = []\n",
    "edges_arr = []\n",
    "\n",
    "for bl in bl_array:\n",
    "    bl = int(bl)\n",
    "    edges = xp.unique(xp.random.randint(1, bl-1, size = max(int(np.sqrt(bl)), 1)))\n",
    "    edges = xp.concatenate((xp.array([0]), edges, xp.array([bl])))\n",
    "    # print(f\"The edges of the redundant blocks have indices{edges}\")\n",
    "\n",
    "    #some random noise, diffuse, and source covariance matrices\n",
    "    sim_noise_mat = xp.random.rand(bl) + 0.1   #in principle this is squared since is a variance\n",
    "    sim_diff_mat = xp.random.rand(bl, n_eig)\n",
    "    sim_src_mat = xp.random.rand(bl, n_src)\n",
    "\n",
    "    #zeropad the noise, diff, source mats\n",
    "    zp_sim_noise_mat_inv, largest_block, n_blocks = zeroPad(sim_noise_mat, edges, return_inv=True)  #return inverse set to True to get around div by 0 issue\n",
    "    zp_sim_noise_mat, largest_block, n_blocks = zeroPad(sim_noise_mat, edges, return_inv=False)  #return inverse set to False for sims later on\n",
    "    zp_sim_diff_mat, largest_block, n_blocks = zeroPad(sim_diff_mat, edges, return_inv=False)\n",
    "    zp_sim_src_mat, largest_block, n_blocks = zeroPad(sim_src_mat, edges, return_inv=False)\n",
    "\n",
    "    #Need to reshape to give an extra dimension of n_blocks to be compatible with inv cov routine\n",
    "    sim_noise_mat_2d = zp_sim_noise_mat_inv.reshape(n_blocks, largest_block)   #Again, its worth noting the values of the noise mat are really 1/noise_vals here\n",
    "    sim_diff_mat_3d = zp_sim_diff_mat.reshape(n_blocks, largest_block, n_eig)\n",
    "    sim_src_mat_3d = zp_sim_src_mat.reshape(n_blocks, largest_block, n_src)\n",
    "\n",
    "    noise_mats.append(sim_noise_mat_2d)\n",
    "    diff_mats.append(sim_diff_mat_3d)\n",
    "    src_mats.append(sim_src_mat_3d)\n",
    "    edges_arr.append(edges)"
   ]
  },
  {
   "cell_type": "code",
   "execution_count": 41,
   "metadata": {},
   "outputs": [
    {
     "name": "stdout",
     "output_type": "stream",
     "text": [
      "Printing iter 0\n",
      "Time on cpu: 0.001885s\n",
      "Time on gpu: 0.001882s\n",
      "Printing iter 1\n",
      "Time on cpu: 0.001546s\n",
      "Time on gpu: 0.001598s\n",
      "Printing iter 2\n",
      "Time on cpu: 0.001253s\n",
      "Time on gpu: 0.001329s\n",
      "Printing iter 3\n",
      "Time on cpu: 0.001391s\n",
      "Time on gpu: 0.001450s\n",
      "Printing iter 4\n",
      "Time on cpu: 0.001547s\n",
      "Time on gpu: 0.001644s\n",
      "Printing iter 5\n",
      "Time on cpu: 0.001387s\n",
      "Time on gpu: 0.001549s\n",
      "Printing iter 6\n",
      "Time on cpu: 0.001444s\n",
      "Time on gpu: 0.001581s\n",
      "Printing iter 7\n",
      "Time on cpu: 0.001404s\n",
      "Time on gpu: 0.001553s\n",
      "Printing iter 8\n",
      "Time on cpu: 0.001636s\n",
      "Time on gpu: 0.001849s\n",
      "Printing iter 9\n",
      "Time on cpu: 0.001534s\n",
      "Time on gpu: 0.001695s\n",
      "Printing iter 10\n",
      "Time on cpu: 0.001375s\n",
      "Time on gpu: 0.001584s\n",
      "Printing iter 11\n",
      "Time on cpu: 0.001510s\n",
      "Time on gpu: 0.001813s\n",
      "Printing iter 12\n",
      "Time on cpu: 0.001342s\n",
      "Time on gpu: 0.001764s\n",
      "Printing iter 13\n",
      "Time on cpu: 0.001559s\n",
      "Time on gpu: 0.002010s\n",
      "Printing iter 14\n",
      "Time on cpu: 0.001500s\n",
      "Time on gpu: 0.001959s\n",
      "Printing iter 15\n",
      "Time on cpu: 0.001421s\n",
      "Time on gpu: 0.002023s\n",
      "Printing iter 16\n",
      "Time on cpu: 0.001921s\n",
      "Time on gpu: 0.002469s\n",
      "Printing iter 17\n",
      "Time on cpu: 0.001705s\n",
      "Time on gpu: 0.002282s\n",
      "Printing iter 18\n",
      "Time on cpu: 0.001360s\n",
      "Time on gpu: 0.002199s\n",
      "Printing iter 19\n",
      "Time on cpu: 0.001331s\n",
      "Time on gpu: 0.002313s\n",
      "Printing iter 20\n",
      "Time on cpu: 0.001641s\n",
      "Time on gpu: 0.002427s\n",
      "Printing iter 21\n",
      "Time on cpu: 0.001454s\n",
      "Time on gpu: 0.002551s\n",
      "Printing iter 22\n",
      "Time on cpu: 0.001669s\n",
      "Time on gpu: 0.002701s\n",
      "Printing iter 23\n",
      "Time on cpu: 0.001814s\n",
      "Time on gpu: 0.002741s\n",
      "Printing iter 24\n",
      "Time on cpu: 0.002008s\n",
      "Time on gpu: 0.002834s\n",
      "Printing iter 25\n",
      "Time on cpu: 0.002248s\n",
      "Time on gpu: 0.002896s\n",
      "Printing iter 26\n",
      "Time on cpu: 0.001580s\n",
      "Time on gpu: 0.002948s\n",
      "Printing iter 27\n",
      "Time on cpu: 0.002215s\n",
      "Time on gpu: 0.003410s\n",
      "Printing iter 28\n",
      "Time on cpu: 0.001865s\n",
      "Time on gpu: 0.003201s\n",
      "Printing iter 29\n",
      "Time on cpu: 0.001864s\n",
      "Time on gpu: 0.003307s\n",
      "Printing iter 30\n",
      "Time on cpu: 0.002038s\n",
      "Time on gpu: 0.004599s\n",
      "Printing iter 31\n",
      "Time on cpu: 0.001861s\n",
      "Time on gpu: 0.005876s\n",
      "Printing iter 32\n",
      "Time on cpu: 0.001418s\n",
      "Time on gpu: 0.003849s\n",
      "Printing iter 33\n",
      "Time on cpu: 0.001657s\n",
      "Time on gpu: 0.004460s\n",
      "Printing iter 34\n",
      "Time on cpu: 0.002163s\n",
      "Time on gpu: 0.004453s\n",
      "Printing iter 35\n",
      "Time on cpu: 0.001691s\n",
      "Time on gpu: 0.005755s\n",
      "Printing iter 36\n",
      "Time on cpu: 0.001663s\n",
      "Time on gpu: 0.006080s\n",
      "Printing iter 37\n",
      "Time on cpu: 0.001559s\n",
      "Time on gpu: 0.004261s\n",
      "Printing iter 38\n",
      "Time on cpu: 0.001859s\n",
      "Time on gpu: 0.005883s\n",
      "Printing iter 39\n",
      "Time on cpu: 0.001520s\n",
      "Time on gpu: 0.005548s\n",
      "Printing iter 40\n",
      "Time on cpu: 0.001860s\n",
      "Time on gpu: 0.004340s\n",
      "Printing iter 41\n",
      "Time on cpu: 0.001565s\n",
      "Time on gpu: 0.004890s\n",
      "Printing iter 42\n",
      "Time on cpu: 0.002206s\n",
      "Time on gpu: 0.005995s\n",
      "Printing iter 43\n",
      "Time on cpu: 0.001790s\n",
      "Time on gpu: 0.006767s\n",
      "Printing iter 44\n",
      "Time on cpu: 0.001806s\n",
      "Time on gpu: 0.005521s\n",
      "Printing iter 45\n",
      "Time on cpu: 0.001966s\n",
      "Time on gpu: 0.003846s\n",
      "Printing iter 46\n",
      "Time on cpu: 0.002013s\n",
      "Time on gpu: 0.004457s\n",
      "Printing iter 47\n",
      "Time on cpu: 0.002008s\n",
      "Time on gpu: 0.007736s\n",
      "Printing iter 48\n",
      "Time on cpu: 0.002137s\n",
      "Time on gpu: 0.006438s\n",
      "Printing iter 49\n",
      "Time on cpu: 0.002715s\n",
      "Time on gpu: 0.006571s\n",
      "Printing iter 50\n",
      "Time on cpu: 0.002263s\n",
      "Time on gpu: 0.006836s\n",
      "Printing iter 51\n",
      "Time on cpu: 0.002772s\n",
      "Time on gpu: 0.009230s\n",
      "Printing iter 52\n",
      "Time on cpu: 0.001747s\n",
      "Time on gpu: 0.010009s\n",
      "Printing iter 53\n",
      "Time on cpu: 0.001863s\n",
      "Time on gpu: 0.010955s\n",
      "Printing iter 54\n",
      "Time on cpu: 0.002001s\n",
      "Time on gpu: 0.016502s\n",
      "Printing iter 55\n",
      "Time on cpu: 0.001989s\n",
      "Time on gpu: 0.015827s\n",
      "Printing iter 56\n",
      "Time on cpu: 0.001959s\n",
      "Time on gpu: 0.020769s\n",
      "Printing iter 57\n",
      "Time on cpu: 0.001889s\n",
      "Time on gpu: 0.027223s\n",
      "Printing iter 58\n",
      "Time on cpu: 0.002365s\n",
      "Time on gpu: 0.034719s\n",
      "Printing iter 59\n",
      "Time on cpu: 0.002255s\n",
      "Time on gpu: 0.037430s\n",
      "Printing iter 60\n",
      "Time on cpu: 0.002235s\n",
      "Time on gpu: 0.036837s\n",
      "Printing iter 61\n",
      "Time on cpu: 0.002134s\n",
      "Time on gpu: 0.049502s\n",
      "Printing iter 62\n",
      "Time on cpu: 0.002212s\n",
      "Time on gpu: 0.063986s\n",
      "Printing iter 63\n",
      "Time on cpu: 0.002365s\n",
      "Time on gpu: 0.056588s\n",
      "Printing iter 64\n",
      "Time on cpu: 0.002055s\n",
      "Time on gpu: 0.094767s\n"
     ]
    }
   ],
   "source": [
    "gpu_times3 = cp.array([])\n",
    "cpu_times = cp.array([])\n",
    "for i, (noise, diff_mat, src_mat, edges_mat) in enumerate(zip(noise_mats, diff_mats, src_mats, edges_arr)):\n",
    "    print(f\"Printing iter {i}\")\n",
    "    test_results = str(benchmark(inverse_covariance, (noise, diff_mat, src_mat, edges_mat, xp, True, True), n_repeat=10))\n",
    "    # cp.cuda.Stream.null.synchronize()\n",
    "    test_results = test_results.split()\n",
    "    cpu_t = float(test_results[3])/1e6\n",
    "    gpu_t = float(test_results[14])/1e6\n",
    "    print(f\"Time on cpu: {cpu_t:.6f}s\")\n",
    "    print(f\"Time on gpu: {gpu_t:.6f}s\")\n",
    "    gpu_times3 = cp.append(gpu_times3, gpu_t)\n",
    "    cpu_times = cp.append(cpu_times, cpu_t)\n",
    "    cp._default_memory_pool.free_all_blocks()  # Free all unused memory blocks\n",
    "    gc.collect()  # Run garbage collector"
   ]
  },
  {
   "cell_type": "code",
   "execution_count": null,
   "metadata": {},
   "outputs": [
    {
     "data": {
      "text/plain": [
       "Text(0, 0.5, 'Time (s)')"
      ]
     },
     "execution_count": 43,
     "metadata": {},
     "output_type": "execute_result"
    },
    {
     "data": {
      "image/png": "[encoded data removed]",
      "text/plain": [
       "<Figure size 640x480 with 1 Axes>"
      ]
     },
     "metadata": {},
     "output_type": "display_data"
    }
   ],
   "source": [
    "plt.loglog(cp.asnumpy(bl_array), cp.asnumpy(gpu_times), '.')\n",
    "plt.loglog(cp.asnumpy(bl_array), cp.asnumpy(gpu_times1), '.')\n",
    "\n",
    "# plt.plot(cp.asnumpy(bl_array), cp.asnumpy(gpu_times), '.')\n",
    "plt.xlabel(\"N_bls\", fontsize = 15)\n",
    "plt.ylabel(\"Time (s)\", fontsize = 15)"
   ]
  },
  {
   "cell_type": "code",
   "execution_count": null,
   "metadata": {},
   "outputs": [],
   "source": []
  }
 ],
 "metadata": {
  "kernelspec": {
   "display_name": "Python 3",
   "language": "python",
   "name": "python3"
  },
  "language_info": {
   "codemirror_mode": {
    "name": "ipython",
    "version": 3
   },
   "file_extension": ".py",
   "mimetype": "text/x-python",
   "name": "python",
   "nbconvert_exporter": "python",
   "pygments_lexer": "ipython3",
   "version": "3.10.12"
  }
 },
 "nbformat": 4,
 "nbformat_minor": 2
}
