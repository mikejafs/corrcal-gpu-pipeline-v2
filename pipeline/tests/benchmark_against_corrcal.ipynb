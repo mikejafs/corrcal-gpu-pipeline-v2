{
 "cells": [
  {
   "cell_type": "markdown",
   "metadata": {},
   "source": [
    "# Test for inversecovariance benchmarking against CorrCal-C implimentation"
   ]
  },
  {
   "cell_type": "code",
   "execution_count": 1,
   "metadata": {},
   "outputs": [],
   "source": [
    "import sys\n",
    "from pathlib import Path\n",
    "parent_dir = Path.cwd().parent\n",
    "sys.path.insert(0, str(parent_dir))"
   ]
  },
  {
   "cell_type": "code",
   "execution_count": 2,
   "metadata": {},
   "outputs": [
    {
     "name": "stdout",
     "output_type": "stream",
     "text": [
      "hera_cal is not installed. Some gridding features unavailable.\n",
      "pyfof is not installed. Some gridding features unavailable.\n"
     ]
    }
   ],
   "source": [
    "import numpy as np\n",
    "import cupy as cp\n",
    "import seaborn as sns\n",
    "from corrcal import sparse\n",
    "from zp_puregpu_funcs_py import *\n",
    "from invcov import *"
   ]
  },
  {
   "cell_type": "code",
   "execution_count": 3,
   "metadata": {},
   "outputs": [],
   "source": [
    "#the main parametes describing our problem.\n",
    "n_bl = 120000\n",
    "n_eig = 3\n",
    "n_src = 5\n",
    "xp = np  #run things on the gpu using cupy\n",
    "\n",
    "#random array of edges for the diffuse matrix\n",
    "edges = xp.unique(xp.random.randint(1, n_bl-1, size = 500))\n",
    "edges = xp.concatenate((xp.array([0]), edges, xp.array([n_bl])))\n",
    "# print(f\"The edges of the redundant blocks have indices{edges}\")\n",
    "\n",
    "#some random noise, diffuse, and source covariance matrices\n",
    "# sim_noise_mat = xp.random.rand(n_bl, dtype = 'float64') + 0.1   #in principle this is squared since is a variance\n",
    "# sim_diff_mat = xp.random.rand(n_bl, n_eig, dtype = 'float64')\n",
    "# sim_src_mat = xp.random.rand(n_bl, n_src, dtype = 'float64')\n",
    "sim_noise_mat = xp.random.rand(n_bl) + 0.1   #in principle this is squared since is a variance\n",
    "sim_diff_mat = xp.random.rand(n_bl, n_eig)\n",
    "sim_src_mat = xp.random.rand(n_bl, n_src)\n",
    "# sim_noise_mat_np = cp.asnumpy(sim_noise_mat)\n",
    "# sim_diff_mat_np = cp.asnumpy(sim_diff_mat)\n",
    "# sim_src_mat_np = cp.asnumpy(sim_src_mat)\n",
    "# edges_np = cp.asnumpy(edges)\n",
    "# src_mat = sim_src_mat_np @ sim_src_mat_np.T.conj()  # Ensures src_mat is positive definite\n",
    "# diff_mat = sim_diff_mat_np @ sim_diff_mat_np.T.conj()\n",
    "# noise_mat = sim_noise_mat_np @ sim_noise_mat_np.T.conj()"
   ]
  },
  {
   "cell_type": "code",
   "execution_count": 11,
   "metadata": {},
   "outputs": [
    {
     "name": "stdout",
     "output_type": "stream",
     "text": [
      "float64\n"
     ]
    }
   ],
   "source": [
    "print(sim_diff_mat.dtype)"
   ]
  },
  {
   "cell_type": "code",
   "execution_count": 4,
   "metadata": {},
   "outputs": [],
   "source": [
    "cov_instance = sparse.SparseCov(sim_noise_mat, sim_src_mat, sim_diff_mat, edges=edges, n_eig=n_eig)\n",
    "# cov_instance = sparse.SparseCov(noise_mat, src_mat, diff_mat, edges=edges_np, n_eig=n_eig)"
   ]
  },
  {
   "cell_type": "code",
   "execution_count": 5,
   "metadata": {},
   "outputs": [],
   "source": [
    "cov_inv, log_det = cov_instance.inv(return_det=True)"
   ]
  },
  {
   "cell_type": "code",
   "execution_count": 6,
   "metadata": {},
   "outputs": [
    {
     "name": "stdout",
     "output_type": "stream",
     "text": [
      "Time on cpu: 0.101809s\n",
      "Time on gpu: 0.102384s\n"
     ]
    }
   ],
   "source": [
    "test_results = str(benchmark(cov_instance.inv, n_repeat=100))\n",
    "test_results = test_results.split()\n",
    "cpu_t = float(test_results[3])/1e6\n",
    "gpu_t = float(test_results[14])/1e6\n",
    "print(f\"Time on cpu: {cpu_t:.6f}s\")\n",
    "print(f\"Time on gpu: {gpu_t:.6f}s\")"
   ]
  },
  {
   "cell_type": "code",
   "execution_count": 7,
   "metadata": {},
   "outputs": [],
   "source": [
    "#the main parametes describing our problem.\n",
    "n_bl = 120000\n",
    "n_eig = 3\n",
    "n_src = 5\n",
    "xp = cp  #run things on the gpu using cupy\n",
    "\n",
    "#random array of edges for the diffuse matrix\n",
    "edges = xp.unique(xp.random.randint(1, n_bl-1, size = 500))\n",
    "edges = xp.concatenate((xp.array([0]), edges, xp.array([n_bl])))\n",
    "# print(f\"The edges of the redundant blocks have indices{edges}\")\n",
    "\n",
    "#some random noise, diffuse, and source covariance matrices\n",
    "sim_noise_mat = xp.random.rand(n_bl, dtype = 'float64') + 0.1   #in principle this is squared since is a variance\n",
    "sim_diff_mat = xp.random.rand(n_bl, n_eig, dtype = 'float64')\n",
    "sim_src_mat = xp.random.rand(n_bl, n_src, dtype = 'float64')\n"
   ]
  },
  {
   "cell_type": "code",
   "execution_count": 8,
   "metadata": {},
   "outputs": [],
   "source": [
    "#zeropad the noise, diff, source mats\n",
    "zp_sim_noise_mat_inv, largest_block, n_blocks = zeroPad(sim_noise_mat, edges, return_inv=True)  #return inverse set to True to get around div by 0 issue\n",
    "zp_sim_noise_mat, largest_block, n_blocks = zeroPad(sim_noise_mat, edges, return_inv=False)  #return inverse set to False for sims later on\n",
    "zp_sim_diff_mat, largest_block, n_blocks = zeroPad(sim_diff_mat, edges, return_inv=False)\n",
    "zp_sim_src_mat, largest_block, n_blocks = zeroPad(sim_src_mat, edges, return_inv=False)\n",
    "\n",
    "#Need to reshape to give an extra dimension of n_blocks to be compatible with inv cov routine\n",
    "sim_noise_mat_2d = zp_sim_noise_mat_inv.reshape(n_blocks, largest_block)   #Again, its worth noting the values of the noise mat are really 1/noise_vals here\n",
    "sim_diff_mat_3d = zp_sim_diff_mat.reshape(n_blocks, largest_block, n_eig)\n",
    "sim_src_mat_3d = zp_sim_src_mat.reshape(n_blocks, largest_block, n_src)"
   ]
  },
  {
   "cell_type": "code",
   "execution_count": 9,
   "metadata": {},
   "outputs": [
    {
     "name": "stdout",
     "output_type": "stream",
     "text": [
      "Time on cpu: 0.033856s\n",
      "Time on gpu: 0.034011s\n"
     ]
    }
   ],
   "source": [
    "test_results = str(benchmark(inverse_covariance, (sim_noise_mat_2d, sim_diff_mat_3d, sim_src_mat_3d, edges, xp, True, True), n_repeat=100))\n",
    "test_results = test_results.split()\n",
    "cpu_t = float(test_results[3])/1e6\n",
    "gpu_t = float(test_results[14])/1e6\n",
    "print(f\"Time on cpu: {cpu_t:.6f}s\")\n",
    "print(f\"Time on gpu: {gpu_t:.6f}s\")"
   ]
  }
 ],
 "metadata": {
  "kernelspec": {
   "display_name": "Python 3",
   "language": "python",
   "name": "python3"
  },
  "language_info": {
   "codemirror_mode": {
    "name": "ipython",
    "version": 3
   },
   "file_extension": ".py",
   "mimetype": "text/x-python",
   "name": "python",
   "nbconvert_exporter": "python",
   "pygments_lexer": "ipython3",
   "version": "3.10.12"
  }
 },
 "nbformat": 4,
 "nbformat_minor": 2
}
