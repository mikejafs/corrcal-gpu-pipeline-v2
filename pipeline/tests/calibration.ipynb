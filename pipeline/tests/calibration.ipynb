{
 "cells": [
  {
   "cell_type": "markdown",
   "id": "c423bcc1",
   "metadata": {},
   "source": [
    "# Calibration with GPU-optimized core functionalities"
   ]
  },
  {
   "cell_type": "code",
   "execution_count": null,
   "id": "b5be98dc",
   "metadata": {},
   "outputs": [],
   "source": [
    "\n",
    "# Packages required for calibration\n",
    "import numpy as np\n",
    "\n",
    "import scipy.integrate as _spi\n",
    "_spi.trapz = np.trapz\n",
    "import corrcal  # For performing the likelihood and gradient operations\n",
    "from scipy.optimize import minimize  # For running calibration\n",
    "\n",
    "# Packages to help with covariance model building and simulation\n",
    "import hera_sim\n",
    "import matvis  # For coordinate transformations\n",
    "from astropy import constants, units\n",
    "from astropy.coordinates import Latitude, Longitude, AltAz\n",
    "from astropy.coordinates import EarthLocation, SkyCoord\n",
    "from astropy_healpix import HEALPix  # For interpolating to the image plane\n",
    "from astropy.time import Time\n",
    "from numpy.fft import fft2, ifft2, fftshift, ifftshift\n",
    "from pyradiosky import SkyModel\n",
    "from pyuvdata import UVBeam  # If using a realistic beam model\n",
    "from pyuvsim import AnalyticBeam  # If using an analytic beam model\n",
    "\n",
    "# Other packages\n",
    "import healpy  # For various operations on the sphere\n",
    "import matplotlib.pyplot as plt\n",
    "from scipy.stats import binned_statistic_2d  # For visualization purposes\n",
    "%matplotlib inline"
   ]
  },
  {
   "cell_type": "code",
   "execution_count": null,
   "id": "08be4c51",
   "metadata": {},
   "outputs": [],
   "source": []
  }
 ],
 "metadata": {
  "kernelspec": {
   "display_name": "corrcal_dev",
   "language": "python",
   "name": "python3"
  },
  "language_info": {
   "codemirror_mode": {
    "name": "ipython",
    "version": 3
   },
   "file_extension": ".py",
   "mimetype": "text/x-python",
   "name": "python",
   "nbconvert_exporter": "python",
   "pygments_lexer": "ipython3",
   "version": "3.12.2"
  }
 },
 "nbformat": 4,
 "nbformat_minor": 5
}
