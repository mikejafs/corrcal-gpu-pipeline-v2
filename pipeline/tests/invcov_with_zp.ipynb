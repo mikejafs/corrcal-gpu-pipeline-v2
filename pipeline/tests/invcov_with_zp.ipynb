{
 "cells": [
  {
   "cell_type": "markdown",
   "metadata": {},
   "source": [
    "## Test for functionality of inverse convariance routine with gpu-zeropad code"
   ]
  },
  {
   "cell_type": "markdown",
   "metadata": {},
   "source": [
    "Also comparison to corrcal algo of determinant correctness."
   ]
  },
  {
   "cell_type": "markdown",
   "metadata": {},
   "source": [
    "##### Module imports"
   ]
  },
  {
   "cell_type": "code",
   "execution_count": 1,
   "metadata": {},
   "outputs": [
    {
     "name": "stdout",
     "output_type": "stream",
     "text": [
      "hera_cal is not installed. Some gridding features unavailable.\n",
      "pyfof is not installed. Some gridding features unavailable.\n",
      "hello world\n"
     ]
    }
   ],
   "source": [
    "import numpy as np\n",
    "import cupy as cp\n",
    "import sys\n",
    "from pathlib import Path\n",
    "parent_dir = Path.cwd().parent\n",
    "sys.path.insert(0, str(parent_dir))\n",
    "from zp_puregpu_funcs_py import *\n",
    "from invcov import *"
   ]
  },
  {
   "cell_type": "markdown",
   "metadata": {},
   "source": [
    "##### Simulation parameters. ie. noise, diffuse, and source matrices with correct matrix shapes + edges array."
   ]
  },
  {
   "cell_type": "code",
   "execution_count": 32,
   "metadata": {},
   "outputs": [
    {
     "name": "stdout",
     "output_type": "stream",
     "text": [
      "The edges of the redundant blocks have indices[ 0  4  6 14 19 20 24 35 43 50]\n",
      "(50, 1)\n"
     ]
    }
   ],
   "source": [
    "#the main parametes describing our problem.\n",
    "n_bl = 50\n",
    "n_eig = 3\n",
    "n_src = 6\n",
    "xp = cp  #run things on the gpu using cupy\n",
    "\n",
    "#random array of edges for the diffuse matrix\n",
    "edges = xp.unique(xp.random.randint(1, n_bl-1, size = 10))\n",
    "edges = xp.concatenate((xp.array([0]), edges, xp.array([n_bl])))\n",
    "print(f\"The edges of the redundant blocks have indices{edges}\")\n",
    "\n",
    "#some random noise, diffuse, and source covariance matrices\n",
    "sim_noise_mat = xp.random.rand(n_bl, dtype = 'float64')**2   #in principle this is squared since is a variance\n",
    "# sim_noise_mat = xp.where(sim_noise_mat == 0, 0.1, sim_noise_mat)\n",
    "sim_noise_mat = sim_noise_mat.reshape(len(sim_noise_mat), 1)\n",
    "print(sim_noise_mat.shape)\n",
    "sim_diff_mat = xp.random.rand(n_bl, n_eig, dtype = 'float64')\n",
    "sim_src_mat = xp.random.rand(n_bl, n_src, dtype = 'float64')"
   ]
  },
  {
   "cell_type": "markdown",
   "metadata": {},
   "source": [
    "##### We zeropad the matrices first, then return the inverse covariance"
   ]
  },
  {
   "cell_type": "code",
   "execution_count": 33,
   "metadata": {},
   "outputs": [],
   "source": [
    "#zeropad the noise, diff, source mats\n",
    "zp_sim_noise_mat, largest_block, n_blocks = zeroPad(sim_noise_mat, edges, return_inv=True)  #return inverse set to True to get around div by 0 issue \n",
    "zp_sim_diff_mat, largest_block, n_blocks = zeroPad(sim_diff_mat, edges, return_inv=False)\n",
    "zp_sim_src_mat, largest_block, n_blocks = zeroPad(sim_src_mat, edges, return_inv=False)\n",
    "\n",
    "#Need to reshape to give an extra dimension of n_blocks to be compatible with inv cov routine\n",
    "sim_noise_mat_2d = zp_sim_noise_mat.reshape(n_blocks, largest_block)\n",
    "sim_diff_mat_3d = zp_sim_diff_mat.reshape(n_blocks, largest_block, n_eig)\n",
    "sim_src_mat_3d = zp_sim_src_mat.reshape(n_blocks, largest_block, n_src)\n"
   ]
  },
  {
   "cell_type": "code",
   "execution_count": 34,
   "metadata": {},
   "outputs": [
    {
     "name": "stdout",
     "output_type": "stream",
     "text": [
      "(50, 1)\n",
      "(50, 3)\n",
      "(50, 6)\n"
     ]
    }
   ],
   "source": [
    "print(sim_noise_mat.shape)\n",
    "print(sim_diff_mat.shape)\n",
    "print(sim_src_mat.shape)"
   ]
  },
  {
   "cell_type": "code",
   "execution_count": 35,
   "metadata": {},
   "outputs": [
    {
     "name": "stdout",
     "output_type": "stream",
     "text": [
      "(9, 11, 3)\n",
      "(9, 11, 3)\n"
     ]
    }
   ],
   "source": [
    "#find inverse components\n",
    "logdet, N_inv, Del_p, Sig_p = inverse_covariance(sim_noise_mat_2d, sim_diff_mat_3d, sim_src_mat_3d, edges=edges, xp = xp , ret_det = True, N_is_inv=True)"
   ]
  },
  {
   "cell_type": "code",
   "execution_count": 46,
   "metadata": {},
   "outputs": [
    {
     "name": "stdout",
     "output_type": "stream",
     "text": [
      "451.99319185169355\n"
     ]
    }
   ],
   "source": [
    "print(logdet)"
   ]
  },
  {
   "cell_type": "code",
   "execution_count": 36,
   "metadata": {},
   "outputs": [
    {
     "name": "stdout",
     "output_type": "stream",
     "text": [
      "(9, 11)\n",
      "(9, 11, 3)\n",
      "(9, 11, 6)\n"
     ]
    }
   ],
   "source": [
    "print(N_inv.shape)\n",
    "print(Del_p.shape)\n",
    "print(Sig_p.shape)"
   ]
  },
  {
   "cell_type": "code",
   "execution_count": 37,
   "metadata": {},
   "outputs": [],
   "source": [
    "N_inv = N_inv.reshape(n_blocks*largest_block)\n",
    "Del_p = Del_p.reshape(n_blocks*largest_block, n_eig)\n",
    "Sig_p = Sig_p.reshape(n_blocks*largest_block, n_src)"
   ]
  },
  {
   "cell_type": "code",
   "execution_count": 38,
   "metadata": {},
   "outputs": [],
   "source": [
    "#convert sparse things to dense things to visualize what we're really working with\n",
    "sim_diff_mat_dense = sparden_convert(sim_diff_mat, n_bl=n_bl, n_eig=n_eig, edges=edges, xp = cp)\n",
    "Del_p_dense = sparden_convert(Del_p, n_bl=n_bl, n_eig=n_eig, edges=edges, xp = cp)"
   ]
  },
  {
   "cell_type": "markdown",
   "metadata": {},
   "source": [
    "##### At this point, we are set up to visualize the dense version of the diffuse matrix"
   ]
  },
  {
   "cell_type": "code",
   "execution_count": 44,
   "metadata": {},
   "outputs": [
    {
     "data": {
      "image/png": "[encoded data removed]",
      "text/plain": [
       "<Figure size 400x400 with 2 Axes>"
      ]
     },
     "metadata": {},
     "output_type": "display_data"
    }
   ],
   "source": [
    "fig, ax = plt.subplots(figsize=(4, 4))\n",
    "im = ax.imshow(cp.asnumpy(cp.log(sim_diff_mat_dense + 1e-20)*-1), vmax = 10, cmap='twilight', aspect='auto')\n",
    "ax.set_title(\"Dense Diffuse Matrix Visualized\")\n",
    "ax.set_xlabel(\"$n_{eig}$*$n_{grps}$\", fontsize = 15)\n",
    "ax.set_ylabel(\"$n_{bls}$\", fontsize = 15)\n",
    "fig.colorbar(im)\n",
    "plt.show()\n",
    "\n",
    "#would like the center to be at 0, vmin and vmax only differ by a sign"
   ]
  },
  {
   "cell_type": "code",
   "execution_count": 45,
   "metadata": {},
   "outputs": [
    {
     "ename": "ValueError",
     "evalue": "operands could not be broadcast together with shapes (99, 99) (50, 50)",
     "output_type": "error",
     "traceback": [
      "\u001b[0;31m---------------------------------------------------------------------------\u001b[0m",
      "\u001b[0;31mValueError\u001b[0m                                Traceback (most recent call last)",
      "Cell \u001b[0;32mIn[45], line 5\u001b[0m\n\u001b[1;32m      2\u001b[0m C \u001b[38;5;241m=\u001b[39m xp\u001b[38;5;241m.\u001b[39mdiag(sim_noise_mat) \u001b[38;5;241m+\u001b[39m sim_diff_mat_dense\u001b[38;5;129m@sim_diff_mat_dense\u001b[39m\u001b[38;5;241m.\u001b[39mT \u001b[38;5;241m+\u001b[39m sim_src_mat\u001b[38;5;129m@sim_src_mat\u001b[39m\u001b[38;5;241m.\u001b[39mT\n\u001b[1;32m      4\u001b[0m \u001b[38;5;66;03m#Now we do the same with the inverse covariance components\u001b[39;00m\n\u001b[0;32m----> 5\u001b[0m C_inv \u001b[38;5;241m=\u001b[39m \u001b[43mxp\u001b[49m\u001b[38;5;241;43m.\u001b[39;49m\u001b[43mdiag\u001b[49m\u001b[43m(\u001b[49m\u001b[43mN_inv\u001b[49m\u001b[43m)\u001b[49m\u001b[43m \u001b[49m\u001b[38;5;241;43m-\u001b[39;49m\u001b[43m \u001b[49m\u001b[43mDel_p_dense\u001b[49m\u001b[38;5;129;43m@Del_p_dense\u001b[39;49m\u001b[38;5;241;43m.\u001b[39;49m\u001b[43mT\u001b[49m \u001b[38;5;241m-\u001b[39m Sig_p\u001b[38;5;129m@Sig_p\u001b[39m\u001b[38;5;241m.\u001b[39mT\n\u001b[1;32m      7\u001b[0m \u001b[38;5;66;03m#now check their matrix product returns the identity\u001b[39;00m\n\u001b[1;32m      8\u001b[0m \u001b[38;5;28;01mif\u001b[39;00m np\u001b[38;5;241m.\u001b[39mallclose(C\u001b[38;5;129m@C_inv\u001b[39m, np\u001b[38;5;241m.\u001b[39meye(C\u001b[38;5;241m.\u001b[39mshape[\u001b[38;5;241m0\u001b[39m])) \u001b[38;5;241m==\u001b[39m \u001b[38;5;28;01mTrue\u001b[39;00m:\n",
      "File \u001b[0;32mcupy/_core/core.pyx:1273\u001b[0m, in \u001b[0;36mcupy._core.core._ndarray_base.__sub__\u001b[0;34m()\u001b[0m\n",
      "File \u001b[0;32mcupy/_core/_kernel.pyx:1315\u001b[0m, in \u001b[0;36mcupy._core._kernel.ufunc.__call__\u001b[0;34m()\u001b[0m\n",
      "File \u001b[0;32mcupy/_core/internal.pyx:380\u001b[0m, in \u001b[0;36mcupy._core.internal._broadcast_core\u001b[0;34m()\u001b[0m\n",
      "\u001b[0;31mValueError\u001b[0m: operands could not be broadcast together with shapes (99, 99) (50, 50)"
     ]
    }
   ],
   "source": [
    "#First we assemble te dense covariance object using the input matrices above\n",
    "C = xp.diag(sim_noise_mat) + sim_diff_mat_dense@sim_diff_mat_dense.T + sim_src_mat@sim_src_mat.T\n",
    "\n",
    "#Now we do the same with the inverse covariance components\n",
    "C_inv = xp.diag(N_inv) - Del_p_dense@Del_p_dense.T - Sig_p@Sig_p.T\n",
    "\n",
    "#now check their matrix product returns the identity\n",
    "if np.allclose(C@C_inv, np.eye(C.shape[0])) == True:\n",
    "    print(\"C*C^{-1} returns the identity\")\n",
    "\n",
    "#brute force computation of C^{-1} using numpy\n",
    "C_numpy_inv = cp.linalg.inv(C)\n",
    "\n",
    "#check the answer is the same as C = N + Del * Del^dag + Sig * Sig^dag \n",
    "if np.allclose(C_inv, C_numpy_inv) == True:\n",
    "    print(\"Brute force computation with numpy returns the same answer as our sparse 2-level inverse routine\")\n"
   ]
  }
 ],
 "metadata": {
  "kernelspec": {
   "display_name": "Python 3",
   "language": "python",
   "name": "python3"
  },
  "language_info": {
   "codemirror_mode": {
    "name": "ipython",
    "version": 3
   },
   "file_extension": ".py",
   "mimetype": "text/x-python",
   "name": "python",
   "nbconvert_exporter": "python",
   "pygments_lexer": "ipython3",
   "version": "3.10.12"
  }
 },
 "nbformat": 4,
 "nbformat_minor": 2
}
