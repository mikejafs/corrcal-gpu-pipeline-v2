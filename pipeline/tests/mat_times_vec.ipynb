{
 "cells": [
  {
   "metadata": {},
   "cell_type": "markdown",
   "source": [
    "# Tests for Sparse Covariance Times Vector Function\n",
    "\n",
    "Need to clean this up and add tests for when is_inv = False"
   ]
  },
  {
   "cell_type": "code",
   "metadata": {
    "ExecuteTime": {
     "end_time": "2025-03-08T01:06:39.423128Z",
     "start_time": "2025-03-08T01:06:39.418697Z"
    }
   },
   "source": [
    "import sys\n",
    "from pathlib import Path\n",
    "\n",
    "parent_dir = Path.cwd().parent\n",
    "sys.path.insert(0, str(parent_dir))"
   ],
   "outputs": [],
   "execution_count": 1
  },
  {
   "cell_type": "code",
   "metadata": {
    "ExecuteTime": {
     "end_time": "2025-03-08T01:06:40.614054Z",
     "start_time": "2025-03-08T01:06:39.433082Z"
    }
   },
   "source": [
    "#import from invcov and zeropad funcs for computing C^{-1} and zeropadding\n",
    "from invcov import *\n",
    "from zp_puregpu_funcs_py import *"
   ],
   "outputs": [
    {
     "name": "stdout",
     "output_type": "stream",
     "text": [
      "hera_cal is not installed. Some gridding features unavailable.\n",
      "pyfof is not installed. Some gridding features unavailable.\n"
     ]
    }
   ],
   "execution_count": 2
  },
  {
   "cell_type": "code",
   "metadata": {
    "ExecuteTime": {
     "end_time": "2025-03-08T01:06:40.728402Z",
     "start_time": "2025-03-08T01:06:40.720877Z"
    }
   },
   "source": [
    "import numpy as np\n",
    "import cupy as cp\n",
    "import seaborn as sns\n",
    "import matplotlib.pyplot as plt\n",
    "from cupyx.profiler import benchmark"
   ],
   "outputs": [],
   "execution_count": 3
  },
  {
   "metadata": {},
   "cell_type": "markdown",
   "source": [
    "## Define sparse covariance times data function\n",
    "\n",
    "TODO: re-design function to handle only taking in as arguments: cov & data. Should also shift away from the xp thing since this is growing convoluted and besides some functions (eg. zeroPad - gpu version) is not cross compatible with np and cp.."
   ]
  },
  {
   "cell_type": "code",
   "metadata": {
    "ExecuteTime": {
     "end_time": "2025-03-08T01:06:40.744852Z",
     "start_time": "2025-03-08T01:06:40.739500Z"
    }
   },
   "source": [
    "#note this might be a really good time to consider making a covariance class \n",
    "#this way, this function could in theory inherit all of the mattrices like N, Sig, Del,\n",
    "#and also N_inv, Del_prime, Sig_prime\n",
    "\n",
    "def sparse_cov_times_vec(N, Del, Sig, N_inv, Del_prime, Sig_prime, vec, isinv, xp):\n",
    "    if vec.ndim == 2:\n",
    "        vec = vec.reshape(vec.shape[0], vec.shape[1], 1)\n",
    "        N = N.reshape(vec.shape[0], vec.shape[1], 1)\n",
    "        N_inv = N_inv.reshape(vec.shape[0], vec.shape[1], 1)\n",
    "    else:\n",
    "        pass\n",
    "    if isinv:\n",
    "        del_tmp = xp.transpose(Del_prime, [0, 2, 1]) @ vec\n",
    "        sig_tmp = xp.sum(xp.transpose(Sig_prime, [0, 2, 1]) @ vec, axis=0)\n",
    "        out = N_inv * vec - Del_prime @ del_tmp - Sig_prime @ sig_tmp\n",
    "    else:\n",
    "        del_tmp = xp.transpose(Del, [0, 2, 1]) @ vec\n",
    "        sig_tmp = xp.sum(xp.transpose(Sig, [0, 2, 1]) @ vec, axis=0)\n",
    "        out = N * vec + Del @ del_tmp + Sig @ sig_tmp\n",
    "    return out"
   ],
   "outputs": [],
   "execution_count": 4
  },
  {
   "metadata": {},
   "cell_type": "markdown",
   "source": [
    "## Test that $C^{-1}d$ works as expected\n",
    "\n",
    "I will first test that things work using the inverse covariance. Regular covariance is to follow. It is important to test both since the $Cd$ version appears in the gradient calculation.\n",
    "\n",
    "Start by simulating the main matrices and vectors using some randomly generated arrays, then zeropad where appropriate, manually compute cov times a vector and compare to the output of the function above."
   ]
  },
  {
   "cell_type": "code",
   "metadata": {
    "ExecuteTime": {
     "end_time": "2025-03-08T01:06:41.268118Z",
     "start_time": "2025-03-08T01:06:40.789090Z"
    }
   },
   "source": [
    "#the main parametes describing our problem.\n",
    "n_bl = 20\n",
    "n_eig = 3\n",
    "n_src = 5\n",
    "xp = cp  #run things on the gpu using cupy\n",
    "\n",
    "#random array of edges for the diffuse matrix\n",
    "edges = xp.unique(xp.random.randint(1, n_bl-1, size = 4))\n",
    "edges = xp.concatenate((xp.array([0]), edges, xp.array([n_bl])))\n",
    "print(f\"The edges of the redundant blocks have indices{edges}\")\n",
    "\n",
    "#some random noise, diffuse, and source covariance matrices\n",
    "if xp == np:\n",
    "    sim_noise_mat = (xp.random.rand(n_bl)**2).astype('float64')   #in principle this is squared since is a variance\n",
    "    sim_diff_mat = xp.random.rand(n_bl, n_eig).astype('float64')\n",
    "    sim_src_mat = xp.random.rand(n_bl, n_src).astype('float64')\n",
    "    sim_data_vec = xp.random.rand(n_bl).astype('float64')\n",
    "    print(type(sim_noise_mat))\n",
    "    print(type(sim_diff_mat))\n",
    "    print(type(sim_src_mat))\n",
    "    print(type(sim_data_vec))\n",
    "elif xp == cp:\n",
    "    sim_noise_mat = xp.random.rand(n_bl, dtype = 'float64')**2   #in principle this is squared since is a variance\n",
    "    sim_diff_mat = xp.random.rand(n_bl, n_eig, dtype = 'float64')\n",
    "    sim_src_mat = xp.random.rand(n_bl, n_src, dtype = 'float64')\n",
    "    sim_data_vec = xp.random.rand(n_bl, dtype = 'float64')\n",
    "    print(type(sim_noise_mat))\n",
    "    print(type(sim_diff_mat))\n",
    "    print(type(sim_src_mat))\n",
    "    print(type(sim_data_vec))"
   ],
   "outputs": [
    {
     "name": "stdout",
     "output_type": "stream",
     "text": [
      "The edges of the redundant blocks have indices[ 0  7 10 15 16 20]\n",
      "<class 'cupy.ndarray'>\n",
      "<class 'cupy.ndarray'>\n",
      "<class 'cupy.ndarray'>\n",
      "<class 'cupy.ndarray'>\n"
     ]
    }
   ],
   "execution_count": 5
  },
  {
   "cell_type": "code",
   "metadata": {
    "ExecuteTime": {
     "end_time": "2025-03-08T01:06:41.340180Z",
     "start_time": "2025-03-08T01:06:41.320363Z"
    }
   },
   "source": [
    "#zeropad the noise, diff, source mats\n",
    "zp_sim_noise_mat_inv, largest_block, n_blocks = zeroPad(sim_noise_mat, edges, return_inv=True)  #return inverse set to True to get around div by 0 issue\n",
    "zp_sim_diff_mat, largest_block, n_blocks = zeroPad(sim_diff_mat, edges, return_inv=False)\n",
    "zp_sim_src_mat, largest_block, n_blocks = zeroPad(sim_src_mat, edges, return_inv=False)\n",
    "zp_sim_data_vec, largest_block, n_blocks = zeroPad(sim_data_vec, edges, return_inv=False)"
   ],
   "outputs": [],
   "execution_count": 6
  },
  {
   "cell_type": "code",
   "metadata": {
    "ExecuteTime": {
     "end_time": "2025-03-08T01:06:41.614563Z",
     "start_time": "2025-03-08T01:06:41.388171Z"
    }
   },
   "source": [
    "#find inverse components, noting the result will still be a set of zeropadded matrices\n",
    "#Note we feed the inverse noise components to the inverse cov routine as can be seen by the N_is_inv=True\n",
    "logdet, N_inv, Del_p, Sig_p = inverse_covariance(zp_sim_noise_mat_inv, zp_sim_diff_mat, zp_sim_src_mat, edges=edges, xp = xp , ret_det = True, N_is_inv=True)"
   ],
   "outputs": [],
   "execution_count": 7
  },
  {
   "cell_type": "code",
   "metadata": {
    "ExecuteTime": {
     "end_time": "2025-03-08T01:06:41.651745Z",
     "start_time": "2025-03-08T01:06:41.637244Z"
    }
   },
   "source": [
    "out_inv = sparse_cov_times_vec(zp_sim_noise_mat_inv, zp_sim_diff_mat, zp_sim_src_mat, N_inv, Del_p, Sig_p, zp_sim_data_vec, isinv=True, xp = cp)\n",
    "out_reshape = out_inv.reshape(n_blocks*largest_block)"
   ],
   "outputs": [],
   "execution_count": 8
  },
  {
   "metadata": {},
   "cell_type": "markdown",
   "source": "To test the accuracy of the sparse mat mul routine, we need the diffuse matrix in its dense form, which first requires reshaping the zeropadded arrays such that 2D -> 1D and 3D -> 2D."
  },
  {
   "cell_type": "code",
   "metadata": {
    "ExecuteTime": {
     "end_time": "2025-03-08T01:06:41.710756Z",
     "start_time": "2025-03-08T01:06:41.706781Z"
    }
   },
   "source": [
    "N_inv = N_inv.reshape(n_blocks * largest_block)\n",
    "Del_p = Del_p.reshape(n_blocks * largest_block, n_eig)\n",
    "Sig_p = Sig_p.reshape(n_blocks * largest_block, n_src)"
   ],
   "outputs": [],
   "execution_count": 9
  },
  {
   "cell_type": "code",
   "metadata": {
    "ExecuteTime": {
     "end_time": "2025-03-08T01:06:41.934756Z",
     "start_time": "2025-03-08T01:06:41.816707Z"
    }
   },
   "source": [
    "#convert sparse things to dense things to visualize what we're really working with\n",
    "Del_p_dense = sparden_convert(Del_p, largest_block, n_blocks, n_bl=n_bl, n_eig=n_eig, edges=edges, xp = cp, zeroPad=True)\n",
    "plt.imshow(cp.asnumpy(Del_p_dense))\n",
    "plt.show()"
   ],
   "outputs": [
    {
     "data": {
      "text/plain": [
       "<Figure size 640x480 with 1 Axes>"
      ],
      "image/png": "[encoded data removed]"
     },
     "metadata": {},
     "output_type": "display_data"
    }
   ],
   "execution_count": 10
  },
  {
   "metadata": {},
   "cell_type": "markdown",
   "source": "Now test the custom routine against the manual $C^{-1} \\times d$ calculation."
  },
  {
   "cell_type": "code",
   "metadata": {
    "ExecuteTime": {
     "end_time": "2025-03-08T01:06:42.046234Z",
     "start_time": "2025-03-08T01:06:41.966282Z"
    }
   },
   "source": [
    "#first assemble the full dense covariance\n",
    "dense_cov_inv = cp.diag(N_inv) - Del_p_dense @ Del_p_dense.T - Sig_p @ Sig_p.T\n",
    "\n",
    "#ensure the data array can be suitably multiplied by the inv cov\n",
    "zp_sim_data_vec = zp_sim_data_vec.reshape(n_blocks*largest_block)\n",
    "\n",
    "#manually perform the calculation\n",
    "dense_cov_inv_times_vec = dense_cov_inv @ zp_sim_data_vec\n",
    "\n",
    "#compare the two methods\n",
    "assert np.allclose(dense_cov_inv_times_vec, out_reshape)"
   ],
   "outputs": [],
   "execution_count": 11
  },
  {
   "cell_type": "code",
   "metadata": {
    "ExecuteTime": {
     "end_time": "2025-03-08T01:06:42.228352Z",
     "start_time": "2025-03-08T01:06:42.053755Z"
    }
   },
   "source": [
    "#Check graphically whether the two methods return the same result\n",
    "plt.plot(cp.asnumpy(out_reshape), label = \"my routine\")\n",
    "plt.plot(cp.asnumpy(dense_cov_inv_times_vec), label = \"dense times v\")\n",
    "plt.title(\"The Methods are Identical\")\n",
    "plt.ylim(-0.00001, 0.00001)\n",
    "plt.legend()\n",
    "plt.show()"
   ],
   "outputs": [
    {
     "data": {
      "text/plain": [
       "<Figure size 640x480 with 1 Axes>"
      ],
      "image/png": "[encoded data removed]"
     },
     "metadata": {},
     "output_type": "display_data"
    }
   ],
   "execution_count": 12
  },
  {
   "metadata": {},
   "cell_type": "markdown",
   "source": [
    "### Benchmarking sparse cov times vec\n",
    "\n",
    "It is useful to get a quick sense of how quick things will run for this simple routine while we're at it."
   ]
  },
  {
   "metadata": {
    "ExecuteTime": {
     "end_time": "2025-03-08T01:06:42.277029Z",
     "start_time": "2025-03-08T01:06:42.272767Z"
    }
   },
   "cell_type": "code",
   "source": [
    "N_inv = N_inv.reshape(n_blocks, largest_block)\n",
    "Del_p = Del_p.reshape(n_blocks, largest_block, n_eig)\n",
    "Sig_p = Sig_p.reshape(n_blocks, largest_block, n_src)\n",
    "zp_sim_data_vec = zp_sim_data_vec.reshape(n_blocks, largest_block)"
   ],
   "outputs": [],
   "execution_count": 13
  },
  {
   "metadata": {
    "ExecuteTime": {
     "end_time": "2025-03-08T01:06:42.440420Z",
     "start_time": "2025-03-08T01:06:42.320620Z"
    }
   },
   "cell_type": "code",
   "source": "print(benchmark(sparse_cov_times_vec, (zp_sim_noise_mat_inv, zp_sim_diff_mat, zp_sim_src_mat, N_inv, Del_p, Sig_p, zp_sim_data_vec, True, cp), n_repeat=100))",
   "outputs": [
    {
     "name": "stdout",
     "output_type": "stream",
     "text": [
      "sparse_cov_times_vec:    CPU:   839.474 us   +/- 425.675 (min:   556.377 / max:  3253.632) us     GPU-0:   866.662 us   +/- 460.796 (min:   288.768 / max:  3448.832) us\n"
     ]
    }
   ],
   "execution_count": 14
  },
  {
   "metadata": {},
   "cell_type": "markdown",
   "source": [
    "## Test for Accuracy of $Cd$ Routine\n",
    "\n",
    "Note we can just re-use the simulated arrays in the previous part, but just to be safe, I'll run things again."
   ]
  },
  {
   "metadata": {
    "ExecuteTime": {
     "end_time": "2025-03-08T01:06:42.462480Z",
     "start_time": "2025-03-08T01:06:42.450243Z"
    }
   },
   "cell_type": "code",
   "source": [
    "#the main parametes describing our problem.\n",
    "n_bl = 20\n",
    "n_eig = 3\n",
    "n_src = 5\n",
    "xp = cp  #run things on the gpu using cupy\n",
    "\n",
    "#random array of edges for the diffuse matrix\n",
    "edges = xp.unique(xp.random.randint(1, n_bl - 1, size=4))\n",
    "edges = xp.concatenate((xp.array([0]), edges, xp.array([n_bl])))\n",
    "print(f\"The edges of the redundant blocks have indices{edges}\")\n",
    "\n",
    "sim_noise_mat = xp.random.rand(n_bl, dtype = 'float64')**2   #in principle this is squared since is a variance\n",
    "sim_diff_mat = xp.random.rand(n_bl, n_eig, dtype = 'float64')\n",
    "sim_src_mat = xp.random.rand(n_bl, n_src, dtype = 'float64')\n",
    "sim_data_vec = xp.random.rand(n_bl, dtype = 'float64')"
   ],
   "outputs": [
    {
     "name": "stdout",
     "output_type": "stream",
     "text": [
      "The edges of the redundant blocks have indices[ 0  2  5  9 14 20]\n"
     ]
    }
   ],
   "execution_count": 15
  },
  {
   "metadata": {},
   "cell_type": "markdown",
   "source": "Once again, we zeropad as the sparse cov times vector function expects things that way. We also will need to calculate the inverse components as the routine expects these at the present time."
  },
  {
   "metadata": {
    "ExecuteTime": {
     "end_time": "2025-03-08T01:06:42.598855Z",
     "start_time": "2025-03-08T01:06:42.573896Z"
    }
   },
   "cell_type": "code",
   "source": [
    "#zeropad the noise, diff, source mats\n",
    "zp_sim_noise_mat, largest_block, n_blocks = zeroPad(sim_noise_mat, edges, return_inv=False)  #Needs to be set s.t. return_inv=False if want to construct C = N + DD^T + SS^T\n",
    "zp_sim_diff_mat, largest_block, n_blocks = zeroPad(sim_diff_mat, edges, return_inv=False)\n",
    "zp_sim_src_mat, largest_block, n_blocks = zeroPad(sim_src_mat, edges, return_inv=False)\n",
    "zp_sim_data_vec, largest_block, n_blocks = zeroPad(sim_data_vec, edges, return_inv=False)"
   ],
   "outputs": [],
   "execution_count": 16
  },
  {
   "metadata": {
    "ExecuteTime": {
     "end_time": "2025-03-08T01:06:42.670916Z",
     "start_time": "2025-03-08T01:06:42.659655Z"
    }
   },
   "cell_type": "code",
   "source": "logdet, N_inv, Del_p, Sig_p = inverse_covariance(zp_sim_noise_mat, zp_sim_diff_mat, zp_sim_src_mat, edges=edges, xp = xp , ret_det = True, N_is_inv=False)",
   "outputs": [],
   "execution_count": 17
  },
  {
   "metadata": {
    "ExecuteTime": {
     "end_time": "2025-03-08T01:06:42.757917Z",
     "start_time": "2025-03-08T01:06:42.751576Z"
    }
   },
   "cell_type": "code",
   "source": "zp_cov_times_vec = sparse_cov_times_vec(zp_sim_noise_mat, zp_sim_diff_mat, zp_sim_src_mat, N_inv, Del_p, Sig_p, zp_sim_data_vec, isinv=False, xp=cp)",
   "outputs": [],
   "execution_count": 18
  },
  {
   "metadata": {
    "ExecuteTime": {
     "end_time": "2025-03-08T01:06:42.812894Z",
     "start_time": "2025-03-08T01:06:42.806021Z"
    }
   },
   "cell_type": "code",
   "source": "cov_times_vec = undo_zeroPad(zp_cov_times_vec, edges, True)",
   "outputs": [],
   "execution_count": 19
  },
  {
   "metadata": {},
   "cell_type": "markdown",
   "source": [
    "### ZP Sanity check...\n",
    "\n",
    "Had to double check for piece of mind that the zp and undo zp functions are inverses of eachother."
   ]
  },
  {
   "metadata": {
    "ExecuteTime": {
     "end_time": "2025-03-08T01:06:42.879003Z",
     "start_time": "2025-03-08T01:06:42.860343Z"
    }
   },
   "cell_type": "code",
   "source": [
    "zpa, _, _ = zeroPad(sim_diff_mat, edges, return_inv=False)\n",
    "uzpa = undo_zeroPad(zpa, edges, True)\n",
    "assert cp.allclose(sim_diff_mat, uzpa)"
   ],
   "outputs": [],
   "execution_count": 20
  },
  {
   "metadata": {},
   "cell_type": "markdown",
   "source": "#### Now, back to the testing action"
  },
  {
   "metadata": {
    "ExecuteTime": {
     "end_time": "2025-03-08T01:06:43.030508Z",
     "start_time": "2025-03-08T01:06:42.910613Z"
    }
   },
   "cell_type": "code",
   "source": [
    "diffuse_dense = sparden_convert(sim_diff_mat, largest_block, n_blocks, n_bl = n_bl, n_eig = n_eig, edges=edges, xp = cp, zeroPad=False)\n",
    "plt.imshow(cp.asnumpy(diffuse_dense))\n",
    "plt.show()"
   ],
   "outputs": [
    {
     "data": {
      "text/plain": [
       "<Figure size 640x480 with 1 Axes>"
      ],
      "image/png": "[encoded data removed]"
     },
     "metadata": {},
     "output_type": "display_data"
    }
   ],
   "execution_count": 21
  },
  {
   "metadata": {},
   "cell_type": "markdown",
   "source": "I'll finally assert once more that the manually calculated $C\\times d$ yields the same answer as the function at the start of the notebook."
  },
  {
   "metadata": {
    "ExecuteTime": {
     "end_time": "2025-03-08T01:06:43.117954Z",
     "start_time": "2025-03-08T01:06:43.107752Z"
    }
   },
   "cell_type": "code",
   "source": [
    "dense_cov = cp.diag(sim_noise_mat) + diffuse_dense @ diffuse_dense.T + sim_src_mat @ sim_src_mat.T\n",
    "dense_cov_times_vec = dense_cov @ sim_data_vec\n",
    "\n",
    "assert np.allclose(dense_cov_times_vec, cov_times_vec)"
   ],
   "outputs": [],
   "execution_count": 22
  },
  {
   "metadata": {
    "ExecuteTime": {
     "end_time": "2025-03-08T01:06:43.262009Z",
     "start_time": "2025-03-08T01:06:43.259309Z"
    }
   },
   "cell_type": "code",
   "source": "",
   "outputs": [],
   "execution_count": null
  }
 ],
 "metadata": {
  "kernelspec": {
   "display_name": "Python 3",
   "language": "python",
   "name": "python3"
  },
  "language_info": {
   "codemirror_mode": {
    "name": "ipython",
    "version": 3
   },
   "file_extension": ".py",
   "mimetype": "text/x-python",
   "name": "python",
   "nbconvert_exporter": "python",
   "pygments_lexer": "ipython3",
   "version": "3.10.12"
  }
 },
 "nbformat": 4,
 "nbformat_minor": 2
}
