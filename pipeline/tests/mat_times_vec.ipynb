{
 "cells": [
  {
   "cell_type": "code",
   "metadata": {
    "ExecuteTime": {
     "end_time": "2025-02-28T03:07:51.823066Z",
     "start_time": "2025-02-28T03:07:51.817064Z"
    }
   },
   "source": [
    "import sys\n",
    "from pathlib import Path\n",
    "parent_dir = Path.cwd().parent\n",
    "sys.path.insert(0, str(parent_dir))"
   ],
   "outputs": [],
   "execution_count": 1
  },
  {
   "cell_type": "code",
   "metadata": {
    "ExecuteTime": {
     "end_time": "2025-02-28T03:23:37.919478Z",
     "start_time": "2025-02-28T03:23:37.914755Z"
    }
   },
   "source": [
    "from invcov import *"
   ],
   "outputs": [],
   "execution_count": 8
  },
  {
   "cell_type": "code",
   "metadata": {
    "ExecuteTime": {
     "end_time": "2025-02-28T03:23:39.134398Z",
     "start_time": "2025-02-28T03:23:39.128832Z"
    }
   },
   "source": [
    "import numpy as np\n",
    "import cupy as cp\n",
    "import seaborn as sns\n",
    "import matplotlib.pyplot as plt\n",
    "from cupyx.profiler import benchmark"
   ],
   "outputs": [],
   "execution_count": 9
  },
  {
   "cell_type": "code",
   "metadata": {
    "ExecuteTime": {
     "end_time": "2025-02-27T23:18:40.419198Z",
     "start_time": "2025-02-27T23:18:39.963853Z"
    }
   },
   "source": [
    "mat1 = cp.random.rand(2, 3, 4)\n",
    "mat2 = cp.random.rand(2, 4, 3)"
   ],
   "outputs": [],
   "execution_count": 4
  },
  {
   "cell_type": "code",
   "metadata": {
    "ExecuteTime": {
     "end_time": "2025-02-27T23:18:40.899566Z",
     "start_time": "2025-02-27T23:18:40.428101Z"
    }
   },
   "source": [
    "mat3 = mat1 @ mat2"
   ],
   "outputs": [],
   "execution_count": 5
  },
  {
   "cell_type": "code",
   "metadata": {
    "ExecuteTime": {
     "end_time": "2025-02-27T23:18:40.937209Z",
     "start_time": "2025-02-27T23:18:40.930164Z"
    }
   },
   "source": [
    "print(mat3.shape)"
   ],
   "outputs": [
    {
     "name": "stdout",
     "output_type": "stream",
     "text": [
      "(2, 3, 3)\n"
     ]
    }
   ],
   "execution_count": 6
  },
  {
   "cell_type": "code",
   "metadata": {
    "ExecuteTime": {
     "end_time": "2025-02-27T23:18:40.990763Z",
     "start_time": "2025-02-27T23:18:40.984582Z"
    }
   },
   "source": [
    "print(mat1.shape)\n",
    "print(mat1.T.shape)\n",
    "print(cp.transpose(mat1, [0, 2, 1]).shape)"
   ],
   "outputs": [
    {
     "name": "stdout",
     "output_type": "stream",
     "text": [
      "(2, 3, 4)\n",
      "(4, 3, 2)\n",
      "(2, 4, 3)\n"
     ]
    }
   ],
   "execution_count": 7
  },
  {
   "cell_type": "code",
   "metadata": {
    "ExecuteTime": {
     "end_time": "2025-02-27T23:18:41.273314Z",
     "start_time": "2025-02-27T23:18:41.106309Z"
    }
   },
   "source": [
    "vec1 = cp.random.rand(10)\n",
    "print(vec1)\n",
    "vec2 = cp.random.rand(10)\n",
    "print(vec2)\n",
    "print(vec1*vec2)\n",
    "print(vec1 @ vec2)\n",
    "print(cp.sum(vec1 * vec2, axis=0))"
   ],
   "outputs": [
    {
     "name": "stdout",
     "output_type": "stream",
     "text": [
      "[0.34275078 0.83507589 0.38828888 0.43987351 0.8802153  0.80171328\n",
      " 0.11636745 0.6152625  0.02734804 0.2694236 ]\n",
      "[0.99620242 0.77477497 0.09303198 0.59689522 0.78419874 0.72199568\n",
      " 0.6167738  0.39989269 0.29737909 0.54647931]\n",
      "[0.34144916 0.64699589 0.03612328 0.26255839 0.69026373 0.57883352\n",
      " 0.07177239 0.24603898 0.00813274 0.14723442]\n",
      "3.029402507874012\n",
      "3.029402507874012\n"
     ]
    }
   ],
   "execution_count": 8
  },
  {
   "cell_type": "code",
   "metadata": {
    "ExecuteTime": {
     "end_time": "2025-02-27T23:18:41.368464Z",
     "start_time": "2025-02-27T23:18:41.361190Z"
    }
   },
   "source": [
    "#note this might be a really good time to consider making a covariance class \n",
    "#this way, this function could in theory inherit all of the mattrices like N, Sig, Del,\n",
    "#and also N_inv, Del_prime, Sig_prime\n",
    "\n",
    "def sparse_cov_times_vec(N, Del, Sig, N_inv, Del_prime, Sig_prime, vec, isinv, xp):\n",
    "    if vec.ndim == 2:\n",
    "        vec = vec.reshape(vec.shape[0], vec.shape[1], 1)\n",
    "        N_inv = N_inv.reshape(vec.shape[0], vec.shape[1], 1)\n",
    "    else:\n",
    "        pass\n",
    "    if isinv:\n",
    "        del_tmp = xp.transpose(Del_prime, [0, 2, 1]) @ vec\n",
    "        sig_tmp = xp.sum(xp.transpose(Sig_prime, [0, 2, 1]) @ vec, axis=0)\n",
    "        out = N_inv * vec - Del_prime @ del_tmp - Sig_prime @ sig_tmp\n",
    "    else:\n",
    "        del_tmp = xp.transpose(Del, [0, 2, 1]) @ vec\n",
    "        sig_tmp = xp.sum(xp.transpose(Sig, [0, 2, 1]) @ vec, axis=0)\n",
    "        out = N * vec + Del_prime @ del_tmp + Sig_prime @ sig_tmp        \n",
    "    return out"
   ],
   "outputs": [],
   "execution_count": 9
  },
  {
   "cell_type": "code",
   "metadata": {
    "ExecuteTime": {
     "end_time": "2025-02-27T23:18:41.577598Z",
     "start_time": "2025-02-27T23:18:41.435979Z"
    }
   },
   "source": [
    "#the main parametes describing our problem.\n",
    "n_bl = 2000\n",
    "n_eig = 3\n",
    "n_src = 5\n",
    "xp = cp  #run things on the gpu using cupy\n",
    "\n",
    "#random array of edges for the diffuse matrix\n",
    "edges = xp.unique(xp.random.randint(1, n_bl-1, size = 4))\n",
    "edges = xp.concatenate((xp.array([0]), edges, xp.array([n_bl])))\n",
    "print(f\"The edges of the redundant blocks have indices{edges}\")\n",
    "\n",
    "#some random noise, diffuse, and source covariance matrices\n",
    "if xp == np:\n",
    "    sim_noise_mat = (xp.random.rand(n_bl)**2).astype('float64')   #in principle this is squared since is a variance\n",
    "    sim_diff_mat = xp.random.rand(n_bl, n_eig).astype('float64')\n",
    "    sim_src_mat = xp.random.rand(n_bl, n_src).astype('float64')\n",
    "    sim_data_vec = xp.random.rand(n_bl).astype('float64')\n",
    "    print(type(sim_noise_mat))\n",
    "    print(type(sim_diff_mat))\n",
    "    print(type(sim_src_mat))\n",
    "    print(type(sim_data_vec))\n",
    "elif xp == cp:\n",
    "    sim_noise_mat = xp.random.rand(n_bl, dtype = 'float64')**2   #in principle this is squared since is a variance\n",
    "    sim_diff_mat = xp.random.rand(n_bl, n_eig, dtype = 'float64')\n",
    "    sim_src_mat = xp.random.rand(n_bl, n_src, dtype = 'float64')\n",
    "    sim_data_vec = xp.random.rand(n_bl, dtype = 'float64')\n",
    "    print(type(sim_noise_mat))\n",
    "    print(type(sim_diff_mat))\n",
    "    print(type(sim_src_mat))\n",
    "    print(type(sim_data_vec))"
   ],
   "outputs": [
    {
     "name": "stdout",
     "output_type": "stream",
     "text": [
      "The edges of the redundant blocks have indices[   0   23  623  986 1632 2000]\n",
      "<class 'cupy.ndarray'>\n",
      "<class 'cupy.ndarray'>\n",
      "<class 'cupy.ndarray'>\n",
      "<class 'cupy.ndarray'>\n"
     ]
    }
   ],
   "execution_count": 10
  },
  {
   "cell_type": "code",
   "metadata": {
    "ExecuteTime": {
     "end_time": "2025-02-27T23:18:41.640048Z",
     "start_time": "2025-02-27T23:18:41.619385Z"
    }
   },
   "source": [
    "#zeropad the noise, diff, source mats\n",
    "zp_sim_noise_mat_inv, largest_block, n_blocks = zeroPad(sim_noise_mat, edges, return_inv=True)  #return inverse set to True to get around div by 0 issue\n",
    "zp_sim_noise_mat, largest_block, n_blocks = zeroPad(sim_noise_mat, edges, return_inv=False)  #return inverse set to False for sims later on\n",
    "zp_sim_diff_mat, largest_block, n_blocks = zeroPad(sim_diff_mat, edges, return_inv=False)\n",
    "zp_sim_src_mat, largest_block, n_blocks = zeroPad(sim_src_mat, edges, return_inv=False)\n",
    "zp_sim_data_vec, largest_block, n_blocks = zeroPad(sim_data_vec, edges, return_inv=False)\n",
    "\n",
    "#Need to reshape to give an extra dimension of n_blocks to be compatible with inv cov routine\n",
    "sim_noise_mat_2d = zp_sim_noise_mat_inv.reshape(n_blocks, largest_block)   #Again, its worth noting the values of the noise mat are really 1/noise_vals here\n",
    "sim_diff_mat_3d = zp_sim_diff_mat.reshape(n_blocks, largest_block, n_eig)\n",
    "sim_src_mat_3d = zp_sim_src_mat.reshape(n_blocks, largest_block, n_src)\n",
    "sim_data_vec_2d = zp_sim_data_vec.reshape(n_blocks, largest_block)"
   ],
   "outputs": [],
   "execution_count": 11
  },
  {
   "cell_type": "code",
   "metadata": {
    "ExecuteTime": {
     "end_time": "2025-02-27T23:18:42.100311Z",
     "start_time": "2025-02-27T23:18:41.729764Z"
    }
   },
   "source": [
    "#find inverse components, noting the result will still be a set of zeropadded matrices\n",
    "#Note we feed the inverse noise components to the inverse cov routine as can be seen by the N_is_inv=True\n",
    "logdet, N_inv, Del_p, Sig_p = inverse_covariance(sim_noise_mat_2d, sim_diff_mat_3d, sim_src_mat_3d, edges=edges, xp = xp , ret_det = True, N_is_inv=True)\n",
    "print(Del_p.shape)"
   ],
   "outputs": [
    {
     "name": "stdout",
     "output_type": "stream",
     "text": [
      "(5, 646, 3)\n"
     ]
    }
   ],
   "execution_count": 12
  },
  {
   "cell_type": "code",
   "metadata": {
    "ExecuteTime": {
     "end_time": "2025-02-27T23:18:42.150591Z",
     "start_time": "2025-02-27T23:18:42.113851Z"
    }
   },
   "source": [
    "out = sparse_cov_times_vec(sim_noise_mat_2d, sim_diff_mat_3d, sim_src_mat_3d, N_inv, Del_p, Sig_p, sim_data_vec_2d, isinv=True, xp = cp)\n",
    "out_reshape = out.reshape(n_blocks*largest_block)"
   ],
   "outputs": [],
   "execution_count": 13
  },
  {
   "cell_type": "code",
   "metadata": {
    "ExecuteTime": {
     "end_time": "2025-02-27T23:18:42.317337Z",
     "start_time": "2025-02-27T23:18:42.195287Z"
    }
   },
   "source": [
    "print(benchmark(sparse_cov_times_vec, (sim_noise_mat_2d, sim_diff_mat_3d, sim_src_mat_3d, N_inv, Del_p, Sig_p, sim_data_vec_2d, True, cp), n_repeat=100))"
   ],
   "outputs": [
    {
     "name": "stdout",
     "output_type": "stream",
     "text": [
      "sparse_cov_times_vec:    CPU:   915.119 us   +/- 462.638 (min:   554.420 / max:  2779.314) us     GPU-0:   933.663 us   +/- 479.289 (min:   223.232 / max:  2837.504) us\n"
     ]
    }
   ],
   "execution_count": 14
  },
  {
   "cell_type": "code",
   "metadata": {
    "ExecuteTime": {
     "end_time": "2025-02-27T23:18:42.364501Z",
     "start_time": "2025-02-27T23:18:42.359745Z"
    }
   },
   "source": [
    "N_inv = N_inv.reshape(n_blocks * largest_block)\n",
    "Del_p = Del_p.reshape(n_blocks * largest_block, n_eig)\n",
    "Sig_p = Sig_p.reshape(n_blocks * largest_block, n_src)"
   ],
   "outputs": [],
   "execution_count": 15
  },
  {
   "cell_type": "code",
   "metadata": {
    "ExecuteTime": {
     "end_time": "2025-02-27T23:18:42.428109Z",
     "start_time": "2025-02-27T23:18:42.420775Z"
    }
   },
   "source": [
    "#convert sparse things to dense things to visualize what we're really working with\n",
    "Del_p_dense = sparden_convert(Del_p, largest_block, n_blocks, n_bl=n_bl, n_eig=n_eig, edges=edges, xp = cp, zeroPad=True)"
   ],
   "outputs": [],
   "execution_count": 16
  },
  {
   "cell_type": "code",
   "metadata": {
    "ExecuteTime": {
     "end_time": "2025-02-27T23:18:42.718840Z",
     "start_time": "2025-02-27T23:18:42.484571Z"
    }
   },
   "source": [
    "dense_cov_inv = cp.diag(N_inv) - Del_p_dense @ Del_p_dense.T - Sig_p @ Sig_p.T\n",
    "print(dense_cov_inv.shape)\n",
    "dense_cov_inv_times_vec = dense_cov_inv @ zp_sim_data_vec\n",
    "print(dense_cov_inv_times_vec.shape)\n",
    "print(out_reshape.shape)\n",
    "print(np.allclose(dense_cov_inv_times_vec, out_reshape))"
   ],
   "outputs": [
    {
     "name": "stdout",
     "output_type": "stream",
     "text": [
      "(3230, 3230)\n",
      "(3230,)\n",
      "(3230,)\n",
      "True\n"
     ]
    }
   ],
   "execution_count": 17
  },
  {
   "cell_type": "code",
   "metadata": {
    "ExecuteTime": {
     "end_time": "2025-02-27T23:18:43.079232Z",
     "start_time": "2025-02-27T23:18:42.777673Z"
    }
   },
   "source": [
    "plt.plot(cp.asnumpy(out_reshape), label = \"my routine\")\n",
    "plt.plot(cp.asnumpy(dense_cov_inv_times_vec), label = \"dense times v\")\n",
    "plt.legend()"
   ],
   "outputs": [
    {
     "data": {
      "text/plain": [
       "<matplotlib.legend.Legend at 0x7f9fa0b48670>"
      ]
     },
     "execution_count": 18,
     "metadata": {},
     "output_type": "execute_result"
    },
    {
     "data": {
      "text/plain": [
       "<Figure size 640x480 with 1 Axes>"
      ],
      "image/png": "[encoded data removed]"
     },
     "metadata": {},
     "output_type": "display_data"
    }
   ],
   "execution_count": 18
  },
  {
   "cell_type": "code",
   "metadata": {
    "ExecuteTime": {
     "end_time": "2025-02-27T23:18:43.156684Z",
     "start_time": "2025-02-27T23:18:43.152772Z"
    }
   },
   "source": [],
   "outputs": [],
   "execution_count": null
  }
 ],
 "metadata": {
  "kernelspec": {
   "display_name": "Python 3",
   "language": "python",
   "name": "python3"
  },
  "language_info": {
   "codemirror_mode": {
    "name": "ipython",
    "version": 3
   },
   "file_extension": ".py",
   "mimetype": "text/x-python",
   "name": "python",
   "nbconvert_exporter": "python",
   "pygments_lexer": "ipython3",
   "version": "3.10.12"
  }
 },
 "nbformat": 4,
 "nbformat_minor": 2
}
