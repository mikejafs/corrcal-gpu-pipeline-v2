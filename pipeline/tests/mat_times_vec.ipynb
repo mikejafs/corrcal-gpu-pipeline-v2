{
 "cells": [
  {
   "cell_type": "markdown",
   "metadata": {},
   "source": [
    "# Tests for Sparse Covariance Times Vector Function\n"
   ]
  },
  {
   "cell_type": "code",
   "execution_count": 2,
   "metadata": {
    "ExecuteTime": {
     "end_time": "2025-03-08T01:06:39.423128Z",
     "start_time": "2025-03-08T01:06:39.418697Z"
    }
   },
   "outputs": [],
   "source": [
    "import sys\n",
    "from pathlib import Path\n",
    "\n",
    "parent_dir = Path.cwd().parent\n",
    "sys.path.insert(0, str(parent_dir))"
   ]
  },
  {
   "cell_type": "code",
   "execution_count": 3,
   "metadata": {
    "ExecuteTime": {
     "end_time": "2025-03-08T01:06:40.614054Z",
     "start_time": "2025-03-08T01:06:39.433082Z"
    }
   },
   "outputs": [
    {
     "name": "stderr",
     "output_type": "stream",
     "text": [
      "/home/mike/corrcal_gpu_pipeline/pipeline/invcov.py:91: SyntaxWarning: invalid escape sequence '\\D'\n",
      "  \"\"\"\n"
     ]
    },
    {
     "name": "stdout",
     "output_type": "stream",
     "text": [
      "hera_cal is not installed. Some gridding features unavailable.\n",
      "pyfof is not installed. Some gridding features unavailable.\n"
     ]
    }
   ],
   "source": [
    "#import from invcov and zeropad funcs for computing C^{-1} and zeropadding\n",
    "from invcov import *\n",
    "from utils import *\n",
    "from zp_puregpu_funcs_py import *"
   ]
  },
  {
   "cell_type": "code",
   "execution_count": 4,
   "metadata": {
    "ExecuteTime": {
     "end_time": "2025-03-08T01:06:40.728402Z",
     "start_time": "2025-03-08T01:06:40.720877Z"
    }
   },
   "outputs": [],
   "source": [
    "import numpy as np\n",
    "import cupy as cp\n",
    "import seaborn as sns\n",
    "import matplotlib.pyplot as plt\n",
    "from cupyx.profiler import benchmark"
   ]
  },
  {
   "cell_type": "markdown",
   "metadata": {},
   "source": [
    "## Define sparse covariance times data function\n",
    "\n",
    "TODO: re-design function to handle only taking in as arguments: cov & data. Should also shift away from the xp thing since this is growing convoluted and besides some functions (eg. zeroPad - gpu version) is not cross compatible with np and cp..\n",
    "\n",
    "UPDATE: This is done, but without the use of a class just yet. Instead, the outdated version below relies on both the regular and inverse matrices as arguments whereas the new version only requires one or the other and uses logic to determine the correct mathematical operations to perform. See utils.py for the correct function."
   ]
  },
  {
   "cell_type": "code",
<<<<<<< HEAD
   "execution_count": null,
=======
   "execution_count": 5,
>>>>>>> mat_times_vec
   "metadata": {
    "ExecuteTime": {
     "end_time": "2025-03-08T01:06:40.744852Z",
     "start_time": "2025-03-08T01:06:40.739500Z"
    }
   },
   "outputs": [],
   "source": [
    "#note this might be a really good time to consider making a covariance class \n",
    "#this way, this function could in theory inherit all of the mattrices like N, Sig, Del,\n",
    "#and also N_inv, Del_prime, Sig_prime\n",
    "\n",
    "# def sparse_cov_times_vec(N, Del, Sig, N_inv, Del_prime, Sig_prime, vec, isinv, xp):\n",
    "#     if vec.ndim == 2:\n",
    "#         vec = vec.reshape(vec.shape[0], vec.shape[1], 1)\n",
    "#         N = N.reshape(vec.shape[0], vec.shape[1], 1)\n",
    "#         N_inv = N_inv.reshape(vec.shape[0], vec.shape[1], 1)\n",
    "#     else:\n",
    "#         pass\n",
    "#     if isinv:\n",
    "#         del_tmp = xp.transpose(Del_prime, [0, 2, 1]) @ vec\n",
    "#         sig_tmp = xp.sum(xp.transpose(Sig_prime, [0, 2, 1]) @ vec, axis=0)\n",
    "#         out = N_inv * vec - Del_prime @ del_tmp - Sig_prime @ sig_tmp\n",
    "#     else:\n",
    "#         del_tmp = xp.transpose(Del, [0, 2, 1]) @ vec\n",
    "#         sig_tmp = xp.sum(xp.transpose(Sig, [0, 2, 1]) @ vec, axis=0)\n",
    "#         out = N * vec + Del @ del_tmp + Sig @ sig_tmp\n",
    "#     return out"
   ]
  },
  {
   "cell_type": "markdown",
   "metadata": {},
   "source": [
    "## Test that $C^{-1}d$ works as expected\n",
    "\n",
    "I will first test that things work using the inverse covariance. Regular covariance is to follow. It is important to test both since the $Cd$ version appears in the gradient calculation.\n",
    "\n",
    "Start by simulating the main matrices and vectors using some randomly generated arrays, then zeropad where appropriate, manually compute cov times a vector and compare to the output of the function above."
   ]
  },
  {
   "cell_type": "code",
   "execution_count": 6,
   "metadata": {
    "ExecuteTime": {
     "end_time": "2025-03-08T01:06:41.268118Z",
     "start_time": "2025-03-08T01:06:40.789090Z"
    }
   },
   "outputs": [
    {
     "name": "stdout",
     "output_type": "stream",
     "text": [
<<<<<<< HEAD
      "The edges of the redundant blocks have indices[ 0  1  8 10 18 20]\n",
=======
      "The edges of the redundant blocks have indices[ 0  5  7 11 18 20]\n",
>>>>>>> mat_times_vec
      "<class 'cupy.ndarray'>\n",
      "<class 'cupy.ndarray'>\n",
      "<class 'cupy.ndarray'>\n",
      "<class 'cupy.ndarray'>\n"
     ]
    }
   ],
   "source": [
    "#the main parametes describing our problem.\n",
    "n_bl = 20\n",
    "n_eig = 3\n",
    "n_src = 5\n",
    "xp = cp  #run things on the gpu using cupy\n",
    "\n",
    "#random array of edges for the diffuse matrix\n",
    "edges = xp.unique(xp.random.randint(1, n_bl-1, size = 4))\n",
    "edges = xp.concatenate((xp.array([0]), edges, xp.array([n_bl])))\n",
    "print(f\"The edges of the redundant blocks have indices{edges}\")\n",
    "\n",
    "#some random noise, diffuse, and source covariance matrices\n",
    "if xp == np:\n",
    "    sim_noise_mat = (xp.random.rand(n_bl)**2).astype('float64')   #in principle this is squared since is a variance\n",
    "    sim_diff_mat = xp.random.rand(n_bl, n_eig).astype('float64')\n",
    "    sim_src_mat = xp.random.rand(n_bl, n_src).astype('float64')\n",
    "    sim_data_vec = xp.random.rand(n_bl).astype('float64')\n",
    "    print(type(sim_noise_mat))\n",
    "    print(type(sim_diff_mat))\n",
    "    print(type(sim_src_mat))\n",
    "    print(type(sim_data_vec))\n",
    "elif xp == cp:\n",
    "    sim_noise_mat = xp.random.rand(n_bl, dtype = 'float64')**2   #in principle this is squared since is a variance\n",
    "    sim_diff_mat = xp.random.rand(n_bl, n_eig, dtype = 'float64')\n",
    "    sim_src_mat = xp.random.rand(n_bl, n_src, dtype = 'float64')\n",
    "    sim_data_vec = xp.random.rand(n_bl, dtype = 'float64')\n",
    "    print(type(sim_noise_mat))\n",
    "    print(type(sim_diff_mat))\n",
    "    print(type(sim_src_mat))\n",
    "    print(type(sim_data_vec))"
   ]
  },
  {
   "cell_type": "code",
   "execution_count": 7,
   "metadata": {
    "ExecuteTime": {
     "end_time": "2025-03-08T01:06:41.340180Z",
     "start_time": "2025-03-08T01:06:41.320363Z"
    }
   },
   "outputs": [],
   "source": [
    "#zeropad the noise, diff, source mats\n",
    "zp_sim_noise_mat_inv, largest_block, n_blocks = zeroPad(sim_noise_mat, edges, return_inv=True)  #return inverse set to True to get around div by 0 issue\n",
    "zp_sim_diff_mat, largest_block, n_blocks = zeroPad(sim_diff_mat, edges, return_inv=False)\n",
    "zp_sim_src_mat, largest_block, n_blocks = zeroPad(sim_src_mat, edges, return_inv=False)\n",
    "zp_sim_data_vec, largest_block, n_blocks = zeroPad(sim_data_vec, edges, return_inv=False)"
   ]
  },
  {
   "cell_type": "code",
   "execution_count": 9,
   "metadata": {
    "ExecuteTime": {
     "end_time": "2025-03-08T01:06:41.614563Z",
     "start_time": "2025-03-08T01:06:41.388171Z"
    }
   },
   "outputs": [],
   "source": [
    "#find inverse components, noting the result will still be a set of zeropadded matrices\n",
    "#Note we feed the inverse noise components to the inverse cov routine as can be seen by the N_is_inv=True\n",
    "logdet, N_inv, Del_p, Sig_p = inverse_covariance(zp_sim_noise_mat_inv, zp_sim_diff_mat, zp_sim_src_mat, xp = xp , ret_det = True, N_is_inv=True)"
   ]
  },
  {
   "cell_type": "code",
   "execution_count": 10,
   "metadata": {
    "ExecuteTime": {
     "end_time": "2025-03-08T01:06:41.651745Z",
     "start_time": "2025-03-08T01:06:41.637244Z"
    }
   },
   "outputs": [],
   "source": [
    "out_inv = sparse_cov_times_vec(N_inv, Del_p, Sig_p, zp_sim_data_vec, isinv=True)\n",
    "out_reshape = out_inv.reshape(n_blocks*largest_block)"
   ]
  },
  {
   "cell_type": "markdown",
   "metadata": {},
   "source": [
    "To test the accuracy of the sparse mat mul routine, we need the diffuse matrix in its dense form, which first requires reshaping the zeropadded arrays such that 2D -> 1D and 3D -> 2D."
   ]
  },
  {
   "cell_type": "code",
   "execution_count": 11,
   "metadata": {
    "ExecuteTime": {
     "end_time": "2025-03-08T01:06:41.710756Z",
     "start_time": "2025-03-08T01:06:41.706781Z"
    }
   },
   "outputs": [],
   "source": [
    "N_inv = N_inv.reshape(n_blocks * largest_block)\n",
    "Del_p = Del_p.reshape(n_blocks * largest_block, n_eig)\n",
    "Sig_p = Sig_p.reshape(n_blocks * largest_block, n_src)"
   ]
  },
  {
   "cell_type": "code",
   "execution_count": 12,
   "metadata": {
    "ExecuteTime": {
     "end_time": "2025-03-08T01:06:41.934756Z",
     "start_time": "2025-03-08T01:06:41.816707Z"
    }
   },
   "outputs": [
    {
     "data": {
<<<<<<< HEAD
      "image/png": "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",
=======
      "image/png": "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",
>>>>>>> mat_times_vec
      "text/plain": [
       "<Figure size 640x480 with 1 Axes>"
      ]
     },
     "metadata": {},
     "output_type": "display_data"
    }
   ],
   "source": [
    "#convert sparse things to dense things to visualize what we're really working with\n",
    "Del_p_dense = sparden_convert(Del_p, largest_block, n_blocks, n_bl=n_bl, n_eig=n_eig, edges=edges, xp = cp, zeroPad=True)\n",
    "plt.imshow(cp.asnumpy(Del_p_dense))\n",
    "plt.show()"
   ]
  },
  {
   "cell_type": "markdown",
   "metadata": {},
   "source": [
    "Now test the custom routine against the manual $C^{-1} \\times d$ calculation."
   ]
  },
  {
   "cell_type": "code",
   "execution_count": 13,
   "metadata": {
    "ExecuteTime": {
     "end_time": "2025-03-08T01:06:42.046234Z",
     "start_time": "2025-03-08T01:06:41.966282Z"
    }
   },
   "outputs": [],
   "source": [
    "#first assemble the full dense covariance\n",
    "dense_cov_inv = cp.diag(N_inv) - Del_p_dense @ Del_p_dense.T - Sig_p @ Sig_p.T\n",
    "\n",
    "#ensure the data array can be suitably multiplied by the inv cov\n",
    "zp_sim_data_vec = zp_sim_data_vec.reshape(n_blocks*largest_block)\n",
    "\n",
    "#manually perform the calculation\n",
    "dense_cov_inv_times_vec = dense_cov_inv @ zp_sim_data_vec\n",
    "\n",
    "#compare the two methods\n",
    "assert np.allclose(dense_cov_inv_times_vec, out_reshape)"
   ]
  },
  {
   "cell_type": "code",
   "execution_count": 14,
   "metadata": {
    "ExecuteTime": {
     "end_time": "2025-03-08T01:06:42.228352Z",
     "start_time": "2025-03-08T01:06:42.053755Z"
    }
   },
   "outputs": [
    {
     "data": {
<<<<<<< HEAD
      "image/png": "iVBORw0KGgoAAAANSUhEUgAAAjgAAAGxCAYAAABvIsx7AAAAOnRFWHRTb2Z0d2FyZQBNYXRwbG90bGliIHZlcnNpb24zLjEwLjAsIGh0dHBzOi8vbWF0cGxvdGxpYi5vcmcvlHJYcgAAAAlwSFlzAAAPYQAAD2EBqD+naQAATuRJREFUeJzt3XlcVFXjBvBnGIYZ1lHZMQTcFxQRU8AfuYOalpVbKYIL5qtmatQbZYZmUVZquZW9Ki6kVC5pbmGK5gvuS2q+ZKaBBuLKpgzDzPn94cu8jjNsyojcnu/ncz95zz333HPmYDzeuYtMCCFAREREJCFWtd0BIiIioprGgENERESSw4BDREREksOAQ0RERJLDgENERESSw4BDREREksOAQ0RERJLDgENERESSw4BDREREksOAQ1QFMpmsSktqaipSU1Mhk8nw3XffWbRPFy9eNBw3Pj7ebJ3Ro0cb6jyIbdu2ldu2TCbDpEmTHqjd6khMTIRMJsPFixctfixLi4+Ph0wmw7Vr1yqt261bN3Tr1s2i/UlLS0N8fDxu3br1yI8fHR0NX19fi7VPxIBDVAXp6elGS79+/WBra2tS3qFDh0feN0dHRyQmJkKv1xuVFxYW4ttvv4WTk9MDt71t2zbMnDnzYbtIj6m0tDTMnDnTbMBZvHgxFi9e/Og7RVRDrGu7A0R1QXBwsNG6q6srrKysTMprw9ChQ/Gvf/0LP/30E3r37m0oT05Ohk6nw8CBA7FmzZpa7KE03L59G3Z2drXdjUemdevWtd0FoofCMzhEFqLVavH222/Dy8sLTk5O6NWrFzIyMkzq7dq1Cz179oSTkxPs7OzQpUsX/PTTT1U+TosWLRAaGorly5cblS9fvhzPP/881Gq12f2Sk5MREhICe3t7ODg4ICIiAsePHzdsj46OxqJFiwAYf0V3/1dFq1evRqtWrWBnZ4eAgAD88MMPJsfav38/evbsCUdHR9jZ2SE0NBRbt241qXfgwAF06dIFKpUKXl5eiIuLg1arNam3e/dudOvWDc7OzrC1tUWjRo3wwgsv4Pbt2xV+VsnJyQgPD4enpydsbW3RqlUrvPnmmygqKjKqFx0dDQcHB5w6dQrh4eFwdHREz549AQAlJSWYPXs2WrZsCaVSCVdXV4waNQpXr16t8NjlEUJgzpw58PHxgUqlQocOHbB9+3azdfPz8xEbGws/Pz/Y2NigYcOGmDJlikn/y74+rGhu4uPj8frrrwMA/Pz8jL5mBcx/RaXRaDBr1iy0atUKKpUKzs7O6N69O9LS0gx1Fi1ahKeeegpubm6wt7dH27ZtMWfOHLPzSGRRgoiqLSoqStjb25vdtmfPHgFA+Pr6iuHDh4utW7eKtWvXikaNGolmzZqJ0tJSQ93Vq1cLmUwmBg4cKDZs2CC2bNki+vfvL+Ryudi1a1eFfbhw4YIAID7++GOxbNkyoVKpxI0bN4QQQvznP/8RAMTu3bvFxIkTxf1/1d9//30hk8nE6NGjxQ8//CA2bNggQkJChL29vThz5owQQojff/9dDBo0SAAQ6enphqW4uFgIIQxj7NSpk/jmm2/Etm3bRLdu3YS1tbU4f/684VipqalCoVCIoKAgkZycLDZt2iTCw8OFTCYT69atM9Q7c+aMsLOzE61btxZr164V33//vYiIiBCNGjUSAMSFCxcM41apVKJ3795i06ZNIjU1VSQlJYnIyEhx8+bNCj+z9957T8ybN09s3bpVpKamii+++EL4+fmJ7t27G9WLiooSCoVC+Pr6ioSEBPHTTz+JnTt3Cp1OJ/r06SPs7e3FzJkzRUpKivjXv/4lGjZsKFq3bi1u375d4fHfffddAUBcvXrVpGzMmDFi+/btYunSpaJhw4bCw8NDdO3a1VCvqKhItG/fXri4uIi5c+eKXbt2ic8++0yo1WrRo0cPodfrDXWrMjdZWVnilVdeEQDEhg0bDPObl5cnhBCia9euRsfXarWie/fuwtraWsTGxopt27aJzZs3i7feekusXbvWUG/q1KliyZIlYseOHWL37t1i3rx5wsXFRYwaNcrkM/bx8anw8yJ6GAw4RA+gKgGnX79+RuXffPONISwIcfcXVoMGDcSAAQOM6ul0OhEQECA6depUYR/uDTgFBQXCwcFBLFy4UAghxOuvvy78/PyEXq83CTiZmZnC2tpavPLKK0btFRQUCA8PDzFkyBBDmblwVAaAcHd3F/n5+YaynJwcYWVlJRISEgxlwcHBws3NTRQUFBjKSktLhb+/v3jiiScMv5iHDh0qbG1tRU5OjlG9li1bGgWc7777TgAQJ06cqPDzqYxerxdarVbs3btXABAnT540bIuKihIAxPLly432Wbt2rQAg1q9fb1R++PBhAUAsXry4wmPeH3Bu3rwpVCqVeO6554zq/fvf/xYAjAJGQkKCsLKyEocPHzaqW/Z5bNu2zVBW1bn5+OOPjT7be90fcFatWiUAiK+++qrCMd5Lp9MJrVYrVq1aJeRyuSGAC8GAQ5b3t/+Kat++fRgwYAC8vLwgk8mwadMmix6v7C6KexcPDw+LHpNqxzPPPGO03q5dOwDAn3/+CeDuBZ43btxAVFQUSktLDYter0efPn1w+PBhk68eyuPg4IDBgwdj+fLlKC0txapVqzBq1Cizd0/t3LkTpaWlGDlypNFxVSoVunbtaviKoiq6d+8OR0dHw7q7uzvc3NwMYywqKsLBgwcxaNAgODg4GOrJ5XJERkbi0qVLhq/t9uzZg549e8Ld3d2o3tChQ42O2b59e9jY2GDcuHFYuXIl/vjjjyr3948//sBLL70EDw8PyOVyKBQKdO3aFQBw9uxZk/ovvPCC0foPP/yAevXqYcCAAUafXfv27eHh4VGtzw64e/F6cXExhg8fblQeGhoKHx8fk2P7+/ujffv2RseOiIgw+mqpTGVzU13bt2+HSqXC6NGjK6x3/PhxPPPMM3B2djZ8xiNHjoROp8Nvv/32QMcmehB/+4uMi4qKEBAQgFGjRpn8z8xS2rRpg127dhnW5XL5IzkuPVrOzs5G60qlEgBw584dAMCVK1cAAIMGDSq3jRs3bsDe3r5KxxszZgz+7//+D++//z6uXr2K6Ohos/XKjvvkk0+a3W5lVfV/99w/RuDuOMvGePPmTQgh4OnpaVLPy8sLAHD9+nXDf82F/fvLmjRpgl27dmHOnDmYOHEiioqK0LhxY0yePBmvvvpquX0tLCxEWFgYVCoVZs+ejebNm8POzg5ZWVl4/vnnDX0uY2dnZ3IH2pUrV3Dr1i3Y2NiYPUZVbv++V9nYqzLuK1eu4Pfff4dCoajSsSubm+q6evUqvLy8Kvz5yMzMRFhYGFq0aIHPPvsMvr6+UKlUOHToECZOnPjAxyZ6EH/7gNO3b1/07du33O0lJSWYPn06kpKScOvWLfj7++Ojjz56qOdDWFtb86wNwcXFBQCwYMGCcu/GuvdsRmW6dOmCFi1aYNasWejduze8vb0rPO53331ncpagptWvXx9WVlbIzs422fbXX38Z9cfZ2Rk5OTkm9cyVhYWFISwsDDqdDkeOHMGCBQswZcoUuLu7Y9iwYWb7snv3bvz1119ITU01nLUBYPYWaQBmz365uLjA2dkZO3bsMLvPvWdMqqIshJQ37nufE+Pi4gJbW1uTi8nv3W5Jrq6u2L9/P/R6fbkhZ9OmTSgqKsKGDRuMfrZOnDhh0b4RmfO3DziVGTVqFC5evIh169bBy8sLGzduRJ8+fXDq1Ck0a9bsgdo8d+4cvLy8oFQq0blzZ3zwwQdo3LhxDfecHnddunRBvXr18Ouvv9bYA/OmT5+O7777DhMnTiy3TkREBKytrXH+/PlKz1ree9bJ1ta22v2xt7dH586dsWHDBnzyySeGNvR6PdasWYMnnngCzZs3B3D3K5XNmzfjypUrhmCn0+mQnJxcbvtyuRydO3dGy5YtkZSUhGPHjpUbcMoCS9mYynz55ZdVHk///v2xbt066HQ6dO7cucr7lSc4OBgqlQpJSUlGc5GWloY///zTKOD0798fH3zwAZydneHn5/fQxwZMzypWpG/fvli7di0SExPL/ZrK3GcshMBXX31VA70lqh4GnAqcP38ea9euxaVLlwyn02NjY7Fjxw6sWLECH3zwQbXb7Ny5M1atWoXmzZvjypUrmD17NkJDQ3HmzBmzp5RJuhwcHLBgwQJERUXhxo0bGDRoENzc3HD16lWcPHkSV69exZIlS6rV5ogRIzBixIgK6/j6+mLWrFl4++238ccff6BPnz6oX78+rly5gkOHDsHe3t7wcL+2bdsCAD766CP07dsXcrkc7dq1K/crGnMSEhLQu3dvdO/eHbGxsbCxscHixYtx+vRprF271vBLcfr06di8eTN69OiBGTNmwM7ODosWLTK5DumLL77A7t278fTTT6NRo0YoLi42nNXo1atXuf0IDQ1F/fr1MX78eLz77rtQKBRISkrCyZMnqzyWYcOGISkpCf369cOrr76KTp06QaFQ4NKlS9izZw+effZZPPfcc1Vur379+oiNjcXs2bMxduxYDB48GFlZWYiPjzc5yztlyhSsX78eTz31FKZOnYp27dpBr9cjMzMTP/74I1577bVqh66y+f3ss88QFRUFhUKBFi1amD0T9eKLL2LFihUYP348MjIy0L17d+j1ehw8eBCtWrXCsGHD0Lt3b9jY2ODFF1/EG2+8geLiYixZsgQ3b96sVr+IakRtX+X8OAEgNm7caFgvu+vF3t7eaLG2tjbcaVJ2J0tFy8SJE8s9ZmFhoXB3dxeffvqppYdHNagqd1F9++23RuVlPysrVqwwKt+7d694+umnRYMGDYRCoRANGzYUTz/9tMn+97v3LqqKlHcn1KZNm0T37t2Fk5OTUCqVwsfHRwwaNMjo9nSNRiPGjh0rXF1dhUwmM7rjpryfbR8fHxEVFWVU9vPPP4sePXoIe3t7YWtrK4KDg8WWLVtM9v33v/8tgoODhVKpFB4eHuL1118XS5cuNTpuenq6eO6554SPj49QKpXC2dlZdO3aVWzevLnCz0EIIdLS0kRISIiws7MTrq6uYuzYseLYsWMm81LR/Gq1WvHJJ5+IgIAAoVKphIODg2jZsqV4+eWXxblz5yo8vrnbxPV6vUhISBDe3t7CxsZGtGvXTmzZssXkLiYh7v7/Yvr06aJFixbCxsZGqNVq0bZtWzF16lSju8+qMzdxcXHCy8tLWFlZCQBiz549QgjTu6iEEOLOnTtixowZolmzZsLGxkY4OzuLHj16iLS0NEOdLVu2GD6bhg0bitdff11s377dqG0heBcVWZ5MCCEeZaB6nMlkMmzcuBEDBw4EcPehYMOHD8eZM2dMLgR2cHCAh4cHtFotzp8/X2G79evXr/Bait69e6Np06bV/tc6ERERmcevqCoQGBgInU6H3NxchIWFma2jUCjQsmXLBz6GRqPB2bNny22fiIiIqu9vH3AKCwvx+++/G9YvXLiAEydOoEGDBmjevDmGDx+OkSNH4tNPP0VgYCCuXbuG3bt3o23btujXr1+1jxcbG4sBAwagUaNGyM3NxezZs5Gfn4+oqKiaHBYREdHf2t/+K6rU1FR0797dpDwqKgqJiYnQarWYPXs2Vq1ahcuXL8PZ2RkhISGYOXOm4QK96hg2bBj27duHa9euwdXVFcHBwXjvvff4YjsiIqIaZNGAs2/fPnz88cc4evQosrOzja5vKc/evXsxbdo0nDlzBl5eXnjjjTcwfvx4ozrr16/HO++8g/Pnz6NJkyZ4//33q3XnAhEREUmbRV/VUPaU4IULF1ap/oULF9CvXz+EhYXh+PHjeOuttzB58mSsX7/eUCc9PR1Dhw5FZGQkTp48icjISAwZMgQHDx601DCIiIiojnlkX1Hdf4eSOf/85z+xefNmo3fCjB8/HidPnkR6ejoAYOjQocjPz8f27dsNdcqe47F27VqL9Z+IiIjqjsfqIuP09HSEh4cblUVERGDZsmXQarVQKBRIT0/H1KlTTerMnz+/3HY1Gg00Go1hXa/X48aNG3B2djb7OHYiIiJ6/AghUFBQUOl70YDHLODk5OSYPC/G3d0dpaWluHbtGjw9PcutY+5dLmUSEhIMT2YlIiKiui0rKwtPPPFEhXUeq4ADmL7gruwbtHvLzdWp6ExMXFwcpk2bZljPy8tDo0aNkJWVZfK24EfpyBcvo+PNrTj0RDQ6Rc6utX5I3eGvXsGT1zbikOdL6BQ9x2LHOf75MAQW7ceRZlPRcdBr1d7/+pUsOC8PgU7IIH8r64H6cOHDUPiJTJx56ku06fJ0lfY5Pbc//DUncCwgHh36jX2g497r10/7onXJKRwLfA8d+ox66Pak5rcju9E8ZSQuwx0N447WdndqROaHndBI/IWzPZajVedws3UOrZmBTlnLcaR+X3QcX/m7qfJuXof6iwAAgPa181DYKCvZw9j5OV3RRHcep0Lno23XQVXe73JCEBriimH90pDteKJJ9e+YNacw/yYcFt1tq/jV/0Bl51Aj7f6d5Ofnw9vbu0ovtn2sAo6Hh4fJmZjc3FxYW1sb3tNUXp2KnhSsVCpNXrAHAE5OTrUacOxtbeB0WwZ7W2Wt9kPq7G1t4KS0/OfsoFLAqVQGezvVAx2n5LYjnJSyuwHnAfvpqJLDSS+Dg71dlfvgoLKGE2RwsLOtkc/HQWUNJ1nNtSc1Dg72cFLKkC+TS+bzqcrPnb2t8u7fQ5VNlcYtdCVwUt79h6vWyanaAcdBJYdTafX+LgBAvkoOJ/G/fzA7OjjU2DxZQQeH/47JxsmJAechVOXyEoveRVVdISEhSElJMSr78ccf0bFjRygUigrrhIaGPrJ+EhER0ePNomdwKnpKcKNGjRAXF4fLly9j1apVAO7eMbVw4UJMmzYNMTExSE9Px7Jly4zujnr11Vfx1FNP4aOPPsKzzz6L77//Hrt27cL+/fstORQiIiKqQyx6BufIkSMIDAxEYGAgAGDatGkIDAzEjBkzAADZ2dnIzMw01Pfz88O2bduQmpqK9u3b47333sPnn3+OF154wVAnNDQU69atw4oVK9CuXTskJiYiOTkZnTt3tuRQiIiIqA6x6Bmcbt26oaLH7CQmJpqUde3aFceOHauw3UGDBmHQoKpfNEZERI+GEAKlpaXQ6XTGG5SOKHbwBmzro7i4uNJ2Skq0d+sD0BZroNNX75FtOnt3FOuKIawUVTpemVJ7TxTf86uxVCeqtX9FNCUlsP7vmDQaDWD1WF0G+9hQKBSQy+UP3Q4/XSIiqhECVsjMzMTt27dNttk264ELfk9CaWWHCxcuVNqWXq/DtS6f3m330qVqP7NMG/IaLggtZCrnKh2vTGmX6biD0v+tl8iqtX9F9Ho9rMrG9FcOZJU8x+XvSiaT4YknnoCDw8NdhM2AQ0RED00vs0apsj60Wi28vLxgY2NjFEqKbtrCXnsDRVaOsHfxrrS90lItrG+U3G3bxbfSh7rdT5OrgxIluGPnBVuHelXeryRXC5t7Ak6JuhFslLbVOnZ5dLpSyK/ffeis3tkXVjVwlkJqhBC4evUqLl26hGbNmj3UmRwGHCIiemgldu6QyRXw8vKCnZ2dyfZShTVUQoZSuRwqlarS9kpL5bC2vhuQ9CpVtQMOrK2gggx6G5sqHa+MlbUVbPC/YGalVMKmGvtXRKcrhfzeMTHgmOXq6oqLFy9Cq9U+VMDh+TEiInp4MivIgOoHEaL71NQrlPiTSERERJLDgENERESSw4BDREQkQYmJiahXr15td6PWMOAQERHVcb6+vpg/f75R2dChQ/Hbb7/VToceA7yLioiIqBaUlJTAxsbGYu3b2trC1rZmbnGvi3gGh4iILEIIgdslpf9ddLit1d9dDGWVLNWt/9+loifom9OtWze88sormDJlCtxbh8I9oBeWrlmPott3EDPuZTg6OqJJkybYvn27YVxNmzbFJ598YtTO6dOnYWVlhfPnz5s9zujRozFw9DQkLFiOJ7y90bx5cwDAqVOn0KNHD9ja2sLZ2Rnjxo1DYWGhUf+mTJli1NbAgQMRHR1t2P7nn39i6tSpkMlkhruQ7v+KKj4+Hu3bt8fq1avh6+sLtVqNYcOGoaCgwGjO5syZg8aNG8PW1hYBAQH47rvvqvV5Pi54BoeIiCzijlaH1jN23leaAyCjmi3lVKv2r7Miqv2v95UrV+KNN97A/h/WYuPmbfhHXAI27UzFgBdexPR3ZmDevHmIjIxEZmYm7OzsMHr0aKxYsQKxsbGGNpYvX46wsDA0adKk3OP8tP8QnBzssXPHDsisrHD79m306dMHwcHBOHz4MHJzczF27FhMmjTJ7OuMzNmwYQMCAgIwbtw4xMTEVFj3/Pnz2LRpE3744QfcvHkTQ4YMwYcffoj3338fADB9+nRs2LABS5YsQbNmzbBv3z6MGDECrq6u6Nq1a5X687jgGRwiIvrbCwgIwPTp09GssQ/iXhkFW5USLvXrYczoUWjWrBlmzJiB69ev45dffgEAjBo1ChkZGTh06BAAQKvVYs2aNRg9enSFx7G3s8W/PpmBNm3awN/fH0lJSbhz5w5WrVoFf39/9OjRAwsXLsTq1atx5cqVKvW9QYMGkMvlcHR0hIeHBzw8PMqtq9frkZiYCH9/f4SFhSEyMhI//fQTAKCoqAhz587F8uXLERERgcaNGyM6OhojRozAl19+WaW+PE54BoeIiCzCViHHr7MiAACF1y7DQXsNhXI1HNx8K923tFQL66u/AgD07m2r9QBBW4Ucmmr2tV27doY/y+VyONdXo22rpoYyd3d3AEBubi4AwNPTE08//TSWL1+OTp064YcffkBxcTEGDx5c4XHatmwKGxsF9P9dP3v2LAICAmBvb2+o06VLF+j1emRkZBiOW1N8fX3h6OhoWPf09DSM6ddff0VxcTF69+5ttE9JSQkCAwNrtB+PAgMOERFZhEwmg53N3V8zehs57GAFvdzKUFaRUisBa4XVf/e1tvgTkhUKhdG6TCaDwtraaB24ewakzNixYxEZGYl58+ZhxYoVGDp0qNnXVNzL3s74ol8hRLlP7i0rt7KyMrmuSKvVVjIi88yNs2xMZf/dunUrGjZsaFRPqVQ+0PFqEwMOERHRA+jXrx/s7e2xZMkSbN++Hfv27at2G61bt8bKlStRVFRkOIvz73//G1ZWVoaLkF1dXZGdnW3YR6fT4fTp0+jevbuhzMbGBjqd7qHG07p1ayiVSmRmZta5623M4TU4RERED0AulyM6OhpxcXFo2rQpQkJCqt3G8OHDoVKpEBUVhdOnT2PPnj145ZVXEBkZafh6qkePHti6dSu2bt2K//znP5gwYQJu3bpl1I6vry/27duHy5cv49q1aw80HkdHR8TGxmLq1KlYuXIlzp8/j+PHj2PRokVYuXLlA7VZmxhwiIiIHtCYMWNQUlJS6cXF5bGzs8POnTtx48YNPPnkkxg0aBB69uyJhQsXGuqMHj0aUVFRGDlyJLp27Qo/Pz+jszcAMGvWLFy8eBFNmjSBq6vrA4/nvffew4wZM5CQkIBWrVohIiICW7ZsgZ+f3wO3WVv4FRUREf2tpaammpRdPLgVAFByT5m55+tkZ2fD2toaI0eOrPQ4y5cvh/zKKZPytm3bYvfu3eXup1AosHjxYixevLjcOsHBwTh58qRRWXR0tOFZOcDd5+DEx8cb1ZkyZYrRM3ZkMhkmT56MyZMnVzyYOoABh4iIqJo0Gg2ysrLwzjvvYMiQITV+txM9PH5FRUREVE1r165FixYtkJeXhzlz5tR2d8gMBhwiIqJqio6Ohk6nw9GjR01uqabHAwMOERERSQ4DDhEREUkOAw4RERFJDgMOERERSQ4DDhEREUkOAw4RERFJDgMOERHRfboNisGUGR/Xdjeq7eLFi5DJZDhx4kRtd6XW8UnGREREdVB0dDRu3bqFTZs2Gcq8vb2RnZ0NFxeX2uvYY4IBh4iISCLkcjk8PDxquxuPBX5FRUREliEEUFJ0d9HeBrR37i5lZZUt1a1ftph5KWZFioqKMHLkSDg4OMAnsDs+/WK1SZ2SkhK88cYbaNiwIezt7dG5c2ejl3QmJiaiXr162LlzJ1q1agUHBwf06dMH2dnZhjqpqXvR6elI2DcNRQNnZ3Tp0gV//vmnYfuWLVsQFBQElUqFxo0bY+bMmSgtLTXb5/j4eKxcuRLff/89ZDIZZDIZUlNTTb6iSk1NhUwmw86dOxEYGAhbW1v06NEDubm52L59O1q1agUnJye8+OKLuH379j1TJzBnzhw0btwYtra2CAgIwHfffWfYfvPmTQwfPhyurq6wtbVFs2bNsGLFCrN9/fLLL9GwYUPo9Xqj8meeeQZRUVHlT8xD4hkcIiKyDO1t4AMvAIDDf4scyq9t5N5fTtX+l/hbf1Wr+uuvv449e/Zg48aNcLYqwLsfzsfRX86ifevmhjqjRo3CxYsXsW7dOnh5eWHjxo3o06cPTp06hWbNmgEAbt++jU8++QSrV6+GlZUVRowYgdjYWCQlJaG0tBQvvPACYl58BmsXfYBip8Y4cvQoZDIZAGDnzp0YMWIEPv/8c4SFheH8+fMYN24cAODdd9816XNsbCzOnj2L/Px8Q7Bo0KAB/vrL/Njj4+OxcOFC2NnZYciQIRgyZAiUSiW+/vprFBYW4rnnnsOCBQvwz3/+EwAwffp0bNiwAUuWLEGzZs2wb98+jBgxAq6urujatSveeecd/Prrr9i+fTtcXFzw+++/486dO2aPPXjwYEyePBl79uxBz549AdwNSDt37sSWLVuqNVfVwYBDRER/W4WFhVi2bBlWrVqF3r17o+Sv01g5fxae6NjXUOf8+fNYu3YtLl26BC+vu4EtNjYWO3bswIoVK/DBBx8AALRaLb744gs0adIEADBp0iTMmjULAJCfn4+8vDz07/UUmvh6Q+/eCm38/Q3HeP/99/Hmm28azmg0btwY7733Ht544w2zAcfBwQG2trbQaDRV+kpq9uzZ6NKlCwBgzJgxiIuLw/nz59G4cWMAwKBBg7Bnzx7885//RFFREebOnYvdu3cjJCTE0J/9+/fjyy+/RNeuXZGZmYnAwEB07NgRAODr61vusRs0aIA+ffrg66+/NgScb7/9Fg0aNDCsWwIDDhERWYbCznA2pfD6ZTiUXEOhXA0HN99Kdy0t1cL66q8AAL17W1hZVeM8jsKuylXPnz+PkpISwy9yAGhQX40WTXwM68eOHYMQAs2bNzfaV6PRwNnZ2bBuZ2dnCDcA4Onpidzc3LttNmiAqKiRiBg+Eb3DOqNnv+cwdNgweHp6AgCOHj2Kw4cP4/333zfsr9PpUFxcjNu3b8POrupjMqddu3aGP7u7u8POzs4QbsrKDh06BAD49ddfUVxcjN69exu1UVJSgsDAQADAP/7xD7zwwgs4duwYwsPDMXDgQISGhpZ7/OHDh2PcuHFYvHgxlEolkpKSMGzYMMjl8ocaV0UYcIiIyDJkMsDG/u6fFXaAsAXktv8rq4iVFlDY3v2zjT1QnYBTDaIK1+vo9XrI5XIcPXrU5Beyg8P/vnRTKBRG22QymVH7y5Ytw6sv9cGOPWn45ptv8M6MGUhJSUFwcDD0ej1mzpyJ559/3uT4KpWqusMycW/fZDKZ2b6WXSNT9t+tW7eavCldqVQCAPr27Ys///wTW7duxa5du9CzZ09MnDgRn3zyidnjDxgwAHq9Hlu3bsWTTz6Jn3/+GXPnzn3ocVXkkVxkvHjxYvj5+UGlUiEoKAg///xzuXWjo6MNF0zdu7Rp08ZQJzEx0Wyd4uLiRzEcIiKSiKZNm0KhUODAgQOGspu38vHbH/+7+DcwMBA6nQ65ublo2rSp0VLdO5YC/Vsi7pXR2L9/P/z9/fH1118DADp06ICMjAyT9ps2bVru2SsbGxvodLoHGHXFWrduDaVSiczMTJO+eHt7G+q5uroiOjoaa9aswfz587F06dJy27S1tcXzzz+PpKQkrF27Fs2bN0dQUFCN9/1eFj+Dk5ycjClTpmDx4sXo0qULvvzyS/Tt2xe//vorGjVqZFL/s88+w4cffmhYLy0tRUBAAAYPHmxUz8nJCRkZGUZlNZFyiYjo78PBwQFjxozB66+/DmdnZzSQ5SP+o8+MQkXz5s0xfPhwjBw5Ep9++ikCAwNx7do17N69G23btkW/fv0qPc6FCxfwxRdfYGCXVvDycMXZkzn47bffMHLkSADAjBkz0L9/f3h7e2Pw4MGwsrLCL7/8glOnTmH27Nlm2/T19cXOnTuRkZEBZ2dnqNXqGvlMHB0dERsbi6lTp0Kv1+P//u//kJ+fj7S0NDg4OCAqKgozZsxAUFAQ2rRpA41Ggx9++AGtWrWqsN3hw4djwIABOHPmDEaMGFEjfa2IxQPO3LlzMWbMGIwdOxYAMH/+fOzcuRNLlixBQkKCSX21Wm00SZs2bcLNmzcxatQoo3oymYz3+hMR0UP7+OOPUVhYiGeeeQaO9rZ47eURyCsoNKqzYsUKzJ49G6+99houX74MZ2dnhISEVCncAHevz8nIyMALK5fj+s08eHp6YdKkSXj55ZcBABEREfjhhx8wa9YszJkzBwqFAi1btjT87jQnJiYGqamp6NixIwoLC7Fnz54KL/atjvfeew9ubm5ISEjAH3/8gXr16qFDhw546623ANw9exQXF4eLFy/C1tYWYWFhWLduXYVt9ujRAw0aNEBGRgZeeumlGulnRSwacEpKSnD06FG8+eabRuXh4eFIS0urUhvLli1Dr1694OPjY1ReWFgIHx8f6HQ6tG/fHu+9957h4qf7aTQaaDQaw3p+fn41R0JERFLl4OCA1atXY/Xq1Sj56zRsoMXr/7h7N1PJf+soFArMnDkTM2fONNtGdHQ0oqOjjcoGDhxouAbH3d0d69d/B/mVUwAAvXs7WN13PU9ERAQiIiKq3G9XV1f8+OOPJuX3XvfTrVs3k+uMzPU1Pj4e8fHxhnWZTIbJkydj8uTJZo89ffp0TJ8+vcp9Be4+hLC829gtwaLX4Fy7dg06nQ7u7u5G5e7u7sjJyal0/+zsbGzfvt0kwbZs2RKJiYnYvHkz1q5dC5VKhS5duuDcuXNm20lISDCcGVKr1UbfIRIREZH0PJKLjMseZFRGCGFSZk7ZkyEHDhxoVB4cHIwRI0YgICAAYWFh+Oabb9C8eXMsWLDAbDtxcXHIy8szLFlZWQ88FiIiInr8WfQrKhcXF8jlcpOzNbm5uSZnde4nhMDy5csRGRkJGxubCutaWVnhySefLPcMjlKpNNzaRkRERNJn0TM4NjY2CAoKQkpKilF5SkpKhQ8EAoC9e/fi999/x5gxYyo9jhACJ06cMDwwiYiIiP7eLH4X1bRp0xAZGYmOHTsiJCQES5cuRWZmJsaPHw/g7tdHly9fxqpVq4z2W7ZsGTp37gz/ex5lXWbmzJkIDg5Gs2bNkJ+fj88//xwnTpzAokWLLD0cIiIyRwgIVO3BeUQVqamfIYsHnKFDh+L69euYNWsWsrOz4e/vj23bthnuisrOzkZmZqbRPnl5eVi/fj0+++wzs23eunUL48aNQ05ODtRqNQIDA7Fv3z506tTJ0sMhIiIzFJobEHo9bt++DVtb29ruDtVhJSV371172Nc4PJJXNUyYMAETJkwwuy0xMdGkTK1WG722/X7z5s3DvHnzaqp7RET0kOSltyHTFhnevWRnZ2d0M4lGWwrrUgGNXgfrKjx1vrRUC+vSu/+S1xcXV+9dVAA0pXoAApqSElhV4yn3JaV66PG/MwglGg30NXQ1h05XCvm9Y7Lge5jqKr1ej6tXr8LOzg7W1g8XUfguKiIiqhFyXRHq1atnCDn30hTehLK0ABqrIigLSittS6/XwSr/KgBAFKqqdOftvbR5uVAILUpUetioblZ5v9JbV2GN0nvW5bBWVHyjS1Xp9fr/jalACZmF3q9V11lZWaFRo0bVnvP7MeAQEVGNkOHuG7Td3Nyg1WqNth3fsB4t/1qHk+oeaBk5p9K2CvJuwnH7MACAdlwaFJXcTXu/i0ti4av7E//pOBN+rZ6u8n45CyfAA1cN69n918DT169axy5PUWEe7LcPBQBoxuyF0rYKLx39G7Kxsan2GTtzGHCIiKhGyeVy0+snNAVQFWYBNjer9N5AzR3F3foA5ColFDbVe9SHvOgKVKVZkOm11XpPoXVRNlQi+3/rclmNveewtOSOYUxQKvn+RAvj+TEiIiKSHAYcIiIikhwGHCIiIpIcBhwiIiKSHAYcIiIikhwGHCIiIpIcBhwiIiKSHAYcIiIikhwGHCIiIpIcBhwiIiKSHAYcIiIikhwGHCIiIpIcBhwiIiKSHAYcIiIikhwGHCIiIpIcBhwiIiKSHAYcIiIikhwGHCIiIpIcBhwiIiKSHAYcIiIikhwGHCIiIpIcBhwiIiKSHAYcIiIikhwGHCIiIpIcBhwiIiKSHAYcIiIikhwGHCIiIpIcBhwiIiKSHAYcIiIikhwGHCIiIpIcBhwiIiKSHAYcIiIikpxHEnAWL14MPz8/qFQqBAUF4eeffy63bmpqKmQymcnyn//8x6je+vXr0bp1ayiVSrRu3RobN2609DCIiIiojrB4wElOTsaUKVPw9ttv4/jx4wgLC0Pfvn2RmZlZ4X4ZGRnIzs42LM2aNTNsS09Px9ChQxEZGYmTJ08iMjISQ4YMwcGDBy09HCIiIqoDLB5w5s6dizFjxmDs2LFo1aoV5s+fD29vbyxZsqTC/dzc3ODh4WFY5HK5Ydv8+fPRu3dvxMXFoWXLloiLi0PPnj0xf/58C4+GiIiI6gKLBpySkhIcPXoU4eHhRuXh4eFIS0urcN/AwEB4enqiZ8+e2LNnj9G29PR0kzYjIiLKbVOj0SA/P99oISIiIumyaMC5du0adDod3N3djcrd3d2Rk5Njdh9PT08sXboU69evx4YNG9CiRQv07NkT+/btM9TJycmpVpsJCQlQq9WGxdvb+yFHRkRERI8z60dxEJlMZrQuhDApK9OiRQu0aNHCsB4SEoKsrCx88skneOqppx6ozbi4OEybNs2wnp+fz5BDREQkYRY9g+Pi4gK5XG5yZiU3N9fkDExFgoODce7cOcO6h4dHtdpUKpVwcnIyWoiIiEi6LBpwbGxsEBQUhJSUFKPylJQUhIaGVrmd48ePw9PT07AeEhJi0uaPP/5YrTaJiIhIuiz+FdW0adMQGRmJjh07IiQkBEuXLkVmZibGjx8P4O7XR5cvX8aqVasA3L1DytfXF23atEFJSQnWrFmD9evXY/369YY2X331VTz11FP46KOP8Oyzz+L777/Hrl27sH//fksPh4iIiOoAiwecoUOH4vr165g1axays7Ph7++Pbdu2wcfHBwCQnZ1t9EyckpISxMbG4vLly7C1tUWbNm2wdetW9OvXz1AnNDQU69atw/Tp0/HOO++gSZMmSE5ORufOnS09HCIiIqoDHslFxhMmTMCECRPMbktMTDRaf+ONN/DGG29U2uagQYMwaNCgmugeERERSQzfRUVERESSw4BDREREksOAQ0RERJLDgENERESSw4BDREREksOAQ0RERJLDgENERESSw4BDREREksOAQ0RERJLDgENERESSw4BDREREksOAQ0RERJLDgENERESSw4BDREREksOAQ0RERJLDgENERESSw4BDREREksOAQ0RERJLDgENERESSw4BDREREksOAQ0RERJLDgENERESSw4BDREREksOAQ0RERJLDgENERESSw4BDREREksOAQ0RERJLDgENERESSw4BDREREksOAQ0RERJLDgENERESSw4BDREREksOAQ0RERJLDgENERESSw4BDREREkvNIAs7ixYvh5+cHlUqFoKAg/Pzzz+XW3bBhA3r37g1XV1c4OTkhJCQEO3fuNKqTmJgImUxmshQXF1t6KERERFQHWDzgJCcnY8qUKXj77bdx/PhxhIWFoW/fvsjMzDRbf9++fejduze2bduGo0ePonv37hgwYACOHz9uVM/JyQnZ2dlGi0qlsvRwiIiIqA6wtvQB5s6dizFjxmDs2LEAgPnz52Pnzp1YsmQJEhISTOrPnz/faP2DDz7A999/jy1btiAwMNBQLpPJ4OHhYdG+ExERUd1k0TM4JSUlOHr0KMLDw43Kw8PDkZaWVqU29Ho9CgoK0KBBA6PywsJC+Pj44IknnkD//v1NzvDcS6PRID8/32ghIiIi6bJowLl27Rp0Oh3c3d2Nyt3d3ZGTk1OlNj799FMUFRVhyJAhhrKWLVsiMTERmzdvxtq1a6FSqdClSxecO3fObBsJCQlQq9WGxdvb+8EHRURERI+9R3KRsUwmM1oXQpiUmbN27VrEx8cjOTkZbm5uhvLg4GCMGDECAQEBCAsLwzfffIPmzZtjwYIFZtuJi4tDXl6eYcnKynq4AREREdFjzaLX4Li4uEAul5ucrcnNzTU5q3O/5ORkjBkzBt9++y169epVYV0rKys8+eST5Z7BUSqVUCqV1es8ERER1VkWPYNjY2ODoKAgpKSkGJWnpKQgNDS03P3Wrl2L6OhofP3113j66acrPY4QAidOnICnp+dD95mIiIjqPovfRTVt2jRERkaiY8eOCAkJwdKlS5GZmYnx48cDuPv10eXLl7Fq1SoAd8PNyJEj8dlnnyE4ONhw9sfW1hZqtRoAMHPmTAQHB6NZs2bIz8/H559/jhMnTmDRokWWHg4RERHVARYPOEOHDsX169cxa9YsZGdnw9/fH9u2bYOPjw8AIDs72+iZOF9++SVKS0sxceJETJw40VAeFRWFxMREAMCtW7cwbtw45OTkQK1WIzAwEPv27UOnTp0sPRwiIiKqAywecABgwoQJmDBhgtltZaGlTGpqaqXtzZs3D/PmzauBnhEREZEU8V1UREREJDkMOERERCQ5DDhEREQkOQw4REREJDkMOERERCQ5DDhEREQkOQw4REREJDkMOERERCQ5DDhEREQkOQw4REREJDkMOERERCQ5DDhEREQkOQw4REREJDkMOERERCQ5DDhEREQkOQw4REREJDkMOERERCQ5DDhEREQkOQw4REREJDkMOERERCQ5DDhEREQkOQw4REREJDkMOERERCQ5DDhEREQkOQw4REREJDkMOERERCQ5DDhEREQkOQw4REREJDkMOERERCQ5DDhEREQkOQw4REREJDkMOERERCQ5DDhEREQkOQw4REREJDkMOERERCQ5DDhEREQkOY8k4CxevBh+fn5QqVQICgrCzz//XGH9vXv3IigoCCqVCo0bN8YXX3xhUmf9+vVo3bo1lEolWrdujY0bN1qq+0RERFTHWDzgJCcnY8qUKXj77bdx/PhxhIWFoW/fvsjMzDRb/8KFC+jXrx/CwsJw/PhxvPXWW5g8eTLWr19vqJOeno6hQ4ciMjISJ0+eRGRkJIYMGYKDBw9aejhERERUB1hb+gBz587FmDFjMHbsWADA/PnzsXPnTixZsgQJCQkm9b/44gs0atQI8+fPBwC0atUKR44cwSeffIIXXnjB0Ebv3r0RFxcHAIiLi8PevXsxf/58rF271qRNjUYDjUZjWM/Pz6/pYT6UBn/txYHFMbXdjceIDPU6DkbLTr1ruyP0iB3buRol5/fVdjcsyub2ldruAj0GTi5/BcLK4r+Ca5edK4KjP6i1w1v00y0pKcHRo0fx5ptvGpWHh4cjLS3N7D7p6ekIDw83KouIiMCyZcug1WqhUCiQnp6OqVOnmtQpC0X3S0hIwMyZMx98IBait3ECALQozQByM2q5N4+XCzsOAp1O1nY36BEq0RSjTdpUKGXa2u7KI1FsZVfbXaBHTGGjhEYooJRp0fnahtrujsVlWjUEINGAc+3aNeh0Ori7uxuVu7u7Iycnx+w+OTk5ZuuXlpbi2rVr8PT0LLdOeW3GxcVh2rRphvX8/Hx4e3s/yJBqVLNn38CBHY4Q2qLa7spjw7owB0/m7YBS3KntrtAjpivVwva/4eaAx3AIuaKWe2RJMrh2GlzbnaBHTKmyw8luS3D79/213ZVHQmbnjEa1ePxHcn5MJpMZrQshTMoqq39/eXXaVCqVUCqV1erzo+Di4Q2XWjx99zjKOLIb+GFHbXeDalnb4R/A3rFebXeDqMYFdB8MdGe4fRQsepGxi4sL5HK5yZmV3NxckzMwZTw8PMzWt7a2hrOzc4V1ymuTiIiI/l4sGnBsbGwQFBSElJQUo/KUlBSEhoaa3SckJMSk/o8//oiOHTtCoVBUWKe8NomIiOjvxeJfUU2bNg2RkZHo2LEjQkJCsHTpUmRmZmL8+PEA7l4fc/nyZaxatQoAMH78eCxcuBDTpk1DTEwM0tPTsWzZMqO7o1599VU89dRT+Oijj/Dss8/i+++/x65du7B//9/je00iIiKqmMUDztChQ3H9+nXMmjUL2dnZ8Pf3x7Zt2+Dj4wMAyM7ONnomjp+fH7Zt24apU6di0aJF8PLywueff264RRwAQkNDsW7dOkyfPh3vvPMOmjRpguTkZHTu3NnSwyEiIqI64JFcZDxhwgRMmDDB7LbExESTsq5du+LYsWMVtjlo0CAMGjSoJrpHREREEsN3UREREZHkMOAQERGR5DDgEBERkeQw4BAREZHkMOAQERGR5DDgEBERkeQw4BAREZHkMOAQERGR5DDgEBERkeQw4BAREZHkMOAQERGR5DDgEBERkeQw4BAREZHkMOAQERGR5DDgEBERkeQw4BAREZHkMOAQERGR5DDgEBERkeQw4BAREZHkMOAQERGR5DDgEBERkeQw4BAREZHkMOAQERGR5DDgEBERkeQw4BAREZHkMOAQERGR5DDgEBERkeQw4BAREZHkMOAQERGR5DDgEBERkeQw4BAREZHkMOAQERGR5DDgEBERkeQw4BAREZHkMOAQERGR5Fg04Ny8eRORkZFQq9VQq9WIjIzErVu3yq2v1Wrxz3/+E23btoW9vT28vLwwcuRI/PXXX0b1unXrBplMZrQMGzbMkkMhIiKiOsSiAeell17CiRMnsGPHDuzYsQMnTpxAZGRkufVv376NY8eO4Z133sGxY8ewYcMG/Pbbb3jmmWdM6sbExCA7O9uwfPnll5YcChEREdUh1pZq+OzZs9ixYwcOHDiAzp07AwC++uorhISEICMjAy1atDDZR61WIyUlxahswYIF6NSpEzIzM9GoUSNDuZ2dHTw8PCzVfSIiIqrDLHYGJz09HWq12hBuACA4OBhqtRppaWlVbicvLw8ymQz16tUzKk9KSoKLiwvatGmD2NhYFBQUlNuGRqNBfn6+0UJERETSZbEzODk5OXBzczMpd3NzQ05OTpXaKC4uxptvvomXXnoJTk5OhvLhw4fDz88PHh4eOH36NOLi4nDy5EmTsz9lEhISMHPmzAcbCBEREdU51T6DEx8fb3KB7/3LkSNHAAAymcxkfyGE2fL7abVaDBs2DHq9HosXLzbaFhMTg169esHf3x/Dhg3Dd999h127duHYsWNm24qLi0NeXp5hycrKqu6wiYiIqA6p9hmcSZMmVXrHkq+vL3755RdcuXLFZNvVq1fh7u5e4f5arRZDhgzBhQsXsHv3bqOzN+Z06NABCoUC586dQ4cOHUy2K5VKKJXKCtsgIiIi6ah2wHFxcYGLi0ul9UJCQpCXl4dDhw6hU6dOAICDBw8iLy8PoaGh5e5XFm7OnTuHPXv2wNnZudJjnTlzBlqtFp6enlUfCBEREUmWxS4ybtWqFfr06YOYmBgcOHAABw4cQExMDPr37290B1XLli2xceNGAEBpaSkGDRqEI0eOICkpCTqdDjk5OcjJyUFJSQkA4Pz585g1axaOHDmCixcvYtu2bRg8eDACAwPRpUsXSw2HiIiI6hCLPgcnKSkJbdu2RXh4OMLDw9GuXTusXr3aqE5GRgby8vIAAJcuXcLmzZtx6dIltG/fHp6enoal7M4rGxsb/PTTT4iIiECLFi0wefJkhIeHY9euXZDL5ZYcDhEREdURFruLCgAaNGiANWvWVFhHCGH4s6+vr9G6Od7e3ti7d2+N9I+IiIikie+iIiIiIslhwCEiIiLJYcAhIiIiyWHAISIiIslhwCEiIiLJYcAhIiIiyWHAISIiIslhwCEiIiLJYcAhIiIiyWHAISIiIslhwCEiIiLJYcAhIiIiyWHAISIiIslhwCEiIiLJYcAhIiIiyWHAISIiIslhwCEiIiLJYcAhIiIiyWHAISIiIslhwCEiIiLJYcAhIiIiyWHAISIiIslhwCEiIiLJYcAhIiIiyWHAISIiIslhwCEiIiLJYcAhIiIiyWHAISIiIslhwCEiIiLJYcAhIiIiyWHAISIiIslhwCEiIiLJYcAhIiIiyWHAISIiIslhwCEiIiLJsWjAuXnzJiIjI6FWq6FWqxEZGYlbt25VuE90dDRkMpnREhwcbFRHo9HglVdegYuLC+zt7fHMM8/g0qVLFhwJERER1SUWDTgvvfQSTpw4gR07dmDHjh04ceIEIiMjK92vT58+yM7ONizbtm0z2j5lyhRs3LgR69atw/79+1FYWIj+/ftDp9NZaihERERUh1hbquGzZ89ix44dOHDgADp37gwA+OqrrxASEoKMjAy0aNGi3H2VSiU8PDzMbsvLy8OyZcuwevVq9OrVCwCwZs0aeHt7Y9euXYiIiKj5wRAREVGdYrEzOOnp6VCr1YZwAwDBwcFQq9VIS0urcN/U1FS4ubmhefPmiImJQW5urmHb0aNHodVqER4ebijz8vKCv79/ue1qNBrk5+cbLURERCRdFgs4OTk5cHNzMyl3c3NDTk5Oufv17dsXSUlJ2L17Nz799FMcPnwYPXr0gEajMbRrY2OD+vXrG+3n7u5ebrsJCQmG64DUajW8vb0fYmRERET0uKt2wImPjze5CPj+5ciRIwAAmUxmsr8Qwmx5maFDh+Lpp5+Gv78/BgwYgO3bt+O3337D1q1bK+xXRe3GxcUhLy/PsGRlZVVjxERERFTXVPsanEmTJmHYsGEV1vH19cUvv/yCK1eumGy7evUq3N3dq3w8T09P+Pj44Ny5cwAADw8PlJSU4ObNm0ZncXJzcxEaGmq2DaVSCaVSWeVjEhERUd1W7YDj4uICFxeXSuuFhIQgLy8Phw4dQqdOnQAABw8eRF5eXrlBxJzr168jKysLnp6eAICgoCAoFAqkpKRgyJAhAIDs7GycPn0ac+bMqe5wiIiISIIsdg1Oq1at0KdPH8TExODAgQM4cOAAYmJi0L9/f6M7qFq2bImNGzcCAAoLCxEbG4v09HRcvHgRqampGDBgAFxcXPDcc88BANRqNcaMGYPXXnsNP/30E44fP44RI0agbdu2hruqiIiI6O/NYreJA0BSUhImT55suOPpmWeewcKFC43qZGRkIC8vDwAgl8tx6tQprFq1Crdu3YKnpye6d++O5ORkODo6GvaZN28erK2tMWTIENy5cwc9e/ZEYmIi5HK5JYdDREREdYRFA06DBg2wZs2aCusIIQx/trW1xc6dOyttV6VSYcGCBViwYMFD95GIiIikh++iIiIiIslhwCEiIiLJYcAhIiIiyWHAISIiIslhwCEiIiLJYcAhIiIiyWHAISIiIslhwCEiIiLJYcAhIiIiyWHAISIiIslhwCEiIiLJYcAhIiIiyWHAISIiIslhwCEiIiLJYcAhIiIiyWHAISIiIslhwCEiIiLJYcAhIiIiyWHAISIiIslhwCEiIiLJYcAhIiIiyWHAISIiIslhwCEiIiLJYcAhIiIiyWHAISIiIslhwCEiIiLJYcAhIiIiyWHAISIiIslhwCEiIiLJYcAhIiIiyWHAISIiIslhwCEiIiLJYcAhIiIiyWHAISIiIslhwCEiIiLJsWjAuXnzJiIjI6FWq6FWqxEZGYlbt25VuI9MJjO7fPzxx4Y63bp1M9k+bNgwSw6FiIiI6hBrSzb+0ksv4dKlS9ixYwcAYNy4cYiMjMSWLVvK3Sc7O9toffv27RgzZgxeeOEFo/KYmBjMmjXLsG5ra1uDPSciIqK6zGIB5+zZs9ixYwcOHDiAzp07AwC++uorhISEICMjAy1atDC7n4eHh9H6999/j+7du6Nx48ZG5XZ2diZ1iYiIiAALfkWVnp4OtVptCDcAEBwcDLVajbS0tCq1ceXKFWzduhVjxowx2ZaUlAQXFxe0adMGsbGxKCgoKLcdjUaD/Px8o4WIiIiky2JncHJycuDm5mZS7ubmhpycnCq1sXLlSjg6OuL55583Kh8+fDj8/Pzg4eGB06dPIy4uDidPnkRKSorZdhISEjBz5szqD4KIiIjqpGqfwYmPjy/3QuCy5ciRIwDuXjB8PyGE2XJzli9fjuHDh0OlUhmVx8TEoFevXvD398ewYcPw3XffYdeuXTh27JjZduLi4pCXl2dYsrKyqjlqIiIiqkuqfQZn0qRJld6x5Ovri19++QVXrlwx2Xb16lW4u7tXepyff/4ZGRkZSE5OrrRuhw4doFAocO7cOXTo0MFku1KphFKprLQdIiIikoZqBxwXFxe4uLhUWi8kJAR5eXk4dOgQOnXqBAA4ePAg8vLyEBoaWun+y5YtQ1BQEAICAiqte+bMGWi1Wnh6elY+ACIiIpI8i11k3KpVK/Tp0wcxMTE4cOAADhw4gJiYGPTv39/oDqqWLVti48aNRvvm5+fj22+/xdixY03aPX/+PGbNmoUjR47g4sWL2LZtGwYPHozAwEB06dLFUsMhIiKiOsSiD/pLSkpC27ZtER4ejvDwcLRr1w6rV682qpORkYG8vDyjsnXr1kEIgRdffNGkTRsbG/z000+IiIhAixYtMHnyZISHh2PXrl2Qy+WWHA4RERHVERZ90F+DBg2wZs2aCusIIUzKxo0bh3Hjxpmt7+3tjb1799ZI/4iIiEia+C4qIiIikhwGHCIiIpIcBhwiIiKSHAYcIiIikhwGHCIiIpIcBhwiIiKSHAYcIiIikhwGHCIiIpIcBhwiIiKSHAYcIiIikhwGHCIiIpIcBhwiIiKSHAYcIiIikhwGHCIiIpIcBhwiIiKSHAYcIiIikhwGHCIiIpIcBhwiIiKSHAYcIiIikhwGHCIiIpIcBhwiIiKSHAYcIiIikhwGHCIiIpIcBhwiIiKSHAYcIiIikhwGHCIiIpIcBhwiIiKSHAYcIiIikhwGHCIiIpIcBhwiIiKSHAYcIiIikhwGHCIiIpIcBhwiIiKSHAYcIiIikhwGHCIiIpIciwac999/H6GhobCzs0O9evWqtI8QAvHx8fDy8oKtrS26deuGM2fOGNXRaDR45ZVX4OLiAnt7ezzzzDO4dOmSBUZAREREdZFFA05JSQkGDx6Mf/zjH1XeZ86cOZg7dy4WLlyIw4cPw8PDA71790ZBQYGhzpQpU7Bx40asW7cO+/fvR2FhIfr37w+dTmeJYRAREVEdY23JxmfOnAkASExMrFJ9IQTmz5+Pt99+G88//zwAYOXKlXB3d8fXX3+Nl19+GXl5eVi2bBlWr16NXr16AQDWrFkDb29v7Nq1CxERERYZCxEREdUdFg041XXhwgXk5OQgPDzcUKZUKtG1a1ekpaXh5ZdfxtGjR6HVao3qeHl5wd/fH2lpaWYDjkajgUajMazn5eUBAPLz8y04GnoQhYVFyNcIFEBXY/NTdKcE+RqBojsai855YbH27nFuFz/QcQoKCmCjEdAJQP6A/Swo1iFfCBQW3a5yHwqLS5GvESi8fadGPp/C4lLkl1S/vTtFBdBqBACgKD8fOsFLBOuKqvzcFd3R3P37UVxSpZ+L/PwCyP7786DNz4fCRlmtPhUW65Cvq97fBeC/Y4H433phIX9XPEbK5kIIUUnNu5UsbsWKFUKtVlda79///rcAIC5fvmxUHhMTI8LDw4UQQiQlJQkbGxuTfXv37i3GjRtntt13331XAODChQsXLly4SGDJysqqNFNU+wxOfHy84aun8hw+fBgdO3asbtMGMpnMaF0IYVJ2v4rqxMXFYdq0aYZ1vV6PGzduwNnZudJ2qys/Px/e3t7IysqCk5NTjbb9OOE4pePvMEaA45QajlM6qjNGIQQKCgrg5eVVabvVDjiTJk3CsGHDKqzj6+tb3WYBAB4eHgCAnJwceHp6Gspzc3Ph7u5uqFNSUoKbN2+ifv36RnVCQ0PNtqtUKqFUGp/erOpdXQ/KyclJsj+M9+I4pePvMEaA45QajlM6qjpGtVpdpfaqHXBcXFzg4uJS3d2qxM/PDx4eHkhJSUFgYCCAu3di7d27Fx999BEAICgoCAqFAikpKRgyZAgAIDs7G6dPn8acOXMs0i8iIiKqWyx6kXFmZiZu3LiBzMxM6HQ6nDhxAgDQtGlTODg4AABatmyJhIQEPPfcc5DJZJgyZQo++OADNGvWDM2aNcMHH3wAOzs7vPTSSwDuJrcxY8bgtddeg7OzMxo0aIDY2Fi0bdvWcFcVERER/b1ZNODMmDEDK1euNKyXnZXZs2cPunXrBgDIyMgw3NUEAG+88Qbu3LmDCRMm4ObNm+jcuTN+/PFHODo6GurMmzcP1tbWGDJkCO7cuYOePXsiMTERcrncksOpEqVSiXfffdfkKzGp4Til4+8wRoDjlBqOUzosNUaZEFW514qIiIio7uCDJoiIiEhyGHCIiIhIchhwiIiISHIYcIiIiEhyGHCIiIhIchhwatDixYvh5+cHlUqFoKAg/Pzzz7XdpRoVHx8PmUxmtJQ9fbou27dvHwYMGAAvLy/IZDJs2rTJaLsQAvHx8fDy8oKtrS26deuGM2fO1E5nH0Jl44yOjjaZ3+Dg4Nrp7ANKSEjAk08+CUdHR7i5uWHgwIHIyMgwqiOF+azKOKUwn0uWLEG7du0MT7gNCQnB9u3bDdulMJdA5eOUwlzeLyEhwfDsuzI1PZ8MODUkOTkZU6ZMwdtvv43jx48jLCwMffv2RWZmZm13rUa1adMG2dnZhuXUqVO13aWHVlRUhICAACxcuNDs9jlz5mDu3LlYuHAhDh8+DA8PD/Tu3RsFBQWPuKcPp7JxAkCfPn2M5nfbtm2PsIcPb+/evZg4cSIOHDiAlJQUlJaWIjw8HEVFRYY6UpjPqowTqPvz+cQTT+DDDz/EkSNHcOTIEfTo0QPPPvus4ZeeFOYSqHycQN2fy3sdPnwYS5cuRbt27YzKa3w+K30dJ1VJp06dxPjx443KWrZsKd58881a6lHNe/fdd0VAQEBtd8OiAIiNGzca1vV6vfDw8BAffvihoay4uFio1WrxxRdf1EIPa8b94xRCiKioKPHss8/WSn8sJTc3VwAQe/fuFUJIdz7vH6cQ0pxPIYSoX7+++Ne//iXZuSxTNk4hpDWXBQUFolmzZiIlJUV07dpVvPrqq0IIy/zd5BmcGlBSUoKjR48iPDzcqDw8PBxpaWm11CvLOHfuHLy8vODn54dhw4bhjz/+qO0uWdSFCxeQk5NjNLdKpRJdu3aV3NwCQGpqKtzc3NC8eXPExMQgNze3trv0UMqekt6gQQMA0p3P+8dZRkrzqdPpsG7dOhQVFSEkJESyc3n/OMtIZS4nTpyIp59+2uTVSpaYT4u+quHv4tq1a9DpdIY3npdxd3dHTk5OLfWq5nXu3BmrVq1C8+bNceXKFcyePRuhoaE4c+YMnJ2da7t7FlE2f+bm9s8//6yNLllM3759MXjwYPj4+ODChQt455130KNHDxw9erROPiZeCIFp06bh//7v/+Dv7w9AmvNpbpyAdObz1KlTCAkJQXFxMRwcHLBx40a0bt3a8EtPKnNZ3jgB6czlunXrcOzYMRw+fNhkmyX+bjLg1CCZTGa0LoQwKavL+vbta/hz27ZtERISgiZNmmDlypWYNm1aLfbM8qQ+twAwdOhQw5/9/f3RsWNH+Pj4YOvWrXj++edrsWcPZtKkSfjll1+wf/9+k21Sms/yximV+WzRogVOnDiBW7duYf369YiKisLevXsN26Uyl+WNs3Xr1pKYy6ysLLz66qv48ccfoVKpyq1Xk/PJr6hqgIuLC+RyucnZmtzcXJM0KiX29vZo27Ytzp07V9tdsZiyu8T+bnMLAJ6envDx8amT8/vKK69g8+bN2LNnD5544glDudTms7xxmlNX59PGxgZNmzZFx44dkZCQgICAAHz22WeSm8vyxmlOXZzLo0ePIjc3F0FBQbC2toa1tTX27t2Lzz//HNbW1oY5q8n5ZMCpATY2NggKCkJKSopReUpKCkJDQ2upV5an0Whw9uxZeHp61nZXLMbPzw8eHh5Gc1tSUoK9e/dKem4B4Pr168jKyqpT8yuEwKRJk7Bhwwbs3r0bfn5+RtulMp+VjdOcujif5gghoNFoJDOX5Skbpzl1cS579uyJU6dO4cSJE4alY8eOGD58OE6cOIHGjRvX/Hw+8KXQZGTdunVCoVCIZcuWiV9//VVMmTJF2Nvbi4sXL9Z212rMa6+9JlJTU8Uff/whDhw4IPr37y8cHR3r/BgLCgrE8ePHxfHjxwUAMXfuXHH8+HHx559/CiGE+PDDD4VarRYbNmwQp06dEi+++KLw9PQU+fn5tdzz6qlonAUFBeK1114TaWlp4sKFC2LPnj0iJCRENGzYsE6N8x//+IdQq9UiNTVVZGdnG5bbt28b6khhPisbp1TmMy4uTuzbt09cuHBB/PLLL+Ktt94SVlZW4scffxRCSGMuhah4nFKZS3PuvYtKiJqfTwacGrRo0SLh4+MjbGxsRIcOHYxu2ZSCoUOHCk9PT6FQKISXl5d4/vnnxZkzZ2q7Ww9tz549AoDJEhUVJYS4e/viu+++Kzw8PIRSqRRPPfWUOHXqVO12+gFUNM7bt2+L8PBw4erqKhQKhWjUqJGIiooSmZmZtd3tajE3PgBixYoVhjpSmM/KximV+Rw9erTh/6murq6iZ8+ehnAjhDTmUoiKxymVuTTn/oBT0/MpE0KIBzv3Q0RERPR44jU4REREJDkMOERERCQ5DDhEREQkOQw4REREJDkMOERERCQ5DDhEREQkOQw4REREJDkMOERERCQ5DDhEREQkOQw4REREJDkMOERERCQ5/w9v5Glhr56rggAAAABJRU5ErkJggg==",
=======
      "image/png": "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",
>>>>>>> mat_times_vec
      "text/plain": [
       "<Figure size 640x480 with 1 Axes>"
      ]
     },
     "metadata": {},
     "output_type": "display_data"
    }
   ],
   "source": [
    "#Check graphically whether the two methods return the same result\n",
    "plt.plot(cp.asnumpy(out_reshape), label = \"my routine\")\n",
    "plt.plot(cp.asnumpy(dense_cov_inv_times_vec), label = \"dense times v\")\n",
    "plt.title(\"The Methods are Identical\")\n",
    "plt.ylim(-0.00001, 0.00001)\n",
    "plt.legend()\n",
    "plt.show()"
   ]
  },
  {
   "cell_type": "markdown",
   "metadata": {},
   "source": [
    "### Benchmarking sparse cov times vec\n",
    "\n",
    "It is useful to get a quick sense of how quick things will run for this simple routine while we're at it."
   ]
  },
  {
   "cell_type": "code",
   "execution_count": 15,
   "metadata": {
    "ExecuteTime": {
     "end_time": "2025-03-08T01:06:42.277029Z",
     "start_time": "2025-03-08T01:06:42.272767Z"
    }
   },
   "outputs": [],
   "source": [
    "N_inv = N_inv.reshape(n_blocks, largest_block)\n",
    "Del_p = Del_p.reshape(n_blocks, largest_block, n_eig)\n",
    "Sig_p = Sig_p.reshape(n_blocks, largest_block, n_src)\n",
    "zp_sim_data_vec = zp_sim_data_vec.reshape(n_blocks, largest_block)"
   ]
  },
  {
   "cell_type": "code",
   "execution_count": 16,
   "metadata": {
    "ExecuteTime": {
     "end_time": "2025-03-08T01:06:42.440420Z",
     "start_time": "2025-03-08T01:06:42.320620Z"
    }
   },
   "outputs": [
    {
     "name": "stdout",
     "output_type": "stream",
     "text": [
<<<<<<< HEAD
      "sparse_cov_times_vec:    CPU:   837.459 us   +/- 324.099 (min:   583.996 / max:  2373.447) us     GPU-0:  1916.580 us   +/- 4425.661 (min:   200.704 / max: 22489.088) us\n"
=======
      "sparse_cov_times_vec:    CPU:   699.131 us   +/- 149.045 (min:   584.220 / max:  1778.337) us     GPU-0:  1029.622 us   +/- 1864.372 (min:   562.176 / max: 11823.104) us\n"
>>>>>>> mat_times_vec
     ]
    }
   ],
   "source": [
    "print(benchmark(sparse_cov_times_vec, (N_inv, Del_p, Sig_p, zp_sim_data_vec, True), n_repeat=100))"
   ]
  },
  {
   "cell_type": "markdown",
   "metadata": {},
   "source": [
    "## Test for Accuracy of $Cd$ Routine\n",
    "\n",
    "Note we can just re-use the simulated arrays in the previous part, but just to be safe, I'll run things again."
   ]
  },
  {
   "cell_type": "code",
   "execution_count": 17,
   "metadata": {
    "ExecuteTime": {
     "end_time": "2025-03-08T01:06:42.462480Z",
     "start_time": "2025-03-08T01:06:42.450243Z"
    }
   },
   "outputs": [
    {
     "name": "stdout",
     "output_type": "stream",
     "text": [
<<<<<<< HEAD
      "The edges of the redundant blocks have indices[ 0  3 11 12 13 20]\n"
=======
      "The edges of the redundant blocks have indices[ 0  2  9 11 16 20]\n"
>>>>>>> mat_times_vec
     ]
    }
   ],
   "source": [
    "#the main parametes describing our problem.\n",
    "n_bl = 20\n",
    "n_eig = 3\n",
    "n_src = 5\n",
    "xp = cp  #run things on the gpu using cupy\n",
    "\n",
    "#random array of edges for the diffuse matrix\n",
    "edges = xp.unique(xp.random.randint(1, n_bl - 1, size=4))\n",
    "edges = xp.concatenate((xp.array([0]), edges, xp.array([n_bl])))\n",
    "print(f\"The edges of the redundant blocks have indices{edges}\")\n",
    "\n",
    "sim_noise_mat = xp.random.rand(n_bl, dtype = 'float64')**2   #in principle this is squared since is a variance\n",
    "sim_diff_mat = xp.random.rand(n_bl, n_eig, dtype = 'float64')\n",
    "sim_src_mat = xp.random.rand(n_bl, n_src, dtype = 'float64')\n",
    "sim_data_vec = xp.random.rand(n_bl, dtype = 'float64')"
   ]
  },
  {
   "cell_type": "markdown",
   "metadata": {},
   "source": [
    "Once again, we zeropad as the sparse cov times vector function expects things that way. We also will need to calculate the inverse components as the routine expects these at the present time."
   ]
  },
  {
   "cell_type": "code",
   "execution_count": 18,
   "metadata": {
    "ExecuteTime": {
     "end_time": "2025-03-08T01:06:42.598855Z",
     "start_time": "2025-03-08T01:06:42.573896Z"
    }
   },
   "outputs": [],
   "source": [
    "#zeropad the noise, diff, source mats\n",
    "zp_sim_noise_mat, largest_block, n_blocks = zeroPad(sim_noise_mat, edges, return_inv=False)  #Needs to be set s.t. return_inv=False if want to construct C = N + DD^T + SS^T\n",
    "zp_sim_diff_mat, largest_block, n_blocks = zeroPad(sim_diff_mat, edges, return_inv=False)\n",
    "zp_sim_src_mat, largest_block, n_blocks = zeroPad(sim_src_mat, edges, return_inv=False)\n",
    "zp_sim_data_vec, largest_block, n_blocks = zeroPad(sim_data_vec, edges, return_inv=False)"
   ]
  },
  {
   "cell_type": "code",
   "execution_count": 18,
   "metadata": {
    "ExecuteTime": {
     "end_time": "2025-03-08T01:06:42.757917Z",
     "start_time": "2025-03-08T01:06:42.751576Z"
    }
   },
   "outputs": [],
   "source": [
    "zp_cov_times_vec = sparse_cov_times_vec(zp_sim_noise_mat, zp_sim_diff_mat, zp_sim_src_mat, zp_sim_data_vec, isinv=False)"
   ]
  },
  {
   "cell_type": "code",
   "execution_count": 19,
   "metadata": {
    "ExecuteTime": {
     "end_time": "2025-03-08T01:06:42.812894Z",
     "start_time": "2025-03-08T01:06:42.806021Z"
    }
   },
   "outputs": [],
   "source": [
    "cov_times_vec = undo_zeroPad(zp_cov_times_vec, edges, True)"
   ]
  },
  {
   "cell_type": "markdown",
   "metadata": {},
   "source": [
    "### ZP Sanity check...\n",
    "\n",
    "Had to double check for piece of mind that the zp and undo zp functions are inverses of eachother."
   ]
  },
  {
   "cell_type": "code",
   "execution_count": 20,
   "metadata": {
    "ExecuteTime": {
     "end_time": "2025-03-08T01:06:42.879003Z",
     "start_time": "2025-03-08T01:06:42.860343Z"
    }
   },
   "outputs": [],
   "source": [
    "zpa, _, _ = zeroPad(sim_diff_mat, edges, return_inv=False)\n",
    "uzpa = undo_zeroPad(zpa, edges, True)\n",
    "assert cp.allclose(sim_diff_mat, uzpa)"
   ]
  },
  {
   "cell_type": "markdown",
   "metadata": {},
   "source": [
    "#### Now, back to the testing action"
   ]
  },
  {
   "cell_type": "code",
   "execution_count": 21,
   "metadata": {
    "ExecuteTime": {
     "end_time": "2025-03-08T01:06:43.030508Z",
     "start_time": "2025-03-08T01:06:42.910613Z"
    }
   },
   "outputs": [
    {
     "data": {
<<<<<<< HEAD
      "image/png": "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",
=======
      "image/png": "iVBORw0KGgoAAAANSUhEUgAAARoAAAGdCAYAAADNBrzaAAAAOnRFWHRTb2Z0d2FyZQBNYXRwbG90bGliIHZlcnNpb24zLjEwLjAsIGh0dHBzOi8vbWF0cGxvdGxpYi5vcmcvlHJYcgAAAAlwSFlzAAAPYQAAD2EBqD+naQAAIcNJREFUeJzt3X9UlGX+N/D38GswF6awYGYUFDmGoj7k4g8gFV03DMu1zVatTfGYlau5Kusx6cdRd88Rba1lTdNvLkLmrlqLqM/qbuJJIBN9IqEszfBIQsrE0SdnxNYB5Hr+8GHWkZnRifvDjOz7dc59Tvd9X9flZ27p7TX3L3RKKQUiIkEBvi6AiLo+Bg0RiWPQEJE4Bg0RiWPQEJE4Bg0RiWPQEJE4Bg0RiQvydQFaaW1txfnz5xEWFgadTufrcoi6PKUULl++DLPZjIAAz3OWLhM058+fR3R0tK/LIPqvU1dXh169enls02WCJiwsDAAQ+z9ZCOim79BY25M2a1ESAGDauws0GSd61VFNxiHSSguacQj7HP/vedJlgqbt61JANz0C7wrt0Fg/CdPu1FVgaMdqaROkC9ZkHCLN/P+nJG/nVAVPBhOROAYNEYkTC5q33noLsbGxCA0NRVJSEj766COP7UtLS5GUlITQ0FD07dsXGzdulCqNiDqZSNDs2LEDCxcuxMsvv4zKykqMGjUKGRkZqK2tddm+pqYGEyZMwKhRo1BZWYmXXnoJv/3tb1FYWChRHhF1MpGgeeONN/DMM89g9uzZGDBgAHJzcxEdHY0NGza4bL9x40bExMQgNzcXAwYMwOzZszFr1iysWbNGojwi6mSaB01TUxM+/fRTpKenO21PT0/H4cOHXfYpLy9v1378+PGoqKhAc3Ozyz52ux02m81pISL/pHnQXLhwAdeuXUNUVJTT9qioKFgsFpd9LBaLy/YtLS24cOGCyz45OTkwGAyOhTfrEfkvsZPBN19bV0p5vN7uqr2r7W2ys7NhtVodS11dXQcrJiIpmt+wd++99yIwMLDd7KWhoaHdrKWN0Wh02T4oKAg9evRw2Uev10Ov79gdwETUOTSf0YSEhCApKQnFxcVO24uLi5GamuqyT0pKSrv2+/fvx9ChQxEczDtiie50Il+dsrKy8Je//AWbN2/GyZMnsWjRItTW1mLOnDkArn/tmTFjhqP9nDlzcPbsWWRlZeHkyZPYvHkz8vLysHjxYonyiKiTiTzrNHXqVFy8eBG///3vUV9fj0GDBmHfvn3o3bs3AKC+vt7pnprY2Fjs27cPixYtwvr162E2m7F27VpMnjxZojwi6mRiD1XOnTsXc+fOdbmvoKCg3ba0tDQcO3ZMqhwi8iE+60RE4rrMayLa/PWn+R1+zUNG4e80qgaI239Fs7GI7lSc0RCROAYNEYlj0BCROAYNEYlj0BCROAYNEYlj0BCROAYNEYlj0BCROAYNEYlj0BCROAYNEYlj0BCROAYNEYlj0BCROAYNEYlj0BCROAYNEYnrcq/ynFY4HwGhoR0aY3DKGY2qAX5436jZWER3Ks5oiEgcg4aIxDFoiEgcg4aIxDFoiEgcg4aIxDFoiEgcg4aIxDFoiEgcg4aIxDFoiEgcg4aIxDFoiEgcg4aIxGkeNDk5ORg2bBjCwsIQGRmJxx57DKdOnfLYp6SkBDqdrt3y1VdfaV0eEfmA5kFTWlqKefPm4ciRIyguLkZLSwvS09Nx5cqVW/Y9deoU6uvrHUu/fv20Lo+IfEDzF1/961//clrPz89HZGQkPv30U4wePdpj38jISNx9991al0REPib+hj2r1QoAiIiIuGXbIUOG4OrVq0hISMArr7yCsWPHum1rt9tht9sd6zabDQAwctQXCPlJSIdqrng3sUP9b/S3bWs0GWdhn1RNxiHyBdGTwUopZGVlYeTIkRg0aJDbdiaTCW+//TYKCwuxc+dOxMfHY9y4cSgrK3PbJycnBwaDwbFER0dLfAQi0oDojOaFF17A559/jkOHDnlsFx8fj/j4eMd6SkoK6urqsGbNGrdft7Kzs5GVleVYt9lsDBsiPyU2o5k/fz727NmDgwcPolevXl73T05ORnV1tdv9er0e4eHhTgsR+SfNZzRKKcyfPx9FRUUoKSlBbGzsjxqnsrISJpNJ4+qIyBc0D5p58+bhb3/7G3bv3o2wsDBYLBYAgMFgQLdu3QBc/9pz7tw5bNmyBQCQm5uLPn36YODAgWhqasLWrVtRWFiIwsJCrcsjIh/QPGg2bNgAABgzZozT9vz8fMycORMAUF9fj9raWse+pqYmLF68GOfOnUO3bt0wcOBA7N27FxMmTNC6PCLyAZGvTrdSUFDgtL5kyRIsWbJE61KIyE/wWSciEsegISJxDBoiEsegISJxDBoiEsegISJxDBoiEsegISJxDBoiEsegISJxDBoiEif+Ks/O9vO7T+CusMAOjbFsyQcaVQNMXKXNM1yROKzJOES+wBkNEYlj0BCROAYNEYlj0BCROAYNEYlj0BCROAYNEYlj0BCROAYNEYlj0BCROAYNEYlj0BCROAYNEYlj0BCROAYNEYlj0BCROAYNEYnrcm/Y+1/6evxE37H8TNu5WKNqAMPDF7UZ6C1thiHyBc5oiEgcg4aIxDFoiEgcg4aIxDFoiEic5kGzfPly6HQ6p8VoNHrsU1paiqSkJISGhqJv377YuHGj1mURkQ+JXN4eOHAgDhw44FgPDHT/C91qamowYcIEPPvss9i6dSs+/vhjzJ07F/fddx8mT54sUR4RdTKRoAkKCrrlLKbNxo0bERMTg9zcXADAgAEDUFFRgTVr1jBoiLoIkXM01dXVMJvNiI2NxbRp03DmzBm3bcvLy5Genu60bfz48aioqEBzc7Pbfna7HTabzWkhIv+kedCMGDECW7ZswQcffIBNmzbBYrEgNTUVFy+6vkPWYrEgKirKaVtUVBRaWlpw4cIFt39OTk4ODAaDY4mOjtb0cxCRdjQPmoyMDEyePBmDBw/Gz3/+c+zduxcA8M4777jto9PpnNaVUi633yg7OxtWq9Wx1NXVaVA9EUkQf9ape/fuGDx4MKqrq13uNxqNsFgsTtsaGhoQFBSEHj16uB1Xr9dDr9drWisRyRC/j8Zut+PkyZMwmUwu96ekpKC4uNhp2/79+zF06FAEBwdLl0dEnUDzoFm8eDFKS0tRU1ODo0eP4oknnoDNZkNmZiaA6195ZsyY4Wg/Z84cnD17FllZWTh58iQ2b96MvLw8LF6s3RPURORbmn91+vbbb/Hkk0/iwoULuO+++5CcnIwjR46gd+/eAID6+nrU1tY62sfGxmLfvn1YtGgR1q9fD7PZjLVr1/LSNlEXonnQbN++3eP+goKCdtvS0tJw7NgxrUshIj/BZ52ISByDhojEdblXef7zSgJCdR37WD2q3N+/4y31eYRmYxHdqTijISJxDBoiEsegISJxDBoiEsegISJxDBoiEsegISJxDBoiEsegISJxDBoiEsegISJxDBoiEsegISJxDBoiEsegISJxDBoiEsegISJxXe4Ne9tqhiLwro79YrmAQI2KAZAw+0tNxvlusybDEPkEZzREJI5BQ0TiGDREJI5BQ0TiGDREJI5BQ0TiGDREJI5BQ0TiGDREJI5BQ0TiGDREJI5BQ0TiGDREJI5BQ0TiNA+aPn36QKfTtVvmzZvnsn1JSYnL9l999ZXWpRGRj2j+PppPPvkE165dc6x/8cUXeOihh/CrX/3KY79Tp04hPDzcsX7fffdpXRoR+YjmQXNzQKxatQpxcXFIS0vz2C8yMhJ333231uUQkR8QPUfT1NSErVu3YtasWdDpdB7bDhkyBCaTCePGjcPBgwclyyKiTib6Ks9du3bh0qVLmDlzpts2JpMJb7/9NpKSkmC32/Huu+9i3LhxKCkpwejRo932s9vtsNvtjnWbzQYACAm8hsCga+663Zb5S97rUP8bffj9AM3GIrpTiQZNXl4eMjIyYDab3baJj49HfHy8Yz0lJQV1dXVYs2aNx6DJycnBihUrNK2XiGSIfXU6e/YsDhw4gNmzZ3vdNzk5GdXV1R7bZGdnw2q1Opa6urofWyoRCROb0eTn5yMyMhKPPPKI130rKythMpk8ttHr9dDrO/bbDoioc4gETWtrK/Lz85GZmYmgIOc/Ijs7G+fOncOWLVsAALm5uejTpw8GDhzoOHlcWFiIwsJCidKIyAdEgubAgQOora3FrFmz2u2rr69HbW2tY72pqQmLFy/GuXPn0K1bNwwcOBB79+7FhAkTJEojIh/QKaWUr4vQgs1mg8FgwE//vgiB3Tv2lWp+nHaX17W66vRtcqMm4xBppUU1owS7YbVanW62dYXPOhGROAYNEYlj0BCROAYNEYlj0BCROAYNEYlj0BCROAYNEYlj0BCROAYNEYlj0BCRONEXX/nCxa/uRUBoaIfGeG3/VI2qAQKvavMo2X0o12QcIl/gjIaIxDFoiEgcg4aIxDFoiEgcg4aIxDFoiEgcg4aIxDFoiEgcg4aIxDFoiEgcg4aIxDFoiEgcg4aIxDFoiEgcg4aIxDFoiEgcg4aIxDFoiEhcl3uVZ+wr/wdBumBfl6G5f08artlY435/SJNxKi9FazIOAPw77TvNxiL/wxkNEYlj0BCROAYNEYlj0BCROAYNEYnzOmjKysowceJEmM1m6HQ67Nq1y2m/UgrLly+H2WxGt27dMGbMGHz55Ze3HLewsBAJCQnQ6/VISEhAUVGRt6URkZ/yOmiuXLmCxMRErFu3zuX+1157DW+88QbWrVuHTz75BEajEQ899BAuX77sdszy8nJMnToV06dPx2effYbp06djypQpOHr0qLflEZEf0imlfvTvbNXpdCgqKsJjjz0G4Ppsxmw2Y+HChXjxxRcBAHa7HVFRUVi9ejWef/55l+NMnToVNpsN//znPx3bHn74Ydxzzz3Ytm3bbdVis9lgMBgwBpN4H80t8D4a0kKLakYJdsNqtSI8PNxjW03P0dTU1MBisSA9Pd2xTa/XIy0tDYcPH3bbr7y83KkPAIwfP95jH7vdDpvN5rQQkX/SNGgsFgsAICoqyml7VFSUY5+7ft72ycnJgcFgcCzR0dr960pE2hK56qTT6ZzWlVLttnW0T3Z2NqxWq2Opq6v78QUTkShNn3UyGo0Ars9QTCaTY3tDQ0O7GcvN/W6evdyqj16vh16v72DFRNQZNJ3RxMbGwmg0ori42LGtqakJpaWlSE1NddsvJSXFqQ8A7N+/32MfIrpzeD2jaWxsxOnTpx3rNTU1qKqqQkREBGJiYrBw4UKsXLkS/fr1Q79+/bBy5UrcddddeOqppxx9ZsyYgZ49eyInJwcAsGDBAowePRqrV6/GpEmTsHv3bhw4cACHDmlzdYSIfMvroKmoqMDYsWMd61lZWQCAzMxMFBQUYMmSJfj3v/+NuXPn4vvvv8eIESOwf/9+hIWFOfrU1tYiIOA/k6nU1FRs374dr7zyCl599VXExcVhx44dGDFiREc+GxH5iQ7dR+NPeB/N7eN9NKQFn91HQ0TkSpd7w15XZY3V7q+qV8j/1WScosIxmowDAFHgjKYr44yGiMQxaIhIHIOGiMQxaIhIHIOGiMQxaIhIHIOGiMQxaIhIHIOGiMQxaIhIHIOGiMQxaIhIHIOGiMQxaIhIHIOGiMQxaIhIHIOGiMQxaIhIHF/leYdoDdFurC1LfqHJOD88dUWTcQAAa7UbivwPZzREJI5BQ0TiGDREJI5BQ0TiGDREJI5BQ0TiGDREJI5BQ0TiGDREJI5BQ0TiGDREJI5BQ0TiGDREJI5BQ0TivA6asrIyTJw4EWazGTqdDrt27XLsa25uxosvvojBgweje/fuMJvNmDFjBs6fP+9xzIKCAuh0unbL1atXvf5AROR/vA6aK1euIDExEevWrWu374cffsCxY8fw6quv4tixY9i5cye+/vpr/OIXt37/SXh4OOrr652W0NBQb8sjIj/k9YuvMjIykJGR4XKfwWBAcXGx07Y333wTw4cPR21tLWJiYtyOq9PpYDQavS2HiO4A4m/Ys1qt0Ol0uPvuuz22a2xsRO/evXHt2jU88MAD+MMf/oAhQ4a4bW+322G32x3rNptNq5L9kvm1w74uoZ3Y/63dWGdeS9FkHGN5qybjAMCluEBNxjGv8b+/u84mejL46tWrWLp0KZ566imEh4e7bde/f38UFBRgz5492LZtG0JDQ/Hggw+iurrabZ+cnBwYDAbHEh0dLfERiEgDYkHT3NyMadOmobW1FW+99ZbHtsnJyXj66aeRmJiIUaNG4b333sP999+PN998022f7OxsWK1Wx1JXV6f1RyAijYh8dWpubsaUKVNQU1ODDz/80ONsxpWAgAAMGzbM44xGr9dDr9d3tFQi6gSaz2jaQqa6uhoHDhxAjx49vB5DKYWqqiqYTCatyyMiH/B6RtPY2IjTp0871mtqalBVVYWIiAiYzWY88cQTOHbsGP7xj3/g2rVrsFgsAICIiAiEhFz/nSEzZsxAz549kZOTAwBYsWIFkpOT0a9fP9hsNqxduxZVVVVYv369Fp+RiHzM66CpqKjA2LFjHetZWVkAgMzMTCxfvhx79uwBADzwwANO/Q4ePIgxY8YAAGpraxEQ8J/J1KVLl/Dcc8/BYrHAYDBgyJAhKCsrw/Dhw70tj4j8kE4ppXxdhBZsNhsMBgPGYBKCdMG+Loe8xMvbd54W1YwS7IbVar3leVg+60RE4hg0RCSOQUNE4hg0RCSOQUNE4hg0RCSOQUNE4hg0RCSOQUNE4hg0RCSOQUNE4sRf5Ul0O8qm/VGTcdL7PafJOACQbD6ryTi1azQZ5o7GGQ0RiWPQEJE4Bg0RiWPQEJE4Bg0RiWPQEJE4Bg0RiWPQEJE4Bg0RiWPQEJE4Bg0RiWPQEJE4Bg0RiWPQEJE4Bg0RiWPQEJE4Bg0RieMb9sgvzIwZqck4ZpzQZBwAqNVonIBB/TUaCYh/57Qm48yM+LjDYzRebkXa4NtryxkNEYlj0BCROAYNEYlj0BCROAYNEYnzOmjKysowceJEmM1m6HQ67Nq1y2n/zJkzodPpnJbk5ORbjltYWIiEhATo9XokJCSgqKjI29KIyE95HTRXrlxBYmIi1q1b57bNww8/jPr6eseyb98+j2OWl5dj6tSpmD59Oj777DNMnz4dU6ZMwdGjR70tj4j8kNf30WRkZCAjI8NjG71eD6PReNtj5ubm4qGHHkJ2djYAIDs7G6WlpcjNzcW2bdu8LZGI/IzIOZqSkhJERkbi/vvvx7PPPouGhgaP7cvLy5Genu60bfz48Th8+LDbPna7HTabzWkhIv+kedBkZGTgr3/9Kz788EO8/vrr+OSTT/Czn/0MdrvdbR+LxYKoqCinbVFRUbBYLG775OTkwGAwOJbo6GjNPgMRaUvzRxCmTp3q+O9BgwZh6NCh6N27N/bu3YvHH3/cbT+dTue0rpRqt+1G2dnZyMrKcqzbbDaGDZGfEn/WyWQyoXfv3qiurnbbxmg0tpu9NDQ0tJvl3Eiv10Ov12tWJxHJEb+P5uLFi6irq4PJZHLbJiUlBcXFxU7b9u/fj9TUVOnyiKgTeD2jaWxsxOnT/3mCtKamBlVVVYiIiEBERASWL1+OyZMnw2Qy4ZtvvsFLL72Ee++9F7/85S8dfWbMmIGePXsiJycHALBgwQKMHj0aq1evxqRJk7B7924cOHAAhw4d0uAjEpGveR00FRUVGDt2rGO97TxJZmYmNmzYgOPHj2PLli24dOkSTCYTxo4dix07diAsLMzRp7a2FgEB/5lMpaamYvv27XjllVfw6quvIi4uDjt27MCIESM68tmIyE/olFLK10VowWazwWAwYAwmIUgX7OtyiBy69vtozsFqtSI8PNxjWz7rRETiGDREJI6v8iQS1hTZXbOxDq8dpsk4ewd0fJzWq1cBvHxbbTmjISJxDBoiEsegISJxDBoiEsegISJxDBoiEsegISJxDBoiEsegISJxDBoiEsegISJxDBoiEsegISJxDBoiEsegISJxDBoiEsegISJxfMMekbCaSdq9LL/bd+5/e6s3epY1d3iMluYWfHObbTmjISJxDBoiEsegISJxDBoiEsegISJxDBoiEsegISJxDBoiEsegISJxDBoiEsegISJxDBoiEsegISJxDBoiEud10JSVlWHixIkwm83Q6XTYtWuX036dTudy+eMf/+h2zIKCApd9rl696vUHIiL/43XQXLlyBYmJiVi3bp3L/fX19U7L5s2bodPpMHnyZI/jhoeHt+sbGhrqbXlE5Ie8fvFVRkYGMjIy3O43Go1O67t378bYsWPRt29fj+PqdLp2fYmoaxA9R/Pdd99h7969eOaZZ27ZtrGxEb1790avXr3w6KOPorKy0mN7u90Om83mtBCRfxJ9lec777yDsLAwPP744x7b9e/fHwUFBRg8eDBsNhv+/Oc/48EHH8Rnn32Gfv36ueyTk5ODFStWSJRNpKmoo9qNFb5dm8Fyz3zU4TEaL7ciedDttRWd0WzevBm//vWvb3muJTk5GU8//TQSExMxatQovPfee7j//vvx5ptvuu2TnZ0Nq9XqWOrq6rQun4g0Ijaj+eijj3Dq1Cns2LHD674BAQEYNmwYqqur3bbR6/XQ6/UdKZGIOonYjCYvLw9JSUlITEz0uq9SClVVVTCZTAKVEVFn83pG09jYiNOnTzvWa2pqUFVVhYiICMTExAAAbDYb3n//fbz++usux5gxYwZ69uyJnJwcAMCKFSuQnJyMfv36wWazYe3ataiqqsL69et/zGciIj/jddBUVFRg7NixjvWsrCwAQGZmJgoKCgAA27dvh1IKTz75pMsxamtrERDwn8nUpUuX8Nxzz8FiscBgMGDIkCEoKyvD8OHDvS2PiPyQTimlfF2EFmw2GwwGA8ZgEoJ02v3CLqKOsj2VrNlY4ds/0WQc7a46WWC1WhEeHu6xLZ91IiJxDBoiEsegISJxDBoiEsegISJxDBoiEsegISJxDBoiEsegISJxDBoiEsegISJxom/YIyIgxNaq2Vi1r47QZJwBIZ92eAxbyO1/Ls5oiEgcg4aIxDFoiEgcg4aIxDFoiEgcg4aIxDFoiEgcg4aIxDFoiEgcg4aIxDFoiEgcg4aIxDFoiEgcg4aIxDFoiEgcg4aIxDFoiEhcl3nDnlIKANCCZkD5uBiiG7Q0X9VsrGtXtflf1na542/9szVeH6Pt/z1PdOp2Wt0Bvv32W0RHR/u6DKL/OnV1dejVq5fHNl0maFpbW3H+/HmEhYVBp9O5bGOz2RAdHY26ujqEh4d3coU/HuvufHdq7Z1Zt1IKly9fhtlsRkCA57MwXearU0BAwC1TtU14ePgd9cPThnV3vju19s6q22Aw3FY7ngwmInEMGiIS918VNHq9HsuWLYNer/d1KV5h3Z3vTq3dX+vuMieDich//VfNaIjINxg0RCSOQUNE4hg0RCSuywXNW2+9hdjYWISGhiIpKQkfffSRx/alpaVISkpCaGgo+vbti40bN3ZSpdfl5ORg2LBhCAsLQ2RkJB577DGcOnXKY5+SkhLodLp2y1dffdVJVQPLly9v9+cbjUaPfXx9rNv06dPH5fGbN2+ey/a+Ot5lZWWYOHEizGYzdDoddu3a5bRfKYXly5fDbDajW7duGDNmDL788stbjltYWIiEhATo9XokJCSgqKhI6BM4F9tlbN++XQUHB6tNmzapEydOqAULFqju3burs2fPumx/5swZddddd6kFCxaoEydOqE2bNqng4GD197//vdNqHj9+vMrPz1dffPGFqqqqUo888oiKiYlRjY2NbvscPHhQAVCnTp1S9fX1jqWlpaXT6l62bJkaOHCg05/f0NDgtr0/HOs2DQ0NTnUXFxcrAOrgwYMu2/vqeO/bt0+9/PLLqrCwUAFQRUVFTvtXrVqlwsLCVGFhoTp+/LiaOnWqMplMymazuR3z8OHDKjAwUK1cuVKdPHlSrVy5UgUFBakjR46IfpYuFTTDhw9Xc+bMcdrWv39/tXTpUpftlyxZovr37++07fnnn1fJycliNd5KQ0ODAqBKS0vdtmn7wf/+++87r7CbLFu2TCUmJt52e3881m0WLFig4uLiVGtrq8v9/nC8bw6a1tZWZTQa1apVqxzbrl69qgwGg9q4caPbcaZMmaIefvhhp23jx49X06ZN07zmG3WZr05NTU349NNPkZ6e7rQ9PT0dhw8fdtmnvLy8Xfvx48ejoqICzc3NYrV6YrVaAQARERG3bDtkyBCYTCaMGzcOBw8elC6tnerqapjNZsTGxmLatGk4c+aM27b+eKyB6z83W7duxaxZs9w+jNvG18f7RjU1NbBYLE7HVK/XIy0tze3PO+D+78FTHy10maC5cOECrl27hqioKKftUVFRsFgsLvtYLBaX7VtaWnDhwgWxWt1RSiErKwsjR47EoEGD3LYzmUx4++23UVhYiJ07dyI+Ph7jxo1DWVlZp9U6YsQIbNmyBR988AE2bdoEi8WC1NRUXLx40WV7fzvWbXbt2oVLly5h5syZbtv4w/G+WdvPtDc/7239vO2jhS7z9Habm/9VUkp5/JfKVXtX2zvDCy+8gM8//xyHDh3y2C4+Ph7x8fGO9ZSUFNTV1WHNmjUYPXq0dJkAgIyMDMd/Dx48GCkpKYiLi8M777yDrKwsl3386Vi3ycvLQ0ZGBsxms9s2/nC83fH25/3H9umoLjOjuffeexEYGNgumRsaGtoleBuj0eiyfVBQEHr06CFWqyvz58/Hnj17cPDgwdt+3cWNkpOTUV1dLVDZ7enevTsGDx7stgZ/OtZtzp49iwMHDmD27Nle9/X18W67wufNz3tbP2/7aKHLBE1ISAiSkpJQXFzstL24uBipqaku+6SkpLRrv3//fgwdOhTBwcFitd5IKYUXXngBO3fuxIcffojY2NgfNU5lZSVMJpPG1d0+u92OkydPuq3BH471zfLz8xEZGYlHHnnE676+Pt6xsbEwGo1Ox7SpqQmlpaVuf94B938PnvpoQvRUcydru7ydl5enTpw4oRYuXKi6d++uvvnmG6WUUkuXLlXTp093tG+75Lpo0SJ14sQJlZeX1+mXXH/zm98og8GgSkpKnC6d/vDDD442N9f9pz/9SRUVFamvv/5affHFF2rp0qUKgCosLOy0un/3u9+pkpISdebMGXXkyBH16KOPqrCwML8+1je6du2aiomJUS+++GK7ff5yvC9fvqwqKytVZWWlAqDeeOMNVVlZ6bhdY9WqVcpgMKidO3eq48ePqyeffLLd5e3p06c7XXX9+OOPVWBgoFq1apU6efKkWrVqFS9v/xjr169XvXv3ViEhIeqnP/2p02XizMxMlZaW5tS+pKREDRkyRIWEhKg+ffqoDRs2dGq9uP4q9XZLfn6+27pXr16t4uLiVGhoqLrnnnvUyJEj1d69ezu17rZ7NoKDg5XZbFaPP/64+vLLL93WrJTvj/WNPvjgA8e9MTfzl+Pddln95iUzM1Mpdf0S97Jly5TRaFR6vV6NHj1aHT9+3GmMtLQ0R/s277//voqPj1fBwcGqf//+nfIPFF8TQUTiusw5GiLyXwwaIhLHoCEicQwaIhLHoCEicQwaIhLHoCEicQwaIhLHoCEicQwaIhLHoCEicQwaIhL3/wDreciCaq2qtAAAAABJRU5ErkJggg==",
>>>>>>> mat_times_vec
      "text/plain": [
       "<Figure size 640x480 with 1 Axes>"
      ]
     },
     "metadata": {},
     "output_type": "display_data"
    }
   ],
   "source": [
    "diffuse_dense = sparden_convert(sim_diff_mat, largest_block, n_blocks, n_bl = n_bl, n_eig = n_eig, edges=edges, xp = cp, zeroPad=False)\n",
    "plt.imshow(cp.asnumpy(diffuse_dense))\n",
    "plt.show()"
   ]
  },
  {
   "cell_type": "markdown",
   "metadata": {},
   "source": [
    "I'll finally assert once more that the manually calculated $C\\times d$ yields the same answer as the function at the start of the notebook."
   ]
  },
  {
   "cell_type": "code",
   "execution_count": 28,
   "metadata": {
    "ExecuteTime": {
     "end_time": "2025-03-08T01:06:43.117954Z",
     "start_time": "2025-03-08T01:06:43.107752Z"
    }
   },
   "outputs": [
    {
     "ename": "AssertionError",
     "evalue": "",
     "output_type": "error",
     "traceback": [
      "\u001b[0;31m---------------------------------------------------------------------------\u001b[0m",
      "\u001b[0;31mAssertionError\u001b[0m                            Traceback (most recent call last)",
      "Cell \u001b[0;32mIn[22], line 4\u001b[0m\n\u001b[1;32m      1\u001b[0m dense_cov \u001b[38;5;241m=\u001b[39m cp\u001b[38;5;241m.\u001b[39mdiag(sim_noise_mat) \u001b[38;5;241m+\u001b[39m diffuse_dense \u001b[38;5;241m@\u001b[39m diffuse_dense\u001b[38;5;241m.\u001b[39mT \u001b[38;5;241m+\u001b[39m sim_src_mat \u001b[38;5;241m@\u001b[39m sim_src_mat\u001b[38;5;241m.\u001b[39mT\n\u001b[1;32m      2\u001b[0m dense_cov_times_vec \u001b[38;5;241m=\u001b[39m dense_cov \u001b[38;5;241m@\u001b[39m sim_data_vec\n\u001b[0;32m----> 4\u001b[0m \u001b[38;5;28;01massert\u001b[39;00m np\u001b[38;5;241m.\u001b[39mallclose(dense_cov_times_vec, cov_times_vec)\n",
      "\u001b[0;31mAssertionError\u001b[0m: "
     ]
    }
   ],
   "source": [
    "dense_cov = cp.diag(sim_noise_mat) + diffuse_dense @ diffuse_dense.T + sim_src_mat @ sim_src_mat.T\n",
    "dense_cov_times_vec = dense_cov @ sim_data_vec\n",
    "dense_cov_times_vec = dense_cov_times_vec.reshape(len(dense_cov_times_vec), 1)\n",
    "\n",
    "assert np.allclose(dense_cov_times_vec, cov_times_vec)"
   ]
  }
 ],
 "metadata": {
  "kernelspec": {
   "display_name": "corrcal_dev",
   "language": "python",
   "name": "python3"
  },
  "language_info": {
   "codemirror_mode": {
    "name": "ipython",
    "version": 3
   },
   "file_extension": ".py",
   "mimetype": "text/x-python",
   "name": "python",
   "nbconvert_exporter": "python",
   "pygments_lexer": "ipython3",
   "version": "3.12.9"
  }
 },
 "nbformat": 4,
 "nbformat_minor": 2
}
