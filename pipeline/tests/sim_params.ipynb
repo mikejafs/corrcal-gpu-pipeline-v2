{
 "cells": [
  {
   "cell_type": "markdown",
   "id": "0f536e54",
   "metadata": {},
   "source": [
    "# Test for the simulating parameters class"
   ]
  },
  {
   "cell_type": "code",
   "execution_count": 1,
   "id": "d804b073",
   "metadata": {},
   "outputs": [],
   "source": [
    "import sys\n",
    "import os\n",
    "\n",
    "sys.path.insert(0, os.path.abspath('..'))"
   ]
  },
  {
   "cell_type": "code",
   "execution_count": 2,
   "id": "f5aaa288",
   "metadata": {},
   "outputs": [],
   "source": [
    "from simulate_params import *"
   ]
  },
  {
   "cell_type": "code",
   "execution_count": 33,
   "id": "b399d93c",
   "metadata": {},
   "outputs": [],
   "source": [
    "#  *simulate *param s* = .... \n",
    "sps = sim_corrcal_params(\n",
    "    n_ant=4,\n",
    "    n_eig=2,\n",
    "    n_src=3,\n",
    "    xp=cp\n",
    ")"
   ]
  },
  {
   "cell_type": "markdown",
   "id": "c69affb8",
   "metadata": {},
   "source": [
    "## Test Each Method"
   ]
  },
  {
   "cell_type": "markdown",
   "id": "8ff4959b",
   "metadata": {},
   "source": [
    "### ant arrays"
   ]
  },
  {
   "cell_type": "code",
   "execution_count": 28,
   "id": "aed8aa84",
   "metadata": {},
   "outputs": [
    {
     "name": "stdout",
     "output_type": "stream",
     "text": [
      "The antenna arrays used for calibration are:\n",
      "[1 2 2 3 3 3]\n",
      "[0 0 1 0 1 2]\n"
     ]
    }
   ],
   "source": [
    "ant_1_array, ant_2_array = sps.ant_arrays()\n",
    "print(f\"The antenna arrays used for calibration are:\")\n",
    "print(ant_1_array)\n",
    "print(ant_2_array)"
   ]
  },
  {
   "cell_type": "markdown",
   "id": "12b720e2",
   "metadata": {},
   "source": [
    "### Number of baselines"
   ]
  },
  {
   "cell_type": "code",
   "execution_count": 29,
   "id": "595da058",
   "metadata": {},
   "outputs": [
    {
     "name": "stdout",
     "output_type": "stream",
     "text": [
      "The number of baselines used for calibration is: 12\n"
     ]
    }
   ],
   "source": [
    "n_bl = sps.n_bl()\n",
    "print(f\"The number of baselines used for calibration is: {n_bl}\")"
   ]
  },
  {
   "cell_type": "markdown",
   "id": "b47a5061",
   "metadata": {},
   "source": [
    "### Edges"
   ]
  },
  {
   "cell_type": "code",
   "execution_count": 30,
   "id": "269ee70b",
   "metadata": {},
   "outputs": [
    {
     "name": "stdout",
     "output_type": "stream",
     "text": [
      "The edges array is: [ 0  2  6  8 12]\n"
     ]
    }
   ],
   "source": [
    "edges = sps.edges()\n",
    "print(f\"The edges array is: {edges}\")"
   ]
  },
  {
   "cell_type": "markdown",
   "id": "da02dd9a",
   "metadata": {},
   "source": [
    "### Simulated data"
   ]
  },
  {
   "cell_type": "code",
   "execution_count": 31,
   "id": "080bb37b",
   "metadata": {},
   "outputs": [],
   "source": [
    "sim_data = sps.sim_data()\n",
    "\n",
    "#unpack each vector and matrix\n",
    "noise_mat = sim_data[0]\n",
    "diff_mat = sim_data[1]\n",
    "src_mat = sim_data[2]\n",
    "gains = sim_data[3]\n",
    "data = sim_data[4]"
   ]
  },
  {
   "cell_type": "markdown",
   "id": "82865da2",
   "metadata": {},
   "source": [
    "Get a quick sense of the shapes and outputs of the unpacked items above"
   ]
  },
  {
   "cell_type": "code",
   "execution_count": 32,
   "id": "7551292d",
   "metadata": {},
   "outputs": [
    {
     "name": "stdout",
     "output_type": "stream",
     "text": [
      "The noise mat has shape (12,) and the \n",
      " diffuse mat has shape (12, 2)\n",
      "\n",
      " Printing the noise mat: \n",
      "\n",
      "[0.86206105 0.71374526 0.08306295 0.93755354 0.41377551 0.65938761\n",
      " 0.60174265 0.80415816 0.95834127 0.00945184 0.61560586 0.96177558]\n",
      "\n",
      " Printing the diffuse mat: \n",
      "\n",
      "[[0.14610459 0.58325691]\n",
      " [0.17710818 0.77095994]\n",
      " [0.49723866 0.77674454]\n",
      " [0.56065406 0.45729718]\n",
      " [0.76630503 0.15149247]\n",
      " [0.71937549 0.1676425 ]\n",
      " [0.71672873 0.52570775]\n",
      " [0.43385541 0.34269007]\n",
      " [0.55779468 0.02135844]\n",
      " [0.2981578  0.23777855]\n",
      " [0.13227176 0.69523917]\n",
      " [0.50561824 0.81204799]]\n"
     ]
    }
   ],
   "source": [
    "print(f\"The noise mat has shape {noise_mat.shape} and the \\n \"\n",
    "      f\"diffuse mat has shape {diff_mat.shape}\"\n",
    "      )\n",
    "\n",
    "print(\"\\n Printing the noise mat: \\n\")\n",
    "print(noise_mat)\n",
    "\n",
    "print(\"\\n Printing the diffuse mat: \\n\")\n",
    "print(diff_mat)\n"
   ]
  }
 ],
 "metadata": {
  "kernelspec": {
   "display_name": "corrcal_dev",
   "language": "python",
   "name": "python3"
  },
  "language_info": {
   "codemirror_mode": {
    "name": "ipython",
    "version": 3
   },
   "file_extension": ".py",
   "mimetype": "text/x-python",
   "name": "python",
   "nbconvert_exporter": "python",
   "pygments_lexer": "ipython3",
   "version": "3.12.9"
  }
 },
 "nbformat": 4,
 "nbformat_minor": 5
}
