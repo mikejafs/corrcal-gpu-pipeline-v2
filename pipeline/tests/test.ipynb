{
 "cells": [
  {
   "cell_type": "code",
   "execution_count": 1,
   "metadata": {},
   "outputs": [],
   "source": [
    "import cupy as cp\n",
    "import numpy as np\n",
    "from cupyx.profiler import benchmark"
   ]
  },
  {
   "cell_type": "code",
   "execution_count": 2,
   "metadata": {},
   "outputs": [],
   "source": [
    "arr = cp.arange(10)"
   ]
  },
  {
   "cell_type": "code",
   "execution_count": 2,
   "metadata": {},
   "outputs": [
    {
     "name": "stdout",
     "output_type": "stream",
     "text": [
      "(2, 1)\n",
      "(3, 2)\n",
      "(4, 3)\n",
      "(5, 4)\n",
      "(6, 5)\n",
      "(7, 6)\n",
      "(8, 7)\n",
      "(9, 8)\n"
     ]
    }
   ],
   "source": [
    "arr = np.arange(10)\n",
    "\n",
    "for (start, stop) in (zip(arr[2:], arr[1:])):\n",
    "    print((start, stop))"
   ]
  },
  {
   "cell_type": "code",
   "execution_count": 7,
   "metadata": {},
   "outputs": [
    {
     "name": "stdout",
     "output_type": "stream",
     "text": [
      "12040\n",
      "0\n"
     ]
    }
   ],
   "source": [
    "import cupy as cp\n",
    "print(cp.cuda.runtime.runtimeGetVersion())  # This shows the CUDA runtime version\n",
    "print(cp.cuda.runtime.driverGetVersion())   # This shows the CUDA driver version\n"
   ]
  },
  {
   "cell_type": "code",
   "execution_count": 8,
   "metadata": {},
   "outputs": [
    {
     "ename": "CUDARuntimeError",
     "evalue": "cudaErrorInsufficientDriver: CUDA driver version is insufficient for CUDA runtime version",
     "output_type": "error",
     "traceback": [
      "\u001b[0;31m---------------------------------------------------------------------------\u001b[0m",
      "\u001b[0;31mCUDARuntimeError\u001b[0m                          Traceback (most recent call last)",
      "Cell \u001b[0;32mIn[8], line 1\u001b[0m\n\u001b[0;32m----> 1\u001b[0m arr \u001b[38;5;241m=\u001b[39m \u001b[43mcp\u001b[49m\u001b[38;5;241;43m.\u001b[39;49m\u001b[43mrandom\u001b[49m\u001b[38;5;241;43m.\u001b[39;49m\u001b[43mrand\u001b[49m\u001b[43m(\u001b[49m\u001b[38;5;241;43m3\u001b[39;49m\u001b[43m,\u001b[49m\u001b[43m \u001b[49m\u001b[38;5;241;43m2\u001b[39;49m\u001b[43m,\u001b[49m\u001b[43m \u001b[49m\u001b[38;5;241;43m2\u001b[39;49m\u001b[43m)\u001b[49m\n\u001b[1;32m      2\u001b[0m \u001b[38;5;28mprint\u001b[39m(arr\u001b[38;5;241m.\u001b[39mshape)\n",
      "File \u001b[0;32m~/.local/lib/python3.10/site-packages/cupy/random/_sample.py:44\u001b[0m, in \u001b[0;36mrand\u001b[0;34m(*size, **kwarg)\u001b[0m\n\u001b[1;32m     41\u001b[0m \u001b[38;5;28;01mif\u001b[39;00m kwarg:\n\u001b[1;32m     42\u001b[0m     \u001b[38;5;28;01mraise\u001b[39;00m \u001b[38;5;167;01mTypeError\u001b[39;00m(\u001b[38;5;124m'\u001b[39m\u001b[38;5;124mrand() got unexpected keyword arguments \u001b[39m\u001b[38;5;132;01m%s\u001b[39;00m\u001b[38;5;124m'\u001b[39m\n\u001b[1;32m     43\u001b[0m                     \u001b[38;5;241m%\u001b[39m \u001b[38;5;124m'\u001b[39m\u001b[38;5;124m, \u001b[39m\u001b[38;5;124m'\u001b[39m\u001b[38;5;241m.\u001b[39mjoin(kwarg\u001b[38;5;241m.\u001b[39mkeys()))\n\u001b[0;32m---> 44\u001b[0m \u001b[38;5;28;01mreturn\u001b[39;00m \u001b[43mrandom_sample\u001b[49m\u001b[43m(\u001b[49m\u001b[43msize\u001b[49m\u001b[38;5;241;43m=\u001b[39;49m\u001b[43msize\u001b[49m\u001b[43m,\u001b[49m\u001b[43m \u001b[49m\u001b[43mdtype\u001b[49m\u001b[38;5;241;43m=\u001b[39;49m\u001b[43mdtype\u001b[49m\u001b[43m)\u001b[49m\n",
      "File \u001b[0;32m~/.local/lib/python3.10/site-packages/cupy/random/_sample.py:155\u001b[0m, in \u001b[0;36mrandom_sample\u001b[0;34m(size, dtype)\u001b[0m\n\u001b[1;32m    139\u001b[0m \u001b[38;5;28;01mdef\u001b[39;00m \u001b[38;5;21mrandom_sample\u001b[39m(size\u001b[38;5;241m=\u001b[39m\u001b[38;5;28;01mNone\u001b[39;00m, dtype\u001b[38;5;241m=\u001b[39m\u001b[38;5;28mfloat\u001b[39m):\n\u001b[1;32m    140\u001b[0m \u001b[38;5;250m    \u001b[39m\u001b[38;5;124;03m\"\"\"Returns an array of random values over the interval ``[0, 1)``.\u001b[39;00m\n\u001b[1;32m    141\u001b[0m \n\u001b[1;32m    142\u001b[0m \u001b[38;5;124;03m    This is a variant of :func:`cupy.random.rand`.\u001b[39;00m\n\u001b[0;32m   (...)\u001b[0m\n\u001b[1;32m    153\u001b[0m \n\u001b[1;32m    154\u001b[0m \u001b[38;5;124;03m    \"\"\"\u001b[39;00m\n\u001b[0;32m--> 155\u001b[0m     rs \u001b[38;5;241m=\u001b[39m \u001b[43m_generator\u001b[49m\u001b[38;5;241;43m.\u001b[39;49m\u001b[43mget_random_state\u001b[49m\u001b[43m(\u001b[49m\u001b[43m)\u001b[49m\n\u001b[1;32m    156\u001b[0m     \u001b[38;5;28;01mreturn\u001b[39;00m rs\u001b[38;5;241m.\u001b[39mrandom_sample(size\u001b[38;5;241m=\u001b[39msize, dtype\u001b[38;5;241m=\u001b[39mdtype)\n",
      "File \u001b[0;32m~/.local/lib/python3.10/site-packages/cupy/random/_generator.py:1300\u001b[0m, in \u001b[0;36mget_random_state\u001b[0;34m()\u001b[0m\n\u001b[1;32m   1288\u001b[0m \u001b[38;5;28;01mdef\u001b[39;00m \u001b[38;5;21mget_random_state\u001b[39m():\n\u001b[1;32m   1289\u001b[0m \u001b[38;5;250m    \u001b[39m\u001b[38;5;124;03m\"\"\"Gets the state of the random number generator for the current device.\u001b[39;00m\n\u001b[1;32m   1290\u001b[0m \n\u001b[1;32m   1291\u001b[0m \u001b[38;5;124;03m    If the state for the current device is not created yet, this function\u001b[39;00m\n\u001b[0;32m   (...)\u001b[0m\n\u001b[1;32m   1298\u001b[0m \n\u001b[1;32m   1299\u001b[0m \u001b[38;5;124;03m    \"\"\"\u001b[39;00m\n\u001b[0;32m-> 1300\u001b[0m     dev \u001b[38;5;241m=\u001b[39m \u001b[43mcuda\u001b[49m\u001b[38;5;241;43m.\u001b[39;49m\u001b[43mDevice\u001b[49m\u001b[43m(\u001b[49m\u001b[43m)\u001b[49m\n\u001b[1;32m   1301\u001b[0m     rs \u001b[38;5;241m=\u001b[39m _random_states\u001b[38;5;241m.\u001b[39mget(dev\u001b[38;5;241m.\u001b[39mid, \u001b[38;5;28;01mNone\u001b[39;00m)\n\u001b[1;32m   1302\u001b[0m     \u001b[38;5;28;01mif\u001b[39;00m rs \u001b[38;5;129;01mis\u001b[39;00m \u001b[38;5;28;01mNone\u001b[39;00m:\n",
      "File \u001b[0;32mcupy/cuda/device.pyx:148\u001b[0m, in \u001b[0;36mcupy.cuda.device.Device.__init__\u001b[0;34m()\u001b[0m\n",
      "File \u001b[0;32mcupy_backends/cuda/api/runtime.pyx:202\u001b[0m, in \u001b[0;36mcupy_backends.cuda.api.runtime.getDevice\u001b[0;34m()\u001b[0m\n",
      "File \u001b[0;32mcupy_backends/cuda/api/runtime.pyx:146\u001b[0m, in \u001b[0;36mcupy_backends.cuda.api.runtime.check_status\u001b[0;34m()\u001b[0m\n",
      "\u001b[0;31mCUDARuntimeError\u001b[0m: cudaErrorInsufficientDriver: CUDA driver version is insufficient for CUDA runtime version"
     ]
    }
   ],
   "source": [
    "arr = cp.random.rand(3, 2, 2)\n",
    "print(arr.shape)"
   ]
  },
  {
   "cell_type": "code",
   "execution_count": 16,
   "metadata": {},
   "outputs": [
    {
     "name": "stdout",
     "output_type": "stream",
     "text": [
      "[[0.02379579 0.15108471 0.77317719 0.68826071]\n",
      " [0.64246177 0.26207391 0.13598067 0.88615679]\n",
      " [0.21977118 0.77220318 0.72369275 0.78412778]]\n",
      "[0.02379579 0.26207391 0.72369275]\n"
     ]
    }
   ],
   "source": [
    "arr2 = cp.random.rand(3, 4)\n",
    "print(arr2)\n",
    "print(cp.diagonal(arr2, axis1=-2))"
   ]
  },
  {
   "cell_type": "code",
   "execution_count": 25,
   "metadata": {},
   "outputs": [
    {
     "name": "stdout",
     "output_type": "stream",
     "text": [
      "[[[0.6658514  0.30448025]\n",
      "  [0.23440571 0.57411087]]\n",
      "\n",
      " [[0.01336878 0.67031363]\n",
      "  [0.86601476 0.33006527]]\n",
      "\n",
      " [[0.55458585 0.49397364]\n",
      "  [0.50090923 0.75417174]]]\n",
      "[[0.6658514  0.57411087]\n",
      " [0.01336878 0.33006527]\n",
      " [0.55458585 0.75417174]]\n",
      "2.8921539096151307\n"
     ]
    }
   ],
   "source": [
    "print(arr)\n",
    "diags = cp.diagonal(arr, axis1=-2, axis2=-1)\n",
    "print(diags)\n",
    "print(cp.sum(diags))"
   ]
  },
  {
   "cell_type": "code",
   "execution_count": 31,
   "metadata": {},
   "outputs": [
    {
     "name": "stdout",
     "output_type": "stream",
     "text": [
      "[[[ 0  1]\n",
      "  [ 2  3]]\n",
      "\n",
      " [[ 4  5]\n",
      "  [ 6  7]]\n",
      "\n",
      " [[ 8  9]\n",
      "  [10 11]]]\n"
     ]
    }
   ],
   "source": [
    "import numpy as np\n",
    "\n",
    "tarr = np.arange(12)\n",
    "tarr = tarr.reshape(3, 2, 2)\n",
    "print(tarr)"
   ]
  },
  {
   "cell_type": "code",
   "execution_count": 40,
   "metadata": {},
   "outputs": [
    {
     "name": "stdout",
     "output_type": "stream",
     "text": [
      "33\n",
      "[[ 0  3]\n",
      " [ 4  7]\n",
      " [ 8 11]]\n"
     ]
    }
   ],
   "source": [
    "diags = np.diagonal(tarr, axis2 = 1, axis1 = 2)\n",
    "print(np.sum(diags))\n",
    "print(diags)"
   ]
  },
  {
   "cell_type": "code",
   "execution_count": 48,
   "metadata": {},
   "outputs": [
    {
     "name": "stdout",
     "output_type": "stream",
     "text": [
      "arr_fft             :    CPU:  1740.414 us   +/- 108.981 (min:  1528.282 / max:  2206.120) us     GPU-0:  1798.195 us   +/- 142.286 (min:  1550.336 / max:  2225.152) us\n"
     ]
    }
   ],
   "source": [
    "arr1 = cp.arange(1000000)\n",
    "arr2 = cp.arange(10000000)\n",
    "\n",
    "def arr_mult(a, b):\n",
    "    return cp.matmul(arr1, arr2)\n",
    "    cp.cuda.Stream.null.synchronize()\n",
    "    # return arr1 + arr2\n",
    "\n",
    "def arr_fft(a):\n",
    "    ans = cp.fft.fft(a)\n",
    "    cp.cuda.Stream.null.synchronize()\n",
    "    \n",
    "\n",
    "# result = benchmark(arr_mult, (arr1, arr2), n_repeat=1000)\n",
    "# print(result)\n",
    "\n",
    "result = benchmark(arr_fft, (arr1,), n_repeat=100)\n",
    "print(result)"
   ]
  },
  {
   "cell_type": "code",
   "execution_count": 39,
   "metadata": {},
   "outputs": [
    {
     "name": "stdout",
     "output_type": "stream",
     "text": [
      "Time for arr_mult: 0.033081769943237305 seconds\n",
      "Time for arr_fft: 0.08926677703857422 seconds\n"
     ]
    }
   ],
   "source": [
    "import cupy as cp\n",
    "import time\n",
    "\n",
    "arr1 = cp.arange(1000000)\n",
    "arr2 = cp.arange(1000000)\n",
    "\n",
    "def arr_mult(a, b):\n",
    "    return cp.matmul(a, b)\n",
    "\n",
    "def arr_fft(a):\n",
    "    return cp.fft.fft(a)\n",
    "\n",
    "# Warm-up runs\n",
    "arr_mult(arr1, arr2)\n",
    "arr_fft(arr1)\n",
    "cp.cuda.Stream.null.synchronize()\n",
    "\n",
    "# Benchmark arr_mult\n",
    "start = time.time()\n",
    "for _ in range(100):\n",
    "    arr_mult(arr1, arr2)\n",
    "cp.cuda.Stream.null.synchronize()\n",
    "end = time.time()\n",
    "print(f\"Time for arr_mult: {end - start} seconds\")\n",
    "\n",
    "# Benchmark arr_fft\n",
    "start = time.time()\n",
    "for _ in range(100):\n",
    "    arr_fft(arr1)\n",
    "cp.cuda.Stream.null.synchronize()\n",
    "end = time.time()\n",
    "print(f\"Time for arr_fft: {end - start} seconds\")\n"
   ]
  },
  {
   "cell_type": "code",
   "execution_count": null,
   "metadata": {},
   "outputs": [],
   "source": []
  }
 ],
 "metadata": {
  "kernelspec": {
   "display_name": "Python 3",
   "language": "python",
   "name": "python3"
  },
  "language_info": {
   "codemirror_mode": {
    "name": "ipython",
    "version": 3
   },
   "file_extension": ".py",
   "mimetype": "text/x-python",
   "name": "python",
   "nbconvert_exporter": "python",
   "pygments_lexer": "ipython3",
   "version": "3.10.12"
  }
 },
 "nbformat": 4,
 "nbformat_minor": 2
}
