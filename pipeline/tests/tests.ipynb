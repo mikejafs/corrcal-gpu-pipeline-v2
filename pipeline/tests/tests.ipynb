{
 "cells": [
  {
   "cell_type": "code",
   "execution_count": 4,
   "id": "fc930e66",
   "metadata": {},
   "outputs": [],
   "source": [
    "def fun(x,y):\n",
    "    z = x*y\n",
    "    # return z\n",
    "    w = x/y\n",
    "    return w"
   ]
  },
  {
   "cell_type": "code",
   "execution_count": 5,
   "id": "a81e3428",
   "metadata": {},
   "outputs": [
    {
     "data": {
      "text/plain": [
       "1.0"
      ]
     },
     "execution_count": 5,
     "metadata": {},
     "output_type": "execute_result"
    }
   ],
   "source": [
    "fun(3,3)"
   ]
  },
  {
   "cell_type": "code",
   "execution_count": 7,
   "id": "3ba83a76",
   "metadata": {},
   "outputs": [
    {
     "name": "stdout",
     "output_type": "stream",
     "text": [
      "float128\n",
      "True\n"
     ]
    }
   ],
   "source": [
    "import numpy as np\n",
    "a1 = np.arange(1_000_000, dtype=np.float128)\n",
    "a2 = np.arange(1_000_000, dtype=np.float128)\n",
    "print(a1.dtype)\n",
    "\n",
    "\n",
    "print(np.allclose(a1, a2))"
   ]
  }
 ],
 "metadata": {
  "kernelspec": {
   "display_name": "corrcal_dev",
   "language": "python",
   "name": "python3"
  },
  "language_info": {
   "codemirror_mode": {
    "name": "ipython",
    "version": 3
   },
   "file_extension": ".py",
   "mimetype": "text/x-python",
   "name": "python",
   "nbconvert_exporter": "python",
   "pygments_lexer": "ipython3",
   "version": "3.13.3"
  }
 },
 "nbformat": 4,
 "nbformat_minor": 5
}
