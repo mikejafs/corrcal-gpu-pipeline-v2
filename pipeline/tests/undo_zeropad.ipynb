{
 "cells": [
  {
   "cell_type": "markdown",
   "id": "a963fd88",
   "metadata": {},
   "source": [
    "# Testing routines to undo zeropadding"
   ]
  },
  {
   "cell_type": "code",
   "execution_count": 1,
   "id": "cd889ae5",
   "metadata": {},
   "outputs": [],
   "source": [
    "import sys\n",
    "from pathlib import Path\n",
    "parent_dir = Path.cwd().parent\n",
    "sys.path.insert(0, str(parent_dir))"
   ]
  },
  {
   "cell_type": "code",
   "execution_count": 2,
   "id": "initial_id",
   "metadata": {
    "ExecuteTime": {
     "end_time": "2025-03-02T04:49:42.781070Z",
     "start_time": "2025-03-02T04:49:42.775875Z"
    },
    "collapsed": true
   },
   "outputs": [
    {
     "name": "stdout",
     "output_type": "stream",
     "text": [
      "hera_cal is not installed. Some gridding features unavailable.\n",
      "pyfof is not installed. Some gridding features unavailable.\n"
     ]
    }
   ],
   "source": [
    "import numpy as np\n",
    "import cupy as cp\n",
    "import corrcal\n",
    "from zp_puregpu_funcs_py import *"
   ]
  },
  {
   "cell_type": "code",
   "execution_count": 3,
   "id": "9d68be519556d8b4",
   "metadata": {
    "ExecuteTime": {
     "end_time": "2025-03-02T04:49:51.731337Z",
     "start_time": "2025-03-02T04:49:51.723729Z"
    }
   },
   "outputs": [
    {
     "name": "stdout",
     "output_type": "stream",
     "text": [
      "\u001b[0;31mSignature:\u001b[0m \u001b[0mundo_zeroPad\u001b[0m\u001b[0;34m(\u001b[0m\u001b[0marray\u001b[0m\u001b[0;34m,\u001b[0m \u001b[0medges\u001b[0m\u001b[0;34m)\u001b[0m\u001b[0;34m\u001b[0m\u001b[0;34m\u001b[0m\u001b[0m\n",
      "\u001b[0;31mDocstring:\u001b[0m <no docstring>\n",
      "\u001b[0;31mFile:\u001b[0m      ~/corrcal_gpu_pipeline/pipeline/zp_puregpu_funcs_py.py\n",
      "\u001b[0;31mType:\u001b[0m      function"
     ]
    }
   ],
   "source": [
    "undo_zeroPad?"
   ]
  },
  {
   "cell_type": "markdown",
   "id": "f530b704",
   "metadata": {},
   "source": [
    "### Test undo-zeropadding in 1D (ie. the noise matrix) "
   ]
  },
  {
   "cell_type": "markdown",
   "id": "90e50d76",
   "metadata": {},
   "source": [
    "Very simple test array and edges example..."
   ]
  },
  {
   "cell_type": "code",
   "execution_count": 4,
   "id": "414e7803f5b1b343",
   "metadata": {
    "ExecuteTime": {
     "end_time": "2025-03-02T04:49:44.877340Z",
     "start_time": "2025-03-02T04:49:44.520085Z"
    }
   },
   "outputs": [
    {
     "name": "stdout",
     "output_type": "stream",
     "text": [
      "[0.45568807 0.2769425  0.54445498 0.094581   0.91127019 0.26501181\n",
      " 0.41316763 0.86983604 0.77602281 0.74437176 0.48180383 0.69959689\n",
      " 0.10811315 0.3628429  0.96817271 0.29996798 0.2823649  0.06114765\n",
      " 0.39595157 0.73995672]\n"
     ]
    }
   ],
   "source": [
    "edges = cp.array([0, 5, 10, 13, 20])\n",
    "test_arr = cp.random.rand(int(edges[-1]))\n",
    "print(test_arr)"
   ]
  },
  {
   "cell_type": "markdown",
   "id": "575f0984",
   "metadata": {},
   "source": [
    "Start by zeropadding and printing out the results"
   ]
  },
  {
   "cell_type": "code",
   "execution_count": 5,
   "id": "2337db3a20889512",
   "metadata": {
    "ExecuteTime": {
     "end_time": "2025-03-02T04:49:45.133136Z",
     "start_time": "2025-03-02T04:49:45.059016Z"
    }
   },
   "outputs": [
    {
     "name": "stdout",
     "output_type": "stream",
     "text": [
      "[0.45568807 0.2769425  0.54445498 0.094581   0.91127019 0.\n",
      " 0.         0.26501181 0.41316763 0.86983604 0.77602281 0.74437176\n",
      " 0.         0.         0.48180383 0.69959689 0.10811315 0.\n",
      " 0.         0.         0.         0.3628429  0.96817271 0.29996798\n",
      " 0.2823649  0.06114765 0.39595157 0.73995672]\n",
      "[[[0.45568807]\n",
      "  [0.2769425 ]\n",
      "  [0.54445498]\n",
      "  [0.094581  ]\n",
      "  [0.91127019]\n",
      "  [0.        ]\n",
      "  [0.        ]]\n",
      "\n",
      " [[0.26501181]\n",
      "  [0.41316763]\n",
      "  [0.86983604]\n",
      "  [0.77602281]\n",
      "  [0.74437176]\n",
      "  [0.        ]\n",
      "  [0.        ]]\n",
      "\n",
      " [[0.48180383]\n",
      "  [0.69959689]\n",
      "  [0.10811315]\n",
      "  [0.        ]\n",
      "  [0.        ]\n",
      "  [0.        ]\n",
      "  [0.        ]]\n",
      "\n",
      " [[0.3628429 ]\n",
      "  [0.96817271]\n",
      "  [0.29996798]\n",
      "  [0.2823649 ]\n",
      "  [0.06114765]\n",
      "  [0.39595157]\n",
      "  [0.73995672]]]\n"
     ]
    }
   ],
   "source": [
    "zp_test_arr, lb, nbs = zeroPad(test_arr, edges, return_inv=False)\n",
    "print(zp_test_arr)\n",
    "zp_test_arr_rs = zp_test_arr.reshape(nbs, lb, 1)\n",
    "print(zp_test_arr_rs)"
   ]
  },
  {
   "cell_type": "markdown",
   "id": "1e708a76",
   "metadata": {},
   "source": [
    "Now let's do the same for the undo_zeropad function and see if the matrices are the same as what we started with."
   ]
  },
  {
   "cell_type": "code",
   "execution_count": 6,
   "id": "e1c9fc967c3f3392",
   "metadata": {
    "ExecuteTime": {
     "end_time": "2025-03-02T04:51:26.734869Z",
     "start_time": "2025-03-02T04:51:26.716899Z"
    }
   },
   "outputs": [
    {
     "name": "stdout",
     "output_type": "stream",
     "text": [
      "1\n",
      "[0.45568807 0.2769425  0.54445498 0.094581   0.91127019 0.26501181\n",
      " 0.41316763 0.86983604 0.77602281 0.74437176 0.48180383 0.69959689\n",
      " 0.10811315 0.3628429  0.96817271 0.29996798 0.2823649  0.06114765\n",
      " 0.39595157 0.73995672]\n",
      "True\n"
     ]
    }
   ],
   "source": [
    "print(zp_test_arr_rs.shape[2])\n",
    "undo_zp = undo_zeroPad(zp_test_arr_rs, edges)\n",
    "print(undo_zp)\n",
    "print(np.allclose(test_arr, undo_zp))\n",
    "# assert((np.allclose(test_arr, undo_zp)))"
   ]
  },
  {
   "cell_type": "markdown",
   "id": "05281e2e",
   "metadata": {},
   "source": [
    "### Tests for undo zeropad with 2d matrices"
   ]
  },
  {
   "cell_type": "markdown",
   "id": "21f59404",
   "metadata": {},
   "source": [
    "Rinse-repeat for the 2d (ie. diffuse and source sky) case."
   ]
  },
  {
   "cell_type": "code",
   "execution_count": 16,
   "id": "a3909af9",
   "metadata": {},
   "outputs": [
    {
     "name": "stdout",
     "output_type": "stream",
     "text": [
      "[[0.39734525 0.92827381]\n",
      " [0.39862971 0.33229095]\n",
      " [0.02322109 0.57955064]\n",
      " [0.53173797 0.90777962]\n",
      " [0.77498156 0.04474777]\n",
      " [0.18037789 0.3577055 ]\n",
      " [0.95467493 0.0652618 ]\n",
      " [0.80297727 0.99002871]\n",
      " [0.93002892 0.14359595]\n",
      " [0.81240668 0.57511969]\n",
      " [0.97541933 0.59465268]\n",
      " [0.72618303 0.60669523]\n",
      " [0.33468049 0.15685786]\n",
      " [0.57992108 0.14179442]\n",
      " [0.57851981 0.53275192]\n",
      " [0.7940801  0.08235259]\n",
      " [0.56534169 0.57446941]\n",
      " [0.32007591 0.03185446]\n",
      " [0.94408233 0.04142484]\n",
      " [0.77478412 0.82436307]]\n"
     ]
    }
   ],
   "source": [
    "edges = cp.array([0, 5, 10, 13, 20])\n",
    "test_arr = cp.random.rand(int(edges[-1]), 2)\n",
    "print(test_arr)"
   ]
  },
  {
   "cell_type": "code",
   "execution_count": 17,
   "id": "e351c047",
   "metadata": {},
   "outputs": [
    {
     "name": "stdout",
     "output_type": "stream",
     "text": [
      "[[[0.39734525 0.92827381]\n",
      "  [0.39862971 0.33229095]\n",
      "  [0.02322109 0.57955064]\n",
      "  [0.53173797 0.90777962]\n",
      "  [0.77498156 0.04474777]\n",
      "  [0.         0.        ]\n",
      "  [0.         0.        ]]\n",
      "\n",
      " [[0.18037789 0.3577055 ]\n",
      "  [0.95467493 0.0652618 ]\n",
      "  [0.80297727 0.99002871]\n",
      "  [0.93002892 0.14359595]\n",
      "  [0.81240668 0.57511969]\n",
      "  [0.         0.        ]\n",
      "  [0.         0.        ]]\n",
      "\n",
      " [[0.97541933 0.59465268]\n",
      "  [0.72618303 0.60669523]\n",
      "  [0.33468049 0.15685786]\n",
      "  [0.         0.        ]\n",
      "  [0.         0.        ]\n",
      "  [0.         0.        ]\n",
      "  [0.         0.        ]]\n",
      "\n",
      " [[0.57992108 0.14179442]\n",
      "  [0.57851981 0.53275192]\n",
      "  [0.7940801  0.08235259]\n",
      "  [0.56534169 0.57446941]\n",
      "  [0.32007591 0.03185446]\n",
      "  [0.94408233 0.04142484]\n",
      "  [0.77478412 0.82436307]]]\n"
     ]
    }
   ],
   "source": [
    "zp_test_arr, lb, nbs = zeroPad(test_arr, edges, return_inv=False)\n",
    "# print(zp_test_arr)\n",
    "zp_test_arr_rs = zp_test_arr.reshape(nbs, lb, 2)\n",
    "print(zp_test_arr_rs)"
   ]
  },
  {
   "cell_type": "code",
   "execution_count": 19,
   "id": "eea6e1a2",
   "metadata": {},
   "outputs": [
    {
     "name": "stdout",
     "output_type": "stream",
     "text": [
      "(4, 7, 2)\n",
      "[[0.39734525 0.92827381]\n",
      " [0.39862971 0.33229095]\n",
      " [0.02322109 0.57955064]\n",
      " [0.53173797 0.90777962]\n",
      " [0.77498156 0.04474777]\n",
      " [0.18037789 0.3577055 ]\n",
      " [0.95467493 0.0652618 ]\n",
      " [0.80297727 0.99002871]\n",
      " [0.93002892 0.14359595]\n",
      " [0.81240668 0.57511969]\n",
      " [0.97541933 0.59465268]\n",
      " [0.72618303 0.60669523]\n",
      " [0.33468049 0.15685786]\n",
      " [0.57992108 0.14179442]\n",
      " [0.57851981 0.53275192]\n",
      " [0.7940801  0.08235259]\n",
      " [0.56534169 0.57446941]\n",
      " [0.32007591 0.03185446]\n",
      " [0.94408233 0.04142484]\n",
      " [0.77478412 0.82436307]]\n",
      "True\n"
     ]
    }
   ],
   "source": [
    "print(zp_test_arr_rs.shape)\n",
    "undo_zp_2d = undo_zeroPad(zp_test_arr_rs, edges)\n",
    "print(undo_zp_2d)\n",
    "# print(test_arr)\n",
    "print(np.allclose(undo_zp_2d, test_arr))"
   ]
  }
 ],
 "metadata": {
  "kernelspec": {
   "display_name": "corrcal_dev",
   "language": "python",
   "name": "python3"
  },
  "language_info": {
   "codemirror_mode": {
    "name": "ipython",
    "version": 3
   },
   "file_extension": ".py",
   "mimetype": "text/x-python",
   "name": "python",
   "nbconvert_exporter": "python",
   "pygments_lexer": "ipython3",
   "version": "3.12.9"
  }
 },
 "nbformat": 4,
 "nbformat_minor": 5
}
