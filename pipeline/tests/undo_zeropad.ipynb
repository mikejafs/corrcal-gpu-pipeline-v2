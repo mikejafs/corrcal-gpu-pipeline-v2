{
 "cells": [
  {
   "cell_type": "markdown",
   "id": "a963fd88",
   "metadata": {},
   "source": [
    "# Testing routines to undo zeropadding"
   ]
  },
  {
   "cell_type": "code",
   "id": "cd889ae5",
   "metadata": {
    "ExecuteTime": {
     "end_time": "2025-03-06T21:55:01.201399Z",
     "start_time": "2025-03-06T21:55:01.194441Z"
    }
   },
   "source": [
    "import sys\n",
    "from pathlib import Path\n",
    "parent_dir = Path.cwd().parent\n",
    "sys.path.insert(0, str(parent_dir))"
   ],
   "outputs": [],
   "execution_count": 1
  },
  {
   "cell_type": "code",
   "id": "initial_id",
   "metadata": {
    "collapsed": true,
    "ExecuteTime": {
     "end_time": "2025-03-06T21:55:04.993321Z",
     "start_time": "2025-03-06T21:55:02.068678Z"
    }
   },
   "source": [
    "import numpy as np\n",
    "import cupy as cp\n",
    "import corrcal\n",
    "from zp_puregpu_funcs_py import *"
   ],
   "outputs": [
    {
     "name": "stdout",
     "output_type": "stream",
     "text": [
      "hera_cal is not installed. Some gridding features unavailable.\n",
      "pyfof is not installed. Some gridding features unavailable.\n"
     ]
    }
   ],
   "execution_count": 2
  },
  {
   "cell_type": "code",
   "id": "9d68be519556d8b4",
   "metadata": {
    "ExecuteTime": {
     "end_time": "2025-03-06T21:55:05.033546Z",
     "start_time": "2025-03-06T21:55:05.027227Z"
    }
   },
   "source": "# undo_zeroPad?",
   "outputs": [],
   "execution_count": 3
  },
  {
   "cell_type": "markdown",
   "id": "f530b704",
   "metadata": {},
   "source": [
    "### Test undo-zeropadding in 1D (ie. the noise matrix) "
   ]
  },
  {
   "cell_type": "markdown",
   "id": "90e50d76",
   "metadata": {},
   "source": [
    "Very simple test array and edges example..."
   ]
  },
  {
   "cell_type": "code",
   "id": "414e7803f5b1b343",
   "metadata": {
    "ExecuteTime": {
     "end_time": "2025-03-06T21:55:06.952532Z",
     "start_time": "2025-03-06T21:55:06.435423Z"
    }
   },
   "source": [
    "edges = cp.array([0, 5, 10, 13, 20])\n",
    "test_arr = cp.random.rand(int(edges[-1]))\n",
    "print(test_arr)"
   ],
   "outputs": [
    {
     "name": "stdout",
     "output_type": "stream",
     "text": [
      "[0.04411245 0.36228259 0.64924228 0.36869379 0.10237472 0.08186196\n",
      " 0.50075827 0.10284657 0.99927225 0.21698521 0.78915022 0.16537118\n",
      " 0.92129361 0.0297659  0.53684975 0.0235271  0.00534362 0.31980375\n",
      " 0.02813703 0.41771776]\n"
     ]
    }
   ],
   "execution_count": 4
  },
  {
   "cell_type": "markdown",
   "id": "575f0984",
   "metadata": {},
   "source": [
    "Start by zeropadding and printing out the results"
   ]
  },
  {
   "cell_type": "code",
   "id": "2337db3a20889512",
   "metadata": {
    "ExecuteTime": {
     "end_time": "2025-03-06T21:55:08.204900Z",
     "start_time": "2025-03-06T21:55:08.119564Z"
    }
   },
   "source": [
    "zp_test_arr, lb, nbs = zeroPad(test_arr, edges, return_inv=False)\n",
    "print(zp_test_arr)\n",
    "# zp_test_arr_rs = zp_test_arr.reshape(nbs, lb, 1)\n",
    "# print(zp_test_arr_rs)"
   ],
   "outputs": [
    {
     "name": "stdout",
     "output_type": "stream",
     "text": [
      "[[[0.04411245]\n",
      "  [0.36228259]\n",
      "  [0.64924228]\n",
      "  [0.36869379]\n",
      "  [0.10237472]\n",
      "  [0.        ]\n",
      "  [0.        ]]\n",
      "\n",
      " [[0.08186196]\n",
      "  [0.50075827]\n",
      "  [0.10284657]\n",
      "  [0.99927225]\n",
      "  [0.21698521]\n",
      "  [0.        ]\n",
      "  [0.        ]]\n",
      "\n",
      " [[0.78915022]\n",
      "  [0.16537118]\n",
      "  [0.92129361]\n",
      "  [0.        ]\n",
      "  [0.        ]\n",
      "  [0.        ]\n",
      "  [0.        ]]\n",
      "\n",
      " [[0.0297659 ]\n",
      "  [0.53684975]\n",
      "  [0.0235271 ]\n",
      "  [0.00534362]\n",
      "  [0.31980375]\n",
      "  [0.02813703]\n",
      "  [0.41771776]]]\n"
     ]
    }
   ],
   "execution_count": 5
  },
  {
   "cell_type": "markdown",
   "id": "1e708a76",
   "metadata": {},
   "source": [
    "Now let's do the same for the undo_zeropad function and see if the matrices are the same as what we started with."
   ]
  },
  {
   "cell_type": "code",
   "id": "e1c9fc967c3f3392",
   "metadata": {
    "ExecuteTime": {
     "end_time": "2025-03-06T21:55:14.919825Z",
     "start_time": "2025-03-06T21:55:14.905196Z"
    }
   },
   "source": [
    "print(zp_test_arr.shape[2])\n",
    "undo_zp = undo_zeroPad(zp_test_arr, edges)\n",
    "print(undo_zp)\n",
    "print(np.allclose(test_arr, undo_zp))\n",
    "# assert((np.allclose(test_arr, undo_zp)))"
   ],
   "outputs": [
    {
     "name": "stdout",
     "output_type": "stream",
     "text": [
      "1\n",
      "[0.04411245 0.36228259 0.64924228 0.36869379 0.10237472 0.08186196\n",
      " 0.50075827 0.10284657 0.99927225 0.21698521 0.78915022 0.16537118\n",
      " 0.92129361 0.0297659  0.53684975 0.0235271  0.00534362 0.31980375\n",
      " 0.02813703 0.41771776]\n",
      "True\n"
     ]
    }
   ],
   "execution_count": 7
  },
  {
   "cell_type": "markdown",
   "id": "05281e2e",
   "metadata": {},
   "source": [
    "### Tests for undo zeropad with 2d matrices"
   ]
  },
  {
   "cell_type": "markdown",
   "id": "21f59404",
   "metadata": {},
   "source": [
    "Rinse-repeat for the 2d (ie. diffuse and source sky) case."
   ]
  },
  {
   "cell_type": "code",
   "id": "a3909af9",
   "metadata": {
    "ExecuteTime": {
     "end_time": "2025-03-06T21:55:18.474537Z",
     "start_time": "2025-03-06T21:55:18.462448Z"
    }
   },
   "source": [
    "edges = cp.array([0, 5, 10, 13, 20])\n",
    "test_arr = cp.random.rand(int(edges[-1]), 2)\n",
    "print(test_arr)"
   ],
   "outputs": [
    {
     "name": "stdout",
     "output_type": "stream",
     "text": [
      "[[0.27587439 0.26706896]\n",
      " [0.59914895 0.61915993]\n",
      " [0.04069359 0.32184427]\n",
      " [0.15778495 0.65465593]\n",
      " [0.22977843 0.03690285]\n",
      " [0.13364811 0.22877208]\n",
      " [0.19742524 0.88320555]\n",
      " [0.16439838 0.73647889]\n",
      " [0.01346697 0.54072241]\n",
      " [0.76327465 0.67114665]\n",
      " [0.82165825 0.50432529]\n",
      " [0.83585424 0.53257927]\n",
      " [0.23188378 0.83749432]\n",
      " [0.26323447 0.02914254]\n",
      " [0.83820057 0.15533584]\n",
      " [0.16850065 0.98351476]\n",
      " [0.71932287 0.00677419]\n",
      " [0.23084008 0.96297756]\n",
      " [0.21624478 0.51037871]\n",
      " [0.47664181 0.84621973]]\n"
     ]
    }
   ],
   "execution_count": 8
  },
  {
   "cell_type": "code",
   "id": "e351c047",
   "metadata": {
    "ExecuteTime": {
     "end_time": "2025-03-06T21:55:27.225757Z",
     "start_time": "2025-03-06T21:55:27.205792Z"
    }
   },
   "source": [
    "zp_test_arr, lb, nbs = zeroPad(test_arr, edges, return_inv=False)\n",
    "print(zp_test_arr)\n",
    "# zp_test_arr_rs = zp_test_arr.reshape(nbs, lb, 2)\n",
    "# print(zp_test_arr_rs)"
   ],
   "outputs": [
    {
     "name": "stdout",
     "output_type": "stream",
     "text": [
      "[[[0.27587439 0.26706896]\n",
      "  [0.59914895 0.61915993]\n",
      "  [0.04069359 0.32184427]\n",
      "  [0.15778495 0.65465593]\n",
      "  [0.22977843 0.03690285]\n",
      "  [0.         0.        ]\n",
      "  [0.         0.        ]]\n",
      "\n",
      " [[0.13364811 0.22877208]\n",
      "  [0.19742524 0.88320555]\n",
      "  [0.16439838 0.73647889]\n",
      "  [0.01346697 0.54072241]\n",
      "  [0.76327465 0.67114665]\n",
      "  [0.         0.        ]\n",
      "  [0.         0.        ]]\n",
      "\n",
      " [[0.82165825 0.50432529]\n",
      "  [0.83585424 0.53257927]\n",
      "  [0.23188378 0.83749432]\n",
      "  [0.         0.        ]\n",
      "  [0.         0.        ]\n",
      "  [0.         0.        ]\n",
      "  [0.         0.        ]]\n",
      "\n",
      " [[0.26323447 0.02914254]\n",
      "  [0.83820057 0.15533584]\n",
      "  [0.16850065 0.98351476]\n",
      "  [0.71932287 0.00677419]\n",
      "  [0.23084008 0.96297756]\n",
      "  [0.21624478 0.51037871]\n",
      "  [0.47664181 0.84621973]]]\n"
     ]
    }
   ],
   "execution_count": 9
  },
  {
   "cell_type": "code",
   "id": "eea6e1a2",
   "metadata": {
    "ExecuteTime": {
     "end_time": "2025-03-06T21:55:40.028073Z",
     "start_time": "2025-03-06T21:55:40.001692Z"
    }
   },
   "source": [
    "print(zp_test_arr.shape)\n",
    "undo_zp_2d = undo_zeroPad(zp_test_arr, edges)\n",
    "print(undo_zp_2d)\n",
    "# print(test_arr)\n",
    "print(np.allclose(undo_zp_2d, test_arr))"
   ],
   "outputs": [
    {
     "name": "stdout",
     "output_type": "stream",
     "text": [
      "(4, 7, 2)\n",
      "[[0.27587439 0.26706896]\n",
      " [0.59914895 0.61915993]\n",
      " [0.04069359 0.32184427]\n",
      " [0.15778495 0.65465593]\n",
      " [0.22977843 0.03690285]\n",
      " [0.13364811 0.22877208]\n",
      " [0.19742524 0.88320555]\n",
      " [0.16439838 0.73647889]\n",
      " [0.01346697 0.54072241]\n",
      " [0.76327465 0.67114665]\n",
      " [0.82165825 0.50432529]\n",
      " [0.83585424 0.53257927]\n",
      " [0.23188378 0.83749432]\n",
      " [0.26323447 0.02914254]\n",
      " [0.83820057 0.15533584]\n",
      " [0.16850065 0.98351476]\n",
      " [0.71932287 0.00677419]\n",
      " [0.23084008 0.96297756]\n",
      " [0.21624478 0.51037871]\n",
      " [0.47664181 0.84621973]]\n",
      "True\n"
     ]
    }
   ],
   "execution_count": 10
  }
 ],
 "metadata": {
  "kernelspec": {
   "display_name": "corrcal_dev",
   "language": "python",
   "name": "python3"
  },
  "language_info": {
   "codemirror_mode": {
    "name": "ipython",
    "version": 3
   },
   "file_extension": ".py",
   "mimetype": "text/x-python",
   "name": "python",
   "nbconvert_exporter": "python",
   "pygments_lexer": "ipython3",
   "version": "3.12.9"
  }
 },
 "nbformat": 4,
 "nbformat_minor": 5
}
