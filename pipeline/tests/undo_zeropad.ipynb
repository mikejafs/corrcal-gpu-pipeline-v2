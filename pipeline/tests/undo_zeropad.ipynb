{
 "cells": [
  {
   "cell_type": "markdown",
   "id": "a963fd88",
   "metadata": {},
   "source": [
    "# Testing routines to undo zeropadding"
   ]
  },
  {
   "cell_type": "code",
   "execution_count": 1,
   "id": "cd889ae5",
   "metadata": {
    "ExecuteTime": {
     "end_time": "2025-03-06T21:55:01.201399Z",
     "start_time": "2025-03-06T21:55:01.194441Z"
    }
   },
   "outputs": [],
   "source": [
    "import sys\n",
    "from pathlib import Path\n",
    "parent_dir = Path.cwd().parent\n",
    "sys.path.insert(0, str(parent_dir))"
   ]
  },
  {
   "cell_type": "code",
   "execution_count": 2,
   "id": "initial_id",
   "metadata": {
    "ExecuteTime": {
     "end_time": "2025-03-06T21:55:04.993321Z",
     "start_time": "2025-03-06T21:55:02.068678Z"
    },
    "collapsed": true
   },
   "outputs": [
    {
     "name": "stdout",
     "output_type": "stream",
     "text": [
      "hera_cal is not installed. Some gridding features unavailable.\n",
      "pyfof is not installed. Some gridding features unavailable.\n"
     ]
    }
   ],
   "source": [
    "import numpy as np\n",
    "import cupy as cp\n",
    "import corrcal\n",
    "from zp_puregpu_funcs_py import *"
   ]
  },
  {
   "cell_type": "code",
   "execution_count": 3,
   "id": "9d68be519556d8b4",
   "metadata": {
    "ExecuteTime": {
     "end_time": "2025-03-06T21:55:05.033546Z",
     "start_time": "2025-03-06T21:55:05.027227Z"
    }
   },
   "outputs": [],
   "source": [
    "# undo_zeroPad?"
   ]
  },
  {
   "cell_type": "markdown",
   "id": "f530b704",
   "metadata": {},
   "source": [
    "### Test undo-zeropadding in 1D (ie. the noise matrix) "
   ]
  },
  {
   "cell_type": "markdown",
   "id": "90e50d76",
   "metadata": {},
   "source": [
    "Very simple test array and edges example..."
   ]
  },
  {
   "cell_type": "code",
   "execution_count": 4,
   "id": "414e7803f5b1b343",
   "metadata": {
    "ExecuteTime": {
     "end_time": "2025-03-06T21:55:06.952532Z",
     "start_time": "2025-03-06T21:55:06.435423Z"
    }
   },
   "outputs": [
    {
     "name": "stdout",
     "output_type": "stream",
     "text": [
      "[0.31216953 0.95700615 0.28591977 0.05853091 0.28177927 0.93862132\n",
      " 0.1635097  0.45243419 0.49085678 0.07481701 0.73359287 0.03994731\n",
      " 0.36833208 0.57626928 0.09972421 0.46749162 0.28549418 0.66608369\n",
      " 0.22995831 0.88776615]\n"
     ]
    }
   ],
   "source": [
    "edges = cp.array([0, 5, 10, 13, 20])\n",
    "test_arr = cp.random.rand(int(edges[-1]))\n",
    "print(test_arr)"
   ]
  },
  {
   "cell_type": "markdown",
   "id": "575f0984",
   "metadata": {},
   "source": [
    "Start by zeropadding and printing out the results"
   ]
  },
  {
   "cell_type": "code",
   "execution_count": 16,
   "id": "2337db3a20889512",
   "metadata": {
    "ExecuteTime": {
     "end_time": "2025-03-06T21:55:08.204900Z",
     "start_time": "2025-03-06T21:55:08.119564Z"
    }
   },
   "outputs": [
    {
     "name": "stdout",
     "output_type": "stream",
     "text": [
      "[[0.31216953 0.95700615 0.28591977 0.05853091 0.28177927 0.\n",
      "  0.        ]\n",
      " [0.93862132 0.1635097  0.45243419 0.49085678 0.07481701 0.\n",
      "  0.        ]\n",
      " [0.73359287 0.03994731 0.36833208 0.         0.         0.\n",
      "  0.        ]\n",
      " [0.57626928 0.09972421 0.46749162 0.28549418 0.66608369 0.22995831\n",
      "  0.88776615]]\n"
     ]
    }
   ],
   "source": [
    "zp_test_arr, lb, nbs = zeroPad(test_arr, edges, return_inv=False)\n",
    "print(zp_test_arr)\n",
    "# zp_test_arr_rs = zp_test_arr.reshape(nbs, lb, 1)\n",
    "# print(zp_test_arr_rs)"
   ]
  },
  {
   "cell_type": "markdown",
   "id": "1e708a76",
   "metadata": {},
   "source": [
    "Now let's do the same for the undo_zeropad function and see if the matrices are the same as what we started with."
   ]
  },
  {
   "cell_type": "code",
   "execution_count": 17,
   "id": "e1c9fc967c3f3392",
   "metadata": {
    "ExecuteTime": {
     "end_time": "2025-03-06T21:55:14.919825Z",
     "start_time": "2025-03-06T21:55:14.905196Z"
    }
   },
   "outputs": [
    {
     "name": "stdout",
     "output_type": "stream",
     "text": [
      "2\n",
      "[0.31216953 0.95700615 0.28591977 0.05853091 0.28177927 0.93862132\n",
      " 0.1635097  0.45243419 0.49085678 0.07481701 0.73359287 0.03994731\n",
      " 0.36833208 0.57626928 0.09972421 0.46749162 0.28549418 0.66608369\n",
      " 0.22995831 0.88776615]\n",
      "True\n"
     ]
    }
   ],
   "source": [
    "print(zp_test_arr.ndim)\n",
    "undo_zp = undo_zeroPad(zp_test_arr, edges, ReImsplit=True)\n",
    "print(undo_zp)\n",
    "print(np.allclose(test_arr, undo_zp))\n",
    "# assert((np.allclose(test_arr, undo_zp)))"
   ]
  },
  {
   "cell_type": "markdown",
   "id": "05281e2e",
   "metadata": {},
   "source": [
    "### Tests for undo zeropad with 2d matrices"
   ]
  },
  {
   "cell_type": "markdown",
   "id": "21f59404",
   "metadata": {},
   "source": [
    "Rinse-repeat for the 2d (ie. diffuse and source sky) case."
   ]
  },
  {
   "cell_type": "code",
   "execution_count": 18,
   "id": "a3909af9",
   "metadata": {
    "ExecuteTime": {
     "end_time": "2025-03-06T21:55:18.474537Z",
     "start_time": "2025-03-06T21:55:18.462448Z"
    }
   },
   "outputs": [
    {
     "name": "stdout",
     "output_type": "stream",
     "text": [
      "[[0.51372689 0.98437428]\n",
      " [0.12355219 0.54773304]\n",
      " [0.26537302 0.38350291]\n",
      " [0.31746626 0.95822445]\n",
      " [0.08528488 0.43627221]\n",
      " [0.7539037  0.20894249]\n",
      " [0.72742653 0.87979218]\n",
      " [0.59376037 0.65342356]\n",
      " [0.63700411 0.39447519]\n",
      " [0.45412183 0.13905288]\n",
      " [0.22518833 0.04239845]\n",
      " [0.2922947  0.6733247 ]\n",
      " [0.02159667 0.09481259]\n",
      " [0.56348772 0.3652465 ]\n",
      " [0.58453463 0.92656202]\n",
      " [0.22541622 0.92586948]\n",
      " [0.4451919  0.1711913 ]\n",
      " [0.70837065 0.14547145]\n",
      " [0.53710524 0.29760421]\n",
      " [0.18516163 0.39602788]]\n"
     ]
    }
   ],
   "source": [
    "edges = cp.array([0, 5, 10, 13, 20])\n",
    "test_arr = cp.random.rand(int(edges[-1]), 2)\n",
    "print(test_arr)"
   ]
  },
  {
   "cell_type": "code",
   "execution_count": 21,
   "id": "e351c047",
   "metadata": {
    "ExecuteTime": {
     "end_time": "2025-03-06T21:55:27.225757Z",
     "start_time": "2025-03-06T21:55:27.205792Z"
    }
   },
   "outputs": [
    {
     "name": "stdout",
     "output_type": "stream",
     "text": [
      "[[[0.51372689 0.98437428]\n",
      "  [0.12355219 0.54773304]\n",
      "  [0.26537302 0.38350291]\n",
      "  [0.31746626 0.95822445]\n",
      "  [0.08528488 0.43627221]\n",
      "  [0.         0.        ]\n",
      "  [0.         0.        ]]\n",
      "\n",
      " [[0.7539037  0.20894249]\n",
      "  [0.72742653 0.87979218]\n",
      "  [0.59376037 0.65342356]\n",
      "  [0.63700411 0.39447519]\n",
      "  [0.45412183 0.13905288]\n",
      "  [0.         0.        ]\n",
      "  [0.         0.        ]]\n",
      "\n",
      " [[0.22518833 0.04239845]\n",
      "  [0.2922947  0.6733247 ]\n",
      "  [0.02159667 0.09481259]\n",
      "  [0.         0.        ]\n",
      "  [0.         0.        ]\n",
      "  [0.         0.        ]\n",
      "  [0.         0.        ]]\n",
      "\n",
      " [[0.56348772 0.3652465 ]\n",
      "  [0.58453463 0.92656202]\n",
      "  [0.22541622 0.92586948]\n",
      "  [0.4451919  0.1711913 ]\n",
      "  [0.70837065 0.14547145]\n",
      "  [0.53710524 0.29760421]\n",
      "  [0.18516163 0.39602788]]]\n"
     ]
    }
   ],
   "source": [
    "zp_test_arr, lb, nbs = zeroPad(test_arr, edges, return_inv=False)\n",
    "print(zp_test_arr)\n",
    "# zp_test_arr_rs = zp_test_arr.reshape(nbs, lb, 2)\n",
    "# print(zp_test_arr_rs)"
   ]
  },
  {
   "cell_type": "code",
   "execution_count": 23,
   "id": "eea6e1a2",
   "metadata": {
    "ExecuteTime": {
     "end_time": "2025-03-06T21:55:40.028073Z",
     "start_time": "2025-03-06T21:55:40.001692Z"
    }
   },
   "outputs": [
    {
     "name": "stdout",
     "output_type": "stream",
     "text": [
      "(4, 7, 2)\n",
      "[[0.51372689 0.98437428]\n",
      " [0.12355219 0.54773304]\n",
      " [0.26537302 0.38350291]\n",
      " [0.31746626 0.95822445]\n",
      " [0.08528488 0.43627221]\n",
      " [0.7539037  0.20894249]\n",
      " [0.72742653 0.87979218]\n",
      " [0.59376037 0.65342356]\n",
      " [0.63700411 0.39447519]\n",
      " [0.45412183 0.13905288]\n",
      " [0.22518833 0.04239845]\n",
      " [0.2922947  0.6733247 ]\n",
      " [0.02159667 0.09481259]\n",
      " [0.56348772 0.3652465 ]\n",
      " [0.58453463 0.92656202]\n",
      " [0.22541622 0.92586948]\n",
      " [0.4451919  0.1711913 ]\n",
      " [0.70837065 0.14547145]\n",
      " [0.53710524 0.29760421]\n",
      " [0.18516163 0.39602788]]\n",
      "True\n"
     ]
    }
   ],
   "source": [
    "print(zp_test_arr.shape)\n",
    "undo_zp_2d = undo_zeroPad(zp_test_arr, edges, ReImsplit=True)\n",
    "print(undo_zp_2d)\n",
    "# print(test_arr)\n",
    "print(np.allclose(undo_zp_2d, test_arr))"
   ]
  }
 ],
 "metadata": {
  "kernelspec": {
   "display_name": "corrcal_dev",
   "language": "python",
   "name": "python3"
  },
  "language_info": {
   "codemirror_mode": {
    "name": "ipython",
    "version": 3
   },
   "file_extension": ".py",
   "mimetype": "text/x-python",
   "name": "python",
   "nbconvert_exporter": "python",
   "pygments_lexer": "ipython3",
   "version": "3.12.9"
  }
 },
 "nbformat": 4,
 "nbformat_minor": 5
}
