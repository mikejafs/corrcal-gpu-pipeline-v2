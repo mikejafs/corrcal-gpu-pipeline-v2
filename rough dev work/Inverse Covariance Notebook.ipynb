{
 "cells": [
  {
   "cell_type": "markdown",
   "metadata": {},
   "source": [
    "# Sparse Inverse Covariance Routine with Validation tests"
   ]
  },
  {
   "cell_type": "markdown",
   "metadata": {},
   "source": [
    "In this notebook, the required functions to perform the inverse covariance calculation (included zero-padding functions so things can be performed exclusively with python) are laid out. Toward the end, we perform some simple validation tests to ensure things are being computed as expected and follow up by providing code to benchmark this python implimentation of the inverse covariance routine. "
   ]
  },
  {
   "cell_type": "code",
   "execution_count": 1,
   "metadata": {},
   "outputs": [
    {
     "name": "stdout",
     "output_type": "stream",
     "text": [
      "hera_cal is not installed. Some gridding features unavailable.\n",
      "pyfof is not installed. Some gridding features unavailable.\n"
     ]
    }
   ],
   "source": [
    "import numpy as np\n",
    "import cupy as cp\n",
    "import seaborn as sns\n",
    "import matplotlib.pyplot as plt\n",
    "import corrcal\n",
    "from cupyx.profiler import benchmark"
   ]
  },
  {
   "cell_type": "markdown",
   "metadata": {},
   "source": [
    "## Main Algorithm Work"
   ]
  },
  {
   "cell_type": "markdown",
   "metadata": {},
   "source": [
    "We need functions that will zero pad all of the input matrices since there are many instances in the computation where explicit block matrix mutliplication is performed. To complicate matters further, the diffuse matrix is block diagonal in its dense form, though we only plan to keep the sparse (non-zero) elements in memory. This makes performing matrix multiplication difficult especially since the blocks have differing numbers of rows, even though they all have the same number of columns. \n",
    "\n",
    "In order to still achieve this in a reasonably simple manor using python, we must first pad each of the arrays such that they are all composed of blocks of the same size, with size equal to the largest block in the diffuse matrix. In all blocks with fewer rows than the largest block, the entries of these blocks will consist of their usual entries, while the rest of the values will be zero."
   ]
  },
  {
   "cell_type": "code",
   "execution_count": 2,
   "metadata": {},
   "outputs": [],
   "source": [
    "\n",
    "def zeropad(array, edges, xp):\n",
    "    \"\"\"\n",
    "    Pads an input noise, diffuse, or source matrix with zeros according to\n",
    "    the largest redundant block in the diffuse matrix. Note that although the input arrays\n",
    "    will have a 1D or 2D shape for noise or diff/sourc matrices respectively, the routine converts \n",
    "    to either 2D or 3D shapes so we can easily perform block mutliplication in the inverse covariance\n",
    "    function.\n",
    "\n",
    "    Parameters\n",
    "    ----------\n",
    "    array: Input noise, diffuse, or source matrix. Should be of shape (n_bl,), (n_bl, n_eig), or (n_bl, n_src) respectively\n",
    "    edges: Array containing indices corresponding to the edges of redundant blocks in the diffuse matrix\n",
    "            Note that the \"edges\" index the beginning row (or \"edge\") of each redundant block\n",
    "    \n",
    "    Returns\n",
    "    -------\n",
    "    out: The output zero-padded noise, diffuse, or source matrix where each matrix has also been reshaped \n",
    "        to be easily used in the inverse covariance function that performs mutliplication over blocks. The \n",
    "        output matrices have shapes of either (n_blocks, largest_red_block), (n_blocks, largest_red_block, n_eig), \n",
    "        or (n_blocks, largest_red_block, n_src) respectively.\n",
    "    \"\"\"\n",
    "\n",
    "    largest_block = xp.diff(edges).max()\n",
    "    n_blocks = edges.size - 1\n",
    "\n",
    "    if array.ndim == 1:   #should only be the case for the noise matrix\n",
    "        out = xp.zeros((n_blocks, int(largest_block)))\n",
    "    else:\n",
    "        out  = xp.zeros((n_blocks, int(largest_block), int(array.shape[1])))\n",
    "\n",
    "    for block, (start, stop) in enumerate(zip(edges, edges[1:])):\n",
    "        start, stop = int(start), int(stop)\n",
    "        out[block, :stop - start] = array[start:stop]\n",
    "    \n",
    "    return out\n",
    "\n",
    "def undo_zeropad(array, edges, xp):\n",
    "    \"\"\"\n",
    "    Undoes (essentially does the exact opposite of) the work of the zeropad function.\n",
    "    \n",
    "    Parameters\n",
    "    ----------\n",
    "    array: Input noise, diffuse, or source matrix. Should be of shape (n_bl,), (n_bl, n_eig), or (n_bl, n_src) respectively\n",
    "    edges: Array containing indices corresponding to the edges of redundant blocks in the diffuse matrix.\n",
    "            Note that the \"edges\" index the beginning row (or \"edge\") of each redundant block\n",
    "\n",
    "    Returns\n",
    "    -------\n",
    "    out: A dense, unzero-padded array. If an array is given to the zeropad function, this routine will return that original array\n",
    "        provided the edges array is the same as the one used to pad the original array with zeros.\n",
    "    \"\"\"\n",
    "\n",
    "    if array.ndim == 2:   #once again only the case for the noise matrix\n",
    "        out = xp.zeros((int(edges[-1])))\n",
    "    else:\n",
    "        out = xp.zeros((int(edges[-1]), int(array.shape[2])))\n",
    "\n",
    "    for block, (start, stop) in enumerate(zip(edges, edges[1:])):\n",
    "        start, stop = int(start), int(stop)\n",
    "        out[start:stop] = array[block, :stop - start]\n",
    "\n",
    "    return out"
   ]
  },
  {
   "cell_type": "markdown",
   "metadata": {},
   "source": [
    "Below is the algorithm used to calculate the components that make up the inverse covariance in its sparse 2-level form.\n",
    "\n",
    "Recall, what we have is $N$, $\\Delta$, $\\Sigma$. What we want is $N^{-1}$, $\\Delta '$, $\\Sigma '$. And the key point is that we never want to keep the sparse form of the covariance $C$ in memory. To achieve this, one first needs to write down the inverse of $\\tilde{C}^{-1} = (N + \\Delta \\Delta^{\\dagger})^{-1} = N^{-1} - N^{-1} \\Delta (\\mathcal{I} + \\Delta^{\\dagger} N^{-1} \\Delta)^{-1} \\Delta^{\\dagger} N^{-1}$.\n",
    "\n",
    "$~$\n",
    "##### The first part of the code (calculation of $N^{-1}$ and $\\Delta$) is as follows:\n",
    "\n",
    "Step 1: Calculate a temp matrix, we define as $T \\equiv N^{-1} \\Delta$. This allows us to write the woodbury identity as,\n",
    "\n",
    "$$ N^{-1} - N^{-1} \\Delta (\\mathcal{I} + \\Delta^{\\dagger} N^{-1} \\Delta)^{-1} \\Delta^{\\dagger} N^{-1} = N^{-1} - T (\\mathcal{I} + \\Delta^{\\dagger} T)^{-1} T^{\\dagger} $$\n",
    "\n",
    "Step 2: Calculate Chol(--term in brackets--). Ie.\n",
    "\n",
    "$$\\text{Chol}(\\mathcal{I} + \\Delta^{\\dagger} T) = L_{\\Delta}L_{\\Delta}^{\\dagger}$$\n",
    "\n",
    "Step 3: Calculate the inverse of the lower trangular matrix. Ie. calculate $L_{\\Delta}^{-1}$. We can quickly calculate the Hermitian' conjugate and this allows us to write,\n",
    "\n",
    "$$N^{-1} - T (L_{\\Delta}^{-1})^{\\dagger}(L_{\\Delta}^{-1}) T^{\\dagger}$$\n",
    "\n",
    "Step 4: Calculate $\\Delta ' \\equiv  T (L_{\\Delta}^{-1})^{\\dagger}$\n",
    "\n",
    "Finally, return $\\Delta '$. We note that $\\Delta'^{\\dagger}$ is calculated straightforwardly at this point and does not contain any new information after we already have $\\Delta$\n",
    "\n",
    "$$~$$\n",
    "##### The second part (calculation of $\\Sigma$) is as follows:\n",
    "\n",
    "\n",
    "Finding $\\Sigma'$ is a little more involved, but follows the same framework as the steps above. We begin by expanding the full inverse covariance as follows:\n",
    "\n",
    "$$ C^{-1} = (\\tilde{C} + \\Sigma \\Sigma^{\\dagger})^{-1} = \\tilde{C}^{-1} - \\tilde{C}^{-1}\\Sigma(\\mathcal{I} + \\Sigma^{\\dagger}\\tilde{C}^{-1}\\Sigma)^{-1}\\Sigma^{\\dagger}\\tilde{C}^{-1} $$\n",
    "\n",
    "$$ = (N^{-1} - \\Delta' \\Delta'^{\\dagger}) - (N^{-1} - \\Delta' \\Delta'^{\\dagger})\\Sigma(\\mathcal{I} + \\Sigma^{\\dagger}(N^{-1} - \\Delta' \\Delta'^{\\dagger})\\Sigma)^{-1}\\Sigma^{\\dagger}(N^{-1} - \\Delta' \\Delta'^{\\dagger}) $$\n",
    "\n",
    "A couple observations are in order. We obviously don't need to re-calculate $N^{-1}$ and $\\Delta'$, since they're calculated above. However, we can see two combinations of matrices that make up nearly the entire line above. Namely, we will define,\n",
    "\n",
    "$$ A \\equiv N^{-1}\\Sigma ~~~~~~~~\\text{and}~~~~~~~~ B \\equiv \\Sigma^{\\dagger} \\Delta',$$\n",
    "\n",
    "so that the inverse covariance can be written as:\n",
    "\n",
    "$$ = (N^{-1} - \\Delta' \\Delta'^{\\dagger}) - (N^{-1}\\Sigma - \\Delta' \\Delta'^{\\dagger}\\Sigma)(\\mathcal{I} + \\Sigma^{\\dagger}N^{-1}\\Sigma - \\Sigma^{\\dagger}\\Delta' \\Delta'^{\\dagger}\\Sigma)^{-1}(\\Sigma^{\\dagger}N^{-1} - \\Sigma^{\\dagger}\\Delta' \\Delta'^{\\dagger}) $$\n",
    "\n",
    "$$ = (N^{-1} - \\Delta' \\Delta'^{\\dagger}) - (A - \\Delta' B^{\\dagger})(\\mathcal{I} + A^{\\dagger}\\Sigma - BB^{\\dagger})^{-1}(A^{\\dagger} - B \\Delta'^{\\dagger}) $$\n",
    "\n",
    "Further notice that with the additional definition $W \\equiv (A - \\Delta' B^{\\dagger})$, the inverse covariance can finally be written as:\n",
    "\n",
    "\n",
    "$$ = (N^{-1} - \\Delta' \\Delta'^{\\dagger}) - W(\\mathcal{I} + A^{\\dagger}\\Sigma - BB^{\\dagger})^{-1}W^{\\dagger}. $$\n",
    "\n",
    "Of course, the part we are really concerned with is the second term above if we want to calculate $\\Sigma$. Therefore, for the algorithm, our steps are now the following:\n",
    "\n",
    "Step 1: Calculate temp matrices A, B, W all defined above.\n",
    "\n",
    "Step 2: Calculate the Cholesky decomp of the inverse term in parenth's:\n",
    "\n",
    "$$ \\text{Chol}(\\mathcal{I} + A^{\\dagger}\\Sigma - BB^{\\dagger}) = L_{\\Sigma}L_{\\Sigma}^{\\dagger} $$\n",
    "\n",
    "This allows the term of interest to then be written as:\n",
    "\n",
    "$$ W(L_{\\Sigma}^{-1})^{\\dagger}(L_{\\Sigma}^{-1})W^{\\dagger} $$\n",
    "\n",
    "Step 3: Calculate $\\Sigma' = W(L_{\\Sigma}^{-1})^{\\dagger}$"
   ]
  },
  {
   "cell_type": "markdown",
   "metadata": {},
   "source": [
    "Below we provide a python implimentation of the algorithm just shown above, with the option to run the computatoin on the gpu using cupy or on purely on the cpu using numpy."
   ]
  },
  {
   "cell_type": "code",
   "execution_count": 3,
   "metadata": {},
   "outputs": [],
   "source": [
    "def inverse_covariance(N, Del, Sig, edges, xp):\n",
    "    \"\"\"\n",
    "    Given the components of the 2-level sparse covariance object, computes the components of the inverse covariance object. Currectly does not \n",
    "    support the option to return the determinant of the covariance.\n",
    "\n",
    "    TODO: Add option to return the determinant\n",
    "\n",
    "    Parameters\n",
    "    ----------\n",
    "    N: Noise \n",
    "    Del: \\Delta (diffuse) sky component matrix with shape n_bl x n_eig\n",
    "    Sig: \\Sigma Source component matrix with shape n_bl x n_src\n",
    "    edges: Array controlling the start and stop of the redundant blocks in the sparse diffuse matrix\n",
    "    xp: Choice of running on the gpu (xp = cp) or cpu (xp = np)\n",
    "\n",
    "    Returns\n",
    "    -------\n",
    "    N^-1: Inverse noise matrix\n",
    "    Del': The primed version of the diffuse sky matrix\n",
    "    Sig': The primed version of the source component matrix\n",
    "    \"\"\"\n",
    "    \n",
    "    Del = zeropad(Del, edges, xp = xp)\n",
    "    Sig = zeropad(Sig, edges, xp = xp)\n",
    "    N_inv = 1/N     \n",
    "    N_inv = zeropad(N_inv, edges, xp = xp)\n",
    "\n",
    "    temp = N_inv[..., None] * Del    \n",
    "    temp2 = xp.transpose(Del, [0, 2, 1]) @ temp\n",
    "    L_del = xp.linalg.cholesky(xp.eye(Del.shape[2])[None, ...] + temp2)   \n",
    "    Del_prime = temp @ xp.transpose(xp.linalg.inv(L_del).conj(), [0, 2, 1]) \n",
    "          \n",
    "    A = N_inv[..., None] * Sig\n",
    "    B = xp.transpose(Sig.conj(), [0, 2, 1]) @ Del_prime\n",
    "    W = A - Del_prime @ xp.transpose(B.conj(), [0, 2, 1])\n",
    "    L_sig = xp.linalg.cholesky(\n",
    "        xp.eye(Sig.shape[2]) + xp.sum(xp.transpose(A.conj(), [0, 2, 1]) @ Sig, axis = 0) - xp.sum(B @ xp.transpose(B.conj(), [0, 2, 1]), axis = 0)\n",
    "    )\n",
    "    Sig_prime = W @ xp.linalg.inv(L_sig).T.conj()[None, ...]\n",
    "\n",
    "    N_inv = undo_zeropad(N_inv, edges, xp = xp)\n",
    "    Del_prime = undo_zeropad(Del_prime, edges, xp = xp)\n",
    "    Sig_prime = undo_zeropad(Sig_prime, edges, xp = xp)   \n",
    "\n",
    "    return N_inv, Del_prime, Sig_prime"
   ]
  },
  {
   "cell_type": "markdown",
   "metadata": {},
   "source": [
    "### Simulation Considerations"
   ]
  },
  {
   "cell_type": "markdown",
   "metadata": {},
   "source": [
    "In order to properly simulate that we've calculated the right thing in running the code above, we will first need a method of recovering the dense form of the sparse diffuse matrix. This is important since the existing algorithm accepts and works with simply the sparse representation of the diffuse matrix. Additionally, the current corrcal tutorial provides us with just the sparse form of the diffuse matrix. It is helpful, however, to also be able to convert a dense diffuse matrix to its analogous sparse form using only an array of \"edges\", the number of baselines, and the number of eigenmodes used to construct the array. "
   ]
  },
  {
   "cell_type": "code",
   "execution_count": 4,
   "metadata": {},
   "outputs": [],
   "source": [
    "def sparse_to_dense(Array, n_bls, n_eig, edges, xp = cp):\n",
    "    \"\"\"\n",
    "    Converts a sparse diffuse matrix back to its original dense form\n",
    "\n",
    "    Parameters\n",
    "    ----------\n",
    "    Array: The sparse diffuse matrix\n",
    "    n_bls: Number of baselines used in the calculation of the sparse diffuse matrix\n",
    "    n_eig: Number of eigenmodes being used to construct the sparse diffuse matrix\n",
    "    edges: An array controlling the edges of the redundant group blocks in the sparse diffuse matrix\n",
    "    xp: The choice to either run the computation on the gpu (xp = cp) or cpu (xp = np)\n",
    "\n",
    "    Returns\n",
    "    -------\n",
    "    out: The dense version of the diffuse matrix. Note this matrix has shape (n_bls x n_eig*n_grps) where n_grps = # redundant groups\n",
    "    \"\"\"\n",
    "    \n",
    "    n_grp = edges.size - 1\n",
    "    out = xp.zeros((n_bls, n_eig*n_grp))\n",
    "    for i, (start, stop) in enumerate(zip(edges, edges[1:])):\n",
    "        out[start:stop, i*n_eig : (i+1)*n_eig] = Array[start:stop]\n",
    "        \n",
    "    return out\n",
    "\n",
    "def dense_to_sparse(Array, n_bls, n_eig, edges, xp = cp):\n",
    "    \"\"\"\n",
    "    Converts a dense diffuse matrix that is block diagonal to a sparse form by only storing the non-zero entries\n",
    "    \n",
    "    Parameters\n",
    "    ----------\n",
    "    Array: The dense diffuse matrix\n",
    "    n_bls: Number of baselines used in the calculation of the sparse diffuse matrix\n",
    "    n_eig: Number of eigenmodes being used to construct the sparse diffuse matrix\n",
    "    edges: An array controlling the edges of the redundant group blocks in the sparse diffuse matrix\n",
    "    xp: The choice to either run the computation on the gpu (xp = cp) or cpu (xp = np)\n",
    "    \n",
    "    Returns\n",
    "    -------\n",
    "    out: The sparse version of the diffuse matrix with redundant blocks along the rows. Overall shape will be (n_bls x n_eig)\n",
    "    \"\"\"\n",
    "\n",
    "    out = xp.zeros((n_bls, n_eig))\n",
    "    for i, (start, stop) in enumerate(zip(edges, edges[1:])):\n",
    "        out[start:stop] = Array[start:stop, i*n_eig : (i+1)*n_eig]\n",
    "\n",
    "    return out"
   ]
  },
  {
   "cell_type": "markdown",
   "metadata": {},
   "source": [
    "Being decidedly clever, we can simply combine the two routines into one and let the computer figure out which routine to use based on the shape of the input array."
   ]
  },
  {
   "cell_type": "code",
   "execution_count": 5,
   "metadata": {},
   "outputs": [],
   "source": [
    "def sparden_convert(Array, n_bl, n_eig, edges, xp = cp):\n",
    "    \"\"\"\n",
    "    Converts either the dense diffuse matrix to sparse, or the sparse diffuse matrix to dense. The array (either dense or sparse)\n",
    "    should be simply handed to the function and the desired operation (sparse-to-dense or dense-to-sparse) will be performed automatically\n",
    "\n",
    "    Parameters\n",
    "    ----------\n",
    "    Array: Either dense or sparse diffuse matrix\n",
    "    n_bls: Number of baselines used in the calculation of the sparse diffuse matrix\n",
    "    n_eig: Number of eigenmodes being used to construct the sparse diffuse matrix\n",
    "    edges: An array controlling the edges of the redundant group blocks in the sparse diffuse matrix\n",
    "    xp: The choice to either run the computation on the gpu (xp = cp) or cpu (xp = np)\n",
    "\n",
    "    Returns\n",
    "    -------\n",
    "    out: If the dense form was provided, the sparse form with shape (n_bls x n_eig) will be returned. If the sparse form was provided, the dense\n",
    "        form with shape (n_bls x n_eig*n_grps) with n_grps = # redundant groups will be returned.\n",
    "    \"\"\"\n",
    "    \n",
    "    if Array.shape[1] == n_eig:\n",
    "        n_grp = edges.size - 1\n",
    "        out = xp.zeros((n_bl, n_eig*n_grp))\n",
    "        for i, (start, stop) in enumerate(zip(edges, edges[1:])):\n",
    "            out[start:stop, i*n_eig : (i+1)*n_eig] = Array[start:stop]\n",
    "    else:\n",
    "        out = xp.zeros((n_bl, n_eig))\n",
    "        for i, (start, stop) in enumerate(zip(edges, edges[1:])):\n",
    "            out[start:stop] = Array[start:stop, i*n_eig : (i+1)*n_eig]\n",
    "\n",
    "    return out"
   ]
  },
  {
   "cell_type": "markdown",
   "metadata": {},
   "source": [
    "#### Possible TODO: \n",
    "Get this routine running below for running streamlined timing tests"
   ]
  },
  {
   "cell_type": "code",
   "execution_count": 6,
   "metadata": {},
   "outputs": [],
   "source": [
    "def benchmark_fun(f, *args, n_repeat, **kwargs):\n",
    "    test_results = str(benchmark(f, (args, kwargs), n_repeat=n_repeat))\n",
    "    test_results = test_results.split()\n",
    "    cpu_t, gpu_t = float(test_results[3]/1e6, float(test_results[14])/1e6)\n",
    "    return cpu_t, gpu_t"
   ]
  },
  {
   "cell_type": "markdown",
   "metadata": {},
   "source": [
    "## Validation Tests"
   ]
  },
  {
   "cell_type": "markdown",
   "metadata": {},
   "source": [
    "Let's perform some tests to ensure that the components we are calculating really do make up the inverse noise and the primed versions of the delta and sigma matrices. "
   ]
  },
  {
   "cell_type": "code",
   "execution_count": 7,
   "metadata": {},
   "outputs": [
    {
     "name": "stdout",
     "output_type": "stream",
     "text": [
      "The edges of the redundant blocks have indices[ 0  5 11 20 25 32 33 35 41 48 50]\n"
     ]
    }
   ],
   "source": [
    "#the main parametes describing our problem.\n",
    "n_bl = 50\n",
    "n_eig = 3\n",
    "n_src = 6\n",
    "xp = cp  #run things on the gpu using cupy\n",
    "\n",
    "#random array of edges for the diffuse matrix\n",
    "edges = xp.unique(xp.random.randint(1, n_bl-1, size = 10))\n",
    "edges = xp.concatenate((xp.array([0]), edges, xp.array([n_bl])))\n",
    "print(f\"The edges of the redundant blocks have indices{edges}\")\n",
    "\n",
    "#some random noise, diffuse, and source covariance matrices\n",
    "sim_noise_mat = xp.random.rand(n_bl, dtype = 'float64')**2   #in principle this is squared since is a variance\n",
    "sim_diff_mat = xp.random.rand(n_bl, n_eig, dtype = 'float64')\n",
    "sim_src_mat = xp.random.rand(n_bl, n_src, dtype = 'float64')\n",
    "\n",
    "#actually go and find inverse components\n",
    "N_inv, Del_p, Sig_p = inverse_covariance(sim_noise_mat, sim_diff_mat, sim_src_mat, edges=edges, xp = xp)"
   ]
  },
  {
   "cell_type": "markdown",
   "metadata": {},
   "source": [
    "At this point, we must recover the dense form of both $\\Delta$ and $\\Delta'$. Of course, we have two ways to do this. As purely a test of validation, we first test the use of the two separated routines."
   ]
  },
  {
   "cell_type": "code",
   "execution_count": 8,
   "metadata": {},
   "outputs": [],
   "source": [
    "sim_diff_mat_dense = sparse_to_dense(sim_diff_mat, n_bls=n_bl, n_eig=n_eig, edges=edges, xp = cp)\n",
    "Del_p_dense = sparse_to_dense(Del_p, n_bls=n_bl, n_eig=n_eig, edges=edges, xp=cp)"
   ]
  },
  {
   "cell_type": "markdown",
   "metadata": {},
   "source": [
    "Now convert back to dense:"
   ]
  },
  {
   "cell_type": "code",
   "execution_count": 9,
   "metadata": {},
   "outputs": [],
   "source": [
    "sim_diff_mat_v2 = dense_to_sparse(sim_diff_mat_dense, n_bls=n_bl, n_eig=n_eig, edges=edges, xp = cp)\n",
    "Del_p_v2 = dense_to_sparse(Del_p_dense, n_bls=n_bl, n_eig=n_eig, edges=edges, xp=cp)"
   ]
  },
  {
   "cell_type": "code",
   "execution_count": 10,
   "metadata": {},
   "outputs": [
    {
     "name": "stdout",
     "output_type": "stream",
     "text": [
      "The dense to sparse routine is able to recover the original sparse matrix\n"
     ]
    }
   ],
   "source": [
    "if np.all(sim_diff_mat == sim_diff_mat_v2) and np.all(Del_p_v2 == Del_p) == True:\n",
    "    print(\"The dense to sparse routine is able to recover the original sparse matrix\")\n",
    "else:\n",
    "    print(\"There is something wrong with the sparse-to-dense or dense-to-sparse routines\")"
   ]
  },
  {
   "cell_type": "markdown",
   "metadata": {},
   "source": [
    "That was really just a test of the two separated routines - first, sparse to dense, and second, dense to sparse. The results show that indeed these routines work as indended. The easier method is simply to use the general routine for converting sparse to dense and vice-versa, which I call sparden_convert."
   ]
  },
  {
   "cell_type": "code",
   "execution_count": 11,
   "metadata": {},
   "outputs": [],
   "source": [
    "sim_diff_mat_dense = sparden_convert(sim_diff_mat, n_bl=n_bl, n_eig=n_eig, edges=edges, xp = cp)\n",
    "Del_p_dense = sparden_convert(Del_p, n_bl=n_bl, n_eig=n_eig, edges=edges, xp = cp)"
   ]
  },
  {
   "cell_type": "code",
   "execution_count": 12,
   "metadata": {},
   "outputs": [],
   "source": [
    "#convert back to sparse for the check in the cell directly below\n",
    "sim_diff_mat_v2 = sparden_convert(sim_diff_mat_dense, n_bl=n_bl, n_eig=n_eig, edges=edges, xp=cp)"
   ]
  },
  {
   "cell_type": "code",
   "execution_count": 13,
   "metadata": {},
   "outputs": [
    {
     "name": "stdout",
     "output_type": "stream",
     "text": [
      "The dense to sparse routine is able to recover the original sparse matrix\n"
     ]
    }
   ],
   "source": [
    "if np.all(sim_diff_mat == sim_diff_mat_v2):\n",
    "    print(\"The dense to sparse routine is able to recover the original sparse matrix\")\n",
    "else:\n",
    "    print(\"There is something wrong with the sparse-to-dense or dense-to-sparse routines\")"
   ]
  },
  {
   "cell_type": "markdown",
   "metadata": {},
   "source": [
    "Now that we know the we can recover the dense diffuse matrix from its sparse form, it would be interesting to visualize its block diagonal form. Let's see this below."
   ]
  },
  {
   "cell_type": "code",
   "execution_count": 14,
   "metadata": {},
   "outputs": [
    {
     "data": {
      "image/png": "[encoded data removed]",
      "text/plain": [
       "<Figure size 400x400 with 2 Axes>"
      ]
     },
     "metadata": {},
     "output_type": "display_data"
    }
   ],
   "source": [
    "fig, ax = plt.subplots(figsize=(4, 4))\n",
    "im = ax.imshow(cp.asnumpy(Del_p_dense), cmap='coolwarm', aspect='auto')\n",
    "ax.set_title(\"Dense Diffuse Matrix Visualized\")\n",
    "ax.set_xlabel(\"$n_{eig}$*$n_{grps}$\", fontsize = 15)\n",
    "ax.set_ylabel(\"$n_{bls}$\", fontsize = 15)\n",
    "fig.colorbar(im)\n",
    "plt.show()\n",
    "\n",
    "#would like the center to be at 0, vmin and vmax only differ by a sign"
   ]
  },
  {
   "cell_type": "markdown",
   "metadata": {},
   "source": [
    "As for validating the correctness of our solutions given by our inverse covariance routine, this can be done in two ways. Recall the object we started with was a 2-level sparse covariance object of the form $C = N + \\Delta \\Delta^{\\dagger} + \\Sigma \\Sigma^{\\dagger}$ and we wanted to calculate $C^{-1} = N - \\Delta' \\Delta'^{\\dagger} - \\Sigma' \\Sigma'^{\\dagger}$. The simplest way to check that we calculated the inverse correctly is to compute $CC^{-1}$ and make sure the answer is the identity. Another check we can perform is to assemble the dense form of the covariance object using the simulated noise, diffuse, and source covariance matrices, calculate the inverse of it using numpy and then compare that to the result we get by assembling the inverse covariance object ourselves. We'll check both of these methods work in the cell below."
   ]
  },
  {
   "cell_type": "code",
   "execution_count": 15,
   "metadata": {},
   "outputs": [
    {
     "name": "stdout",
     "output_type": "stream",
     "text": [
      "C*C^{-1} returns the identity\n",
      "Brute force computation with numpy returns the same answer as our sparse 2-level inverse routine\n"
     ]
    }
   ],
   "source": [
    "#First we assemble te dense covariance object using the input matrices above\n",
    "C = xp.diag(sim_noise_mat) + sim_diff_mat_dense@sim_diff_mat_dense.T + sim_src_mat@sim_src_mat.T\n",
    "\n",
    "#Now we do the same with the inverse covariance components\n",
    "C_inv = xp.diag(N_inv) - Del_p_dense@Del_p_dense.T - Sig_p@Sig_p.T\n",
    "\n",
    "#now check their matrix product returns the identity\n",
    "if np.allclose(C@C_inv, np.eye(C.shape[0])) == True:\n",
    "    print(\"C*C^{-1} returns the identity\")\n",
    "\n",
    "#brute force computation of C^{-1} using numpy\n",
    "C_numpy_inv = cp.linalg.inv(C)\n",
    "\n",
    "#check the answer is the same as C = N + Del * Del^dag + Sig * Sig^dag \n",
    "if np.allclose(C_inv, C_numpy_inv) == True:\n",
    "    print(\"Brute force computation with numpy returns the same answer as our sparse 2-level inverse routine\")\n"
   ]
  },
  {
   "cell_type": "markdown",
   "metadata": {},
   "source": [
    "So it looks like both checks verify our solution found by manually computing $N$, $\\Delta'$, and $\\Sigma'$ and assembling $C^{-1}$ ourselves is the correct one. However, just for fun we can visualize the result of $CC^{-1}$ to be sure that what we're getting really is the identity."
   ]
  },
  {
   "cell_type": "code",
   "execution_count": 16,
   "metadata": {},
   "outputs": [
    {
     "data": {
      "image/png": "[encoded data removed]",
      "text/plain": [
       "<Figure size 500x500 with 2 Axes>"
      ]
     },
     "metadata": {},
     "output_type": "display_data"
    }
   ],
   "source": [
    "fig, ax = plt.subplots(figsize = (5,5))\n",
    "im = ax.imshow(cp.asnumpy(C@C_inv), cmap = 'coolwarm', aspect='auto')\n",
    "ax.set_title(\"Result of $CC^{-1}$\")\n",
    "ax.set_xlabel(\"$n_{bls}$\", fontsize = 15)\n",
    "ax.set_ylabel(\"$n_{bls}$\", fontsize = 15)\n",
    "fig.colorbar(im)\n",
    "plt.show()"
   ]
  },
  {
   "cell_type": "markdown",
   "metadata": {},
   "source": [
    "Since the entries along the main diagonal appear to be one, while all other entries appear to be zero, this plot seems to represent the identity. This further validates the correctness of our solutions!"
   ]
  },
  {
   "cell_type": "markdown",
   "metadata": {},
   "source": [
    "### Timing Tests"
   ]
  },
  {
   "cell_type": "markdown",
   "metadata": {},
   "source": [
    "We would finally like to benchmark the main routine in this notebook responsible for calculating the sparse inverse covariance objects. After all, the hope is that the cupy/python implimentation will still be faster than the existing C-backend version of corrcal. We begin by first defining, then retreiving the necessary parameters."
   ]
  },
  {
   "cell_type": "code",
   "execution_count": 38,
   "metadata": {},
   "outputs": [
    {
     "name": "stdout",
     "output_type": "stream",
     "text": [
      "The edges of the redundant blocks have indices[   0   25  169  203  444  469  492  731  752  863  901 1000]\n"
     ]
    }
   ],
   "source": [
    "#the main parametes describing our problem.\n",
    "n_bl = 1000\n",
    "n_eig = 3\n",
    "n_src = 6\n",
    "xp = cp  #run things on the gpu using cupy\n",
    "\n",
    "#random array of edges for the diffuse matrix\n",
    "edges = xp.unique(xp.random.randint(1, n_bl-1, size = 10))\n",
    "edges = xp.concatenate((xp.array([0]), edges, xp.array([n_bl])))\n",
    "print(f\"The edges of the redundant blocks have indices{edges}\")\n",
    "\n",
    "#some random noise, diffuse, and source covariance matrices\n",
    "sim_noise_mat = xp.random.rand(n_bl)**2   #in principle this is squared since is a variance\n",
    "sim_diff_mat = xp.random.rand(n_bl, n_eig)\n",
    "sim_src_mat = xp.random.rand(n_bl, n_src)\n",
    "\n",
    "#actually go and find inverse components\n",
    "N_inv, Del_p, Sig_p = inverse_covariance(sim_noise_mat, sim_diff_mat, sim_src_mat, edges=edges, xp = xp)"
   ]
  },
  {
   "cell_type": "markdown",
   "metadata": {},
   "source": [
    "Finally, we use the cupy benchmark routine to measure the time that is spent on both the cpu and the gpu during the computation (in this case the inverse_covariance function) of interest."
   ]
  },
  {
   "cell_type": "code",
   "execution_count": 39,
   "metadata": {},
   "outputs": [
    {
     "name": "stdout",
     "output_type": "stream",
     "text": [
      "Time on cpu: 0.028670s\n",
      "Time on gpu: 0.028722s\n"
     ]
    }
   ],
   "source": [
    "test_results = str(benchmark(inverse_covariance, (sim_noise_mat, sim_diff_mat, sim_src_mat, edges, xp), n_repeat=100))\n",
    "test_results = test_results.split()\n",
    "cpu_t = float(test_results[3])/1e6\n",
    "gpu_t = float(test_results[14])/1e6\n",
    "print(f\"Time on cpu: {cpu_t:.6f}s\")\n",
    "print(f\"Time on gpu: {gpu_t:.6f}s\")"
   ]
  },
  {
   "cell_type": "code",
   "execution_count": null,
   "metadata": {},
   "outputs": [],
   "source": []
  }
 ],
 "metadata": {
  "kernelspec": {
   "display_name": "Python 3",
   "language": "python",
   "name": "python3"
  },
  "language_info": {
   "codemirror_mode": {
    "name": "ipython",
    "version": 3
   },
   "file_extension": ".py",
   "mimetype": "text/x-python",
   "name": "python",
   "nbconvert_exporter": "python",
   "pygments_lexer": "ipython3",
   "version": "3.10.12"
  }
 },
 "nbformat": 4,
 "nbformat_minor": 2
}
