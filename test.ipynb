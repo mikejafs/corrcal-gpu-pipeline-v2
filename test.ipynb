{
 "cells": [
  {
   "cell_type": "code",
   "execution_count": 1,
   "id": "d6ce70f5",
   "metadata": {},
   "outputs": [
    {
     "name": "stdout",
     "output_type": "stream",
     "text": [
      "hera_cal is not installed. Some gridding features unavailable.\n",
      "pyfof is not installed. Some gridding features unavailable.\n"
     ]
    },
    {
     "ename": "ModuleNotFoundError",
     "evalue": "No module named 'hera_sim'",
     "output_type": "error",
     "traceback": [
      "\u001b[31m---------------------------------------------------------------------------\u001b[39m",
      "\u001b[31mModuleNotFoundError\u001b[39m                       Traceback (most recent call last)",
      "\u001b[36mCell\u001b[39m\u001b[36m \u001b[39m\u001b[32mIn[1]\u001b[39m\u001b[32m, line 10\u001b[39m\n\u001b[32m      7\u001b[39m \u001b[38;5;28;01mfrom\u001b[39;00m\u001b[38;5;250m \u001b[39m\u001b[34;01mscipy\u001b[39;00m\u001b[34;01m.\u001b[39;00m\u001b[34;01moptimize\u001b[39;00m\u001b[38;5;250m \u001b[39m\u001b[38;5;28;01mimport\u001b[39;00m minimize  \u001b[38;5;66;03m# For running calibration\u001b[39;00m\n\u001b[32m      9\u001b[39m \u001b[38;5;66;03m# Packages to help with covariance model building and simulation\u001b[39;00m\n\u001b[32m---> \u001b[39m\u001b[32m10\u001b[39m \u001b[38;5;28;01mimport\u001b[39;00m\u001b[38;5;250m \u001b[39m\u001b[34;01mhera_sim\u001b[39;00m\n\u001b[32m     11\u001b[39m \u001b[38;5;28;01mimport\u001b[39;00m\u001b[38;5;250m \u001b[39m\u001b[34;01mmatvis\u001b[39;00m  \u001b[38;5;66;03m# For coordinate transformations\u001b[39;00m\n",
      "\u001b[31mModuleNotFoundError\u001b[39m: No module named 'hera_sim'"
     ]
    }
   ],
   "source": [
    "\n",
    "# Packages required for calibration\n",
    "import numpy as np\n",
    "\n",
    "import scipy.integrate as _spi\n",
    "_spi.trapz = np.trapz\n",
    "import corrcal  # For performing the likelihood and gradient operations\n",
    "from scipy.optimize import minimize  # For running calibration\n",
    "\n",
    "# Packages to help with covariance model building and simulation\n",
    "import hera_sim\n",
    "import matvis  # For coordinate transformations\n"
   ]
  },
  {
   "cell_type": "code",
   "execution_count": null,
   "id": "5bf5d7c8",
   "metadata": {},
   "outputs": [],
   "source": []
  }
 ],
 "metadata": {
  "kernelspec": {
   "display_name": "corrcal_dev",
   "language": "python",
   "name": "python3"
  },
  "language_info": {
   "codemirror_mode": {
    "name": "ipython",
    "version": 3
   },
   "file_extension": ".py",
   "mimetype": "text/x-python",
   "name": "python",
   "nbconvert_exporter": "python",
   "pygments_lexer": "ipython3",
   "version": "3.12.2"
  }
 },
 "nbformat": 4,
 "nbformat_minor": 5
}
