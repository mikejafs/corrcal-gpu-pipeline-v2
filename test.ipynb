{
 "cells": [
  {
   "cell_type": "code",
   "execution_count": 1,
   "id": "8ea4cba8",
   "metadata": {},
   "outputs": [
    {
     "name": "stdout",
     "output_type": "stream",
     "text": [
      "hera_cal is not installed. Some gridding features unavailable.\n",
      "pyfof is not installed. Some gridding features unavailable.\n"
     ]
    }
   ],
   "source": [
    "import corrcal"
   ]
  },
  {
   "cell_type": "code",
   "execution_count": 2,
   "id": "d6ce70f5",
   "metadata": {},
   "outputs": [
    {
     "name": "stderr",
     "output_type": "stream",
     "text": [
      "/home/mike/anaconda3/envs/corrcal_dev/lib/python3.13/site-packages/pyuvdata/analytic_beam.py:111: UserWarning: basis_vector_type was not defined, defaulting to azimuth and zenith_angle.\n",
      "  warnings.warn(\n"
     ]
    }
   ],
   "source": [
    "\n",
    "# Packages required for calibration\n",
    "import numpy as np\n",
    "\n",
    "import scipy.integrate as _spi\n",
    "_spi.trapz = np.trapz\n",
    "import corrcal  # For performing the likelihood and gradient operations\n",
    "from scipy.optimize import minimize  # For running calibration\n",
    "\n",
    "# Packages to help with covariance model building and simulation\n",
    "import hera_sim\n",
    "import matvis  # For coordinate transformations\n"
   ]
  },
  {
   "cell_type": "code",
   "execution_count": 6,
   "id": "e5dbdefa",
   "metadata": {},
   "outputs": [],
   "source": [
    "from astropy import constants, units\n",
    "from astropy.coordinates import Latitude, Longitude, AltAz\n",
    "from astropy.coordinates import EarthLocation, SkyCoord\n",
    "from astropy_healpix import HEALPix  # For interpolating to the image plane\n",
    "from astropy.time import Time\n",
    "from numpy.fft import fft2, ifft2, fftshift, ifftshift\n",
    "from pyradiosky import SkyModel\n",
    "from pyuvdata import UVBeam  # If using a realistic beam model\n",
    "# from pyuvsim import AnalyticBeam  # If using an analytic beam model\n",
    "from pyuvdata.analytic_beam import AiryBeam"
   ]
  },
  {
   "cell_type": "code",
   "execution_count": 7,
   "id": "8ea0e5fd",
   "metadata": {},
   "outputs": [],
   "source": [
    "import healpy  # For various operations on the sphere\n",
    "import matplotlib.pyplot as plt\n",
    "from scipy.stats import binned_statistic_2d  # For visualization purposes\n",
    "# # %matplotlib inline"
   ]
  },
  {
   "cell_type": "code",
   "execution_count": 77,
   "id": "0e70ec0f",
   "metadata": {},
   "outputs": [
    {
     "name": "stdout",
     "output_type": "stream",
     "text": [
      "[0.9600173  0.69951205 0.99986729 0.2200673  0.36105635 0.73984099\n",
      " 0.99645573 0.31634698 0.13654458 0.38398001]\n"
     ]
    }
   ],
   "source": [
    "import numpy as np\n",
    "\n",
    "np.random.seed(24)\n",
    "print(np.random.rand(10))"
   ]
  },
  {
   "cell_type": "code",
   "execution_count": 51,
   "id": "a4a37b00",
   "metadata": {},
   "outputs": [
    {
     "name": "stdout",
     "output_type": "stream",
     "text": [
      "[[0, 0], [0, 1], [1, 0], [1, 1], [2, 0], [2, 1]]\n"
     ]
    }
   ],
   "source": [
    "result = []\n",
    "for i in range(3):\n",
    "    for j in range(2):\n",
    "        result.append([i, j])\n",
    "print(result)"
   ]
  },
  {
   "cell_type": "code",
   "execution_count": 69,
   "id": "bd678ba4",
   "metadata": {},
   "outputs": [
    {
     "name": "stdout",
     "output_type": "stream",
     "text": [
      "[False]\n",
      "[True, False, False]\n"
     ]
    }
   ],
   "source": [
    "ta = [[True, True], [False], [True, False, False]]\n",
    "for list in ta:\n",
    "    flag = True\n",
    "    for bool in list:\n",
    "        if not bool:\n",
    "            if flag:\n",
    "                print(list)\n",
    "            flag = False    "
   ]
  },
  {
   "cell_type": "code",
   "execution_count": 3,
   "id": "8feb33af",
   "metadata": {},
   "outputs": [],
   "source": [
    "import torch\n",
    "import numpy as np\n",
    "import cupy as cp"
   ]
  },
  {
   "cell_type": "code",
   "execution_count": 8,
   "id": "28591ea3",
   "metadata": {},
   "outputs": [
    {
     "name": "stdout",
     "output_type": "stream",
     "text": [
      "[0 1 2 3 4 5 6 7 8 9]\n",
      "[0 1 2 3 4 5 6 7 8 9]\n"
     ]
    }
   ],
   "source": [
    "arr = np.arange(10)\n",
    "print(arr)\n",
    "arr = cp.array(arr)\n",
    "print(arr)"
   ]
  },
  {
   "cell_type": "code",
   "execution_count": 14,
   "id": "cb2c7664",
   "metadata": {},
   "outputs": [
    {
     "name": "stdout",
     "output_type": "stream",
     "text": [
      "1024\n"
     ]
    }
   ],
   "source": [
    "print(2**10)"
   ]
  },
  {
   "cell_type": "code",
   "execution_count": 32,
   "id": "ef3ed916",
   "metadata": {},
   "outputs": [
    {
     "name": "stdout",
     "output_type": "stream",
     "text": [
      "262144\n"
     ]
    }
   ],
   "source": [
    "print(512**2)"
   ]
  },
  {
   "cell_type": "code",
   "execution_count": 42,
   "id": "be1c0826",
   "metadata": {},
   "outputs": [
    {
     "name": "stdout",
     "output_type": "stream",
     "text": [
      "549755813888\n",
      "0.549755813888\n"
     ]
    }
   ],
   "source": [
    "# n_bits = 128*512*512*512\n",
    "n_bytes = 8*512**4\n",
    "print(n_bytes)\n",
    "print(n_bytes/1e12)"
   ]
  },
  {
   "cell_type": "code",
   "execution_count": 27,
   "id": "4ff8878d",
   "metadata": {},
   "outputs": [
    {
     "name": "stdout",
     "output_type": "stream",
     "text": [
      "16.0\n"
     ]
    }
   ],
   "source": [
    "print(128/8)"
   ]
  }
 ],
 "metadata": {
  "kernelspec": {
   "display_name": "corrcal_dev",
   "language": "python",
   "name": "python3"
  },
  "language_info": {
   "codemirror_mode": {
    "name": "ipython",
    "version": 3
   },
   "file_extension": ".py",
   "mimetype": "text/x-python",
   "name": "python",
   "nbconvert_exporter": "python",
   "pygments_lexer": "ipython3",
   "version": "3.13.3"
  }
 },
 "nbformat": 4,
 "nbformat_minor": 5
}
