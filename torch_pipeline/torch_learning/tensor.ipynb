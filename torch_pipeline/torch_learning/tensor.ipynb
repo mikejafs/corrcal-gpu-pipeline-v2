{
 "cells": [
  {
   "cell_type": "code",
   "execution_count": 1,
   "id": "380b0c32",
   "metadata": {},
   "outputs": [],
   "source": [
    "import torch as tt"
   ]
  },
  {
   "cell_type": "code",
   "execution_count": 37,
   "id": "370cee39",
   "metadata": {},
   "outputs": [
    {
     "name": "stdout",
     "output_type": "stream",
     "text": [
      "tensor(24849.2848, device='cuda:0', dtype=torch.float64)\n"
     ]
    }
   ],
   "source": [
    "arr = tt.rand(100000, dtype=tt.float64, device='cuda')\n",
    "arr2 = tt.rand(100000, dtype=tt.float64, device='cuda')\n",
    "print(arr@arr2.T)"
   ]
  },
  {
   "cell_type": "code",
   "execution_count": null,
   "id": "2a278ad8",
   "metadata": {},
   "outputs": [],
   "source": []
  }
 ],
 "metadata": {
  "kernelspec": {
   "display_name": "corrcal_dev",
   "language": "python",
   "name": "python3"
  },
  "language_info": {
   "codemirror_mode": {
    "name": "ipython",
    "version": 3
   },
   "file_extension": ".py",
   "mimetype": "text/x-python",
   "name": "python",
   "nbconvert_exporter": "python",
   "pygments_lexer": "ipython3",
   "version": "3.13.3"
  }
 },
 "nbformat": 4,
 "nbformat_minor": 5
}
