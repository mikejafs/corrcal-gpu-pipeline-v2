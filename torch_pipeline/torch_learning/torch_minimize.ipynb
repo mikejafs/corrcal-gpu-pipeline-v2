{
 "cells": [
  {
   "cell_type": "code",
   "execution_count": 1,
   "id": "c27d7b57",
   "metadata": {},
   "outputs": [
    {
     "name": "stdout",
     "output_type": "stream",
     "text": [
      "tensor([[ 0.,  1.,  2.,  3.],\n",
      "        [ 4.,  5.,  6.,  7.],\n",
      "        [ 8.,  9., 10., 11.]], device='cuda:0')\n"
     ]
    }
   ],
   "source": [
    "import cupy as cp\n",
    "import torch\n",
    "\n",
    "# 1. Make a CuPy array on the GPU\n",
    "cp_arr = cp.arange(12, dtype=cp.float32).reshape(3,4)\n",
    "\n",
    "# 2. Export it to a DLPack “capsule”\n",
    "dlpack_capsule = cp_arr.toDlpack()\n",
    "\n",
    "# 3. Import that capsule into PyTorch\n",
    "#    torch.from_dlpack is an alias for torch.utils.dlpack.from_dlpack\n",
    "torch_tensor = torch.from_dlpack(dlpack_capsule)\n",
    "\n",
    "print(torch_tensor)\n",
    "# tensor([[ 0.,  1.,  2.,  3.],\n",
    "#         [ 4.,  5.,  6.,  7.],\n",
    "#         [ 8.,  9., 10., 11.]], device='cuda:0')\n"
   ]
  },
  {
   "cell_type": "code",
   "execution_count": 2,
   "id": "6ba558d2",
   "metadata": {},
   "outputs": [],
   "source": [
    "# torch_tensor is a CUDA tensor\n",
    "cap_back = torch.utils.dlpack.to_dlpack(torch_tensor)\n",
    "cp_again = cp.from_dlpack(cap_back)\n"
   ]
  },
  {
   "cell_type": "code",
   "execution_count": 3,
   "id": "13ea9d47",
   "metadata": {},
   "outputs": [
    {
     "name": "stdout",
     "output_type": "stream",
     "text": [
      "tensor([-1.4794e-01,  2.1893e-01,  2.8232e-01,  2.2854e+00,  1.0350e+00,\n",
      "         4.6454e-01, -4.6705e-01, -5.4989e-01,  6.5477e-04,  4.1714e-01])\n"
     ]
    }
   ],
   "source": [
    "tarr = torch.randn(10)\n",
    "print(tarr)"
   ]
  },
  {
   "cell_type": "code",
   "execution_count": 4,
   "id": "1aa44381",
   "metadata": {},
   "outputs": [
    {
     "name": "stdout",
     "output_type": "stream",
     "text": [
      "tensor([-3.4027e-01,  5.0355e-01,  6.4934e-01,  5.2564e+00,  2.3804e+00,\n",
      "         1.0685e+00, -1.0742e+00, -1.2647e+00,  1.5060e-03,  9.5942e-01])\n"
     ]
    }
   ],
   "source": [
    "print(tarr*2.3)"
   ]
  },
  {
   "cell_type": "code",
   "execution_count": 5,
   "id": "6c4feb7b",
   "metadata": {},
   "outputs": [
    {
     "name": "stdout",
     "output_type": "stream",
     "text": [
      "3 4 1\n"
     ]
    }
   ],
   "source": [
    "from functools import partial\n",
    "\n",
    "def test_fun(x, y, z):\n",
    "    print(x, y, z)\n",
    "\n",
    "par_fun = partial(test_fun, 3, 4)\n",
    "\n",
    "par_fun(1)"
   ]
  },
  {
   "cell_type": "code",
   "execution_count": 6,
   "id": "bbf1de4c",
   "metadata": {},
   "outputs": [
    {
     "name": "stdout",
     "output_type": "stream",
     "text": [
      "PyTorch CUDA version: 12.8\n",
      "CuPy runtime version: 12080\n",
      "CuPy driver  version: 12090\n"
     ]
    }
   ],
   "source": [
    "\n",
    "print(\"PyTorch CUDA version:\", torch.version.cuda)\n",
    "print(\"CuPy runtime version:\", cp.cuda.runtime.runtimeGetVersion())\n",
    "print(\"CuPy driver  version:\", cp.cuda.runtime.driverGetVersion())\n"
   ]
  },
  {
   "cell_type": "code",
   "execution_count": 7,
   "id": "41650ea3",
   "metadata": {},
   "outputs": [
    {
     "name": "stdout",
     "output_type": "stream",
     "text": [
      "hera_cal is not installed. Some gridding features unavailable.\n",
      "pyfof is not installed. Some gridding features unavailable.\n"
     ]
    }
   ],
   "source": [
    "import corrcal"
   ]
  },
  {
   "cell_type": "code",
   "execution_count": 8,
   "id": "1dda311b",
   "metadata": {},
   "outputs": [
    {
     "name": "stdout",
     "output_type": "stream",
     "text": [
      "\u001b[31mSignature:\u001b[39m\n",
      "corrcal.optimize.grad_nll(\n",
      "    gains,\n",
      "    cov,\n",
      "    data,\n",
      "    ant_1_inds,\n",
      "    ant_2_inds,\n",
      "    scale=\u001b[32m1\u001b[39m,\n",
      "    phs_norm_fac=inf,\n",
      ")\n",
      "\u001b[31mDocstring:\u001b[39m\n",
      "Calculate the gradient of the negative log-likelihood.\n",
      "\n",
      "This is the gradient with respect to the real/imaginary per-antenna gains.\n",
      "See Eq. ?? of Pascua+ 25 for details of what is being calculated.\n",
      "\n",
      "Parameters\n",
      "----------\n",
      "same as nll. fill this out later.\n",
      "\u001b[31mFile:\u001b[39m      ~/corrcal/corrcal/optimize.py\n",
      "\u001b[31mType:\u001b[39m      function"
     ]
    }
   ],
   "source": [
    "corrcal.optimize.grad_nll?\n"
   ]
  },
  {
   "cell_type": "code",
   "execution_count": null,
   "id": "2582e4c8",
   "metadata": {},
   "outputs": [],
   "source": []
  }
 ],
 "metadata": {
  "kernelspec": {
   "display_name": "corrcal_dev",
   "language": "python",
   "name": "python3"
  },
  "language_info": {
   "codemirror_mode": {
    "name": "ipython",
    "version": 3
   },
   "file_extension": ".py",
   "mimetype": "text/x-python",
   "name": "python",
   "nbconvert_exporter": "python",
   "pygments_lexer": "ipython3",
   "version": "3.13.3"
  }
 },
 "nbformat": 4,
 "nbformat_minor": 5
}
